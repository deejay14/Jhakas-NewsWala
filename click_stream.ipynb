{
  "nbformat": 4,
  "nbformat_minor": 0,
  "metadata": {
    "colab": {
      "name": "click_stream.ipynb",
      "provenance": [],
      "authorship_tag": "ABX9TyOm4j2OSprzFv46z3XPDpOI",
      "include_colab_link": true
    },
    "kernelspec": {
      "name": "python3",
      "display_name": "Python 3"
    },
    "language_info": {
      "name": "python"
    }
  },
  "cells": [
    {
      "cell_type": "markdown",
      "metadata": {
        "id": "view-in-github",
        "colab_type": "text"
      },
      "source": [
        "<a href=\"https://colab.research.google.com/github/deejay14/Jhakas-NewsWala/blob/main/click_stream.ipynb\" target=\"_parent\"><img src=\"https://colab.research.google.com/assets/colab-badge.svg\" alt=\"Open In Colab\"/></a>"
      ]
    },
    {
      "cell_type": "code",
      "metadata": {
        "id": "FlJLsGXs0DRj"
      },
      "source": [
        "import numpy as np\n",
        "import pandas as pd\n",
        "import re, nltk, spacy, gensim\n",
        "import matplotlib.pyplot as plt\n",
        "%matplotlib inline"
      ],
      "execution_count": null,
      "outputs": []
    },
    {
      "cell_type": "code",
      "metadata": {
        "colab": {
          "base_uri": "https://localhost:8080/"
        },
        "id": "FPt_NZcA0mTd",
        "outputId": "038da0be-7ab0-4ad0-8480-e2a18dce6660"
      },
      "source": [
        "from google.colab import drive \n",
        "drive.mount('/content/gdrive')"
      ],
      "execution_count": null,
      "outputs": [
        {
          "output_type": "stream",
          "text": [
            "Mounted at /content/gdrive\n"
          ],
          "name": "stdout"
        }
      ]
    },
    {
      "cell_type": "code",
      "metadata": {
        "id": "JbkWAMBD0mai"
      },
      "source": [
        "df=pd.read_csv('gdrive/My Drive/final_fixed_scrapped.csv')"
      ],
      "execution_count": null,
      "outputs": []
    },
    {
      "cell_type": "code",
      "metadata": {
        "colab": {
          "base_uri": "https://localhost:8080/",
          "height": 406
        },
        "id": "OGVI11Mh09Q_",
        "outputId": "07171624-96a9-425f-ee2f-741a14ebd91c"
      },
      "source": [
        "df"
      ],
      "execution_count": null,
      "outputs": [
        {
          "output_type": "execute_result",
          "data": {
            "text/html": [
              "<div>\n",
              "<style scoped>\n",
              "    .dataframe tbody tr th:only-of-type {\n",
              "        vertical-align: middle;\n",
              "    }\n",
              "\n",
              "    .dataframe tbody tr th {\n",
              "        vertical-align: top;\n",
              "    }\n",
              "\n",
              "    .dataframe thead th {\n",
              "        text-align: right;\n",
              "    }\n",
              "</style>\n",
              "<table border=\"1\" class=\"dataframe\">\n",
              "  <thead>\n",
              "    <tr style=\"text-align: right;\">\n",
              "      <th></th>\n",
              "      <th>Unnamed: 0</th>\n",
              "      <th>Title</th>\n",
              "      <th>Article</th>\n",
              "      <th>totalwords</th>\n",
              "    </tr>\n",
              "  </thead>\n",
              "  <tbody>\n",
              "    <tr>\n",
              "      <th>0</th>\n",
              "      <td>0</td>\n",
              "      <td>Rs 400-cr ‘bungling’ by Amar Singh: HC seeks E...</td>\n",
              "      <td>The Allahabad High Court has directed the Enfo...</td>\n",
              "      <td>341</td>\n",
              "    </tr>\n",
              "    <tr>\n",
              "      <th>1</th>\n",
              "      <td>1</td>\n",
              "      <td>J&amp;K HC orders FIR against teacher who fails to...</td>\n",
              "      <td>The J&amp;K High Court on Friday asked a teacher t...</td>\n",
              "      <td>335</td>\n",
              "    </tr>\n",
              "    <tr>\n",
              "      <th>2</th>\n",
              "      <td>2</td>\n",
              "      <td>Crime in Cyberia: an incomplete list of offenders</td>\n",
              "      <td>An unknown Indian hacker has been charged with...</td>\n",
              "      <td>382</td>\n",
              "    </tr>\n",
              "    <tr>\n",
              "      <th>3</th>\n",
              "      <td>3</td>\n",
              "      <td>450 cannabis plants found on govt land in Mundhwa</td>\n",
              "      <td>The interrogation of two marijuana peddlers ab...</td>\n",
              "      <td>372</td>\n",
              "    </tr>\n",
              "    <tr>\n",
              "      <th>4</th>\n",
              "      <td>4</td>\n",
              "      <td>Nagaland: 9 bullet-riddled bodies found,Karbi-...</td>\n",
              "      <td>Nine highly decomposed bodies were found stack...</td>\n",
              "      <td>449</td>\n",
              "    </tr>\n",
              "    <tr>\n",
              "      <th>...</th>\n",
              "      <td>...</td>\n",
              "      <td>...</td>\n",
              "      <td>...</td>\n",
              "      <td>...</td>\n",
              "    </tr>\n",
              "    <tr>\n",
              "      <th>7838</th>\n",
              "      <td>7838</td>\n",
              "      <td>13 dead, one million evacuated in China after ...</td>\n",
              "      <td>At least 18 people were killed due to a landsl...</td>\n",
              "      <td>397</td>\n",
              "    </tr>\n",
              "    <tr>\n",
              "      <th>7839</th>\n",
              "      <td>7839</td>\n",
              "      <td>Book Karnataka, Maharashtra CMs for culpable h...</td>\n",
              "      <td>With the flood situation in the state continui...</td>\n",
              "      <td>500</td>\n",
              "    </tr>\n",
              "    <tr>\n",
              "      <th>7840</th>\n",
              "      <td>7840</td>\n",
              "      <td>Romanian researcher develops disc-shaped flyin...</td>\n",
              "      <td>Razan Sabie, an aerodynamicist who operates fr...</td>\n",
              "      <td>346</td>\n",
              "    </tr>\n",
              "    <tr>\n",
              "      <th>7841</th>\n",
              "      <td>7841</td>\n",
              "      <td>Is asteroid Apophis capable of triggering a ts...</td>\n",
              "      <td>It was around a few months back that Iain McDo...</td>\n",
              "      <td>412</td>\n",
              "    </tr>\n",
              "    <tr>\n",
              "      <th>7842</th>\n",
              "      <td>7842</td>\n",
              "      <td>New 'dengue-like disease' spreading among chil...</td>\n",
              "      <td>The number of children affected by a new disea...</td>\n",
              "      <td>457</td>\n",
              "    </tr>\n",
              "  </tbody>\n",
              "</table>\n",
              "<p>7843 rows × 4 columns</p>\n",
              "</div>"
            ],
            "text/plain": [
              "      Unnamed: 0  ... totalwords\n",
              "0              0  ...        341\n",
              "1              1  ...        335\n",
              "2              2  ...        382\n",
              "3              3  ...        372\n",
              "4              4  ...        449\n",
              "...          ...  ...        ...\n",
              "7838        7838  ...        397\n",
              "7839        7839  ...        500\n",
              "7840        7840  ...        346\n",
              "7841        7841  ...        412\n",
              "7842        7842  ...        457\n",
              "\n",
              "[7843 rows x 4 columns]"
            ]
          },
          "metadata": {
            "tags": []
          },
          "execution_count": 21
        }
      ]
    },
    {
      "cell_type": "code",
      "metadata": {
        "colab": {
          "base_uri": "https://localhost:8080/",
          "height": 287
        },
        "id": "8G4Yky4z09be",
        "outputId": "b306dbff-7555-486a-c471-40f31d2ec470"
      },
      "source": [
        "df.describe()"
      ],
      "execution_count": null,
      "outputs": [
        {
          "output_type": "execute_result",
          "data": {
            "text/html": [
              "<div>\n",
              "<style scoped>\n",
              "    .dataframe tbody tr th:only-of-type {\n",
              "        vertical-align: middle;\n",
              "    }\n",
              "\n",
              "    .dataframe tbody tr th {\n",
              "        vertical-align: top;\n",
              "    }\n",
              "\n",
              "    .dataframe thead th {\n",
              "        text-align: right;\n",
              "    }\n",
              "</style>\n",
              "<table border=\"1\" class=\"dataframe\">\n",
              "  <thead>\n",
              "    <tr style=\"text-align: right;\">\n",
              "      <th></th>\n",
              "      <th>Unnamed: 0</th>\n",
              "      <th>totalwords</th>\n",
              "    </tr>\n",
              "  </thead>\n",
              "  <tbody>\n",
              "    <tr>\n",
              "      <th>count</th>\n",
              "      <td>7843.000000</td>\n",
              "      <td>7843.000000</td>\n",
              "    </tr>\n",
              "    <tr>\n",
              "      <th>mean</th>\n",
              "      <td>3921.000000</td>\n",
              "      <td>518.458116</td>\n",
              "    </tr>\n",
              "    <tr>\n",
              "      <th>std</th>\n",
              "      <td>2264.223414</td>\n",
              "      <td>443.567008</td>\n",
              "    </tr>\n",
              "    <tr>\n",
              "      <th>min</th>\n",
              "      <td>0.000000</td>\n",
              "      <td>100.000000</td>\n",
              "    </tr>\n",
              "    <tr>\n",
              "      <th>25%</th>\n",
              "      <td>1960.500000</td>\n",
              "      <td>285.000000</td>\n",
              "    </tr>\n",
              "    <tr>\n",
              "      <th>50%</th>\n",
              "      <td>3921.000000</td>\n",
              "      <td>389.000000</td>\n",
              "    </tr>\n",
              "    <tr>\n",
              "      <th>75%</th>\n",
              "      <td>5881.500000</td>\n",
              "      <td>595.000000</td>\n",
              "    </tr>\n",
              "    <tr>\n",
              "      <th>max</th>\n",
              "      <td>7842.000000</td>\n",
              "      <td>5884.000000</td>\n",
              "    </tr>\n",
              "  </tbody>\n",
              "</table>\n",
              "</div>"
            ],
            "text/plain": [
              "        Unnamed: 0   totalwords\n",
              "count  7843.000000  7843.000000\n",
              "mean   3921.000000   518.458116\n",
              "std    2264.223414   443.567008\n",
              "min       0.000000   100.000000\n",
              "25%    1960.500000   285.000000\n",
              "50%    3921.000000   389.000000\n",
              "75%    5881.500000   595.000000\n",
              "max    7842.000000  5884.000000"
            ]
          },
          "metadata": {
            "tags": []
          },
          "execution_count": 5
        }
      ]
    },
    {
      "cell_type": "code",
      "metadata": {
        "id": "UHNlmsg109ni"
      },
      "source": [
        "##200 WPM"
      ],
      "execution_count": null,
      "outputs": []
    },
    {
      "cell_type": "code",
      "metadata": {
        "id": "LtG1HbFC3b7Q"
      },
      "source": [
        "list=df['totalwords'].tolist()"
      ],
      "execution_count": null,
      "outputs": []
    },
    {
      "cell_type": "code",
      "metadata": {
        "id": "fRsH9L9w3cHk"
      },
      "source": [
        "time=[]\n",
        "for i in range(7843):\n",
        "  time.append(int(60*(list[i]/200)))\n"
      ],
      "execution_count": null,
      "outputs": []
    },
    {
      "cell_type": "code",
      "metadata": {
        "id": "PIusnFaq3cQZ"
      },
      "source": [
        "df['average_reading_time(sec)']=time"
      ],
      "execution_count": null,
      "outputs": []
    },
    {
      "cell_type": "code",
      "metadata": {
        "colab": {
          "base_uri": "https://localhost:8080/",
          "height": 287
        },
        "id": "xg4ntWz73cYW",
        "outputId": "e52beb53-e92c-45c0-ab2e-6acead7797e6"
      },
      "source": [
        "df.describe()"
      ],
      "execution_count": null,
      "outputs": [
        {
          "output_type": "execute_result",
          "data": {
            "text/html": [
              "<div>\n",
              "<style scoped>\n",
              "    .dataframe tbody tr th:only-of-type {\n",
              "        vertical-align: middle;\n",
              "    }\n",
              "\n",
              "    .dataframe tbody tr th {\n",
              "        vertical-align: top;\n",
              "    }\n",
              "\n",
              "    .dataframe thead th {\n",
              "        text-align: right;\n",
              "    }\n",
              "</style>\n",
              "<table border=\"1\" class=\"dataframe\">\n",
              "  <thead>\n",
              "    <tr style=\"text-align: right;\">\n",
              "      <th></th>\n",
              "      <th>Unnamed: 0</th>\n",
              "      <th>totalwords</th>\n",
              "      <th>average_reading_time(sec)</th>\n",
              "    </tr>\n",
              "  </thead>\n",
              "  <tbody>\n",
              "    <tr>\n",
              "      <th>count</th>\n",
              "      <td>7843.000000</td>\n",
              "      <td>7843.000000</td>\n",
              "      <td>7843.000000</td>\n",
              "    </tr>\n",
              "    <tr>\n",
              "      <th>mean</th>\n",
              "      <td>3921.000000</td>\n",
              "      <td>518.458116</td>\n",
              "      <td>155.086829</td>\n",
              "    </tr>\n",
              "    <tr>\n",
              "      <th>std</th>\n",
              "      <td>2264.223414</td>\n",
              "      <td>443.567008</td>\n",
              "      <td>133.070188</td>\n",
              "    </tr>\n",
              "    <tr>\n",
              "      <th>min</th>\n",
              "      <td>0.000000</td>\n",
              "      <td>100.000000</td>\n",
              "      <td>30.000000</td>\n",
              "    </tr>\n",
              "    <tr>\n",
              "      <th>25%</th>\n",
              "      <td>1960.500000</td>\n",
              "      <td>285.000000</td>\n",
              "      <td>85.000000</td>\n",
              "    </tr>\n",
              "    <tr>\n",
              "      <th>50%</th>\n",
              "      <td>3921.000000</td>\n",
              "      <td>389.000000</td>\n",
              "      <td>116.000000</td>\n",
              "    </tr>\n",
              "    <tr>\n",
              "      <th>75%</th>\n",
              "      <td>5881.500000</td>\n",
              "      <td>595.000000</td>\n",
              "      <td>178.000000</td>\n",
              "    </tr>\n",
              "    <tr>\n",
              "      <th>max</th>\n",
              "      <td>7842.000000</td>\n",
              "      <td>5884.000000</td>\n",
              "      <td>1765.000000</td>\n",
              "    </tr>\n",
              "  </tbody>\n",
              "</table>\n",
              "</div>"
            ],
            "text/plain": [
              "        Unnamed: 0   totalwords  average_reading_time(sec)\n",
              "count  7843.000000  7843.000000                7843.000000\n",
              "mean   3921.000000   518.458116                 155.086829\n",
              "std    2264.223414   443.567008                 133.070188\n",
              "min       0.000000   100.000000                  30.000000\n",
              "25%    1960.500000   285.000000                  85.000000\n",
              "50%    3921.000000   389.000000                 116.000000\n",
              "75%    5881.500000   595.000000                 178.000000\n",
              "max    7842.000000  5884.000000                1765.000000"
            ]
          },
          "metadata": {
            "tags": []
          },
          "execution_count": 107
        }
      ]
    },
    {
      "cell_type": "code",
      "metadata": {
        "id": "C1dsAeD43cfx"
      },
      "source": [
        "counts=df['average_reading_time(sec)'].value_counts()"
      ],
      "execution_count": null,
      "outputs": []
    },
    {
      "cell_type": "code",
      "metadata": {
        "colab": {
          "base_uri": "https://localhost:8080/"
        },
        "id": "qfV1YoykEo0e",
        "outputId": "c1816c3e-d043-46c4-cf90-fb81c182cc5f"
      },
      "source": [
        "counts"
      ],
      "execution_count": null,
      "outputs": [
        {
          "output_type": "execute_result",
          "data": {
            "text/plain": [
              "96      100\n",
              "99       92\n",
              "87       83\n",
              "90       79\n",
              "102      77\n",
              "       ... \n",
              "365       1\n",
              "353       1\n",
              "329       1\n",
              "325       1\n",
              "1695      1\n",
              "Name: average_reading_time(sec), Length: 619, dtype: int64"
            ]
          },
          "metadata": {
            "tags": []
          },
          "execution_count": 191
        }
      ]
    },
    {
      "cell_type": "code",
      "metadata": {
        "colab": {
          "base_uri": "https://localhost:8080/",
          "height": 264
        },
        "id": "JWiC_04m3cn4",
        "outputId": "235a0618-4e5f-485f-ea4b-d68c47481b49"
      },
      "source": [
        "ax=counts.plot()"
      ],
      "execution_count": null,
      "outputs": [
        {
          "output_type": "display_data",
          "data": {
            "image/png": "[encoded data removed]",
            "text/plain": [
              "<Figure size 432x288 with 1 Axes>"
            ]
          },
          "metadata": {
            "tags": [],
            "needs_background": "light"
          }
        }
      ]
    },
    {
      "cell_type": "code",
      "metadata": {
        "id": "UElY6Q0S3cws"
      },
      "source": [
        "l=ax.get_lines()[0].get_xydata()"
      ],
      "execution_count": null,
      "outputs": []
    },
    {
      "cell_type": "code",
      "metadata": {
        "colab": {
          "base_uri": "https://localhost:8080/"
        },
        "id": "2agkPWnQF3ga",
        "outputId": "c02bd894-2207-415e-fcd6-86857c6346ee"
      },
      "source": [
        "l.astype(int)"
      ],
      "execution_count": null,
      "outputs": [
        {
          "output_type": "execute_result",
          "data": {
            "text/plain": [
              "array([[  96,  100],\n",
              "       [  99,   92],\n",
              "       [  87,   83],\n",
              "       ...,\n",
              "       [ 329,    1],\n",
              "       [ 325,    1],\n",
              "       [1695,    1]])"
            ]
          },
          "metadata": {
            "tags": []
          },
          "execution_count": 63
        }
      ]
    },
    {
      "cell_type": "code",
      "metadata": {
        "id": "OIVUq_7n3c3I"
      },
      "source": [
        "x_data=l[:,0]\n",
        "y_data=l[:,1]\n"
      ],
      "execution_count": null,
      "outputs": []
    },
    {
      "cell_type": "code",
      "metadata": {
        "id": "7fRWyfwL09ws"
      },
      "source": [
        "#x_data.astype(int)\n",
        "#y_data.astype(int)\n"
      ],
      "execution_count": null,
      "outputs": []
    },
    {
      "cell_type": "code",
      "metadata": {
        "id": "hpzjMunXKbBy"
      },
      "source": [
        "x_data=x_data.reshape(-1, 1)"
      ],
      "execution_count": null,
      "outputs": []
    },
    {
      "cell_type": "code",
      "metadata": {
        "id": "KvP19pE8E5kp"
      },
      "source": [
        "import pandas as pd\n",
        "data = l\n",
        "\n",
        "# training gaussian mixture model \n",
        "from sklearn.mixture import GaussianMixture\n",
        "gmm = GaussianMixture(n_components=2)\n",
        "model=gmm.fit(data)"
      ],
      "execution_count": null,
      "outputs": []
    },
    {
      "cell_type": "code",
      "metadata": {
        "id": "HOwyn5w9Ghzf"
      },
      "source": [
        "Xnew, Ynew = model.sample(10000)  # if Ynew is valuable\n"
      ],
      "execution_count": null,
      "outputs": []
    },
    {
      "cell_type": "code",
      "metadata": {
        "colab": {
          "base_uri": "https://localhost:8080/"
        },
        "id": "uVcDfwGtGh--",
        "outputId": "bebb2750-4763-42b0-84bb-ea59740675d3"
      },
      "source": [
        "np.var(Xnew[:,0])"
      ],
      "execution_count": null,
      "outputs": [
        {
          "output_type": "execute_result",
          "data": {
            "text/plain": [
              "80181.13657924527"
            ]
          },
          "metadata": {
            "tags": []
          },
          "execution_count": 220
        }
      ]
    },
    {
      "cell_type": "code",
      "metadata": {
        "colab": {
          "base_uri": "https://localhost:8080/"
        },
        "id": "eviSOGKlGiTJ",
        "outputId": "8b2148b4-7a7c-4d65-fde5-26834dc67fcf"
      },
      "source": [
        "Xnew"
      ],
      "execution_count": null,
      "outputs": [
        {
          "output_type": "execute_result",
          "data": {
            "text/plain": [
              "array([[394.52738614,   4.45151915],\n",
              "       [396.02185865,   4.96200708],\n",
              "       [369.91662478,   4.45716559],\n",
              "       ...,\n",
              "       [561.26762032,   1.99761628],\n",
              "       [417.54270634,   1.99974037],\n",
              "       [581.55126212,   1.99903845]])"
            ]
          },
          "metadata": {
            "tags": []
          },
          "execution_count": 216
        }
      ]
    },
    {
      "cell_type": "code",
      "metadata": {
        "id": "LhfaUSmJGiZr"
      },
      "source": [
        ""
      ],
      "execution_count": null,
      "outputs": []
    },
    {
      "cell_type": "code",
      "metadata": {
        "colab": {
          "base_uri": "https://localhost:8080/",
          "height": 264
        },
        "id": "lzb--Qe1GihF",
        "outputId": "68577a1d-d0d0-404a-a4f8-2c18bc8f3f79"
      },
      "source": [
        "from sklearn.mixture import GaussianMixture as GMM\n",
        "gmm = GMM(n_components=1).fit(l)\n",
        "labels = gmm.predict(l)\n",
        "plt.scatter(l[:, 0], l[:, 1], c=labels, s=40, cmap='viridis');"
      ],
      "execution_count": null,
      "outputs": [
        {
          "output_type": "display_data",
          "data": {
            "image/png": "[encoded data removed]",
            "text/plain": [
              "<Figure size 432x288 with 1 Axes>"
            ]
          },
          "metadata": {
            "tags": [],
            "needs_background": "light"
          }
        }
      ]
    },
    {
      "cell_type": "code",
      "metadata": {
        "colab": {
          "base_uri": "https://localhost:8080/"
        },
        "id": "z3w5qPV2GinZ",
        "outputId": "e6a06c77-df80-4808-bd95-7efd26b74e33"
      },
      "source": [
        "probs = gmm.predict_proba(l)\n",
        "np.shape(probs)"
      ],
      "execution_count": null,
      "outputs": [
        {
          "output_type": "execute_result",
          "data": {
            "text/plain": [
              "(619, 4)"
            ]
          },
          "metadata": {
            "tags": []
          },
          "execution_count": 211
        }
      ]
    },
    {
      "cell_type": "code",
      "metadata": {
        "colab": {
          "base_uri": "https://localhost:8080/",
          "height": 280
        },
        "id": "H3DZpyRxFUmY",
        "outputId": "68080c29-a6b7-4d1d-e478-b8d276d0ae2d"
      },
      "source": [
        "n_components = np.arange(1, 21)\n",
        "models = [GMM(n, covariance_type='full', random_state=0).fit(l)\n",
        "          for n in n_components]\n",
        "\n",
        "plt.plot(n_components, [m.bic(l) for m in models], label='BIC')\n",
        "plt.plot(n_components, [m.aic(l) for m in models], label='AIC')\n",
        "plt.legend(loc='best')\n",
        "plt.xlabel('n_components');"
      ],
      "execution_count": null,
      "outputs": [
        {
          "output_type": "display_data",
          "data": {
            "image/png": "[encoded data removed]",
            "text/plain": [
              "<Figure size 432x288 with 1 Axes>"
            ]
          },
          "metadata": {
            "tags": [],
            "needs_background": "light"
          }
        }
      ]
    },
    {
      "cell_type": "code",
      "metadata": {
        "id": "Z_3RRpTkSB3v"
      },
      "source": [
        ""
      ],
      "execution_count": null,
      "outputs": []
    },
    {
      "cell_type": "code",
      "metadata": {
        "id": "elRe3TUISCOl"
      },
      "source": [
        ""
      ],
      "execution_count": null,
      "outputs": []
    },
    {
      "cell_type": "code",
      "metadata": {
        "id": "GfUwtbKrSCeG"
      },
      "source": [
        ""
      ],
      "execution_count": null,
      "outputs": []
    },
    {
      "cell_type": "code",
      "metadata": {
        "id": "HO7CLhHMSCs-"
      },
      "source": [
        ""
      ],
      "execution_count": null,
      "outputs": []
    },
    {
      "cell_type": "code",
      "metadata": {
        "id": "fjjefZljSjXy"
      },
      "source": [
        ""
      ],
      "execution_count": null,
      "outputs": []
    },
    {
      "cell_type": "code",
      "metadata": {
        "id": "ZsT8_bgbSjtQ"
      },
      "source": [
        ""
      ],
      "execution_count": null,
      "outputs": []
    },
    {
      "cell_type": "code",
      "metadata": {
        "id": "ajCkFKohSj7v"
      },
      "source": [
        ""
      ],
      "execution_count": null,
      "outputs": []
    },
    {
      "cell_type": "code",
      "metadata": {
        "id": "-QHHOQ9mUU9V"
      },
      "source": [
        ""
      ],
      "execution_count": null,
      "outputs": []
    },
    {
      "cell_type": "code",
      "metadata": {
        "id": "czQ3h6klSkI1"
      },
      "source": [
        ""
      ],
      "execution_count": null,
      "outputs": []
    },
    {
      "cell_type": "code",
      "metadata": {
        "id": "nC_a15SfWIof"
      },
      "source": [
        ""
      ],
      "execution_count": null,
      "outputs": []
    },
    {
      "cell_type": "code",
      "metadata": {
        "id": "bQJyeySbWL3y"
      },
      "source": [
        ""
      ],
      "execution_count": null,
      "outputs": []
    }
  ]
}