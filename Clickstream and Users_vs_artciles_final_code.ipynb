{
  "nbformat": 4,
  "nbformat_minor": 0,
  "metadata": {
    "colab": {
      "name": "Users vs artciles final code.ipynb",
      "provenance": [],
      "authorship_tag": "ABX9TyMLdEqsaxDJb12vBelSO/QS",
      "include_colab_link": true
    },
    "kernelspec": {
      "name": "python3",
      "display_name": "Python 3"
    },
    "language_info": {
      "name": "python"
    }
  },
  "cells": [
    {
      "cell_type": "markdown",
      "metadata": {
        "id": "view-in-github",
        "colab_type": "text"
      },
      "source": [
        "<a href=\"https://colab.research.google.com/github/deejay14/Jhakas-NewsWala/blob/main/Clickstream%20and%20Users_vs_artciles_final_code.ipynb\" target=\"_parent\"><img src=\"https://colab.research.google.com/assets/colab-badge.svg\" alt=\"Open In Colab\"/></a>"
      ]
    },
    {
      "cell_type": "code",
      "metadata": {
        "id": "5AYtAuiODahj"
      },
      "source": [
        "import numpy as np\n",
        "import pandas as pd\n",
        "import re, nltk, spacy, gensim\n",
        "import random\n",
        "import matplotlib.pyplot as plt\n",
        "%matplotlib inline"
      ],
      "execution_count": 1,
      "outputs": []
    },
    {
      "cell_type": "code",
      "metadata": {
        "colab": {
          "base_uri": "https://localhost:8080/"
        },
        "id": "zOm1RE_AFNGj",
        "outputId": "480777c0-0a73-46a8-9bb3-e848a03ea0dc"
      },
      "source": [
        "from google.colab import drive \n",
        "drive.mount('/content/gdrive')"
      ],
      "execution_count": 2,
      "outputs": [
        {
          "output_type": "stream",
          "text": [
            "Mounted at /content/gdrive\n"
          ],
          "name": "stdout"
        }
      ]
    },
    {
      "cell_type": "code",
      "metadata": {
        "id": "WjwfRFPbFNJd"
      },
      "source": [
        "df=pd.read_csv('gdrive/My Drive/final_fixed_scrapped.csv')"
      ],
      "execution_count": 3,
      "outputs": []
    },
    {
      "cell_type": "code",
      "metadata": {
        "id": "laFEd14UFNMm"
      },
      "source": [
        "def user_vs_article(df,users_no): ## df1 - dataframe of doc vs topic, no. of users\n",
        "    #returns the clickstream data and user vs articles matrix\n",
        "    import secrets\n",
        "    from sklearn.mixture import GaussianMixture\n",
        "    #df=pd.read_csv('gdrive/My Drive/final_fixed_scrapped.csv')\n",
        "    df1=pd.read_csv('gdrive/My Drive/final scrapped/doc_vs_topic.csv')\n",
        "    df2=pd.read_csv('gdrive/My Drive/final scrapped/topicwise_indices.csv')\n",
        "    list=df['totalwords'].tolist()\n",
        "    time=[]\n",
        "    for i in range(7843):\n",
        "        time.append(round((60*(list[i]/200)),2))##200 WPM\n",
        "    df['average_reading_time(sec)']=time ##generating the avg. time column\n",
        "    counts=df['average_reading_time(sec)'].value_counts()\n",
        "    data =np.column_stack((counts.axes[0].tolist(),counts.tolist()))\n",
        " \n",
        "# training gaussian mixture model \n",
        "    \n",
        "    gmm = GaussianMixture(n_components=12)\n",
        "    model=gmm.fit(data)\n",
        "    #empty topic lists-1,6,8,9\n",
        " \n",
        "    topic0=df2.loc[0].tolist()[1:121]    \n",
        "    topic2=df2.loc[1].tolist()[1:2746]\n",
        "    topic3=df2.loc[2].tolist()[1:1000]\n",
        "    topic4=df2.loc[3].tolist()[1:1222]\n",
        "    topic5=df2.loc[4].tolist()[1:34]\n",
        "    topic7=df2.loc[5].tolist()[1:2463]\n",
        "    topic10=df2.loc[6].tolist()[1:264]\n",
        "    topic0=[int(x) for x in topic0]\n",
        "    topic2=[int(x) for x in topic2]\n",
        "    topic3=[int(x) for x in topic3]\n",
        "    topic4=[int(x) for x in topic4]\n",
        "    topic5=[int(x) for x in topic5]\n",
        "    topic7=[int(x) for x in topic7]\n",
        "    topic10=[int(x) for x in topic10]\n",
        "     \n",
        " \n",
        " \n",
        "    ## Clickstream generator lists\n",
        "    lz=[]## reference list containing the no. of sessions of each user.\n",
        "    for i in range(users_no):##user id column creation\n",
        "        flag = True\n",
        "        while flag:\n",
        "              s = np.random.poisson(4, 1)\n",
        "              if s[0]> 0:\n",
        "                 lz.append(s[0])\n",
        "                 flag=False\n",
        "        \n",
        "              else: flag=True\n",
        "    user_id=[]## user_id creation\n",
        "    #print(lz)\n",
        "    k=1\n",
        "    for i in range(len(lz)):\n",
        "        for j in range(lz[i]*10):\n",
        "            user_id.append(k)\n",
        "        k=k+1\n",
        "    rank=[] #rank column creation\n",
        "    t=[1,2,3,4,5,6,7,8,9,10]\n",
        "    for i in range(len(lz)):\n",
        "        for j in range(lz[i]):\n",
        "            rank=rank+t  \n",
        " \n",
        " \n",
        "    q=[]## click list column creation\n",
        "    for i in range(len(lz)):\n",
        "        for j in range(lz[i]):\n",
        "           r=np.random.poisson(5, 1)## poisson distribution determines the no. of articles read in each session.\n",
        "           t=np.random.binomial(1,0.5,size=10)\n",
        "           min=np.minimum(r,sum(t))\n",
        "            #print(min)\n",
        "           j=0\n",
        "           a=0\n",
        "           while j < min:\n",
        "                if t[a]==1:\n",
        "                   j=j+1\n",
        "                   a=a+1\n",
        "                else: a=a+1\n",
        " \n",
        "           t_=t[0:a]\n",
        "           t_=t_.tolist()\n",
        " \n",
        "           for i in range(10-a):\n",
        "               t_=t_ + [0]\n",
        "           q=q+t_\n",
        "    click=[]\n",
        "    read_time=[]\n",
        "    for i in range(len(q)):\n",
        "       if q[i]==0:\n",
        "          click.append('No')\n",
        "       else: click.append('Yes')\n",
        "    for i in range(len(q)):\n",
        "        if q[i]==0:\n",
        "           read_time.append('NaN')\n",
        "        else: read_time.append(abs(model.sample(1)[0][0][0]))            \n",
        "#session id\n",
        "    sessionid=[]\n",
        " \n",
        "    for j in lz:## session_id creation\n",
        "        for k in range(j):\n",
        "            t=k+1\n",
        "            t_=[t for i in range(10)]\n",
        "            sessionid=sessionid+t_  \n",
        "    article_id=[]## article_id creation\n",
        "    for i in range(len(lz)):\n",
        "       for j in range(lz[i]):## distributing 10 articles from different topics.\n",
        "          for p1 in range(2):\n",
        "              article_id.append(secrets.choice(topic2))\n",
        "          for p2 in range(2):\n",
        "              article_id.append(secrets.choice(topic7))\n",
        "          for p3 in range(2):\n",
        "              article_id.append(secrets.choice(topic4))    \n",
        "          article_id.append(secrets.choice(topic3))\n",
        "          article_id.append(secrets.choice(topic10))\n",
        "          article_id.append(secrets.choice(topic0))\n",
        "          article_id.append(secrets.choice(topic5)) \n",
        " \n",
        "    t_spent=read_time\n",
        "    article_id_list=article_id \n",
        "    #print(t_spent)\n",
        "     \n",
        "     \n",
        "    click_stream = pd.DataFrame(    {'User_ID': user_id,\n",
        "     'Session_ID':sessionid ,\n",
        "     'Article_ID': article_id,\n",
        "     'Article_rank': rank,\n",
        "     'Click': click,\n",
        "     'Time_spent': read_time\n",
        "                          })     \n",
        "    print(click_stream)\n",
        "    ## User vs article matrix generator\n",
        " \n",
        "    t_spent=read_time\n",
        "    article_id_list=article_id\n",
        "    user_vs_doc=np.zeros((1000,7843))\n",
        "    u=0\n",
        "    j0=0\n",
        "#print(lz)\n",
        "    for i in lz:  ##Implicit ratings generation\n",
        "       for j in range(i*10):\n",
        "           j0=sum(lz[0:u])*10+j\n",
        "            #print(j0)\n",
        "           index=article_id_list[j0]\n",
        "           if type(t_spent[j0])==str:\n",
        "               user_vs_doc[u][index]=0.0\n",
        "          #print(index)  \n",
        "           else: user_vs_doc[u][index] = t_spent[j0]/time[index]\n",
        "        #print(user_vs_doc[u][index])\n",
        "       u=u+1\n",
        "    for i in range(users_no):\n",
        "        for j in range(7843):\n",
        "            if user_vs_doc[i][j]>1:\n",
        "               user_vs_doc[i][j]=1.0\n",
        "    #return(user_vs_doc)\n",
        " \n",
        "    columns=[i for i in range(7843)]   \n",
        "    index=[j for j in range(users_no)]\n",
        "    df_user_vs_doc = pd.DataFrame(user_vs_doc, columns =columns, index = index) \n",
        "    print(df_user_vs_doc)"
      ],
      "execution_count": 21,
      "outputs": []
    },
    {
      "cell_type": "code",
      "metadata": {
        "id": "IS73OuHrKFbd",
        "outputId": "95fb691a-1f2b-49e1-b359-324d5f039510",
        "colab": {
          "base_uri": "https://localhost:8080/"
        }
      },
      "source": [
        "user_vs_article(df,1000)"
      ],
      "execution_count": 22,
      "outputs": [
        {
          "output_type": "stream",
          "text": [
            "       User_ID  Session_ID  Article_ID  Article_rank Click Time_spent\n",
            "0            1           1        1097             1    No        NaN\n",
            "1            1           1        2034             2   Yes    309.269\n",
            "2            1           1        2205             3    No        NaN\n",
            "3            1           1        2772             4    No        NaN\n",
            "4            1           1        2302             5    No        NaN\n",
            "...        ...         ...         ...           ...   ...        ...\n",
            "40125     1000           5        3724             6   Yes    195.266\n",
            "40126     1000           5        4702             7    No        NaN\n",
            "40127     1000           5        6659             8    No        NaN\n",
            "40128     1000           5        2074             9   Yes    123.554\n",
            "40129     1000           5        7360            10    No        NaN\n",
            "\n",
            "[40130 rows x 6 columns]\n",
            "     0     1     2     3         4     5     ...  7837  7838  7839  7840  7841  7842\n",
            "0     0.0   0.0   0.0   0.0  0.000000   0.0  ...   0.0   0.0   0.0   0.0   0.0   0.0\n",
            "1     0.0   0.0   0.0   0.0  0.000000   0.0  ...   0.0   0.0   0.0   0.0   0.0   0.0\n",
            "2     0.0   0.0   0.0   0.0  0.204241   0.0  ...   0.0   0.0   0.0   0.0   0.0   0.0\n",
            "3     0.0   0.0   0.0   0.0  0.000000   0.0  ...   0.0   0.0   0.0   0.0   0.0   0.0\n",
            "4     0.0   0.0   0.0   0.0  0.000000   0.0  ...   0.0   0.0   0.0   0.0   0.0   0.0\n",
            "..    ...   ...   ...   ...       ...   ...  ...   ...   ...   ...   ...   ...   ...\n",
            "995   0.0   0.0   0.0   0.0  0.000000   0.0  ...   0.0   0.0   0.0   0.0   0.0   0.0\n",
            "996   0.0   0.0   0.0   0.0  0.000000   0.0  ...   0.0   0.0   0.0   0.0   0.0   0.0\n",
            "997   0.0   0.0   0.0   0.0  0.000000   0.0  ...   0.0   0.0   0.0   0.0   0.0   0.0\n",
            "998   0.0   0.0   0.0   0.0  0.000000   0.0  ...   0.0   0.0   0.0   0.0   0.0   0.0\n",
            "999   0.0   0.0   0.0   0.0  0.000000   0.0  ...   0.0   0.0   0.0   0.0   0.0   0.0\n",
            "\n",
            "[1000 rows x 7843 columns]\n"
          ],
          "name": "stdout"
        }
      ]
    },
    {
      "cell_type": "code",
      "metadata": {
        "id": "9BuPXllSKXgu"
      },
      "source": [
        ""
      ],
      "execution_count": 22,
      "outputs": []
    },
    {
      "cell_type": "code",
      "metadata": {
        "id": "MwYnsrNVyep3"
      },
      "source": [
        ""
      ],
      "execution_count": 20,
      "outputs": []
    }
  ]
}