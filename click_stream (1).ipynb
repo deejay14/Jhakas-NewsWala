{
  "nbformat": 4,
  "nbformat_minor": 0,
  "metadata": {
    "colab": {
      "name": "click_stream.ipynb",
      "provenance": []
    },
    "kernelspec": {
      "name": "python3",
      "display_name": "Python 3"
    },
    "language_info": {
      "name": "python"
    }
  },
  "cells": [
    {
      "cell_type": "code",
      "metadata": {
        "id": "FlJLsGXs0DRj"
      },
      "source": [
        "import numpy as np\n",
        "import pandas as pd\n",
        "import re, nltk, spacy, gensim\n",
        "import matplotlib.pyplot as plt\n",
        "%matplotlib inline"
      ],
      "execution_count": 1,
      "outputs": []
    },
    {
      "cell_type": "code",
      "metadata": {
        "colab": {
          "base_uri": "https://localhost:8080/"
        },
        "id": "FPt_NZcA0mTd",
        "outputId": "2a21f6b3-f5c9-48a7-9182-1103fc5f7f45"
      },
      "source": [
        "from google.colab import drive \n",
        "drive.mount('/content/gdrive')"
      ],
      "execution_count": 2,
      "outputs": [
        {
          "output_type": "stream",
          "text": [
            "Mounted at /content/gdrive\n"
          ],
          "name": "stdout"
        }
      ]
    },
    {
      "cell_type": "code",
      "metadata": {
        "id": "JbkWAMBD0mai"
      },
      "source": [
        "df=pd.read_csv('gdrive/My Drive/final_fixed_scrapped.csv')"
      ],
      "execution_count": 2,
      "outputs": []
    },
    {
      "cell_type": "code",
      "metadata": {
        "colab": {
          "base_uri": "https://localhost:8080/",
          "height": 406
        },
        "id": "OGVI11Mh09Q_",
        "outputId": "41958488-aa51-456f-e6d5-6fff047c6b87"
      },
      "source": [
        "df"
      ],
      "execution_count": 3,
      "outputs": [
        {
          "output_type": "execute_result",
          "data": {
            "text/html": [
              "<div>\n",
              "<style scoped>\n",
              "    .dataframe tbody tr th:only-of-type {\n",
              "        vertical-align: middle;\n",
              "    }\n",
              "\n",
              "    .dataframe tbody tr th {\n",
              "        vertical-align: top;\n",
              "    }\n",
              "\n",
              "    .dataframe thead th {\n",
              "        text-align: right;\n",
              "    }\n",
              "</style>\n",
              "<table border=\"1\" class=\"dataframe\">\n",
              "  <thead>\n",
              "    <tr style=\"text-align: right;\">\n",
              "      <th></th>\n",
              "      <th>Unnamed: 0</th>\n",
              "      <th>Title</th>\n",
              "      <th>Article</th>\n",
              "      <th>totalwords</th>\n",
              "    </tr>\n",
              "  </thead>\n",
              "  <tbody>\n",
              "    <tr>\n",
              "      <th>0</th>\n",
              "      <td>0</td>\n",
              "      <td>Rs 400-cr ‘bungling’ by Amar Singh: HC seeks E...</td>\n",
              "      <td>The Allahabad High Court has directed the Enfo...</td>\n",
              "      <td>341</td>\n",
              "    </tr>\n",
              "    <tr>\n",
              "      <th>1</th>\n",
              "      <td>1</td>\n",
              "      <td>J&amp;K HC orders FIR against teacher who fails to...</td>\n",
              "      <td>The J&amp;K High Court on Friday asked a teacher t...</td>\n",
              "      <td>335</td>\n",
              "    </tr>\n",
              "    <tr>\n",
              "      <th>2</th>\n",
              "      <td>2</td>\n",
              "      <td>Crime in Cyberia: an incomplete list of offenders</td>\n",
              "      <td>An unknown Indian hacker has been charged with...</td>\n",
              "      <td>382</td>\n",
              "    </tr>\n",
              "    <tr>\n",
              "      <th>3</th>\n",
              "      <td>3</td>\n",
              "      <td>450 cannabis plants found on govt land in Mundhwa</td>\n",
              "      <td>The interrogation of two marijuana peddlers ab...</td>\n",
              "      <td>372</td>\n",
              "    </tr>\n",
              "    <tr>\n",
              "      <th>4</th>\n",
              "      <td>4</td>\n",
              "      <td>Nagaland: 9 bullet-riddled bodies found,Karbi-...</td>\n",
              "      <td>Nine highly decomposed bodies were found stack...</td>\n",
              "      <td>449</td>\n",
              "    </tr>\n",
              "    <tr>\n",
              "      <th>...</th>\n",
              "      <td>...</td>\n",
              "      <td>...</td>\n",
              "      <td>...</td>\n",
              "      <td>...</td>\n",
              "    </tr>\n",
              "    <tr>\n",
              "      <th>7838</th>\n",
              "      <td>7838</td>\n",
              "      <td>13 dead, one million evacuated in China after ...</td>\n",
              "      <td>At least 18 people were killed due to a landsl...</td>\n",
              "      <td>397</td>\n",
              "    </tr>\n",
              "    <tr>\n",
              "      <th>7839</th>\n",
              "      <td>7839</td>\n",
              "      <td>Book Karnataka, Maharashtra CMs for culpable h...</td>\n",
              "      <td>With the flood situation in the state continui...</td>\n",
              "      <td>500</td>\n",
              "    </tr>\n",
              "    <tr>\n",
              "      <th>7840</th>\n",
              "      <td>7840</td>\n",
              "      <td>Romanian researcher develops disc-shaped flyin...</td>\n",
              "      <td>Razan Sabie, an aerodynamicist who operates fr...</td>\n",
              "      <td>346</td>\n",
              "    </tr>\n",
              "    <tr>\n",
              "      <th>7841</th>\n",
              "      <td>7841</td>\n",
              "      <td>Is asteroid Apophis capable of triggering a ts...</td>\n",
              "      <td>It was around a few months back that Iain McDo...</td>\n",
              "      <td>412</td>\n",
              "    </tr>\n",
              "    <tr>\n",
              "      <th>7842</th>\n",
              "      <td>7842</td>\n",
              "      <td>New 'dengue-like disease' spreading among chil...</td>\n",
              "      <td>The number of children affected by a new disea...</td>\n",
              "      <td>457</td>\n",
              "    </tr>\n",
              "  </tbody>\n",
              "</table>\n",
              "<p>7843 rows × 4 columns</p>\n",
              "</div>"
            ],
            "text/plain": [
              "      Unnamed: 0  ... totalwords\n",
              "0              0  ...        341\n",
              "1              1  ...        335\n",
              "2              2  ...        382\n",
              "3              3  ...        372\n",
              "4              4  ...        449\n",
              "...          ...  ...        ...\n",
              "7838        7838  ...        397\n",
              "7839        7839  ...        500\n",
              "7840        7840  ...        346\n",
              "7841        7841  ...        412\n",
              "7842        7842  ...        457\n",
              "\n",
              "[7843 rows x 4 columns]"
            ]
          },
          "metadata": {
            "tags": []
          },
          "execution_count": 3
        }
      ]
    },
    {
      "cell_type": "code",
      "metadata": {
        "colab": {
          "base_uri": "https://localhost:8080/",
          "height": 287
        },
        "id": "8G4Yky4z09be",
        "outputId": "b306dbff-7555-486a-c471-40f31d2ec470"
      },
      "source": [
        "df.describe()"
      ],
      "execution_count": null,
      "outputs": [
        {
          "output_type": "execute_result",
          "data": {
            "text/html": [
              "<div>\n",
              "<style scoped>\n",
              "    .dataframe tbody tr th:only-of-type {\n",
              "        vertical-align: middle;\n",
              "    }\n",
              "\n",
              "    .dataframe tbody tr th {\n",
              "        vertical-align: top;\n",
              "    }\n",
              "\n",
              "    .dataframe thead th {\n",
              "        text-align: right;\n",
              "    }\n",
              "</style>\n",
              "<table border=\"1\" class=\"dataframe\">\n",
              "  <thead>\n",
              "    <tr style=\"text-align: right;\">\n",
              "      <th></th>\n",
              "      <th>Unnamed: 0</th>\n",
              "      <th>totalwords</th>\n",
              "    </tr>\n",
              "  </thead>\n",
              "  <tbody>\n",
              "    <tr>\n",
              "      <th>count</th>\n",
              "      <td>7843.000000</td>\n",
              "      <td>7843.000000</td>\n",
              "    </tr>\n",
              "    <tr>\n",
              "      <th>mean</th>\n",
              "      <td>3921.000000</td>\n",
              "      <td>518.458116</td>\n",
              "    </tr>\n",
              "    <tr>\n",
              "      <th>std</th>\n",
              "      <td>2264.223414</td>\n",
              "      <td>443.567008</td>\n",
              "    </tr>\n",
              "    <tr>\n",
              "      <th>min</th>\n",
              "      <td>0.000000</td>\n",
              "      <td>100.000000</td>\n",
              "    </tr>\n",
              "    <tr>\n",
              "      <th>25%</th>\n",
              "      <td>1960.500000</td>\n",
              "      <td>285.000000</td>\n",
              "    </tr>\n",
              "    <tr>\n",
              "      <th>50%</th>\n",
              "      <td>3921.000000</td>\n",
              "      <td>389.000000</td>\n",
              "    </tr>\n",
              "    <tr>\n",
              "      <th>75%</th>\n",
              "      <td>5881.500000</td>\n",
              "      <td>595.000000</td>\n",
              "    </tr>\n",
              "    <tr>\n",
              "      <th>max</th>\n",
              "      <td>7842.000000</td>\n",
              "      <td>5884.000000</td>\n",
              "    </tr>\n",
              "  </tbody>\n",
              "</table>\n",
              "</div>"
            ],
            "text/plain": [
              "        Unnamed: 0   totalwords\n",
              "count  7843.000000  7843.000000\n",
              "mean   3921.000000   518.458116\n",
              "std    2264.223414   443.567008\n",
              "min       0.000000   100.000000\n",
              "25%    1960.500000   285.000000\n",
              "50%    3921.000000   389.000000\n",
              "75%    5881.500000   595.000000\n",
              "max    7842.000000  5884.000000"
            ]
          },
          "metadata": {
            "tags": []
          },
          "execution_count": 5
        }
      ]
    },
    {
      "cell_type": "code",
      "metadata": {
        "id": "UHNlmsg109ni"
      },
      "source": [
        "##200 WPM"
      ],
      "execution_count": null,
      "outputs": []
    },
    {
      "cell_type": "code",
      "metadata": {
        "id": "LtG1HbFC3b7Q"
      },
      "source": [
        "list=df['totalwords'].tolist()"
      ],
      "execution_count": 4,
      "outputs": []
    },
    {
      "cell_type": "code",
      "metadata": {
        "colab": {
          "base_uri": "https://localhost:8080/"
        },
        "id": "yl2iATXJ7TSc",
        "outputId": "6048f741-659f-49eb-d15d-8fac293803de"
      },
      "source": [
        "round(10.567,2)"
      ],
      "execution_count": 5,
      "outputs": [
        {
          "output_type": "execute_result",
          "data": {
            "text/plain": [
              "10.57"
            ]
          },
          "metadata": {
            "tags": []
          },
          "execution_count": 5
        }
      ]
    },
    {
      "cell_type": "code",
      "metadata": {
        "id": "fRsH9L9w3cHk"
      },
      "source": [
        "time=[]\n",
        "for i in range(7843):\n",
        "  time.append(round((60*(list[i]/200)),2))\n"
      ],
      "execution_count": 6,
      "outputs": []
    },
    {
      "cell_type": "code",
      "metadata": {
        "id": "PIusnFaq3cQZ"
      },
      "source": [
        "df['average_reading_time(sec)']=time"
      ],
      "execution_count": 7,
      "outputs": []
    },
    {
      "cell_type": "code",
      "metadata": {
        "colab": {
          "base_uri": "https://localhost:8080/",
          "height": 287
        },
        "id": "xg4ntWz73cYW",
        "outputId": "73d402e7-827e-4fbb-84bb-25044990e106"
      },
      "source": [
        "df.describe()"
      ],
      "execution_count": 32,
      "outputs": [
        {
          "output_type": "execute_result",
          "data": {
            "text/html": [
              "<div>\n",
              "<style scoped>\n",
              "    .dataframe tbody tr th:only-of-type {\n",
              "        vertical-align: middle;\n",
              "    }\n",
              "\n",
              "    .dataframe tbody tr th {\n",
              "        vertical-align: top;\n",
              "    }\n",
              "\n",
              "    .dataframe thead th {\n",
              "        text-align: right;\n",
              "    }\n",
              "</style>\n",
              "<table border=\"1\" class=\"dataframe\">\n",
              "  <thead>\n",
              "    <tr style=\"text-align: right;\">\n",
              "      <th></th>\n",
              "      <th>Unnamed: 0</th>\n",
              "      <th>totalwords</th>\n",
              "      <th>average_reading_time(sec)</th>\n",
              "    </tr>\n",
              "  </thead>\n",
              "  <tbody>\n",
              "    <tr>\n",
              "      <th>count</th>\n",
              "      <td>7843.000000</td>\n",
              "      <td>7843.000000</td>\n",
              "      <td>7843.000000</td>\n",
              "    </tr>\n",
              "    <tr>\n",
              "      <th>mean</th>\n",
              "      <td>3921.000000</td>\n",
              "      <td>518.458116</td>\n",
              "      <td>155.537435</td>\n",
              "    </tr>\n",
              "    <tr>\n",
              "      <th>std</th>\n",
              "      <td>2264.223414</td>\n",
              "      <td>443.567008</td>\n",
              "      <td>133.070102</td>\n",
              "    </tr>\n",
              "    <tr>\n",
              "      <th>min</th>\n",
              "      <td>0.000000</td>\n",
              "      <td>100.000000</td>\n",
              "      <td>30.000000</td>\n",
              "    </tr>\n",
              "    <tr>\n",
              "      <th>25%</th>\n",
              "      <td>1960.500000</td>\n",
              "      <td>285.000000</td>\n",
              "      <td>85.500000</td>\n",
              "    </tr>\n",
              "    <tr>\n",
              "      <th>50%</th>\n",
              "      <td>3921.000000</td>\n",
              "      <td>389.000000</td>\n",
              "      <td>116.700000</td>\n",
              "    </tr>\n",
              "    <tr>\n",
              "      <th>75%</th>\n",
              "      <td>5881.500000</td>\n",
              "      <td>595.000000</td>\n",
              "      <td>178.500000</td>\n",
              "    </tr>\n",
              "    <tr>\n",
              "      <th>max</th>\n",
              "      <td>7842.000000</td>\n",
              "      <td>5884.000000</td>\n",
              "      <td>1765.200000</td>\n",
              "    </tr>\n",
              "  </tbody>\n",
              "</table>\n",
              "</div>"
            ],
            "text/plain": [
              "        Unnamed: 0   totalwords  average_reading_time(sec)\n",
              "count  7843.000000  7843.000000                7843.000000\n",
              "mean   3921.000000   518.458116                 155.537435\n",
              "std    2264.223414   443.567008                 133.070102\n",
              "min       0.000000   100.000000                  30.000000\n",
              "25%    1960.500000   285.000000                  85.500000\n",
              "50%    3921.000000   389.000000                 116.700000\n",
              "75%    5881.500000   595.000000                 178.500000\n",
              "max    7842.000000  5884.000000                1765.200000"
            ]
          },
          "metadata": {
            "tags": []
          },
          "execution_count": 32
        }
      ]
    },
    {
      "cell_type": "code",
      "metadata": {
        "id": "C1dsAeD43cfx"
      },
      "source": [
        "counts=df['average_reading_time(sec)'].value_counts()"
      ],
      "execution_count": 8,
      "outputs": []
    },
    {
      "cell_type": "code",
      "metadata": {
        "colab": {
          "base_uri": "https://localhost:8080/"
        },
        "id": "qfV1YoykEo0e",
        "outputId": "fe744dc3-632e-4fb0-d0b2-110dff480bd0"
      },
      "source": [
        "counts"
      ],
      "execution_count": 9,
      "outputs": [
        {
          "output_type": "execute_result",
          "data": {
            "text/plain": [
              "96.3     33\n",
              "91.5     28\n",
              "87.9     28\n",
              "95.4     28\n",
              "87.6     27\n",
              "         ..\n",
              "353.7     1\n",
              "590.7     1\n",
              "434.7     1\n",
              "478.5     1\n",
              "367.8     1\n",
              "Name: average_reading_time(sec), Length: 1399, dtype: int64"
            ]
          },
          "metadata": {
            "tags": []
          },
          "execution_count": 9
        }
      ]
    },
    {
      "cell_type": "code",
      "metadata": {
        "colab": {
          "base_uri": "https://localhost:8080/",
          "height": 264
        },
        "id": "JWiC_04m3cn4",
        "outputId": "4b38c404-785d-4555-ff7a-23ec40b60f40"
      },
      "source": [
        "ax=counts.plot()"
      ],
      "execution_count": 10,
      "outputs": [
        {
          "output_type": "display_data",
          "data": {
            "image/png": "[encoded data removed]",
            "text/plain": [
              "<Figure size 432x288 with 1 Axes>"
            ]
          },
          "metadata": {
            "tags": [],
            "needs_background": "light"
          }
        }
      ]
    },
    {
      "cell_type": "code",
      "metadata": {
        "id": "UElY6Q0S3cws"
      },
      "source": [
        "l=ax.get_lines()[0].get_xydata()"
      ],
      "execution_count": 120,
      "outputs": []
    },
    {
      "cell_type": "code",
      "metadata": {
        "colab": {
          "base_uri": "https://localhost:8080/"
        },
        "id": "4uBhQhlf6oV6",
        "outputId": "f76575c2-2bfb-4c0c-e419-62ac464ac9eb"
      },
      "source": [
        "np.shape(l)"
      ],
      "execution_count": 121,
      "outputs": [
        {
          "output_type": "execute_result",
          "data": {
            "text/plain": [
              "(1399, 2)"
            ]
          },
          "metadata": {
            "tags": []
          },
          "execution_count": 121
        }
      ]
    },
    {
      "cell_type": "code",
      "metadata": {
        "colab": {
          "base_uri": "https://localhost:8080/"
        },
        "id": "2agkPWnQF3ga",
        "outputId": "74b31d21-95da-4505-f4e5-1f7077473531"
      },
      "source": [
        "l.astype(int)"
      ],
      "execution_count": 13,
      "outputs": [
        {
          "output_type": "execute_result",
          "data": {
            "text/plain": [
              "array([[ 96,  33],\n",
              "       [ 91,  28],\n",
              "       [ 87,  28],\n",
              "       ...,\n",
              "       [434,   1],\n",
              "       [478,   1],\n",
              "       [367,   1]])"
            ]
          },
          "metadata": {
            "tags": []
          },
          "execution_count": 13
        }
      ]
    },
    {
      "cell_type": "code",
      "metadata": {
        "id": "OIVUq_7n3c3I",
        "colab": {
          "base_uri": "https://localhost:8080/"
        },
        "outputId": "87ade9e2-6759-48c4-c233-6c303502b7f8"
      },
      "source": [
        "x_data=l[:,0]\n",
        "y_data=l[:,1]\n",
        "len(x_data)\n"
      ],
      "execution_count": 15,
      "outputs": [
        {
          "output_type": "execute_result",
          "data": {
            "text/plain": [
              "1399"
            ]
          },
          "metadata": {
            "tags": []
          },
          "execution_count": 15
        }
      ]
    },
    {
      "cell_type": "code",
      "metadata": {
        "id": "7fRWyfwL09ws"
      },
      "source": [
        "#x_data.astype(int)\n",
        "#y_data.astype(int)\n"
      ],
      "execution_count": 16,
      "outputs": []
    },
    {
      "cell_type": "code",
      "metadata": {
        "id": "hpzjMunXKbBy"
      },
      "source": [
        "x_data=x_data.reshape(-1, 1)"
      ],
      "execution_count": null,
      "outputs": []
    },
    {
      "cell_type": "code",
      "metadata": {
        "id": "KvP19pE8E5kp"
      },
      "source": [
        "import pandas as pd\n",
        "data = l\n",
        "\n",
        "# training gaussian mixture model \n",
        "from sklearn.mixture import GaussianMixture\n",
        "gmm = GaussianMixture(n_components=12)\n",
        "model=gmm.fit(data)"
      ],
      "execution_count": 126,
      "outputs": []
    },
    {
      "cell_type": "code",
      "metadata": {
        "id": "HOwyn5w9Ghzf"
      },
      "source": [
        "Xnew, Ynew = model.sample(10000)  # if Ynew is valuable\n"
      ],
      "execution_count": 130,
      "outputs": []
    },
    {
      "cell_type": "code",
      "metadata": {
        "colab": {
          "base_uri": "https://localhost:8080/"
        },
        "id": "uVcDfwGtGh--",
        "outputId": "f371a2b5-9ac7-47ee-99f1-c658ebabef0f"
      },
      "source": [
        "np.mean(Xnew[:,0])"
      ],
      "execution_count": 131,
      "outputs": [
        {
          "output_type": "execute_result",
          "data": {
            "text/plain": [
              "293.1678655731778"
            ]
          },
          "metadata": {
            "tags": []
          },
          "execution_count": 131
        }
      ]
    },
    {
      "cell_type": "code",
      "metadata": {
        "colab": {
          "base_uri": "https://localhost:8080/"
        },
        "id": "eviSOGKlGiTJ",
        "outputId": "e6e569fa-95f8-40e3-e469-f1df33ebd471"
      },
      "source": [
        "Xnew"
      ],
      "execution_count": 132,
      "outputs": [
        {
          "output_type": "execute_result",
          "data": {
            "text/plain": [
              "array([[119.24535746,  16.86758287],\n",
              "       [124.22986521,  10.46930794],\n",
              "       [103.03586647,  18.04887169],\n",
              "       ...,\n",
              "       [212.06624362,   2.0012011 ],\n",
              "       [486.38218164,   2.00110494],\n",
              "       [339.7343098 ,   1.9995608 ]])"
            ]
          },
          "metadata": {
            "tags": []
          },
          "execution_count": 132
        }
      ]
    },
    {
      "cell_type": "code",
      "metadata": {
        "id": "LhfaUSmJGiZr",
        "colab": {
          "base_uri": "https://localhost:8080/"
        },
        "outputId": "7def895e-9381-4df4-fd62-3231c9452cc9"
      },
      "source": [
        "t=[1]"
      ],
      "execution_count": 80,
      "outputs": [
        {
          "output_type": "stream",
          "text": [
            "[5]\n"
          ],
          "name": "stdout"
        }
      ]
    },
    {
      "cell_type": "code",
      "metadata": {
        "id": "HY9WOTmt_dfb"
      },
      "source": [
        "def sample(i):\n",
        "    flag = True\n",
        "    while flag:\n",
        "      Xnew, Ynew = model.sample(i)\n",
        "      if Xnew[0][0]<0:\n",
        "         flag=True\n",
        "     #print(Xnew[0][0])\n",
        "      else: flag=False\n",
        "    return(Xnew[0][0])\n",
        "\n",
        "      \n"
      ],
      "execution_count": 137,
      "outputs": []
    },
    {
      "cell_type": "code",
      "metadata": {
        "colab": {
          "base_uri": "https://localhost:8080/"
        },
        "id": "8ryOrWp7_dsC",
        "outputId": "e0493832-5b93-41c3-f916-0285b2abb8a6"
      },
      "source": [
        "sample(1)"
      ],
      "execution_count": 146,
      "outputs": [
        {
          "output_type": "execute_result",
          "data": {
            "text/plain": [
              "21.558585324378008"
            ]
          },
          "metadata": {
            "tags": []
          },
          "execution_count": 146
        }
      ]
    },
    {
      "cell_type": "code",
      "metadata": {
        "colab": {
          "base_uri": "https://localhost:8080/",
          "height": 264
        },
        "id": "lzb--Qe1GihF",
        "outputId": "839bf5ea-caba-4193-f9e6-6a3e0612e551"
      },
      "source": [
        "from sklearn.mixture import GaussianMixture as GMM\n",
        "gmm = GMM(n_components=12).fit(l)\n",
        "labels = gmm.predict(l)\n",
        "plt.scatter(l[:, 0], l[:, 1], c=labels, s=40, cmap='viridis');"
      ],
      "execution_count": 20,
      "outputs": [
        {
          "output_type": "display_data",
          "data": {
            "image/png": "[encoded data removed]",
            "text/plain": [
              "<Figure size 432x288 with 1 Axes>"
            ]
          },
          "metadata": {
            "tags": [],
            "needs_background": "light"
          }
        }
      ]
    },
    {
      "cell_type": "code",
      "metadata": {
        "colab": {
          "base_uri": "https://localhost:8080/"
        },
        "id": "z3w5qPV2GinZ",
        "outputId": "ee0d3e16-c098-4652-c391-02e6e4052b8a"
      },
      "source": [
        "probs = gmm.predict_proba(l)\n",
        "np.shape(probs)"
      ],
      "execution_count": 21,
      "outputs": [
        {
          "output_type": "execute_result",
          "data": {
            "text/plain": [
              "(1399, 12)"
            ]
          },
          "metadata": {
            "tags": []
          },
          "execution_count": 21
        }
      ]
    },
    {
      "cell_type": "code",
      "metadata": {
        "colab": {
          "base_uri": "https://localhost:8080/",
          "height": 280
        },
        "id": "H3DZpyRxFUmY",
        "outputId": "ff13f362-2526-441c-c7a0-de0dd1636583"
      },
      "source": [
        "n_components = np.arange(1, 21)\n",
        "models = [GMM(n, covariance_type='full', random_state=0).fit(l)\n",
        "          for n in n_components]\n",
        "\n",
        "plt.plot(n_components, [m.bic(l) for m in models], label='BIC')\n",
        "plt.plot(n_components, [m.aic(l) for m in models], label='AIC')\n",
        "plt.legend(loc='best')\n",
        "plt.xlabel('n_components');"
      ],
      "execution_count": 22,
      "outputs": [
        {
          "output_type": "display_data",
          "data": {
            "image/png": "[encoded data removed]",
            "text/plain": [
              "<Figure size 432x288 with 1 Axes>"
            ]
          },
          "metadata": {
            "tags": [],
            "needs_background": "light"
          }
        }
      ]
    },
    {
      "cell_type": "code",
      "metadata": {
        "id": "Z_3RRpTkSB3v"
      },
      "source": [
        "s = np.random.poisson(2, 1000)"
      ],
      "execution_count": 262,
      "outputs": []
    },
    {
      "cell_type": "code",
      "metadata": {
        "id": "elRe3TUISCOl"
      },
      "source": [
        ""
      ],
      "execution_count": 263,
      "outputs": []
    },
    {
      "cell_type": "code",
      "metadata": {
        "id": "GfUwtbKrSCeG",
        "colab": {
          "base_uri": "https://localhost:8080/"
        },
        "outputId": "f9a7f33a-bf60-4408-c322-9ad83b0ca562"
      },
      "source": [
        "flag = True\n",
        "while flag:\n",
        "   s = np.random.poisson(2, 1)\n",
        "   if s[0]== 0:\n",
        "     flag=True\n",
        "     print(s[0])\n",
        "   else: flag=False\n",
        "   print(s[0])"
      ],
      "execution_count": 268,
      "outputs": [
        {
          "output_type": "stream",
          "text": [
            "3\n"
          ],
          "name": "stdout"
        }
      ]
    },
    {
      "cell_type": "code",
      "metadata": {
        "id": "HO7CLhHMSCs-"
      },
      "source": [
        "## Clickstream generator lists\n",
        "l=[]## reference list\n",
        "for i in range(10000):\n",
        "  flag = True\n",
        "  while flag:\n",
        "      s = np.random.poisson(2, 1)\n",
        "      if s[0]> 0:\n",
        "        l.append(s[0])\n",
        "        flag=False\n",
        "        \n",
        "      else: flag=True\n",
        "user_id=[]\n",
        "k=1\n",
        "for i in range(len(l)):\n",
        "  for j in range(l[i]*10):\n",
        "    user_id.append(k)\n",
        "  k=k+1\n",
        "rank=[]\n",
        "t=[1,2,3,4,5,6,7,8,9,10]\n",
        "for i in range(len(l)):\n",
        "  for j in range(l[i]):\n",
        "    rank=rank+t  \n",
        "\n",
        "\n",
        "q=[]## click list\n",
        "for i in range(len(l)):\n",
        "  for j in range(l[i]):\n",
        "      r=np.random.poisson(5, 1)\n",
        "      t=np.random.binomial(1,0.5,size=10)\n",
        "      min=np.minimum(r,sum(t))\n",
        "      #print(min)\n",
        "      j=0\n",
        "      a=0\n",
        "      while j < min:\n",
        "        if t[a]==1:\n",
        "          j=j+1\n",
        "          a=a+1\n",
        "        else: a=a+1\n",
        " \n",
        "      t_=t[0:a]\n",
        "      t_=t_.tolist()\n",
        "\n",
        "      for i in range(10-a):\n",
        "          t_=t_ + [0]\n",
        "      q=q+t_\n",
        "click=[]\n",
        "read_time=[]\n",
        "for i in range(len(q)):\n",
        "  if q[i]==0:\n",
        "     click.append('No')\n",
        "  else: click.append('Yes')\n",
        "for i in range(len(q)):\n",
        "  if q[i]==0:\n",
        "     read_time.append('NaN')\n",
        "  else: read_time.append(sample(1))            \n",
        "article_id=[]\n",
        "for i in range(len(user_id)):\n",
        "  article_id.append(np.random.randint(0,7843)) \n",
        "#session id\n",
        "sessionid=[]\n",
        "\n",
        "for j in l:\n",
        "  for k in range(j):\n",
        "      t=k+1\n",
        "      t_=[t for i in range(10)]\n",
        "      sessionid=sessionid+t_       \n",
        "      \n"
      ],
      "execution_count": 203,
      "outputs": []
    },
    {
      "cell_type": "code",
      "metadata": {
        "id": "THfd169w3bAW"
      },
      "source": [
        "#session id\n",
        "sessionid=[]\n",
        "\n",
        "for j in l:\n",
        "  for k in range(j):\n",
        "      t=k+1\n",
        "      t_=[t for i in range(10)]\n",
        "      sessionid=sessionid+t_\n",
        "      \n",
        "\n",
        "\n"
      ],
      "execution_count": 200,
      "outputs": []
    },
    {
      "cell_type": "code",
      "metadata": {
        "id": "uIqlQtaZyKUF",
        "outputId": "fe535507-242d-4079-a207-13130a47c002",
        "colab": {
          "base_uri": "https://localhost:8080/"
        }
      },
      "source": [
        "len(sessionid)"
      ],
      "execution_count": 202,
      "outputs": [
        {
          "output_type": "execute_result",
          "data": {
            "text/plain": [
              "2080"
            ]
          },
          "metadata": {
            "tags": []
          },
          "execution_count": 202
        }
      ]
    },
    {
      "cell_type": "code",
      "metadata": {
        "id": "mm6v-QjSyKcG",
        "outputId": "c94b4b9c-eb74-4ddb-97e6-8e0bfdb3e5dc",
        "colab": {
          "base_uri": "https://localhost:8080/"
        }
      },
      "source": [
        "print(l)"
      ],
      "execution_count": 195,
      "outputs": [
        {
          "output_type": "stream",
          "text": [
            "[2, 1, 2, 2, 1, 2, 1, 4, 2, 2, 3, 1, 1, 2, 1, 2, 1, 2, 4, 1, 2, 3, 1, 4, 1, 3, 2, 2, 2, 3, 2, 2, 1, 3, 1, 2, 2, 1, 1, 3, 2, 2, 1, 1, 3, 2, 2, 3, 2, 1, 2, 2, 5, 1, 6, 1, 1, 2, 1, 2, 2, 4, 1, 3, 4, 1, 1, 1, 2, 2, 1, 2, 3, 3, 1, 1, 4, 2, 1, 1, 2, 2, 1, 4, 3, 1, 5, 1, 4, 1, 2, 1, 6, 3, 2, 3, 1, 2, 2, 2]\n"
          ],
          "name": "stdout"
        }
      ]
    },
    {
      "cell_type": "code",
      "metadata": {
        "id": "5MDwg5MLyKjC",
        "outputId": "203459c1-e01a-420d-92e2-a4efe120067e",
        "colab": {
          "base_uri": "https://localhost:8080/"
        }
      },
      "source": [
        "sum(l)"
      ],
      "execution_count": 201,
      "outputs": [
        {
          "output_type": "execute_result",
          "data": {
            "text/plain": [
              "208"
            ]
          },
          "metadata": {
            "tags": []
          },
          "execution_count": 201
        }
      ]
    },
    {
      "cell_type": "code",
      "metadata": {
        "id": "XV7B9Hh3yLwY",
        "outputId": "9949dd8d-af95-42dc-ea40-54ba9a8a2f7c",
        "colab": {
          "base_uri": "https://localhost:8080/"
        }
      },
      "source": [
        "len(user_id)"
      ],
      "execution_count": 199,
      "outputs": [
        {
          "output_type": "execute_result",
          "data": {
            "text/plain": [
              "2080"
            ]
          },
          "metadata": {
            "tags": []
          },
          "execution_count": 199
        }
      ]
    },
    {
      "cell_type": "code",
      "metadata": {
        "id": "Ul03Rpq5yL38"
      },
      "source": [
        "click_stream = pd.DataFrame(\n",
        "    {'User_ID': user_id,\n",
        "     'Session_ID':sessionid ,\n",
        "     'Article_ID': article_id,\n",
        "     'Article_rank': rank,\n",
        "     'Click': click,\n",
        "     'Time_spent': read_time\n",
        "                          })"
      ],
      "execution_count": 205,
      "outputs": []
    },
    {
      "cell_type": "code",
      "metadata": {
        "id": "mTrMCTUyyMA_",
        "outputId": "ed0ae97d-1834-4925-f689-fe50972e2f56",
        "colab": {
          "base_uri": "https://localhost:8080/",
          "height": 406
        }
      },
      "source": [
        "click_stream"
      ],
      "execution_count": 209,
      "outputs": [
        {
          "output_type": "execute_result",
          "data": {
            "text/html": [
              "<div>\n",
              "<style scoped>\n",
              "    .dataframe tbody tr th:only-of-type {\n",
              "        vertical-align: middle;\n",
              "    }\n",
              "\n",
              "    .dataframe tbody tr th {\n",
              "        vertical-align: top;\n",
              "    }\n",
              "\n",
              "    .dataframe thead th {\n",
              "        text-align: right;\n",
              "    }\n",
              "</style>\n",
              "<table border=\"1\" class=\"dataframe\">\n",
              "  <thead>\n",
              "    <tr style=\"text-align: right;\">\n",
              "      <th></th>\n",
              "      <th>User_ID</th>\n",
              "      <th>Session_ID</th>\n",
              "      <th>Article_ID</th>\n",
              "      <th>Article_rank</th>\n",
              "      <th>Click</th>\n",
              "      <th>Time_spent</th>\n",
              "    </tr>\n",
              "  </thead>\n",
              "  <tbody>\n",
              "    <tr>\n",
              "      <th>0</th>\n",
              "      <td>1</td>\n",
              "      <td>1</td>\n",
              "      <td>5095</td>\n",
              "      <td>1</td>\n",
              "      <td>No</td>\n",
              "      <td>NaN</td>\n",
              "    </tr>\n",
              "    <tr>\n",
              "      <th>1</th>\n",
              "      <td>1</td>\n",
              "      <td>1</td>\n",
              "      <td>4650</td>\n",
              "      <td>2</td>\n",
              "      <td>Yes</td>\n",
              "      <td>546.345</td>\n",
              "    </tr>\n",
              "    <tr>\n",
              "      <th>2</th>\n",
              "      <td>1</td>\n",
              "      <td>1</td>\n",
              "      <td>2438</td>\n",
              "      <td>3</td>\n",
              "      <td>Yes</td>\n",
              "      <td>609.483</td>\n",
              "    </tr>\n",
              "    <tr>\n",
              "      <th>3</th>\n",
              "      <td>1</td>\n",
              "      <td>1</td>\n",
              "      <td>643</td>\n",
              "      <td>4</td>\n",
              "      <td>No</td>\n",
              "      <td>NaN</td>\n",
              "    </tr>\n",
              "    <tr>\n",
              "      <th>4</th>\n",
              "      <td>1</td>\n",
              "      <td>1</td>\n",
              "      <td>3333</td>\n",
              "      <td>5</td>\n",
              "      <td>Yes</td>\n",
              "      <td>303.778</td>\n",
              "    </tr>\n",
              "    <tr>\n",
              "      <th>...</th>\n",
              "      <td>...</td>\n",
              "      <td>...</td>\n",
              "      <td>...</td>\n",
              "      <td>...</td>\n",
              "      <td>...</td>\n",
              "      <td>...</td>\n",
              "    </tr>\n",
              "    <tr>\n",
              "      <th>230705</th>\n",
              "      <td>10000</td>\n",
              "      <td>3</td>\n",
              "      <td>6173</td>\n",
              "      <td>6</td>\n",
              "      <td>No</td>\n",
              "      <td>NaN</td>\n",
              "    </tr>\n",
              "    <tr>\n",
              "      <th>230706</th>\n",
              "      <td>10000</td>\n",
              "      <td>3</td>\n",
              "      <td>1375</td>\n",
              "      <td>7</td>\n",
              "      <td>No</td>\n",
              "      <td>NaN</td>\n",
              "    </tr>\n",
              "    <tr>\n",
              "      <th>230707</th>\n",
              "      <td>10000</td>\n",
              "      <td>3</td>\n",
              "      <td>5213</td>\n",
              "      <td>8</td>\n",
              "      <td>No</td>\n",
              "      <td>NaN</td>\n",
              "    </tr>\n",
              "    <tr>\n",
              "      <th>230708</th>\n",
              "      <td>10000</td>\n",
              "      <td>3</td>\n",
              "      <td>4959</td>\n",
              "      <td>9</td>\n",
              "      <td>No</td>\n",
              "      <td>NaN</td>\n",
              "    </tr>\n",
              "    <tr>\n",
              "      <th>230709</th>\n",
              "      <td>10000</td>\n",
              "      <td>3</td>\n",
              "      <td>240</td>\n",
              "      <td>10</td>\n",
              "      <td>No</td>\n",
              "      <td>NaN</td>\n",
              "    </tr>\n",
              "  </tbody>\n",
              "</table>\n",
              "<p>230710 rows × 6 columns</p>\n",
              "</div>"
            ],
            "text/plain": [
              "        User_ID  Session_ID  Article_ID  Article_rank Click Time_spent\n",
              "0             1           1        5095             1    No        NaN\n",
              "1             1           1        4650             2   Yes    546.345\n",
              "2             1           1        2438             3   Yes    609.483\n",
              "3             1           1         643             4    No        NaN\n",
              "4             1           1        3333             5   Yes    303.778\n",
              "...         ...         ...         ...           ...   ...        ...\n",
              "230705    10000           3        6173             6    No        NaN\n",
              "230706    10000           3        1375             7    No        NaN\n",
              "230707    10000           3        5213             8    No        NaN\n",
              "230708    10000           3        4959             9    No        NaN\n",
              "230709    10000           3         240            10    No        NaN\n",
              "\n",
              "[230710 rows x 6 columns]"
            ]
          },
          "metadata": {
            "tags": []
          },
          "execution_count": 209
        }
      ]
    },
    {
      "cell_type": "code",
      "metadata": {
        "id": "H6z4iUs4yMGz"
      },
      "source": [
        "click_stream.to_csv('clickstream.csv')"
      ],
      "execution_count": 210,
      "outputs": []
    },
    {
      "cell_type": "code",
      "metadata": {
        "id": "x3Lg8mYDyMMG",
        "outputId": "9ba116ca-8e70-417c-b039-1d6de8dc1159",
        "colab": {
          "base_uri": "https://localhost:8080/",
          "height": 16
        }
      },
      "source": [
        "from google.colab import files\n",
        "files.download(\"clickstream.csv\")"
      ],
      "execution_count": 212,
      "outputs": [
        {
          "output_type": "display_data",
          "data": {
            "application/javascript": [
              "\n",
              "    async function download(id, filename, size) {\n",
              "      if (!google.colab.kernel.accessAllowed) {\n",
              "        return;\n",
              "      }\n",
              "      const div = document.createElement('div');\n",
              "      const label = document.createElement('label');\n",
              "      label.textContent = `Downloading \"${filename}\": `;\n",
              "      div.appendChild(label);\n",
              "      const progress = document.createElement('progress');\n",
              "      progress.max = size;\n",
              "      div.appendChild(progress);\n",
              "      document.body.appendChild(div);\n",
              "\n",
              "      const buffers = [];\n",
              "      let downloaded = 0;\n",
              "\n",
              "      const channel = await google.colab.kernel.comms.open(id);\n",
              "      // Send a message to notify the kernel that we're ready.\n",
              "      channel.send({})\n",
              "\n",
              "      for await (const message of channel.messages) {\n",
              "        // Send a message to notify the kernel that we're ready.\n",
              "        channel.send({})\n",
              "        if (message.buffers) {\n",
              "          for (const buffer of message.buffers) {\n",
              "            buffers.push(buffer);\n",
              "            downloaded += buffer.byteLength;\n",
              "            progress.value = downloaded;\n",
              "          }\n",
              "        }\n",
              "      }\n",
              "      const blob = new Blob(buffers, {type: 'application/binary'});\n",
              "      const a = document.createElement('a');\n",
              "      a.href = window.URL.createObjectURL(blob);\n",
              "      a.download = filename;\n",
              "      div.appendChild(a);\n",
              "      a.click();\n",
              "      div.remove();\n",
              "    }\n",
              "  "
            ],
            "text/plain": [
              "<IPython.core.display.Javascript object>"
            ]
          },
          "metadata": {
            "tags": []
          }
        },
        {
          "output_type": "display_data",
          "data": {
            "application/javascript": [
              "download(\"download_6c49af64-8e35-40d1-9a5d-5689e479377d\", \"clickstream.csv\", 7699215)"
            ],
            "text/plain": [
              "<IPython.core.display.Javascript object>"
            ]
          },
          "metadata": {
            "tags": []
          }
        }
      ]
    },
    {
      "cell_type": "code",
      "metadata": {
        "id": "FG55U_CvyMRk"
      },
      "source": [
        "f=[1 for i in range(5)]"
      ],
      "execution_count": 179,
      "outputs": []
    },
    {
      "cell_type": "code",
      "metadata": {
        "id": "v3yYwSUzyMYY",
        "outputId": "80868796-0dbd-42da-f689-0aa33d96b0cb",
        "colab": {
          "base_uri": "https://localhost:8080/"
        }
      },
      "source": [
        "f"
      ],
      "execution_count": 180,
      "outputs": [
        {
          "output_type": "execute_result",
          "data": {
            "text/plain": [
              "[1, 1, 1, 1, 1]"
            ]
          },
          "metadata": {
            "tags": []
          },
          "execution_count": 180
        }
      ]
    },
    {
      "cell_type": "code",
      "metadata": {
        "id": "9kWUM8JRchmJ"
      },
      "source": [
        "q=[]## Rank list\n",
        "for i in range(len(l)):\n",
        "  for j in range(l[i]):\n",
        "      r=np.random.poisson(5, 1)\n",
        "      t=np.random.binomial(1,0.5,size=10)\n",
        "      min=np.minimum(r,sum(t))\n",
        "      #print(min)\n",
        "      j=0\n",
        "      a=0\n",
        "      while j < min:\n",
        "        if t[a]==1:\n",
        "          j=j+1\n",
        "          a=a+1\n",
        "        else: a=a+1\n",
        " \n",
        "      t_=t[0:a]\n",
        "      t_=t_.tolist()\n",
        "\n",
        "      for i in range(10-a):\n",
        "          t_=t_ + [0]\n",
        "      q=q+t_    \n",
        "  \n",
        "\n",
        "\n",
        "\n",
        "\n",
        "\n"
      ],
      "execution_count": 115,
      "outputs": []
    },
    {
      "cell_type": "code",
      "metadata": {
        "id": "fjjefZljSjXy",
        "colab": {
          "base_uri": "https://localhost:8080/"
        },
        "outputId": "29ed47ad-267b-45b7-c695-9e0adbc76e3c"
      },
      "source": [
        "len(q)\n",
        "#len(user_id)\n",
        "\n",
        "\n",
        "\n",
        " \n",
        "   \n"
      ],
      "execution_count": 118,
      "outputs": [
        {
          "output_type": "execute_result",
          "data": {
            "text/plain": [
              "150"
            ]
          },
          "metadata": {
            "tags": []
          },
          "execution_count": 118
        }
      ]
    },
    {
      "cell_type": "code",
      "metadata": {
        "id": "ZsT8_bgbSjtQ",
        "colab": {
          "base_uri": "https://localhost:8080/"
        },
        "outputId": "023174b4-42ad-48e4-f9c2-af49181350ef"
      },
      "source": [
        "sum(l)"
      ],
      "execution_count": 116,
      "outputs": [
        {
          "output_type": "execute_result",
          "data": {
            "text/plain": [
              "15"
            ]
          },
          "metadata": {
            "tags": []
          },
          "execution_count": 116
        }
      ]
    },
    {
      "cell_type": "code",
      "metadata": {
        "id": "ajCkFKohSj7v",
        "colab": {
          "base_uri": "https://localhost:8080/"
        },
        "outputId": "f88b179d-3899-4146-9c89-71332d910e3c"
      },
      "source": [
        "t_.tolist()+[0]"
      ],
      "execution_count": 77,
      "outputs": [
        {
          "output_type": "execute_result",
          "data": {
            "text/plain": [
              "[1, 0, 1, 0]"
            ]
          },
          "metadata": {
            "tags": []
          },
          "execution_count": 77
        }
      ]
    },
    {
      "cell_type": "code",
      "metadata": {
        "id": "-QHHOQ9mUU9V",
        "colab": {
          "base_uri": "https://localhost:8080/"
        },
        "outputId": "25519c67-6029-4668-c6df-387c4b5108d8"
      },
      "source": [
        ""
      ],
      "execution_count": 57,
      "outputs": [
        {
          "output_type": "execute_result",
          "data": {
            "text/plain": [
              "array([1, 0, 0, 0, 0, 0, 0, 1, 1, 1])"
            ]
          },
          "metadata": {
            "tags": []
          },
          "execution_count": 57
        }
      ]
    },
    {
      "cell_type": "code",
      "metadata": {
        "id": "czQ3h6klSkI1",
        "colab": {
          "base_uri": "https://localhost:8080/"
        },
        "outputId": "a7d2d15d-2176-4a0e-f99b-139cdcca32a0"
      },
      "source": [
        "[0]*(9)"
      ],
      "execution_count": 47,
      "outputs": [
        {
          "output_type": "execute_result",
          "data": {
            "text/plain": [
              "[0, 0, 0, 0, 0, 0, 0, 0, 0]"
            ]
          },
          "metadata": {
            "tags": []
          },
          "execution_count": 47
        }
      ]
    },
    {
      "cell_type": "code",
      "metadata": {
        "id": "nC_a15SfWIof"
      },
      "source": [
        ""
      ],
      "execution_count": null,
      "outputs": []
    },
    {
      "cell_type": "code",
      "metadata": {
        "id": "bQJyeySbWL3y"
      },
      "source": [
        ""
      ],
      "execution_count": null,
      "outputs": []
    }
  ]
}