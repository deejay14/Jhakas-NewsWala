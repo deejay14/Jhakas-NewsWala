{
  "nbformat": 4,
  "nbformat_minor": 0,
  "metadata": {
    "colab": {
      "name": "Users vs artciles final code.ipynb",
      "provenance": [],
      "authorship_tag": "ABX9TyOPI404mgbEXUx/TVQoMGmV",
      "include_colab_link": true
    },
    "kernelspec": {
      "name": "python3",
      "display_name": "Python 3"
    },
    "language_info": {
      "name": "python"
    }
  },
  "cells": [
    {
      "cell_type": "markdown",
      "metadata": {
        "id": "view-in-github",
        "colab_type": "text"
      },
      "source": [
        "<a href=\"https://colab.research.google.com/github/deejay14/Jhakas-NewsWala/blob/main/Users_vs_articles_final_code.ipynb\" target=\"_parent\"><img src=\"https://colab.research.google.com/assets/colab-badge.svg\" alt=\"Open In Colab\"/></a>"
      ]
    },
    {
      "cell_type": "code",
      "metadata": {
        "id": "5AYtAuiODahj"
      },
      "source": [
        "import numpy as np\n",
        "import pandas as pd\n",
        "import re, nltk, spacy, gensim\n",
        "import random\n",
        "import matplotlib.pyplot as plt\n",
        "%matplotlib inline"
      ],
      "execution_count": 1,
      "outputs": []
    },
    {
      "cell_type": "code",
      "metadata": {
        "colab": {
          "base_uri": "https://localhost:8080/"
        },
        "id": "zOm1RE_AFNGj",
        "outputId": "a098e30e-1440-4cfa-d797-c274a7dcad50"
      },
      "source": [
        "from google.colab import drive \n",
        "drive.mount('/content/gdrive')"
      ],
      "execution_count": 2,
      "outputs": [
        {
          "output_type": "stream",
          "text": [
            "Mounted at /content/gdrive\n"
          ],
          "name": "stdout"
        }
      ]
    },
    {
      "cell_type": "code",
      "metadata": {
        "id": "WjwfRFPbFNJd"
      },
      "source": [
        "df=pd.read_csv('gdrive/My Drive/final_fixed_scrapped.csv')"
      ],
      "execution_count": 3,
      "outputs": []
    },
    {
      "cell_type": "code",
      "metadata": {
        "id": "kPkphnC0FTa8"
      },
      "source": [
        "df1=pd.read_csv('doc_vs_topic.csv')"
      ],
      "execution_count": 5,
      "outputs": []
    },
    {
      "cell_type": "code",
      "metadata": {
        "colab": {
          "base_uri": "https://localhost:8080/",
          "height": 264
        },
        "id": "6vmqujrQG9ob",
        "outputId": "4ac4c3ea-b540-498e-a442-ab671abdd67a"
      },
      "source": [
        "list=df['totalwords'].tolist()\n",
        "time=[]\n",
        "for i in range(7843):\n",
        "  time.append(round((60*(list[i]/200)),2))\n",
        "df['average_reading_time(sec)']=time\n",
        "counts=df['average_reading_time(sec)'].value_counts()\n",
        "ax=counts.plot()\n",
        "l=ax.get_lines()[0].get_xydata()\n",
        "data = l\n",
        "\n",
        "# training gaussian mixture model \n",
        "from sklearn.mixture import GaussianMixture\n",
        "gmm = GaussianMixture(n_components=12)\n",
        "model=gmm.fit(data)\n",
        "def sample(i):\n",
        "    flag = True\n",
        "    while flag:\n",
        "      Xnew, Ynew = model.sample(i)\n",
        "      if Xnew[0][0]<0:\n",
        "         flag=True\n",
        "     #print(Xnew[0][0])\n",
        "      else: flag=False\n",
        "    return(Xnew[0][0])\n",
        "\n",
        "      \n"
      ],
      "execution_count": 8,
      "outputs": [
        {
          "output_type": "display_data",
          "data": {
            "image/png": "[encoded data removed]",
            "text/plain": [
              "<Figure size 432x288 with 1 Axes>"
            ]
          },
          "metadata": {
            "tags": [],
            "needs_background": "light"
          }
        }
      ]
    },
    {
      "cell_type": "code",
      "metadata": {
        "id": "laFEd14UFNMm"
      },
      "source": [
        "def user_vs_article(df,users_no): ## df1 - dataframe of doc vs topic, no. of users\n",
        "    list1=df1.to_numpy()\n",
        "    list1=list1[0:7843,1:12]\n",
        "    list1[0,:]\n",
        "    article_topic=[]\n",
        "    for i in range(7843):\n",
        "        list2=list1[i].tolist()\n",
        "        #print(list2)\n",
        "        list3=np.copy(list2)\n",
        "        list3.sort()\n",
        "        #print(list3)\n",
        "        max=list3[10]\n",
        "        article_topic.append(list2.index(max))\n",
        "    z=[]\n",
        "    for i in range(7843):\n",
        "        z.append(i)\n",
        "    topic=np.column_stack((article_topic,z))\n",
        "    topic0=[]\n",
        "    topic1=[]\n",
        "    topic2=[]\n",
        "    topic3=[]\n",
        "    topic4=[]\n",
        "    topic5=[]\n",
        "    topic6=[]\n",
        "    topic7=[]\n",
        "    topic8=[]\n",
        "    topic9=[]\n",
        "    topic10=[]\n",
        "    for i in range(7843):\n",
        "        if topic[i][0]==0:\n",
        "           topic0.append(topic[i][1])\n",
        "        elif topic[i][0]==1:\n",
        "             topic1.append(topic[i][1])\n",
        "        elif topic[i][0]==2:\n",
        "             topic2.append(topic[i][1])\n",
        "        elif topic[i][0]==3:\n",
        "             topic3.append(topic[i][1])\n",
        "        elif topic[i][0]==4:\n",
        "             topic4.append(topic[i][1])\n",
        "        elif topic[i][0]==5:\n",
        "             topic5.append(topic[i][1])\n",
        "        elif topic[i][0]==6:\n",
        "             topic6.append(topic[i][1])\n",
        "        elif topic[i][0]==7:\n",
        "             topic7.append(topic[i][1])\n",
        "        elif topic[i][0]==8:\n",
        "             topic8.append(topic[i][1])\n",
        "        elif topic[i][0]==9:\n",
        "             topic9.append(topic[i][1])\n",
        "        elif topic[i][0]==10:\n",
        "             topic10.append(topic[i][1]) \n",
        "\n",
        "\n",
        "    ## Clickstream generator lists\n",
        "    lz=[]## reference list\n",
        "    for i in range(users_no):\n",
        "        flag = True\n",
        "        while flag:\n",
        "              s = np.random.poisson(1, 1)\n",
        "              if s[0]> 0:\n",
        "                 lz.append(s[0])\n",
        "                 flag=False\n",
        "        \n",
        "              else: flag=True\n",
        "    user_id=[]\n",
        "    #print(lz)\n",
        "    k=1\n",
        "    for i in range(len(lz)):\n",
        "        for j in range(lz[i]*10):\n",
        "            user_id.append(k)\n",
        "        k=k+1\n",
        "    rank=[]\n",
        "    t=[1,2,3,4,5,6,7,8,9,10]\n",
        "    for i in range(len(lz)):\n",
        "        for j in range(lz[i]):\n",
        "            rank=rank+t  \n",
        "\n",
        "\n",
        "    q=[]## click list\n",
        "    for i in range(len(lz)):\n",
        "        for j in range(lz[i]):\n",
        "           r=np.random.poisson(3, 1)\n",
        "           t=np.random.binomial(1,0.5,size=10)\n",
        "           min=np.minimum(r,sum(t))\n",
        "            #print(min)\n",
        "           j=0\n",
        "           a=0\n",
        "           while j < min:\n",
        "                if t[a]==1:\n",
        "                   j=j+1\n",
        "                   a=a+1\n",
        "                else: a=a+1\n",
        " \n",
        "           t_=t[0:a]\n",
        "           t_=t_.tolist()\n",
        "\n",
        "           for i in range(10-a):\n",
        "               t_=t_ + [0]\n",
        "           q=q+t_\n",
        "    click=[]\n",
        "    read_time=[]\n",
        "    for i in range(len(q)):\n",
        "       if q[i]==0:\n",
        "          click.append('No')\n",
        "       else: click.append('Yes')\n",
        "    for i in range(len(q)):\n",
        "        if q[i]==0:\n",
        "           read_time.append('NaN')\n",
        "        else: read_time.append(sample(1))            \n",
        "#session id\n",
        "    sessionid=[]\n",
        "\n",
        "    for j in lz:\n",
        "        for k in range(j):\n",
        "            t=k+1\n",
        "            t_=[t for i in range(10)]\n",
        "            sessionid=sessionid+t_  \n",
        "    article_id=[]\n",
        "    for i in range(len(lz)):\n",
        "       for j in range(lz[i]):\n",
        "          for p1 in range(3):\n",
        "              article_id.append(random.choice(topic4))\n",
        "          for p2 in range(2):\n",
        "              article_id.append(random.choice(topic7))\n",
        "          article_id.append(random.choice(topic0))\n",
        "          article_id.append(random.choice(topic2))\n",
        "          article_id.append(random.choice(topic3))\n",
        "          article_id.append(random.choice(topic5))\n",
        "          article_id.append(random.choice(topic10)) \n",
        "\n",
        "    t_spent=read_time\n",
        "    article_id_list=article_id \n",
        "    #print(t_spent)\n",
        "    user_vs_doc=np.zeros((users_no,7843)) \n",
        "\n",
        "\n",
        "\n",
        "    ## User vs article matrix generator\n",
        "    u=0\n",
        "    j0=0\n",
        "    #print(lz)\n",
        "    for i in lz:  \n",
        "        for j in range(i*10):\n",
        "            j0=sum(lz[0:u])*10+j\n",
        "            #print(j0)\n",
        "            index=article_id_list[j0]\n",
        "            if type(t_spent[j0])==str:\n",
        "               user_vs_doc[u][index]=0.0\n",
        "          #print(index)  \n",
        "            else: user_vs_doc[u][index] = t_spent[j0]/time[index]\n",
        "        #print(user_vs_doc[u][index])\n",
        "        u=u+1\n",
        "    for i in range(users_no):\n",
        "        for j in range(7843):\n",
        "            if user_vs_doc[i][j]>1:\n",
        "               user_vs_doc[i][j]=1.0\n",
        "    #user_vs_doc\n",
        "\n",
        "    columns=[i for i in range(7843)]   \n",
        "    index=[j for j in range(users_no)]\n",
        "    df_user_vs_doc = pd.DataFrame(user_vs_doc, columns =columns, index = index) \n",
        "    return(df_user_vs_doc)      \n",
        "\n",
        "\n",
        "\n",
        "\n",
        "\n",
        "\n",
        "\n",
        "\n",
        "\n",
        "\n",
        "\n",
        "\n",
        "\n",
        "\n",
        "            \n",
        "      \n"
      ],
      "execution_count": 9,
      "outputs": []
    },
    {
      "cell_type": "code",
      "metadata": {
        "id": "6_01UdkrFy0k"
      },
      "source": [
        "df_uservsarticle=user_vs_article(df1,1000)"
      ],
      "execution_count": 16,
      "outputs": []
    },
    {
      "cell_type": "code",
      "metadata": {
        "colab": {
          "base_uri": "https://localhost:8080/",
          "height": 16
        },
        "id": "PBKvsemFIXlw",
        "outputId": "38d0b7d8-c50b-413b-9b0a-9734e97e7f41"
      },
      "source": [
        "df_uservsarticle.to_csv('user_vs_article.csv')\n",
        "from google.colab import files\n",
        "files.download(\"user_vs_article.csv\")"
      ],
      "execution_count": 19,
      "outputs": [
        {
          "output_type": "display_data",
          "data": {
            "application/javascript": [
              "\n",
              "    async function download(id, filename, size) {\n",
              "      if (!google.colab.kernel.accessAllowed) {\n",
              "        return;\n",
              "      }\n",
              "      const div = document.createElement('div');\n",
              "      const label = document.createElement('label');\n",
              "      label.textContent = `Downloading \"${filename}\": `;\n",
              "      div.appendChild(label);\n",
              "      const progress = document.createElement('progress');\n",
              "      progress.max = size;\n",
              "      div.appendChild(progress);\n",
              "      document.body.appendChild(div);\n",
              "\n",
              "      const buffers = [];\n",
              "      let downloaded = 0;\n",
              "\n",
              "      const channel = await google.colab.kernel.comms.open(id);\n",
              "      // Send a message to notify the kernel that we're ready.\n",
              "      channel.send({})\n",
              "\n",
              "      for await (const message of channel.messages) {\n",
              "        // Send a message to notify the kernel that we're ready.\n",
              "        channel.send({})\n",
              "        if (message.buffers) {\n",
              "          for (const buffer of message.buffers) {\n",
              "            buffers.push(buffer);\n",
              "            downloaded += buffer.byteLength;\n",
              "            progress.value = downloaded;\n",
              "          }\n",
              "        }\n",
              "      }\n",
              "      const blob = new Blob(buffers, {type: 'application/binary'});\n",
              "      const a = document.createElement('a');\n",
              "      a.href = window.URL.createObjectURL(blob);\n",
              "      a.download = filename;\n",
              "      div.appendChild(a);\n",
              "      a.click();\n",
              "      div.remove();\n",
              "    }\n",
              "  "
            ],
            "text/plain": [
              "<IPython.core.display.Javascript object>"
            ]
          },
          "metadata": {
            "tags": []
          }
        },
        {
          "output_type": "display_data",
          "data": {
            "application/javascript": [
              "download(\"download_0b732c2b-f5c9-4683-88a1-1c8c11167713\", \"user_vs_article.csv\", 31431243)"
            ],
            "text/plain": [
              "<IPython.core.display.Javascript object>"
            ]
          },
          "metadata": {
            "tags": []
          }
        }
      ]
    },
    {
      "cell_type": "code",
      "metadata": {
        "id": "ifDlhZrSIXp5"
      },
      "source": [
        ""
      ],
      "execution_count": null,
      "outputs": []
    }
  ]
}