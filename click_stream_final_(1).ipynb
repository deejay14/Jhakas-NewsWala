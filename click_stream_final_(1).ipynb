{
  "nbformat": 4,
  "nbformat_minor": 0,
  "metadata": {
    "colab": {
      "name": "click_stream final (1).ipynb",
      "provenance": [],
      "include_colab_link": true
    },
    "kernelspec": {
      "name": "python3",
      "display_name": "Python 3"
    },
    "language_info": {
      "name": "python"
    }
  },
  "cells": [
    {
      "cell_type": "markdown",
      "metadata": {
        "id": "view-in-github",
        "colab_type": "text"
      },
      "source": [
        "<a href=\"https://colab.research.google.com/github/deejay14/Jhakas-NewsWala/blob/main/click_stream_final_(1).ipynb\" target=\"_parent\"><img src=\"https://colab.research.google.com/assets/colab-badge.svg\" alt=\"Open In Colab\"/></a>"
      ]
    },
    {
      "cell_type": "code",
      "metadata": {
        "id": "FlJLsGXs0DRj"
      },
      "source": [
        "import numpy as np\n",
        "import random\n",
        "import pandas as pd\n",
        "import re, nltk, spacy, gensim\n",
        "import matplotlib.pyplot as plt\n",
        "%matplotlib inline"
      ],
      "execution_count": 131,
      "outputs": []
    },
    {
      "cell_type": "code",
      "metadata": {
        "colab": {
          "base_uri": "https://localhost:8080/"
        },
        "id": "FPt_NZcA0mTd",
        "outputId": "1cde3399-def9-4135-d211-75b2300dcc6f"
      },
      "source": [
        "from google.colab import drive \n",
        "drive.mount('/content/gdrive')"
      ],
      "execution_count": 2,
      "outputs": [
        {
          "output_type": "stream",
          "text": [
            "Mounted at /content/gdrive\n"
          ],
          "name": "stdout"
        }
      ]
    },
    {
      "cell_type": "code",
      "metadata": {
        "id": "JbkWAMBD0mai"
      },
      "source": [
        "df=pd.read_csv('gdrive/My Drive/final_fixed_scrapped.csv')"
      ],
      "execution_count": 24,
      "outputs": []
    },
    {
      "cell_type": "code",
      "metadata": {
        "id": "zW1N92sXjsvR"
      },
      "source": [
        "df1=pd.read_csv('doc_vs_topic.csv')"
      ],
      "execution_count": 25,
      "outputs": []
    },
    {
      "cell_type": "code",
      "metadata": {
        "colab": {
          "base_uri": "https://localhost:8080/",
          "height": 406
        },
        "id": "OGVI11Mh09Q_",
        "outputId": "59e66bc5-720c-4fcd-d76e-9f967be4aad6"
      },
      "source": [
        "df"
      ],
      "execution_count": 5,
      "outputs": [
        {
          "output_type": "execute_result",
          "data": {
            "text/html": [
              "<div>\n",
              "<style scoped>\n",
              "    .dataframe tbody tr th:only-of-type {\n",
              "        vertical-align: middle;\n",
              "    }\n",
              "\n",
              "    .dataframe tbody tr th {\n",
              "        vertical-align: top;\n",
              "    }\n",
              "\n",
              "    .dataframe thead th {\n",
              "        text-align: right;\n",
              "    }\n",
              "</style>\n",
              "<table border=\"1\" class=\"dataframe\">\n",
              "  <thead>\n",
              "    <tr style=\"text-align: right;\">\n",
              "      <th></th>\n",
              "      <th>Unnamed: 0</th>\n",
              "      <th>Title</th>\n",
              "      <th>Article</th>\n",
              "      <th>totalwords</th>\n",
              "    </tr>\n",
              "  </thead>\n",
              "  <tbody>\n",
              "    <tr>\n",
              "      <th>0</th>\n",
              "      <td>0</td>\n",
              "      <td>Rs 400-cr ‘bungling’ by Amar Singh: HC seeks E...</td>\n",
              "      <td>The Allahabad High Court has directed the Enfo...</td>\n",
              "      <td>341</td>\n",
              "    </tr>\n",
              "    <tr>\n",
              "      <th>1</th>\n",
              "      <td>1</td>\n",
              "      <td>J&amp;K HC orders FIR against teacher who fails to...</td>\n",
              "      <td>The J&amp;K High Court on Friday asked a teacher t...</td>\n",
              "      <td>335</td>\n",
              "    </tr>\n",
              "    <tr>\n",
              "      <th>2</th>\n",
              "      <td>2</td>\n",
              "      <td>Crime in Cyberia: an incomplete list of offenders</td>\n",
              "      <td>An unknown Indian hacker has been charged with...</td>\n",
              "      <td>382</td>\n",
              "    </tr>\n",
              "    <tr>\n",
              "      <th>3</th>\n",
              "      <td>3</td>\n",
              "      <td>450 cannabis plants found on govt land in Mundhwa</td>\n",
              "      <td>The interrogation of two marijuana peddlers ab...</td>\n",
              "      <td>372</td>\n",
              "    </tr>\n",
              "    <tr>\n",
              "      <th>4</th>\n",
              "      <td>4</td>\n",
              "      <td>Nagaland: 9 bullet-riddled bodies found,Karbi-...</td>\n",
              "      <td>Nine highly decomposed bodies were found stack...</td>\n",
              "      <td>449</td>\n",
              "    </tr>\n",
              "    <tr>\n",
              "      <th>...</th>\n",
              "      <td>...</td>\n",
              "      <td>...</td>\n",
              "      <td>...</td>\n",
              "      <td>...</td>\n",
              "    </tr>\n",
              "    <tr>\n",
              "      <th>7838</th>\n",
              "      <td>7838</td>\n",
              "      <td>13 dead, one million evacuated in China after ...</td>\n",
              "      <td>At least 18 people were killed due to a landsl...</td>\n",
              "      <td>397</td>\n",
              "    </tr>\n",
              "    <tr>\n",
              "      <th>7839</th>\n",
              "      <td>7839</td>\n",
              "      <td>Book Karnataka, Maharashtra CMs for culpable h...</td>\n",
              "      <td>With the flood situation in the state continui...</td>\n",
              "      <td>500</td>\n",
              "    </tr>\n",
              "    <tr>\n",
              "      <th>7840</th>\n",
              "      <td>7840</td>\n",
              "      <td>Romanian researcher develops disc-shaped flyin...</td>\n",
              "      <td>Razan Sabie, an aerodynamicist who operates fr...</td>\n",
              "      <td>346</td>\n",
              "    </tr>\n",
              "    <tr>\n",
              "      <th>7841</th>\n",
              "      <td>7841</td>\n",
              "      <td>Is asteroid Apophis capable of triggering a ts...</td>\n",
              "      <td>It was around a few months back that Iain McDo...</td>\n",
              "      <td>412</td>\n",
              "    </tr>\n",
              "    <tr>\n",
              "      <th>7842</th>\n",
              "      <td>7842</td>\n",
              "      <td>New 'dengue-like disease' spreading among chil...</td>\n",
              "      <td>The number of children affected by a new disea...</td>\n",
              "      <td>457</td>\n",
              "    </tr>\n",
              "  </tbody>\n",
              "</table>\n",
              "<p>7843 rows × 4 columns</p>\n",
              "</div>"
            ],
            "text/plain": [
              "      Unnamed: 0  ... totalwords\n",
              "0              0  ...        341\n",
              "1              1  ...        335\n",
              "2              2  ...        382\n",
              "3              3  ...        372\n",
              "4              4  ...        449\n",
              "...          ...  ...        ...\n",
              "7838        7838  ...        397\n",
              "7839        7839  ...        500\n",
              "7840        7840  ...        346\n",
              "7841        7841  ...        412\n",
              "7842        7842  ...        457\n",
              "\n",
              "[7843 rows x 4 columns]"
            ]
          },
          "metadata": {
            "tags": []
          },
          "execution_count": 5
        }
      ]
    },
    {
      "cell_type": "code",
      "metadata": {
        "colab": {
          "base_uri": "https://localhost:8080/",
          "height": 287
        },
        "id": "8G4Yky4z09be",
        "outputId": "b306dbff-7555-486a-c471-40f31d2ec470"
      },
      "source": [
        "df.describe()"
      ],
      "execution_count": null,
      "outputs": [
        {
          "output_type": "execute_result",
          "data": {
            "text/html": [
              "<div>\n",
              "<style scoped>\n",
              "    .dataframe tbody tr th:only-of-type {\n",
              "        vertical-align: middle;\n",
              "    }\n",
              "\n",
              "    .dataframe tbody tr th {\n",
              "        vertical-align: top;\n",
              "    }\n",
              "\n",
              "    .dataframe thead th {\n",
              "        text-align: right;\n",
              "    }\n",
              "</style>\n",
              "<table border=\"1\" class=\"dataframe\">\n",
              "  <thead>\n",
              "    <tr style=\"text-align: right;\">\n",
              "      <th></th>\n",
              "      <th>Unnamed: 0</th>\n",
              "      <th>totalwords</th>\n",
              "    </tr>\n",
              "  </thead>\n",
              "  <tbody>\n",
              "    <tr>\n",
              "      <th>count</th>\n",
              "      <td>7843.000000</td>\n",
              "      <td>7843.000000</td>\n",
              "    </tr>\n",
              "    <tr>\n",
              "      <th>mean</th>\n",
              "      <td>3921.000000</td>\n",
              "      <td>518.458116</td>\n",
              "    </tr>\n",
              "    <tr>\n",
              "      <th>std</th>\n",
              "      <td>2264.223414</td>\n",
              "      <td>443.567008</td>\n",
              "    </tr>\n",
              "    <tr>\n",
              "      <th>min</th>\n",
              "      <td>0.000000</td>\n",
              "      <td>100.000000</td>\n",
              "    </tr>\n",
              "    <tr>\n",
              "      <th>25%</th>\n",
              "      <td>1960.500000</td>\n",
              "      <td>285.000000</td>\n",
              "    </tr>\n",
              "    <tr>\n",
              "      <th>50%</th>\n",
              "      <td>3921.000000</td>\n",
              "      <td>389.000000</td>\n",
              "    </tr>\n",
              "    <tr>\n",
              "      <th>75%</th>\n",
              "      <td>5881.500000</td>\n",
              "      <td>595.000000</td>\n",
              "    </tr>\n",
              "    <tr>\n",
              "      <th>max</th>\n",
              "      <td>7842.000000</td>\n",
              "      <td>5884.000000</td>\n",
              "    </tr>\n",
              "  </tbody>\n",
              "</table>\n",
              "</div>"
            ],
            "text/plain": [
              "        Unnamed: 0   totalwords\n",
              "count  7843.000000  7843.000000\n",
              "mean   3921.000000   518.458116\n",
              "std    2264.223414   443.567008\n",
              "min       0.000000   100.000000\n",
              "25%    1960.500000   285.000000\n",
              "50%    3921.000000   389.000000\n",
              "75%    5881.500000   595.000000\n",
              "max    7842.000000  5884.000000"
            ]
          },
          "metadata": {
            "tags": []
          },
          "execution_count": 5
        }
      ]
    },
    {
      "cell_type": "code",
      "metadata": {
        "id": "UHNlmsg109ni"
      },
      "source": [
        "##200 WPM"
      ],
      "execution_count": null,
      "outputs": []
    },
    {
      "cell_type": "code",
      "metadata": {
        "id": "LtG1HbFC3b7Q"
      },
      "source": [
        "list=df['totalwords'].tolist()"
      ],
      "execution_count": 6,
      "outputs": []
    },
    {
      "cell_type": "code",
      "metadata": {
        "colab": {
          "base_uri": "https://localhost:8080/"
        },
        "id": "yl2iATXJ7TSc",
        "outputId": "6048f741-659f-49eb-d15d-8fac293803de"
      },
      "source": [
        "round(10.567,2)"
      ],
      "execution_count": null,
      "outputs": [
        {
          "output_type": "execute_result",
          "data": {
            "text/plain": [
              "10.57"
            ]
          },
          "metadata": {
            "tags": []
          },
          "execution_count": 5
        }
      ]
    },
    {
      "cell_type": "code",
      "metadata": {
        "id": "fRsH9L9w3cHk"
      },
      "source": [
        "time=[]\n",
        "for i in range(7843):\n",
        "  time.append(round((60*(list[i]/200)),2))\n"
      ],
      "execution_count": 7,
      "outputs": []
    },
    {
      "cell_type": "code",
      "metadata": {
        "id": "PIusnFaq3cQZ"
      },
      "source": [
        "df['average_reading_time(sec)']=time"
      ],
      "execution_count": 8,
      "outputs": []
    },
    {
      "cell_type": "code",
      "metadata": {
        "colab": {
          "base_uri": "https://localhost:8080/",
          "height": 287
        },
        "id": "xg4ntWz73cYW",
        "outputId": "73d402e7-827e-4fbb-84bb-25044990e106"
      },
      "source": [
        "df.describe()"
      ],
      "execution_count": null,
      "outputs": [
        {
          "output_type": "execute_result",
          "data": {
            "text/html": [
              "<div>\n",
              "<style scoped>\n",
              "    .dataframe tbody tr th:only-of-type {\n",
              "        vertical-align: middle;\n",
              "    }\n",
              "\n",
              "    .dataframe tbody tr th {\n",
              "        vertical-align: top;\n",
              "    }\n",
              "\n",
              "    .dataframe thead th {\n",
              "        text-align: right;\n",
              "    }\n",
              "</style>\n",
              "<table border=\"1\" class=\"dataframe\">\n",
              "  <thead>\n",
              "    <tr style=\"text-align: right;\">\n",
              "      <th></th>\n",
              "      <th>Unnamed: 0</th>\n",
              "      <th>totalwords</th>\n",
              "      <th>average_reading_time(sec)</th>\n",
              "    </tr>\n",
              "  </thead>\n",
              "  <tbody>\n",
              "    <tr>\n",
              "      <th>count</th>\n",
              "      <td>7843.000000</td>\n",
              "      <td>7843.000000</td>\n",
              "      <td>7843.000000</td>\n",
              "    </tr>\n",
              "    <tr>\n",
              "      <th>mean</th>\n",
              "      <td>3921.000000</td>\n",
              "      <td>518.458116</td>\n",
              "      <td>155.537435</td>\n",
              "    </tr>\n",
              "    <tr>\n",
              "      <th>std</th>\n",
              "      <td>2264.223414</td>\n",
              "      <td>443.567008</td>\n",
              "      <td>133.070102</td>\n",
              "    </tr>\n",
              "    <tr>\n",
              "      <th>min</th>\n",
              "      <td>0.000000</td>\n",
              "      <td>100.000000</td>\n",
              "      <td>30.000000</td>\n",
              "    </tr>\n",
              "    <tr>\n",
              "      <th>25%</th>\n",
              "      <td>1960.500000</td>\n",
              "      <td>285.000000</td>\n",
              "      <td>85.500000</td>\n",
              "    </tr>\n",
              "    <tr>\n",
              "      <th>50%</th>\n",
              "      <td>3921.000000</td>\n",
              "      <td>389.000000</td>\n",
              "      <td>116.700000</td>\n",
              "    </tr>\n",
              "    <tr>\n",
              "      <th>75%</th>\n",
              "      <td>5881.500000</td>\n",
              "      <td>595.000000</td>\n",
              "      <td>178.500000</td>\n",
              "    </tr>\n",
              "    <tr>\n",
              "      <th>max</th>\n",
              "      <td>7842.000000</td>\n",
              "      <td>5884.000000</td>\n",
              "      <td>1765.200000</td>\n",
              "    </tr>\n",
              "  </tbody>\n",
              "</table>\n",
              "</div>"
            ],
            "text/plain": [
              "        Unnamed: 0   totalwords  average_reading_time(sec)\n",
              "count  7843.000000  7843.000000                7843.000000\n",
              "mean   3921.000000   518.458116                 155.537435\n",
              "std    2264.223414   443.567008                 133.070102\n",
              "min       0.000000   100.000000                  30.000000\n",
              "25%    1960.500000   285.000000                  85.500000\n",
              "50%    3921.000000   389.000000                 116.700000\n",
              "75%    5881.500000   595.000000                 178.500000\n",
              "max    7842.000000  5884.000000                1765.200000"
            ]
          },
          "metadata": {
            "tags": []
          },
          "execution_count": 32
        }
      ]
    },
    {
      "cell_type": "code",
      "metadata": {
        "id": "C1dsAeD43cfx"
      },
      "source": [
        "counts=df['average_reading_time(sec)'].value_counts()"
      ],
      "execution_count": 10,
      "outputs": []
    },
    {
      "cell_type": "code",
      "metadata": {
        "colab": {
          "base_uri": "https://localhost:8080/"
        },
        "id": "qfV1YoykEo0e",
        "outputId": "c8f3c2f4-6128-46a7-db47-c9862e091ddb"
      },
      "source": [
        "counts"
      ],
      "execution_count": 11,
      "outputs": [
        {
          "output_type": "execute_result",
          "data": {
            "text/plain": [
              "96.3     33\n",
              "91.5     28\n",
              "87.9     28\n",
              "95.4     28\n",
              "87.6     27\n",
              "         ..\n",
              "353.7     1\n",
              "590.7     1\n",
              "434.7     1\n",
              "478.5     1\n",
              "367.8     1\n",
              "Name: average_reading_time(sec), Length: 1399, dtype: int64"
            ]
          },
          "metadata": {
            "tags": []
          },
          "execution_count": 11
        }
      ]
    },
    {
      "cell_type": "code",
      "metadata": {
        "colab": {
          "base_uri": "https://localhost:8080/",
          "height": 264
        },
        "id": "JWiC_04m3cn4",
        "outputId": "099329ff-f089-4087-b0fd-4ebff9ddde35"
      },
      "source": [
        "ax=counts.plot()"
      ],
      "execution_count": 12,
      "outputs": [
        {
          "output_type": "display_data",
          "data": {
            "image/png": "[encoded data removed]",
            "text/plain": [
              "<Figure size 432x288 with 1 Axes>"
            ]
          },
          "metadata": {
            "tags": [],
            "needs_background": "light"
          }
        }
      ]
    },
    {
      "cell_type": "code",
      "metadata": {
        "id": "UElY6Q0S3cws"
      },
      "source": [
        "l=ax.get_lines()[0].get_xydata()"
      ],
      "execution_count": 13,
      "outputs": []
    },
    {
      "cell_type": "code",
      "metadata": {
        "colab": {
          "base_uri": "https://localhost:8080/"
        },
        "id": "4uBhQhlf6oV6",
        "outputId": "5b071abe-9278-4615-bda4-1c9db501896a"
      },
      "source": [
        "np.shape(l)"
      ],
      "execution_count": 14,
      "outputs": [
        {
          "output_type": "execute_result",
          "data": {
            "text/plain": [
              "(1399, 2)"
            ]
          },
          "metadata": {
            "tags": []
          },
          "execution_count": 14
        }
      ]
    },
    {
      "cell_type": "code",
      "metadata": {
        "colab": {
          "base_uri": "https://localhost:8080/"
        },
        "id": "2agkPWnQF3ga",
        "outputId": "74b31d21-95da-4505-f4e5-1f7077473531"
      },
      "source": [
        "l.astype(int)"
      ],
      "execution_count": null,
      "outputs": [
        {
          "output_type": "execute_result",
          "data": {
            "text/plain": [
              "array([[ 96,  33],\n",
              "       [ 91,  28],\n",
              "       [ 87,  28],\n",
              "       ...,\n",
              "       [434,   1],\n",
              "       [478,   1],\n",
              "       [367,   1]])"
            ]
          },
          "metadata": {
            "tags": []
          },
          "execution_count": 13
        }
      ]
    },
    {
      "cell_type": "code",
      "metadata": {
        "id": "OIVUq_7n3c3I",
        "colab": {
          "base_uri": "https://localhost:8080/"
        },
        "outputId": "87ade9e2-6759-48c4-c233-6c303502b7f8"
      },
      "source": [
        "x_data=l[:,0]\n",
        "y_data=l[:,1]\n",
        "len(x_data)\n"
      ],
      "execution_count": null,
      "outputs": [
        {
          "output_type": "execute_result",
          "data": {
            "text/plain": [
              "1399"
            ]
          },
          "metadata": {
            "tags": []
          },
          "execution_count": 15
        }
      ]
    },
    {
      "cell_type": "code",
      "metadata": {
        "id": "7fRWyfwL09ws"
      },
      "source": [
        "#x_data.astype(int)\n",
        "#y_data.astype(int)\n"
      ],
      "execution_count": null,
      "outputs": []
    },
    {
      "cell_type": "code",
      "metadata": {
        "id": "hpzjMunXKbBy"
      },
      "source": [
        "x_data=x_data.reshape(-1, 1)"
      ],
      "execution_count": null,
      "outputs": []
    },
    {
      "cell_type": "code",
      "metadata": {
        "id": "KvP19pE8E5kp"
      },
      "source": [
        "import pandas as pd\n",
        "data = l\n",
        "\n",
        "# training gaussian mixture model \n",
        "from sklearn.mixture import GaussianMixture\n",
        "gmm = GaussianMixture(n_components=12)\n",
        "model=gmm.fit(data)"
      ],
      "execution_count": 15,
      "outputs": []
    },
    {
      "cell_type": "code",
      "metadata": {
        "id": "HOwyn5w9Ghzf"
      },
      "source": [
        "Xnew, Ynew = model.sample(10000)  # if Ynew is valuable\n"
      ],
      "execution_count": null,
      "outputs": []
    },
    {
      "cell_type": "code",
      "metadata": {
        "colab": {
          "base_uri": "https://localhost:8080/"
        },
        "id": "uVcDfwGtGh--",
        "outputId": "f371a2b5-9ac7-47ee-99f1-c658ebabef0f"
      },
      "source": [
        "np.mean(Xnew[:,0])"
      ],
      "execution_count": null,
      "outputs": [
        {
          "output_type": "execute_result",
          "data": {
            "text/plain": [
              "293.1678655731778"
            ]
          },
          "metadata": {
            "tags": []
          },
          "execution_count": 131
        }
      ]
    },
    {
      "cell_type": "code",
      "metadata": {
        "colab": {
          "base_uri": "https://localhost:8080/"
        },
        "id": "eviSOGKlGiTJ",
        "outputId": "e6e569fa-95f8-40e3-e469-f1df33ebd471"
      },
      "source": [
        "Xnew"
      ],
      "execution_count": null,
      "outputs": [
        {
          "output_type": "execute_result",
          "data": {
            "text/plain": [
              "array([[119.24535746,  16.86758287],\n",
              "       [124.22986521,  10.46930794],\n",
              "       [103.03586647,  18.04887169],\n",
              "       ...,\n",
              "       [212.06624362,   2.0012011 ],\n",
              "       [486.38218164,   2.00110494],\n",
              "       [339.7343098 ,   1.9995608 ]])"
            ]
          },
          "metadata": {
            "tags": []
          },
          "execution_count": 132
        }
      ]
    },
    {
      "cell_type": "code",
      "metadata": {
        "id": "LhfaUSmJGiZr",
        "colab": {
          "base_uri": "https://localhost:8080/"
        },
        "outputId": "7def895e-9381-4df4-fd62-3231c9452cc9"
      },
      "source": [
        "t=[1]"
      ],
      "execution_count": null,
      "outputs": [
        {
          "output_type": "stream",
          "text": [
            "[5]\n"
          ],
          "name": "stdout"
        }
      ]
    },
    {
      "cell_type": "code",
      "metadata": {
        "id": "HY9WOTmt_dfb"
      },
      "source": [
        "def sample(i):\n",
        "    flag = True\n",
        "    while flag:\n",
        "      Xnew, Ynew = model.sample(i)\n",
        "      if Xnew[0][0]<0:\n",
        "         flag=True\n",
        "     #print(Xnew[0][0])\n",
        "      else: flag=False\n",
        "    return(Xnew[0][0])\n",
        "\n",
        "      \n"
      ],
      "execution_count": 16,
      "outputs": []
    },
    {
      "cell_type": "code",
      "metadata": {
        "colab": {
          "base_uri": "https://localhost:8080/"
        },
        "id": "8ryOrWp7_dsC",
        "outputId": "e07e4ead-d7cf-4911-e94e-8c6c17054a89"
      },
      "source": [
        "sample(1)"
      ],
      "execution_count": 37,
      "outputs": [
        {
          "output_type": "execute_result",
          "data": {
            "text/plain": [
              "54.76684670838015"
            ]
          },
          "metadata": {
            "tags": []
          },
          "execution_count": 37
        }
      ]
    },
    {
      "cell_type": "code",
      "metadata": {
        "colab": {
          "base_uri": "https://localhost:8080/",
          "height": 264
        },
        "id": "lzb--Qe1GihF",
        "outputId": "55f3b9fd-8e2c-4a2e-8d43-5be7ae05e83b"
      },
      "source": [
        "from sklearn.mixture import GaussianMixture as GMM\n",
        "gmm = GMM(n_components=12).fit(l)\n",
        "labels = gmm.predict(l)\n",
        "plt.scatter(l[:, 0], l[:, 1], c=labels, s=40, cmap='viridis');"
      ],
      "execution_count": 18,
      "outputs": [
        {
          "output_type": "display_data",
          "data": {
            "image/png": "[encoded data removed]",
            "text/plain": [
              "<Figure size 432x288 with 1 Axes>"
            ]
          },
          "metadata": {
            "tags": [],
            "needs_background": "light"
          }
        }
      ]
    },
    {
      "cell_type": "code",
      "metadata": {
        "colab": {
          "base_uri": "https://localhost:8080/"
        },
        "id": "z3w5qPV2GinZ",
        "outputId": "ee0d3e16-c098-4652-c391-02e6e4052b8a"
      },
      "source": [
        "probs = gmm.predict_proba(l)\n",
        "np.shape(probs)"
      ],
      "execution_count": null,
      "outputs": [
        {
          "output_type": "execute_result",
          "data": {
            "text/plain": [
              "(1399, 12)"
            ]
          },
          "metadata": {
            "tags": []
          },
          "execution_count": 21
        }
      ]
    },
    {
      "cell_type": "code",
      "metadata": {
        "colab": {
          "base_uri": "https://localhost:8080/",
          "height": 280
        },
        "id": "H3DZpyRxFUmY",
        "outputId": "ff13f362-2526-441c-c7a0-de0dd1636583"
      },
      "source": [
        "n_components = np.arange(1, 21)\n",
        "models = [GMM(n, covariance_type='full', random_state=0).fit(l)\n",
        "          for n in n_components]\n",
        "\n",
        "plt.plot(n_components, [m.bic(l) for m in models], label='BIC')\n",
        "plt.plot(n_components, [m.aic(l) for m in models], label='AIC')\n",
        "plt.legend(loc='best')\n",
        "plt.xlabel('n_components');"
      ],
      "execution_count": null,
      "outputs": [
        {
          "output_type": "display_data",
          "data": {
            "image/png": "[encoded data removed]",
            "text/plain": [
              "<Figure size 432x288 with 1 Axes>"
            ]
          },
          "metadata": {
            "tags": [],
            "needs_background": "light"
          }
        }
      ]
    },
    {
      "cell_type": "code",
      "metadata": {
        "id": "Z_3RRpTkSB3v"
      },
      "source": [
        "s = np.random.poisson(2, 1000)"
      ],
      "execution_count": null,
      "outputs": []
    },
    {
      "cell_type": "code",
      "metadata": {
        "id": "elRe3TUISCOl"
      },
      "source": [
        ""
      ],
      "execution_count": null,
      "outputs": []
    },
    {
      "cell_type": "code",
      "metadata": {
        "id": "GfUwtbKrSCeG",
        "colab": {
          "base_uri": "https://localhost:8080/"
        },
        "outputId": "f9a7f33a-bf60-4408-c322-9ad83b0ca562"
      },
      "source": [
        "flag = True\n",
        "while flag:\n",
        "   s = np.random.poisson(2, 1)\n",
        "   if s[0]== 0:\n",
        "     flag=True\n",
        "     print(s[0])\n",
        "   else: flag=False\n",
        "   print(s[0])"
      ],
      "execution_count": null,
      "outputs": [
        {
          "output_type": "stream",
          "text": [
            "3\n"
          ],
          "name": "stdout"
        }
      ]
    },
    {
      "cell_type": "code",
      "metadata": {
        "id": "HO7CLhHMSCs-"
      },
      "source": [
        "## Clickstream generator lists\n",
        "l=[]## reference list\n",
        "for i in range(10000):\n",
        "  flag = True\n",
        "  while flag:\n",
        "      s = np.random.poisson(2, 1)\n",
        "      if s[0]> 0:\n",
        "        l.append(s[0])\n",
        "        flag=False\n",
        "        \n",
        "      else: flag=True\n",
        "user_id=[]\n",
        "k=1\n",
        "for i in range(len(l)):\n",
        "  for j in range(l[i]*10):\n",
        "    user_id.append(k)\n",
        "  k=k+1\n",
        "rank=[]\n",
        "t=[1,2,3,4,5,6,7,8,9,10]\n",
        "for i in range(len(l)):\n",
        "  for j in range(l[i]):\n",
        "    rank=rank+t  \n",
        "\n",
        "\n",
        "q=[]## click list\n",
        "for i in range(len(l)):\n",
        "  for j in range(l[i]):\n",
        "      r=np.random.poisson(5, 1)\n",
        "      t=np.random.binomial(1,0.5,size=10)\n",
        "      min=np.minimum(r,sum(t))\n",
        "      #print(min)\n",
        "      j=0\n",
        "      a=0\n",
        "      while j < min:\n",
        "        if t[a]==1:\n",
        "          j=j+1\n",
        "          a=a+1\n",
        "        else: a=a+1\n",
        " \n",
        "      t_=t[0:a]\n",
        "      t_=t_.tolist()\n",
        "\n",
        "      for i in range(10-a):\n",
        "          t_=t_ + [0]\n",
        "      q=q+t_\n",
        "click=[]\n",
        "read_time=[]\n",
        "for i in range(len(q)):\n",
        "  if q[i]==0:\n",
        "     click.append('No')\n",
        "  else: click.append('Yes')\n",
        "for i in range(len(q)):\n",
        "  if q[i]==0:\n",
        "     read_time.append('NaN')\n",
        "  else: read_time.append(sample(1))            \n",
        "article_id=[]\n",
        "for i in range(len(user_id)):\n",
        "  article_id.append(np.random.randint(0,7843)) \n",
        "#session id\n",
        "sessionid=[]\n",
        "\n",
        "for j in l:\n",
        "  for k in range(j):\n",
        "      t=k+1\n",
        "      t_=[t for i in range(10)]\n",
        "      sessionid=sessionid+t_       \n",
        "      \n"
      ],
      "execution_count": null,
      "outputs": []
    },
    {
      "cell_type": "code",
      "metadata": {
        "id": "THfd169w3bAW"
      },
      "source": [
        "#session id\n",
        "sessionid=[]\n",
        "\n",
        "for j in l:\n",
        "  for k in range(j):\n",
        "      t=k+1\n",
        "      t_=[t for i in range(10)]\n",
        "      sessionid=sessionid+t_\n",
        "      \n",
        "\n",
        "\n"
      ],
      "execution_count": null,
      "outputs": []
    },
    {
      "cell_type": "code",
      "metadata": {
        "id": "uIqlQtaZyKUF",
        "colab": {
          "base_uri": "https://localhost:8080/"
        },
        "outputId": "fe535507-242d-4079-a207-13130a47c002"
      },
      "source": [
        "len(sessionid)"
      ],
      "execution_count": null,
      "outputs": [
        {
          "output_type": "execute_result",
          "data": {
            "text/plain": [
              "2080"
            ]
          },
          "metadata": {
            "tags": []
          },
          "execution_count": 202
        }
      ]
    },
    {
      "cell_type": "code",
      "metadata": {
        "id": "mm6v-QjSyKcG",
        "colab": {
          "base_uri": "https://localhost:8080/"
        },
        "outputId": "c94b4b9c-eb74-4ddb-97e6-8e0bfdb3e5dc"
      },
      "source": [
        "print(l)"
      ],
      "execution_count": null,
      "outputs": [
        {
          "output_type": "stream",
          "text": [
            "[2, 1, 2, 2, 1, 2, 1, 4, 2, 2, 3, 1, 1, 2, 1, 2, 1, 2, 4, 1, 2, 3, 1, 4, 1, 3, 2, 2, 2, 3, 2, 2, 1, 3, 1, 2, 2, 1, 1, 3, 2, 2, 1, 1, 3, 2, 2, 3, 2, 1, 2, 2, 5, 1, 6, 1, 1, 2, 1, 2, 2, 4, 1, 3, 4, 1, 1, 1, 2, 2, 1, 2, 3, 3, 1, 1, 4, 2, 1, 1, 2, 2, 1, 4, 3, 1, 5, 1, 4, 1, 2, 1, 6, 3, 2, 3, 1, 2, 2, 2]\n"
          ],
          "name": "stdout"
        }
      ]
    },
    {
      "cell_type": "code",
      "metadata": {
        "id": "5MDwg5MLyKjC",
        "colab": {
          "base_uri": "https://localhost:8080/"
        },
        "outputId": "203459c1-e01a-420d-92e2-a4efe120067e"
      },
      "source": [
        "sum(l)"
      ],
      "execution_count": null,
      "outputs": [
        {
          "output_type": "execute_result",
          "data": {
            "text/plain": [
              "208"
            ]
          },
          "metadata": {
            "tags": []
          },
          "execution_count": 201
        }
      ]
    },
    {
      "cell_type": "code",
      "metadata": {
        "id": "XV7B9Hh3yLwY",
        "colab": {
          "base_uri": "https://localhost:8080/"
        },
        "outputId": "9949dd8d-af95-42dc-ea40-54ba9a8a2f7c"
      },
      "source": [
        "len(user_id)"
      ],
      "execution_count": null,
      "outputs": [
        {
          "output_type": "execute_result",
          "data": {
            "text/plain": [
              "2080"
            ]
          },
          "metadata": {
            "tags": []
          },
          "execution_count": 199
        }
      ]
    },
    {
      "cell_type": "code",
      "metadata": {
        "id": "Ul03Rpq5yL38"
      },
      "source": [
        ""
      ],
      "execution_count": null,
      "outputs": []
    },
    {
      "cell_type": "code",
      "metadata": {
        "id": "mTrMCTUyyMA_",
        "colab": {
          "base_uri": "https://localhost:8080/",
          "height": 406
        },
        "outputId": "ed0ae97d-1834-4925-f689-fe50972e2f56"
      },
      "source": [
        "click_stream"
      ],
      "execution_count": null,
      "outputs": [
        {
          "output_type": "execute_result",
          "data": {
            "text/html": [
              "<div>\n",
              "<style scoped>\n",
              "    .dataframe tbody tr th:only-of-type {\n",
              "        vertical-align: middle;\n",
              "    }\n",
              "\n",
              "    .dataframe tbody tr th {\n",
              "        vertical-align: top;\n",
              "    }\n",
              "\n",
              "    .dataframe thead th {\n",
              "        text-align: right;\n",
              "    }\n",
              "</style>\n",
              "<table border=\"1\" class=\"dataframe\">\n",
              "  <thead>\n",
              "    <tr style=\"text-align: right;\">\n",
              "      <th></th>\n",
              "      <th>User_ID</th>\n",
              "      <th>Session_ID</th>\n",
              "      <th>Article_ID</th>\n",
              "      <th>Article_rank</th>\n",
              "      <th>Click</th>\n",
              "      <th>Time_spent</th>\n",
              "    </tr>\n",
              "  </thead>\n",
              "  <tbody>\n",
              "    <tr>\n",
              "      <th>0</th>\n",
              "      <td>1</td>\n",
              "      <td>1</td>\n",
              "      <td>5095</td>\n",
              "      <td>1</td>\n",
              "      <td>No</td>\n",
              "      <td>NaN</td>\n",
              "    </tr>\n",
              "    <tr>\n",
              "      <th>1</th>\n",
              "      <td>1</td>\n",
              "      <td>1</td>\n",
              "      <td>4650</td>\n",
              "      <td>2</td>\n",
              "      <td>Yes</td>\n",
              "      <td>546.345</td>\n",
              "    </tr>\n",
              "    <tr>\n",
              "      <th>2</th>\n",
              "      <td>1</td>\n",
              "      <td>1</td>\n",
              "      <td>2438</td>\n",
              "      <td>3</td>\n",
              "      <td>Yes</td>\n",
              "      <td>609.483</td>\n",
              "    </tr>\n",
              "    <tr>\n",
              "      <th>3</th>\n",
              "      <td>1</td>\n",
              "      <td>1</td>\n",
              "      <td>643</td>\n",
              "      <td>4</td>\n",
              "      <td>No</td>\n",
              "      <td>NaN</td>\n",
              "    </tr>\n",
              "    <tr>\n",
              "      <th>4</th>\n",
              "      <td>1</td>\n",
              "      <td>1</td>\n",
              "      <td>3333</td>\n",
              "      <td>5</td>\n",
              "      <td>Yes</td>\n",
              "      <td>303.778</td>\n",
              "    </tr>\n",
              "    <tr>\n",
              "      <th>...</th>\n",
              "      <td>...</td>\n",
              "      <td>...</td>\n",
              "      <td>...</td>\n",
              "      <td>...</td>\n",
              "      <td>...</td>\n",
              "      <td>...</td>\n",
              "    </tr>\n",
              "    <tr>\n",
              "      <th>230705</th>\n",
              "      <td>10000</td>\n",
              "      <td>3</td>\n",
              "      <td>6173</td>\n",
              "      <td>6</td>\n",
              "      <td>No</td>\n",
              "      <td>NaN</td>\n",
              "    </tr>\n",
              "    <tr>\n",
              "      <th>230706</th>\n",
              "      <td>10000</td>\n",
              "      <td>3</td>\n",
              "      <td>1375</td>\n",
              "      <td>7</td>\n",
              "      <td>No</td>\n",
              "      <td>NaN</td>\n",
              "    </tr>\n",
              "    <tr>\n",
              "      <th>230707</th>\n",
              "      <td>10000</td>\n",
              "      <td>3</td>\n",
              "      <td>5213</td>\n",
              "      <td>8</td>\n",
              "      <td>No</td>\n",
              "      <td>NaN</td>\n",
              "    </tr>\n",
              "    <tr>\n",
              "      <th>230708</th>\n",
              "      <td>10000</td>\n",
              "      <td>3</td>\n",
              "      <td>4959</td>\n",
              "      <td>9</td>\n",
              "      <td>No</td>\n",
              "      <td>NaN</td>\n",
              "    </tr>\n",
              "    <tr>\n",
              "      <th>230709</th>\n",
              "      <td>10000</td>\n",
              "      <td>3</td>\n",
              "      <td>240</td>\n",
              "      <td>10</td>\n",
              "      <td>No</td>\n",
              "      <td>NaN</td>\n",
              "    </tr>\n",
              "  </tbody>\n",
              "</table>\n",
              "<p>230710 rows × 6 columns</p>\n",
              "</div>"
            ],
            "text/plain": [
              "        User_ID  Session_ID  Article_ID  Article_rank Click Time_spent\n",
              "0             1           1        5095             1    No        NaN\n",
              "1             1           1        4650             2   Yes    546.345\n",
              "2             1           1        2438             3   Yes    609.483\n",
              "3             1           1         643             4    No        NaN\n",
              "4             1           1        3333             5   Yes    303.778\n",
              "...         ...         ...         ...           ...   ...        ...\n",
              "230705    10000           3        6173             6    No        NaN\n",
              "230706    10000           3        1375             7    No        NaN\n",
              "230707    10000           3        5213             8    No        NaN\n",
              "230708    10000           3        4959             9    No        NaN\n",
              "230709    10000           3         240            10    No        NaN\n",
              "\n",
              "[230710 rows x 6 columns]"
            ]
          },
          "metadata": {
            "tags": []
          },
          "execution_count": 209
        }
      ]
    },
    {
      "cell_type": "code",
      "metadata": {
        "id": "H6z4iUs4yMGz"
      },
      "source": [
        "click_stream.to_csv('clickstream.csv')"
      ],
      "execution_count": null,
      "outputs": []
    },
    {
      "cell_type": "code",
      "metadata": {
        "id": "x3Lg8mYDyMMG",
        "colab": {
          "base_uri": "https://localhost:8080/",
          "height": 16
        },
        "outputId": "9ba116ca-8e70-417c-b039-1d6de8dc1159"
      },
      "source": [
        "from google.colab import files\n",
        "files.download(\"clickstream.csv\")"
      ],
      "execution_count": null,
      "outputs": [
        {
          "output_type": "display_data",
          "data": {
            "application/javascript": [
              "\n",
              "    async function download(id, filename, size) {\n",
              "      if (!google.colab.kernel.accessAllowed) {\n",
              "        return;\n",
              "      }\n",
              "      const div = document.createElement('div');\n",
              "      const label = document.createElement('label');\n",
              "      label.textContent = `Downloading \"${filename}\": `;\n",
              "      div.appendChild(label);\n",
              "      const progress = document.createElement('progress');\n",
              "      progress.max = size;\n",
              "      div.appendChild(progress);\n",
              "      document.body.appendChild(div);\n",
              "\n",
              "      const buffers = [];\n",
              "      let downloaded = 0;\n",
              "\n",
              "      const channel = await google.colab.kernel.comms.open(id);\n",
              "      // Send a message to notify the kernel that we're ready.\n",
              "      channel.send({})\n",
              "\n",
              "      for await (const message of channel.messages) {\n",
              "        // Send a message to notify the kernel that we're ready.\n",
              "        channel.send({})\n",
              "        if (message.buffers) {\n",
              "          for (const buffer of message.buffers) {\n",
              "            buffers.push(buffer);\n",
              "            downloaded += buffer.byteLength;\n",
              "            progress.value = downloaded;\n",
              "          }\n",
              "        }\n",
              "      }\n",
              "      const blob = new Blob(buffers, {type: 'application/binary'});\n",
              "      const a = document.createElement('a');\n",
              "      a.href = window.URL.createObjectURL(blob);\n",
              "      a.download = filename;\n",
              "      div.appendChild(a);\n",
              "      a.click();\n",
              "      div.remove();\n",
              "    }\n",
              "  "
            ],
            "text/plain": [
              "<IPython.core.display.Javascript object>"
            ]
          },
          "metadata": {
            "tags": []
          }
        },
        {
          "output_type": "display_data",
          "data": {
            "application/javascript": [
              "download(\"download_6c49af64-8e35-40d1-9a5d-5689e479377d\", \"clickstream.csv\", 7699215)"
            ],
            "text/plain": [
              "<IPython.core.display.Javascript object>"
            ]
          },
          "metadata": {
            "tags": []
          }
        }
      ]
    },
    {
      "cell_type": "code",
      "metadata": {
        "id": "FG55U_CvyMRk"
      },
      "source": [
        "f=[1 for i in range(5)]"
      ],
      "execution_count": null,
      "outputs": []
    },
    {
      "cell_type": "code",
      "metadata": {
        "id": "v3yYwSUzyMYY",
        "colab": {
          "base_uri": "https://localhost:8080/"
        },
        "outputId": "80868796-0dbd-42da-f689-0aa33d96b0cb"
      },
      "source": [
        "f"
      ],
      "execution_count": null,
      "outputs": [
        {
          "output_type": "execute_result",
          "data": {
            "text/plain": [
              "[1, 1, 1, 1, 1]"
            ]
          },
          "metadata": {
            "tags": []
          },
          "execution_count": 180
        }
      ]
    },
    {
      "cell_type": "code",
      "metadata": {
        "id": "9kWUM8JRchmJ"
      },
      "source": [
        "q=[]## Rank list\n",
        "for i in range(len(l)):\n",
        "  for j in range(l[i]):\n",
        "      r=np.random.poisson(5, 1)\n",
        "      t=np.random.binomial(1,0.5,size=10)\n",
        "      min=np.minimum(r,sum(t))\n",
        "      #print(min)\n",
        "      j=0\n",
        "      a=0\n",
        "      while j < min:\n",
        "        if t[a]==1:\n",
        "          j=j+1\n",
        "          a=a+1\n",
        "        else: a=a+1\n",
        " \n",
        "      t_=t[0:a]\n",
        "      t_=t_.tolist()\n",
        "\n",
        "      for i in range(10-a):\n",
        "          t_=t_ + [0]\n",
        "      q=q+t_    \n",
        "  \n",
        "\n",
        "\n",
        "\n",
        "\n",
        "\n"
      ],
      "execution_count": null,
      "outputs": []
    },
    {
      "cell_type": "code",
      "metadata": {
        "id": "fjjefZljSjXy",
        "colab": {
          "base_uri": "https://localhost:8080/"
        },
        "outputId": "29ed47ad-267b-45b7-c695-9e0adbc76e3c"
      },
      "source": [
        "len(q)\n",
        "#len(user_id)\n",
        "\n",
        "\n",
        "\n",
        " \n",
        "   \n"
      ],
      "execution_count": null,
      "outputs": [
        {
          "output_type": "execute_result",
          "data": {
            "text/plain": [
              "150"
            ]
          },
          "metadata": {
            "tags": []
          },
          "execution_count": 118
        }
      ]
    },
    {
      "cell_type": "code",
      "metadata": {
        "id": "ZsT8_bgbSjtQ",
        "colab": {
          "base_uri": "https://localhost:8080/"
        },
        "outputId": "023174b4-42ad-48e4-f9c2-af49181350ef"
      },
      "source": [
        "sum(l)"
      ],
      "execution_count": null,
      "outputs": [
        {
          "output_type": "execute_result",
          "data": {
            "text/plain": [
              "15"
            ]
          },
          "metadata": {
            "tags": []
          },
          "execution_count": 116
        }
      ]
    },
    {
      "cell_type": "code",
      "metadata": {
        "id": "ajCkFKohSj7v",
        "colab": {
          "base_uri": "https://localhost:8080/"
        },
        "outputId": "f88b179d-3899-4146-9c89-71332d910e3c"
      },
      "source": [
        "t_.tolist()+[0]"
      ],
      "execution_count": null,
      "outputs": [
        {
          "output_type": "execute_result",
          "data": {
            "text/plain": [
              "[1, 0, 1, 0]"
            ]
          },
          "metadata": {
            "tags": []
          },
          "execution_count": 77
        }
      ]
    },
    {
      "cell_type": "code",
      "metadata": {
        "id": "-QHHOQ9mUU9V",
        "colab": {
          "base_uri": "https://localhost:8080/"
        },
        "outputId": "25519c67-6029-4668-c6df-387c4b5108d8"
      },
      "source": [
        ""
      ],
      "execution_count": null,
      "outputs": [
        {
          "output_type": "execute_result",
          "data": {
            "text/plain": [
              "array([1, 0, 0, 0, 0, 0, 0, 1, 1, 1])"
            ]
          },
          "metadata": {
            "tags": []
          },
          "execution_count": 57
        }
      ]
    },
    {
      "cell_type": "code",
      "metadata": {
        "id": "czQ3h6klSkI1",
        "colab": {
          "base_uri": "https://localhost:8080/"
        },
        "outputId": "a7d2d15d-2176-4a0e-f99b-139cdcca32a0"
      },
      "source": [
        "[0]*(9)"
      ],
      "execution_count": null,
      "outputs": [
        {
          "output_type": "execute_result",
          "data": {
            "text/plain": [
              "[0, 0, 0, 0, 0, 0, 0, 0, 0]"
            ]
          },
          "metadata": {
            "tags": []
          },
          "execution_count": 47
        }
      ]
    },
    {
      "cell_type": "code",
      "metadata": {
        "id": "nC_a15SfWIof"
      },
      "source": [
        ""
      ],
      "execution_count": null,
      "outputs": []
    },
    {
      "cell_type": "code",
      "metadata": {
        "id": "bQJyeySbWL3y",
        "colab": {
          "base_uri": "https://localhost:8080/",
          "height": 406
        },
        "outputId": "06ebf5c1-629b-4c51-bfda-97842f3b2238"
      },
      "source": [
        "df1"
      ],
      "execution_count": 45,
      "outputs": [
        {
          "output_type": "execute_result",
          "data": {
            "text/html": [
              "<div>\n",
              "<style scoped>\n",
              "    .dataframe tbody tr th:only-of-type {\n",
              "        vertical-align: middle;\n",
              "    }\n",
              "\n",
              "    .dataframe tbody tr th {\n",
              "        vertical-align: top;\n",
              "    }\n",
              "\n",
              "    .dataframe thead th {\n",
              "        text-align: right;\n",
              "    }\n",
              "</style>\n",
              "<table border=\"1\" class=\"dataframe\">\n",
              "  <thead>\n",
              "    <tr style=\"text-align: right;\">\n",
              "      <th></th>\n",
              "      <th>Unnamed: 0</th>\n",
              "      <th>Topic0</th>\n",
              "      <th>Topic1</th>\n",
              "      <th>Topic2</th>\n",
              "      <th>Topic3</th>\n",
              "      <th>Topic4</th>\n",
              "      <th>Topic5</th>\n",
              "      <th>Topic6</th>\n",
              "      <th>Topic7</th>\n",
              "      <th>Topic8</th>\n",
              "      <th>Topic9</th>\n",
              "      <th>Topic10</th>\n",
              "      <th>Length</th>\n",
              "    </tr>\n",
              "  </thead>\n",
              "  <tbody>\n",
              "    <tr>\n",
              "      <th>0</th>\n",
              "      <td>0</td>\n",
              "      <td>0.012674</td>\n",
              "      <td>0.012673</td>\n",
              "      <td>0.873263</td>\n",
              "      <td>0.012674</td>\n",
              "      <td>0.012674</td>\n",
              "      <td>0.012673</td>\n",
              "      <td>0.012673</td>\n",
              "      <td>0.012674</td>\n",
              "      <td>0.012673</td>\n",
              "      <td>0.012673</td>\n",
              "      <td>0.012676</td>\n",
              "      <td>341.0</td>\n",
              "    </tr>\n",
              "    <tr>\n",
              "      <th>1</th>\n",
              "      <td>1</td>\n",
              "      <td>0.014407</td>\n",
              "      <td>0.014407</td>\n",
              "      <td>0.855921</td>\n",
              "      <td>0.014409</td>\n",
              "      <td>0.014408</td>\n",
              "      <td>0.014407</td>\n",
              "      <td>0.014407</td>\n",
              "      <td>0.014409</td>\n",
              "      <td>0.014407</td>\n",
              "      <td>0.014407</td>\n",
              "      <td>0.014409</td>\n",
              "      <td>335.0</td>\n",
              "    </tr>\n",
              "    <tr>\n",
              "      <th>2</th>\n",
              "      <td>2</td>\n",
              "      <td>0.011484</td>\n",
              "      <td>0.011481</td>\n",
              "      <td>0.011483</td>\n",
              "      <td>0.011482</td>\n",
              "      <td>0.011483</td>\n",
              "      <td>0.011481</td>\n",
              "      <td>0.011481</td>\n",
              "      <td>0.735197</td>\n",
              "      <td>0.011481</td>\n",
              "      <td>0.011481</td>\n",
              "      <td>0.161466</td>\n",
              "      <td>382.0</td>\n",
              "    </tr>\n",
              "    <tr>\n",
              "      <th>3</th>\n",
              "      <td>3</td>\n",
              "      <td>0.013694</td>\n",
              "      <td>0.013694</td>\n",
              "      <td>0.624518</td>\n",
              "      <td>0.013697</td>\n",
              "      <td>0.013696</td>\n",
              "      <td>0.013704</td>\n",
              "      <td>0.013694</td>\n",
              "      <td>0.013698</td>\n",
              "      <td>0.013694</td>\n",
              "      <td>0.013694</td>\n",
              "      <td>0.252219</td>\n",
              "      <td>372.0</td>\n",
              "    </tr>\n",
              "    <tr>\n",
              "      <th>4</th>\n",
              "      <td>4</td>\n",
              "      <td>0.011252</td>\n",
              "      <td>0.011252</td>\n",
              "      <td>0.436916</td>\n",
              "      <td>0.011253</td>\n",
              "      <td>0.011253</td>\n",
              "      <td>0.011253</td>\n",
              "      <td>0.011252</td>\n",
              "      <td>0.011254</td>\n",
              "      <td>0.011252</td>\n",
              "      <td>0.011252</td>\n",
              "      <td>0.461810</td>\n",
              "      <td>449.0</td>\n",
              "    </tr>\n",
              "    <tr>\n",
              "      <th>...</th>\n",
              "      <td>...</td>\n",
              "      <td>...</td>\n",
              "      <td>...</td>\n",
              "      <td>...</td>\n",
              "      <td>...</td>\n",
              "      <td>...</td>\n",
              "      <td>...</td>\n",
              "      <td>...</td>\n",
              "      <td>...</td>\n",
              "      <td>...</td>\n",
              "      <td>...</td>\n",
              "      <td>...</td>\n",
              "      <td>...</td>\n",
              "    </tr>\n",
              "    <tr>\n",
              "      <th>7838</th>\n",
              "      <td>7838</td>\n",
              "      <td>0.011291</td>\n",
              "      <td>0.011290</td>\n",
              "      <td>0.011292</td>\n",
              "      <td>0.011292</td>\n",
              "      <td>0.011291</td>\n",
              "      <td>0.011292</td>\n",
              "      <td>0.011290</td>\n",
              "      <td>0.887089</td>\n",
              "      <td>0.011290</td>\n",
              "      <td>0.011290</td>\n",
              "      <td>0.011292</td>\n",
              "      <td>397.0</td>\n",
              "    </tr>\n",
              "    <tr>\n",
              "      <th>7839</th>\n",
              "      <td>7839</td>\n",
              "      <td>0.011748</td>\n",
              "      <td>0.011745</td>\n",
              "      <td>0.882542</td>\n",
              "      <td>0.011746</td>\n",
              "      <td>0.011746</td>\n",
              "      <td>0.011745</td>\n",
              "      <td>0.011745</td>\n",
              "      <td>0.011747</td>\n",
              "      <td>0.011745</td>\n",
              "      <td>0.011745</td>\n",
              "      <td>0.011746</td>\n",
              "      <td>500.0</td>\n",
              "    </tr>\n",
              "    <tr>\n",
              "      <th>7840</th>\n",
              "      <td>7840</td>\n",
              "      <td>0.013297</td>\n",
              "      <td>0.013297</td>\n",
              "      <td>0.013299</td>\n",
              "      <td>0.013299</td>\n",
              "      <td>0.013298</td>\n",
              "      <td>0.013300</td>\n",
              "      <td>0.013297</td>\n",
              "      <td>0.867018</td>\n",
              "      <td>0.013297</td>\n",
              "      <td>0.013297</td>\n",
              "      <td>0.013299</td>\n",
              "      <td>346.0</td>\n",
              "    </tr>\n",
              "    <tr>\n",
              "      <th>7841</th>\n",
              "      <td>7841</td>\n",
              "      <td>0.015510</td>\n",
              "      <td>0.015510</td>\n",
              "      <td>0.015511</td>\n",
              "      <td>0.015512</td>\n",
              "      <td>0.015512</td>\n",
              "      <td>0.383591</td>\n",
              "      <td>0.015510</td>\n",
              "      <td>0.476814</td>\n",
              "      <td>0.015510</td>\n",
              "      <td>0.015510</td>\n",
              "      <td>0.015511</td>\n",
              "      <td>412.0</td>\n",
              "    </tr>\n",
              "    <tr>\n",
              "      <th>7842</th>\n",
              "      <td>7842</td>\n",
              "      <td>0.013670</td>\n",
              "      <td>0.013669</td>\n",
              "      <td>0.013670</td>\n",
              "      <td>0.863291</td>\n",
              "      <td>0.013670</td>\n",
              "      <td>0.013680</td>\n",
              "      <td>0.013669</td>\n",
              "      <td>0.013671</td>\n",
              "      <td>0.013669</td>\n",
              "      <td>0.013669</td>\n",
              "      <td>0.013672</td>\n",
              "      <td>457.0</td>\n",
              "    </tr>\n",
              "  </tbody>\n",
              "</table>\n",
              "<p>7843 rows × 13 columns</p>\n",
              "</div>"
            ],
            "text/plain": [
              "      Unnamed: 0    Topic0    Topic1  ...    Topic9   Topic10  Length\n",
              "0              0  0.012674  0.012673  ...  0.012673  0.012676   341.0\n",
              "1              1  0.014407  0.014407  ...  0.014407  0.014409   335.0\n",
              "2              2  0.011484  0.011481  ...  0.011481  0.161466   382.0\n",
              "3              3  0.013694  0.013694  ...  0.013694  0.252219   372.0\n",
              "4              4  0.011252  0.011252  ...  0.011252  0.461810   449.0\n",
              "...          ...       ...       ...  ...       ...       ...     ...\n",
              "7838        7838  0.011291  0.011290  ...  0.011290  0.011292   397.0\n",
              "7839        7839  0.011748  0.011745  ...  0.011745  0.011746   500.0\n",
              "7840        7840  0.013297  0.013297  ...  0.013297  0.013299   346.0\n",
              "7841        7841  0.015510  0.015510  ...  0.015510  0.015511   412.0\n",
              "7842        7842  0.013670  0.013669  ...  0.013669  0.013672   457.0\n",
              "\n",
              "[7843 rows x 13 columns]"
            ]
          },
          "metadata": {
            "tags": []
          },
          "execution_count": 45
        }
      ]
    },
    {
      "cell_type": "code",
      "metadata": {
        "id": "FJUtfwnek1BW"
      },
      "source": [
        "list1=df1.to_numpy()"
      ],
      "execution_count": 99,
      "outputs": []
    },
    {
      "cell_type": "code",
      "metadata": {
        "colab": {
          "base_uri": "https://localhost:8080/"
        },
        "id": "DTQNbRu0oRBF",
        "outputId": "cbf34fd0-83c7-4a64-9123-0d579c616e1f"
      },
      "source": [
        "list1=list1[0:7843,1:12]\n",
        "list1[0,:]"
      ],
      "execution_count": 100,
      "outputs": [
        {
          "output_type": "execute_result",
          "data": {
            "text/plain": [
              "array([0.01267389, 0.01267304, 0.87326311, 0.01267383, 0.01267373,\n",
              "       0.01267309, 0.01267304, 0.0126739 , 0.01267304, 0.01267304,\n",
              "       0.01267628])"
            ]
          },
          "metadata": {
            "tags": []
          },
          "execution_count": 100
        }
      ]
    },
    {
      "cell_type": "code",
      "metadata": {
        "colab": {
          "base_uri": "https://localhost:8080/"
        },
        "id": "ocmo3OPPvxSN",
        "outputId": "526d42bc-2ed2-4595-ea7b-4cf597afe5c6"
      },
      "source": [
        "np.shape(list1)"
      ],
      "execution_count": 101,
      "outputs": [
        {
          "output_type": "execute_result",
          "data": {
            "text/plain": [
              "(7843, 11)"
            ]
          },
          "metadata": {
            "tags": []
          },
          "execution_count": 101
        }
      ]
    },
    {
      "cell_type": "code",
      "metadata": {
        "id": "xEI4rnSDk1Im"
      },
      "source": [
        "article_topic=[]\n",
        "for i in range(7843):\n",
        "    list2=list1[i].tolist()\n",
        "    #print(list2)\n",
        "    list3=np.copy(list2)\n",
        "    list3.sort()\n",
        "    #print(list3)\n",
        "    max=list3[10]\n",
        "    article_topic.append(list2.index(max))\n"
      ],
      "execution_count": 102,
      "outputs": []
    },
    {
      "cell_type": "code",
      "metadata": {
        "colab": {
          "base_uri": "https://localhost:8080/"
        },
        "id": "zBy-cxPrk1Ls",
        "outputId": "50b94c69-5141-4aab-ad7f-34e6d5c35363"
      },
      "source": [
        "print(article_topic)"
      ],
      "execution_count": 103,
      "outputs": [
        {
          "output_type": "stream",
          "text": [
            "[2, 2, 7, 2, 10, 2, 2, 4, 4, 2, 7, 7, 7, 7, 7, 7, 7, 7, 7, 7, 7, 7, 2, 2, 2, 10, 2, 10, 7, 4, 4, 2, 4, 4, 2, 4, 2, 2, 2, 7, 2, 7, 2, 2, 0, 7, 2, 2, 7, 2, 2, 2, 7, 7, 2, 10, 2, 7, 7, 7, 2, 7, 7, 7, 7, 7, 4, 2, 4, 4, 2, 2, 0, 3, 2, 2, 2, 2, 7, 2, 2, 2, 3, 2, 2, 10, 7, 0, 2, 2, 2, 7, 2, 2, 2, 2, 2, 2, 2, 2, 7, 2, 2, 3, 2, 10, 2, 2, 7, 7, 2, 2, 2, 2, 2, 7, 7, 2, 7, 2, 2, 4, 4, 2, 4, 4, 3, 4, 3, 2, 4, 4, 7, 4, 3, 7, 2, 7, 2, 4, 2, 0, 2, 2, 2, 2, 2, 2, 2, 2, 2, 2, 7, 2, 2, 2, 4, 2, 2, 4, 4, 3, 4, 4, 7, 4, 4, 2, 2, 4, 2, 2, 2, 2, 2, 0, 2, 7, 2, 0, 10, 7, 2, 10, 10, 7, 2, 2, 2, 2, 2, 2, 2, 2, 2, 2, 10, 2, 10, 2, 7, 2, 2, 2, 2, 2, 2, 10, 2, 2, 2, 0, 2, 2, 2, 2, 2, 2, 2, 7, 7, 7, 10, 2, 2, 0, 7, 10, 2, 2, 2, 4, 2, 4, 4, 4, 7, 7, 4, 4, 2, 4, 4, 2, 4, 4, 4, 2, 2, 2, 2, 2, 2, 7, 2, 2, 2, 7, 2, 2, 2, 2, 7, 2, 2, 2, 10, 2, 2, 2, 7, 2, 2, 2, 7, 10, 2, 10, 2, 2, 7, 3, 2, 7, 7, 2, 2, 2, 4, 4, 4, 4, 4, 3, 4, 4, 4, 4, 4, 4, 2, 3, 2, 2, 2, 2, 10, 2, 2, 2, 2, 0, 2, 7, 2, 2, 3, 10, 10, 7, 7, 2, 2, 10, 2, 2, 7, 2, 2, 2, 2, 4, 7, 2, 2, 2, 2, 2, 2, 2, 7, 7, 0, 2, 2, 2, 2, 7, 2, 3, 2, 7, 2, 2, 7, 4, 2, 4, 4, 4, 4, 4, 4, 4, 4, 4, 4, 2, 2, 2, 2, 2, 4, 2, 2, 2, 2, 10, 2, 2, 7, 2, 2, 2, 2, 2, 2, 10, 2, 2, 2, 10, 0, 0, 0, 2, 2, 2, 2, 2, 10, 7, 2, 7, 2, 2, 2, 2, 10, 7, 7, 3, 2, 2, 2, 2, 2, 7, 2, 4, 4, 7, 2, 2, 2, 2, 7, 2, 10, 2, 2, 2, 0, 2, 2, 10, 2, 10, 2, 2, 2, 7, 2, 2, 2, 2, 2, 2, 2, 2, 2, 2, 2, 2, 2, 2, 2, 7, 4, 4, 4, 7, 4, 7, 4, 7, 2, 2, 2, 7, 2, 2, 3, 4, 4, 2, 4, 2, 4, 2, 2, 10, 2, 2, 2, 0, 7, 4, 2, 4, 4, 7, 2, 7, 7, 7, 7, 7, 3, 7, 7, 7, 7, 7, 7, 7, 7, 7, 7, 7, 7, 4, 7, 7, 7, 7, 7, 7, 2, 7, 7, 7, 2, 7, 7, 2, 2, 4, 10, 4, 7, 2, 0, 4, 2, 2, 4, 2, 4, 2, 4, 2, 4, 7, 10, 4, 7, 7, 7, 0, 7, 7, 2, 7, 7, 2, 2, 4, 4, 4, 2, 2, 2, 2, 2, 7, 2, 7, 2, 2, 2, 7, 10, 10, 7, 3, 3, 3, 2, 2, 7, 4, 2, 2, 2, 2, 2, 4, 2, 2, 4, 2, 4, 4, 2, 7, 2, 2, 2, 4, 2, 2, 4, 7, 2, 4, 7, 4, 2, 0, 7, 2, 2, 4, 2, 2, 2, 7, 2, 4, 7, 4, 4, 10, 2, 10, 10, 10, 4, 2, 2, 2, 7, 2, 2, 2, 7, 7, 2, 10, 2, 7, 2, 2, 2, 2, 2, 2, 2, 2, 4, 2, 7, 2, 2, 2, 2, 2, 2, 2, 2, 2, 2, 2, 2, 2, 2, 2, 2, 2, 10, 10, 7, 10, 10, 2, 2, 2, 2, 2, 2, 2, 2, 2, 2, 2, 2, 2, 2, 2, 2, 4, 4, 4, 4, 4, 4, 4, 2, 4, 2, 7, 2, 7, 10, 7, 4, 4, 4, 4, 4, 4, 4, 4, 4, 4, 7, 4, 7, 2, 10, 2, 7, 7, 2, 2, 2, 2, 2, 2, 7, 7, 4, 2, 7, 7, 7, 2, 2, 7, 2, 2, 2, 2, 2, 7, 2, 2, 10, 2, 2, 2, 0, 2, 2, 2, 2, 2, 2, 0, 2, 0, 7, 10, 2, 2, 2, 2, 7, 7, 2, 2, 2, 2, 2, 7, 2, 2, 2, 2, 2, 2, 7, 7, 2, 2, 2, 2, 2, 2, 4, 4, 4, 4, 4, 4, 2, 4, 4, 2, 4, 2, 4, 2, 2, 2, 4, 2, 2, 2, 2, 2, 2, 7, 2, 2, 2, 2, 7, 2, 2, 2, 2, 3, 7, 2, 2, 7, 2, 2, 2, 10, 0, 2, 2, 2, 7, 2, 10, 7, 7, 7, 7, 2, 2, 2, 2, 2, 4, 2, 7, 2, 2, 7, 2, 10, 2, 7, 2, 2, 7, 7, 2, 2, 7, 2, 2, 10, 2, 2, 2, 7, 0, 7, 2, 2, 2, 2, 2, 2, 7, 2, 2, 4, 2, 4, 2, 2, 2, 4, 2, 2, 4, 2, 4, 4, 2, 2, 2, 2, 4, 2, 2, 4, 2, 2, 2, 2, 2, 2, 10, 10, 2, 2, 10, 2, 7, 2, 7, 2, 2, 2, 0, 2, 2, 4, 7, 4, 7, 2, 2, 2, 7, 3, 2, 7, 3, 7, 2, 2, 7, 7, 7, 7, 2, 2, 2, 2, 2, 2, 2, 2, 7, 2, 7, 2, 2, 4, 2, 2, 4, 4, 2, 4, 4, 4, 7, 7, 2, 2, 2, 2, 2, 7, 2, 2, 2, 2, 2, 4, 0, 4, 4, 4, 10, 10, 10, 4, 2, 7, 7, 10, 2, 2, 2, 10, 4, 2, 2, 7, 7, 7, 7, 7, 7, 7, 7, 7, 7, 7, 7, 7, 7, 7, 7, 7, 7, 7, 7, 7, 2, 2, 0, 2, 2, 2, 2, 2, 2, 7, 2, 4, 7, 4, 7, 7, 2, 4, 7, 2, 4, 4, 2, 4, 4, 2, 4, 4, 4, 4, 2, 2, 7, 0, 2, 4, 2, 2, 2, 2, 2, 7, 2, 2, 10, 2, 2, 7, 10, 2, 3, 7, 4, 4, 4, 7, 4, 4, 4, 3, 4, 2, 2, 4, 4, 4, 4, 4, 4, 10, 4, 2, 2, 7, 2, 2, 2, 2, 2, 2, 7, 2, 2, 7, 2, 2, 2, 7, 2, 10, 3, 2, 2, 7, 2, 7, 7, 0, 2, 2, 2, 2, 2, 7, 10, 2, 2, 2, 2, 2, 0, 2, 2, 7, 0, 2, 2, 2, 2, 2, 2, 2, 2, 2, 2, 2, 0, 3, 3, 2, 7, 2, 2, 2, 2, 2, 2, 7, 7, 7, 7, 2, 7, 7, 10, 7, 2, 10, 2, 7, 7, 2, 2, 4, 2, 2, 2, 4, 4, 2, 2, 2, 2, 2, 2, 7, 2, 2, 2, 2, 2, 2, 2, 2, 2, 2, 2, 4, 3, 4, 4, 4, 4, 4, 4, 4, 2, 2, 2, 4, 2, 2, 2, 2, 2, 10, 2, 2, 2, 10, 2, 2, 2, 2, 2, 2, 2, 0, 2, 10, 2, 2, 2, 10, 2, 2, 2, 2, 2, 2, 7, 2, 10, 10, 2, 2, 2, 7, 2, 7, 7, 2, 0, 2, 10, 2, 2, 2, 4, 2, 4, 2, 2, 7, 2, 2, 2, 2, 2, 7, 2, 7, 2, 2, 2, 2, 2, 2, 2, 2, 2, 7, 7, 2, 4, 2, 4, 2, 2, 7, 4, 10, 10, 4, 10, 10, 4, 10, 10, 4, 2, 4, 2, 2, 10, 2, 2, 2, 2, 2, 2, 2, 2, 2, 2, 2, 7, 2, 2, 2, 7, 2, 10, 2, 2, 2, 2, 2, 10, 2, 2, 2, 2, 2, 7, 2, 2, 2, 2, 7, 2, 3, 0, 2, 2, 2, 2, 2, 2, 2, 3, 2, 10, 2, 2, 2, 4, 4, 2, 4, 2, 2, 4, 4, 2, 2, 2, 2, 4, 2, 2, 4, 2, 2, 2, 4, 4, 2, 2, 2, 2, 2, 2, 2, 2, 10, 7, 7, 2, 2, 2, 2, 2, 2, 7, 10, 2, 4, 4, 4, 4, 4, 4, 4, 4, 2, 4, 7, 4, 4, 4, 4, 2, 2, 2, 2, 2, 2, 2, 2, 2, 2, 2, 2, 2, 2, 2, 2, 2, 0, 2, 2, 2, 2, 2, 0, 2, 2, 2, 2, 2, 10, 2, 2, 7, 7, 2, 2, 2, 2, 2, 2, 2, 2, 10, 2, 7, 2, 7, 7, 7, 2, 7, 7, 7, 2, 7, 2, 2, 7, 2, 2, 2, 7, 7, 4, 2, 4, 2, 4, 4, 7, 2, 7, 7, 2, 2, 2, 2, 2, 2, 2, 2, 2, 2, 2, 2, 2, 2, 2, 4, 4, 4, 4, 4, 4, 4, 2, 7, 2, 2, 7, 7, 2, 7, 7, 7, 2, 2, 2, 2, 7, 2, 2, 2, 10, 7, 2, 2, 10, 2, 2, 7, 2, 2, 4, 4, 10, 7, 2, 7, 2, 0, 2, 7, 7, 7, 7, 7, 7, 2, 2, 7, 10, 7, 3, 7, 7, 7, 7, 7, 2, 7, 7, 7, 7, 10, 7, 2, 0, 2, 7, 7, 7, 2, 7, 7, 7, 4, 4, 4, 2, 2, 7, 4, 0, 4, 4, 4, 4, 2, 4, 4, 4, 2, 4, 2, 2, 2, 7, 2, 7, 10, 2, 2, 7, 0, 7, 7, 2, 2, 2, 4, 7, 0, 4, 4, 7, 2, 2, 2, 7, 4, 4, 4, 2, 4, 4, 4, 4, 4, 4, 4, 4, 4, 4, 3, 7, 3, 7, 3, 3, 7, 7, 2, 2, 2, 2, 2, 2, 7, 2, 10, 2, 2, 2, 7, 2, 2, 2, 2, 2, 2, 2, 2, 2, 2, 2, 2, 2, 2, 2, 2, 2, 2, 7, 2, 7, 2, 2, 2, 2, 7, 2, 7, 2, 0, 0, 7, 7, 2, 2, 2, 7, 7, 7, 2, 2, 2, 2, 2, 2, 7, 2, 2, 2, 10, 2, 2, 10, 2, 2, 7, 2, 2, 2, 2, 2, 2, 2, 2, 2, 2, 4, 2, 4, 4, 4, 4, 4, 2, 2, 2, 2, 2, 4, 2, 4, 2, 2, 2, 2, 2, 2, 2, 2, 2, 2, 2, 7, 2, 2, 2, 4, 2, 7, 2, 7, 7, 10, 2, 2, 2, 2, 2, 2, 2, 2, 2, 2, 2, 2, 7, 2, 2, 2, 2, 2, 2, 4, 2, 2, 2, 2, 0, 2, 2, 0, 10, 2, 7, 2, 10, 2, 2, 0, 2, 2, 2, 2, 2, 2, 2, 2, 2, 2, 2, 2, 7, 2, 2, 2, 7, 2, 2, 7, 2, 2, 4, 4, 2, 2, 2, 10, 2, 2, 2, 2, 2, 2, 2, 0, 2, 10, 4, 2, 2, 0, 2, 7, 0, 2, 2, 2, 2, 2, 2, 2, 4, 4, 4, 10, 4, 0, 2, 2, 7, 2, 2, 10, 2, 2, 0, 2, 0, 2, 2, 4, 2, 2, 4, 4, 2, 4, 4, 0, 4, 0, 10, 2, 2, 7, 7, 4, 0, 2, 0, 2, 2, 2, 2, 0, 2, 7, 2, 2, 2, 2, 4, 2, 2, 2, 4, 10, 2, 7, 4, 2, 4, 2, 10, 7, 2, 2, 2, 2, 4, 2, 2, 4, 4, 7, 7, 2, 2, 2, 2, 2, 7, 2, 7, 7, 2, 10, 2, 2, 2, 2, 2, 10, 2, 4, 4, 0, 4, 0, 2, 2, 10, 7, 2, 2, 2, 0, 2, 7, 2, 0, 2, 0, 2, 2, 2, 2, 2, 2, 4, 4, 4, 4, 4, 4, 2, 4, 4, 2, 4, 7, 4, 4, 4, 4, 4, 2, 7, 2, 7, 2, 2, 2, 2, 2, 2, 3, 2, 2, 2, 2, 2, 2, 2, 7, 7, 2, 10, 7, 2, 2, 2, 7, 7, 7, 2, 2, 2, 7, 4, 4, 0, 2, 2, 0, 2, 0, 2, 0, 2, 7, 7, 0, 0, 2, 7, 0, 2, 0, 0, 7, 7, 7, 0, 2, 0, 2, 0, 0, 4, 0, 0, 2, 4, 7, 4, 4, 4, 2, 2, 2, 0, 4, 2, 2, 4, 0, 2, 4, 2, 2, 2, 2, 2, 2, 2, 7, 0, 2, 2, 2, 2, 2, 2, 7, 2, 2, 7, 7, 7, 7, 7, 7, 7, 7, 7, 7, 7, 7, 7, 7, 2, 2, 10, 0, 0, 0, 2, 7, 4, 2, 4, 0, 0, 7, 7, 7, 7, 7, 7, 7, 7, 7, 7, 2, 7, 2, 7, 7, 4, 4, 2, 4, 2, 4, 2, 4, 2, 4, 2, 2, 2, 2, 2, 7, 2, 10, 2, 7, 2, 2, 7, 2, 2, 2, 2, 4, 2, 2, 2, 2, 2, 2, 2, 10, 7, 7, 2, 2, 4, 4, 10, 4, 4, 4, 2, 4, 2, 7, 10, 2, 7, 2, 2, 10, 4, 4, 4, 4, 4, 2, 2, 4, 4, 2, 4, 7, 7, 4, 4, 3, 2, 2, 2, 2, 3, 2, 3, 7, 7, 2, 2, 2, 2, 2, 7, 7, 2, 2, 2, 2, 7, 7, 2, 2, 2, 2, 2, 2, 2, 2, 2, 7, 2, 2, 10, 2, 10, 7, 7, 2, 7, 2, 2, 2, 2, 2, 2, 2, 2, 2, 2, 2, 7, 0, 2, 2, 2, 2, 7, 2, 2, 2, 2, 2, 2, 2, 4, 2, 2, 0, 10, 7, 2, 7, 7, 2, 7, 7, 7, 2, 7, 2, 10, 2, 7, 2, 7, 2, 2, 2, 2, 2, 2, 2, 10, 2, 7, 2, 2, 2, 2, 2, 2, 7, 4, 2, 2, 2, 10, 2, 7, 0, 2, 2, 2, 2, 2, 0, 4, 2, 2, 2, 4, 4, 2, 4, 4, 2, 4, 4, 2, 2, 2, 2, 2, 2, 2, 2, 7, 2, 4, 2, 2, 4, 4, 4, 10, 4, 4, 2, 2, 2, 7, 2, 2, 2, 7, 4, 2, 4, 10, 4, 2, 4, 2, 2, 2, 2, 10, 2, 7, 2, 2, 0, 4, 4, 2, 2, 7, 2, 7, 2, 2, 2, 2, 2, 3, 2, 2, 7, 2, 2, 2, 7, 7, 2, 7, 2, 7, 7, 2, 7, 2, 7, 3, 3, 7, 3, 7, 2, 3, 2, 7, 7, 7, 7, 3, 7, 2, 7, 7, 2, 2, 3, 7, 7, 7, 7, 3, 3, 3, 7, 7, 3, 7, 7, 7, 7, 3, 7, 7, 7, 7, 7, 2, 7, 7, 7, 2, 3, 7, 7, 7, 3, 3, 7, 7, 2, 7, 3, 7, 7, 7, 7, 3, 3, 7, 3, 3, 3, 7, 3, 7, 7, 7, 7, 7, 7, 3, 7, 7, 7, 3, 3, 3, 3, 7, 7, 7, 7, 7, 7, 7, 7, 3, 7, 7, 7, 3, 7, 7, 3, 7, 2, 3, 3, 7, 3, 3, 7, 7, 3, 3, 3, 3, 3, 7, 7, 7, 2, 2, 7, 7, 7, 7, 7, 3, 7, 3, 7, 7, 7, 3, 3, 7, 3, 3, 7, 7, 3, 3, 7, 3, 7, 3, 3, 3, 7, 3, 3, 3, 3, 3, 7, 7, 2, 2, 3, 2, 7, 3, 3, 7, 7, 3, 7, 7, 2, 3, 7, 7, 3, 2, 7, 7, 3, 2, 2, 7, 7, 7, 2, 3, 7, 3, 7, 7, 3, 7, 7, 3, 3, 7, 3, 3, 2, 7, 3, 2, 7, 7, 3, 3, 7, 7, 2, 2, 3, 7, 7, 3, 3, 3, 3, 3, 2, 7, 7, 7, 7, 7, 7, 7, 7, 7, 7, 7, 7, 7, 3, 3, 7, 7, 3, 7, 7, 7, 7, 7, 7, 7, 7, 3, 7, 3, 3, 7, 2, 7, 2, 3, 7, 7, 7, 7, 7, 7, 2, 3, 2, 7, 7, 7, 7, 3, 7, 2, 3, 7, 7, 7, 3, 7, 7, 7, 7, 7, 7, 7, 7, 7, 7, 3, 7, 7, 7, 3, 7, 3, 3, 7, 7, 7, 7, 7, 7, 2, 2, 7, 7, 7, 2, 7, 7, 7, 7, 7, 7, 7, 7, 2, 7, 3, 3, 7, 7, 3, 7, 7, 3, 3, 7, 7, 7, 7, 7, 7, 7, 2, 7, 7, 7, 7, 7, 7, 7, 7, 3, 3, 2, 7, 2, 7, 2, 7, 7, 7, 2, 7, 7, 7, 3, 7, 7, 7, 7, 7, 2, 7, 3, 3, 7, 7, 3, 7, 3, 3, 7, 7, 7, 3, 3, 7, 7, 7, 2, 2, 7, 7, 2, 2, 7, 7, 7, 3, 7, 7, 7, 7, 7, 7, 7, 7, 3, 7, 3, 7, 7, 7, 7, 7, 7, 7, 7, 7, 7, 3, 7, 2, 3, 7, 7, 3, 7, 7, 7, 7, 7, 3, 7, 7, 3, 2, 2, 2, 7, 3, 3, 3, 7, 7, 3, 3, 7, 7, 7, 3, 7, 3, 7, 7, 7, 7, 2, 7, 7, 3, 3, 7, 7, 7, 3, 3, 7, 3, 7, 7, 7, 7, 3, 3, 7, 3, 7, 3, 3, 3, 3, 7, 7, 7, 7, 7, 7, 3, 3, 7, 7, 3, 7, 3, 3, 7, 7, 3, 3, 7, 7, 7, 3, 7, 7, 7, 3, 7, 3, 7, 7, 7, 7, 3, 7, 7, 7, 7, 7, 7, 7, 3, 3, 2, 7, 7, 7, 7, 7, 7, 7, 3, 7, 3, 7, 7, 7, 3, 7, 7, 3, 7, 7, 2, 3, 7, 3, 3, 3, 7, 7, 7, 7, 3, 7, 3, 7, 2, 7, 3, 2, 7, 7, 3, 3, 7, 7, 7, 2, 3, 7, 3, 3, 7, 7, 2, 2, 2, 2, 2, 2, 2, 2, 2, 2, 2, 2, 2, 2, 2, 7, 2, 2, 2, 2, 2, 2, 2, 2, 2, 2, 7, 2, 2, 2, 2, 2, 2, 2, 7, 2, 10, 2, 2, 2, 2, 2, 2, 2, 2, 2, 7, 2, 3, 2, 7, 2, 7, 2, 2, 2, 2, 2, 2, 10, 2, 2, 2, 3, 2, 2, 3, 2, 2, 2, 2, 2, 3, 3, 2, 2, 2, 2, 2, 2, 2, 2, 2, 7, 2, 2, 3, 2, 2, 2, 7, 2, 2, 3, 3, 2, 2, 2, 3, 2, 2, 2, 2, 2, 2, 4, 4, 7, 2, 4, 4, 4, 4, 4, 4, 4, 4, 4, 7, 2, 4, 4, 4, 4, 4, 4, 4, 4, 4, 4, 4, 7, 4, 4, 4, 3, 7, 4, 2, 4, 4, 4, 4, 4, 4, 4, 4, 4, 4, 4, 7, 4, 4, 4, 2, 4, 4, 4, 7, 7, 4, 4, 3, 4, 3, 2, 4, 4, 4, 4, 7, 4, 4, 7, 4, 4, 4, 4, 4, 4, 4, 4, 4, 4, 4, 4, 4, 4, 4, 4, 7, 4, 4, 4, 7, 7, 7, 4, 4, 4, 4, 4, 4, 4, 4, 4, 4, 4, 4, 4, 4, 4, 4, 4, 4, 4, 4, 4, 4, 4, 4, 4, 4, 4, 4, 4, 4, 4, 7, 4, 4, 4, 4, 4, 4, 4, 4, 4, 4, 4, 4, 4, 4, 4, 4, 4, 4, 4, 4, 4, 7, 4, 4, 4, 4, 4, 4, 7, 7, 4, 4, 4, 4, 4, 4, 4, 4, 4, 4, 4, 4, 4, 4, 4, 4, 4, 4, 4, 4, 4, 4, 2, 7, 4, 4, 7, 4, 7, 4, 4, 4, 4, 4, 4, 4, 4, 4, 4, 3, 3, 4, 2, 4, 4, 4, 4, 4, 7, 4, 2, 4, 7, 4, 4, 4, 7, 4, 4, 4, 4, 4, 4, 4, 4, 4, 4, 7, 4, 4, 4, 4, 4, 4, 4, 4, 7, 7, 4, 7, 4, 4, 4, 4, 4, 4, 4, 4, 4, 4, 4, 4, 4, 4, 4, 4, 4, 7, 4, 4, 3, 4, 4, 3, 4, 4, 7, 4, 4, 4, 4, 2, 4, 4, 4, 4, 4, 7, 2, 4, 4, 7, 4, 4, 4, 4, 4, 4, 7, 7, 4, 4, 4, 4, 4, 4, 2, 4, 4, 4, 4, 4, 4, 4, 4, 4, 4, 4, 4, 4, 4, 4, 4, 7, 4, 4, 4, 4, 4, 4, 4, 4, 4, 4, 4, 4, 4, 4, 4, 4, 7, 4, 4, 4, 4, 4, 4, 7, 4, 4, 4, 7, 4, 4, 4, 4, 4, 4, 2, 4, 4, 4, 4, 4, 4, 4, 7, 4, 4, 7, 7, 4, 4, 4, 4, 4, 4, 4, 4, 4, 4, 4, 4, 4, 4, 4, 4, 4, 3, 4, 4, 7, 4, 4, 4, 4, 4, 4, 4, 4, 4, 4, 4, 4, 4, 4, 4, 4, 4, 3, 4, 4, 4, 4, 4, 7, 4, 4, 4, 4, 4, 4, 4, 4, 4, 4, 4, 4, 10, 2, 4, 4, 4, 4, 4, 4, 4, 4, 4, 4, 4, 4, 4, 7, 7, 4, 4, 4, 4, 4, 4, 4, 7, 4, 4, 4, 4, 4, 7, 4, 4, 4, 4, 4, 4, 4, 4, 3, 4, 4, 4, 4, 4, 4, 7, 4, 4, 4, 4, 4, 4, 4, 4, 4, 4, 4, 4, 4, 4, 4, 7, 4, 4, 4, 4, 4, 4, 4, 4, 4, 4, 4, 4, 4, 3, 4, 4, 4, 4, 4, 7, 4, 7, 4, 4, 4, 4, 4, 4, 4, 4, 4, 4, 4, 7, 4, 4, 7, 4, 4, 4, 2, 4, 4, 4, 4, 7, 4, 4, 4, 4, 7, 4, 4, 4, 7, 4, 4, 4, 4, 4, 4, 4, 4, 4, 4, 4, 4, 4, 7, 4, 4, 4, 4, 4, 7, 4, 7, 4, 4, 4, 4, 4, 7, 4, 4, 4, 4, 4, 4, 4, 4, 7, 4, 4, 4, 7, 4, 4, 4, 4, 4, 4, 4, 4, 4, 4, 4, 4, 4, 4, 4, 7, 4, 4, 4, 4, 7, 4, 4, 3, 4, 4, 4, 4, 4, 4, 4, 4, 4, 4, 4, 4, 4, 4, 3, 4, 4, 4, 4, 4, 4, 4, 4, 4, 4, 2, 4, 4, 4, 4, 4, 4, 7, 4, 4, 4, 4, 4, 4, 4, 4, 4, 4, 4, 4, 4, 4, 4, 4, 2, 4, 4, 4, 4, 4, 4, 4, 4, 4, 4, 4, 4, 4, 4, 4, 4, 4, 4, 4, 4, 4, 4, 4, 4, 4, 4, 4, 4, 4, 4, 4, 4, 4, 7, 4, 4, 4, 4, 4, 4, 7, 4, 4, 4, 7, 4, 4, 4, 7, 4, 7, 4, 4, 4, 4, 4, 4, 4, 4, 4, 4, 4, 4, 4, 4, 4, 4, 7, 4, 4, 7, 4, 4, 4, 7, 4, 4, 4, 4, 4, 4, 4, 2, 4, 4, 4, 4, 4, 7, 4, 7, 4, 4, 7, 4, 4, 2, 4, 4, 4, 4, 4, 7, 4, 7, 4, 4, 4, 7, 4, 4, 4, 4, 4, 7, 4, 4, 4, 4, 4, 4, 4, 4, 4, 4, 7, 4, 4, 4, 4, 4, 7, 4, 4, 4, 4, 4, 4, 7, 4, 4, 2, 4, 7, 4, 4, 4, 4, 4, 4, 4, 4, 4, 4, 2, 4, 4, 4, 2, 4, 7, 4, 7, 4, 4, 4, 7, 4, 7, 4, 4, 4, 4, 4, 4, 4, 4, 4, 3, 7, 4, 4, 4, 4, 4, 4, 4, 4, 7, 4, 4, 4, 4, 4, 4, 4, 4, 7, 4, 4, 4, 4, 4, 4, 4, 4, 4, 4, 4, 4, 4, 4, 2, 4, 4, 4, 7, 3, 4, 7, 4, 4, 4, 4, 4, 4, 2, 4, 4, 4, 4, 4, 4, 4, 4, 4, 4, 7, 4, 4, 4, 4, 4, 4, 4, 4, 4, 4, 7, 4, 4, 4, 4, 4, 4, 4, 4, 4, 4, 4, 4, 4, 4, 4, 4, 4, 4, 4, 4, 4, 4, 4, 4, 4, 7, 4, 4, 4, 4, 4, 4, 4, 4, 4, 4, 4, 4, 4, 4, 7, 4, 7, 4, 4, 4, 4, 4, 4, 4, 4, 4, 4, 4, 4, 4, 7, 4, 4, 7, 4, 4, 4, 4, 4, 4, 7, 4, 4, 4, 4, 4, 7, 7, 4, 7, 4, 4, 7, 7, 4, 7, 4, 4, 4, 4, 4, 4, 4, 4, 4, 4, 4, 7, 7, 7, 7, 7, 7, 7, 7, 7, 7, 7, 7, 7, 7, 7, 7, 7, 7, 7, 7, 7, 7, 7, 7, 7, 7, 7, 7, 7, 7, 7, 7, 7, 7, 7, 7, 4, 7, 7, 7, 7, 7, 7, 7, 7, 7, 7, 7, 7, 7, 7, 7, 7, 7, 7, 7, 7, 7, 7, 7, 7, 7, 7, 7, 7, 7, 7, 7, 7, 7, 7, 7, 7, 7, 7, 7, 7, 7, 7, 7, 7, 7, 7, 7, 7, 7, 7, 7, 7, 7, 7, 7, 7, 7, 7, 7, 7, 7, 7, 7, 7, 7, 7, 7, 7, 7, 7, 7, 7, 7, 7, 7, 7, 7, 7, 7, 7, 7, 2, 7, 7, 7, 7, 7, 7, 7, 7, 7, 7, 7, 7, 7, 7, 7, 7, 7, 7, 7, 7, 7, 7, 7, 7, 7, 7, 7, 7, 7, 7, 7, 7, 7, 7, 7, 7, 2, 7, 4, 7, 7, 7, 7, 7, 2, 7, 7, 7, 7, 7, 7, 7, 7, 7, 7, 7, 7, 7, 7, 7, 7, 7, 7, 7, 7, 7, 7, 7, 7, 7, 7, 7, 7, 7, 7, 7, 7, 7, 7, 7, 7, 7, 7, 7, 7, 7, 7, 7, 7, 7, 7, 7, 7, 7, 7, 7, 7, 7, 7, 7, 7, 7, 7, 7, 7, 7, 7, 7, 7, 7, 7, 7, 7, 7, 7, 7, 7, 7, 7, 7, 7, 7, 7, 7, 7, 7, 7, 7, 7, 7, 7, 7, 7, 7, 7, 2, 7, 7, 7, 7, 7, 7, 7, 7, 7, 7, 7, 7, 7, 7, 7, 7, 7, 7, 7, 7, 7, 7, 7, 7, 7, 7, 7, 7, 7, 7, 7, 7, 7, 7, 7, 7, 7, 7, 7, 7, 7, 7, 7, 7, 7, 7, 7, 7, 7, 7, 7, 7, 7, 7, 7, 7, 7, 7, 7, 7, 7, 7, 7, 7, 7, 7, 7, 7, 7, 7, 7, 7, 7, 7, 7, 7, 7, 7, 7, 7, 7, 7, 7, 7, 7, 7, 7, 7, 7, 7, 2, 7, 7, 7, 7, 7, 7, 7, 7, 7, 7, 7, 7, 7, 7, 7, 7, 7, 7, 7, 7, 7, 7, 7, 7, 7, 7, 7, 7, 7, 7, 7, 7, 7, 7, 7, 7, 7, 7, 7, 2, 7, 7, 7, 7, 7, 7, 7, 7, 7, 7, 7, 7, 7, 7, 7, 7, 7, 7, 7, 7, 7, 7, 2, 2, 7, 7, 7, 7, 7, 7, 7, 7, 7, 7, 2, 7, 7, 7, 7, 7, 7, 7, 7, 7, 7, 7, 7, 7, 2, 7, 7, 7, 7, 7, 7, 7, 7, 7, 7, 7, 7, 7, 7, 7, 7, 7, 7, 7, 7, 7, 7, 7, 7, 7, 7, 7, 7, 7, 7, 7, 7, 7, 7, 7, 7, 7, 7, 7, 7, 7, 7, 7, 7, 7, 7, 7, 7, 7, 7, 7, 7, 4, 7, 7, 7, 7, 7, 7, 7, 7, 7, 7, 7, 7, 7, 7, 7, 7, 10, 7, 7, 7, 7, 7, 7, 7, 7, 7, 7, 7, 7, 7, 2, 7, 7, 7, 7, 7, 7, 7, 7, 7, 7, 7, 7, 7, 7, 7, 7, 7, 7, 7, 7, 7, 4, 7, 7, 2, 7, 7, 7, 7, 7, 7, 7, 7, 2, 2, 2, 2, 2, 2, 7, 2, 2, 2, 2, 2, 2, 2, 2, 2, 2, 2, 2, 2, 2, 2, 2, 2, 2, 2, 3, 2, 2, 2, 2, 2, 2, 2, 2, 2, 2, 2, 2, 2, 2, 2, 2, 2, 2, 2, 2, 3, 2, 2, 2, 2, 2, 2, 7, 7, 7, 7, 7, 2, 2, 2, 2, 2, 7, 2, 2, 2, 2, 2, 2, 2, 2, 7, 2, 7, 7, 2, 7, 2, 7, 7, 7, 2, 2, 2, 2, 3, 7, 2, 2, 3, 2, 3, 2, 2, 2, 2, 3, 2, 10, 7, 2, 2, 2, 2, 2, 2, 2, 2, 2, 2, 2, 2, 2, 2, 2, 2, 3, 2, 3, 0, 2, 3, 7, 2, 7, 2, 2, 2, 2, 2, 2, 2, 2, 3, 2, 3, 2, 2, 2, 2, 2, 2, 2, 3, 2, 2, 2, 2, 2, 10, 10, 2, 7, 2, 2, 2, 2, 7, 2, 2, 2, 2, 2, 2, 2, 2, 3, 2, 2, 3, 2, 2, 7, 2, 2, 2, 2, 3, 2, 2, 2, 2, 2, 2, 2, 2, 3, 2, 2, 3, 2, 2, 2, 2, 3, 7, 2, 3, 2, 7, 2, 2, 2, 2, 2, 3, 2, 3, 2, 2, 2, 2, 2, 2, 2, 2, 2, 3, 2, 7, 2, 2, 2, 2, 2, 2, 3, 10, 2, 2, 2, 0, 2, 3, 2, 2, 2, 7, 3, 2, 7, 2, 2, 0, 2, 3, 2, 10, 2, 2, 2, 2, 2, 2, 2, 2, 2, 2, 2, 2, 2, 2, 2, 3, 3, 2, 3, 2, 2, 2, 2, 2, 3, 2, 3, 2, 2, 7, 7, 2, 2, 10, 2, 3, 2, 2, 2, 2, 2, 10, 2, 3, 2, 2, 2, 3, 3, 2, 2, 3, 2, 3, 10, 2, 2, 2, 2, 2, 2, 10, 2, 2, 3, 3, 2, 3, 2, 2, 2, 2, 2, 2, 3, 3, 2, 3, 2, 2, 2, 2, 2, 2, 2, 2, 2, 2, 7, 2, 2, 2, 10, 2, 2, 3, 2, 2, 2, 2, 2, 2, 2, 2, 2, 10, 2, 3, 2, 2, 2, 2, 2, 2, 2, 2, 2, 2, 3, 2, 2, 3, 3, 2, 2, 2, 2, 2, 7, 3, 2, 2, 7, 2, 2, 2, 2, 2, 3, 0, 2, 10, 2, 2, 2, 2, 2, 7, 3, 2, 2, 2, 2, 10, 2, 2, 2, 7, 7, 2, 2, 2, 10, 7, 10, 10, 7, 3, 3, 2, 3, 3, 2, 2, 2, 7, 2, 7, 2, 2, 3, 2, 2, 7, 2, 2, 2, 2, 2, 10, 2, 2, 7, 3, 2, 3, 3, 3, 7, 3, 2, 2, 2, 3, 3, 2, 2, 2, 3, 2, 2, 2, 2, 2, 2, 2, 2, 2, 2, 2, 2, 3, 2, 2, 7, 2, 7, 2, 2, 3, 2, 2, 2, 2, 7, 2, 7, 2, 2, 2, 2, 2, 3, 3, 2, 10, 2, 2, 2, 7, 3, 2, 2, 7, 2, 2, 2, 7, 2, 7, 10, 7, 3, 3, 3, 2, 2, 3, 2, 2, 2, 2, 3, 3, 2, 2, 2, 2, 2, 3, 2, 3, 2, 3, 2, 2, 10, 2, 2, 2, 2, 7, 2, 10, 7, 2, 2, 2, 3, 2, 2, 2, 2, 7, 2, 3, 3, 2, 2, 3, 2, 2, 2, 7, 2, 2, 2, 2, 7, 2, 2, 10, 2, 2, 2, 2, 3, 2, 7, 2, 2, 7, 3, 3, 2, 2, 7, 7, 2, 7, 3, 3, 2, 7, 3, 2, 2, 2, 3, 2, 3, 2, 2, 2, 2, 2, 2, 3, 2, 7, 2, 7, 2, 2, 3, 2, 2, 3, 2, 2, 2, 3, 2, 3, 2, 3, 2, 3, 2, 3, 2, 2, 7, 2, 2, 2, 2, 2, 2, 2, 2, 2, 2, 7, 2, 2, 10, 7, 3, 3, 0, 2, 2, 3, 2, 2, 2, 2, 2, 3, 2, 2, 3, 2, 3, 3, 3, 2, 3, 2, 0, 10, 3, 2, 2, 2, 2, 3, 2, 3, 2, 2, 2, 3, 2, 3, 2, 10, 2, 7, 2, 3, 3, 2, 3, 2, 2, 3, 10, 2, 2, 2, 3, 7, 7, 2, 2, 3, 7, 2, 2, 2, 7, 2, 2, 2, 2, 7, 7, 2, 2, 2, 2, 2, 2, 7, 2, 3, 10, 3, 2, 2, 7, 2, 2, 2, 2, 3, 7, 2, 2, 2, 2, 2, 2, 2, 2, 2, 2, 2, 3, 3, 10, 7, 2, 2, 2, 7, 3, 2, 2, 2, 2, 2, 2, 7, 2, 2, 2, 2, 2, 2, 3, 7, 3, 7, 2, 2, 2, 2, 2, 2, 2, 3, 3, 2, 7, 3, 2, 2, 2, 2, 2, 2, 2, 2, 2, 2, 2, 2, 7, 2, 2, 2, 2, 3, 2, 7, 2, 7, 7, 2, 7, 2, 7, 2, 2, 3, 2, 2, 2, 2, 3, 3, 2, 10, 2, 2, 2, 2, 10, 3, 2, 2, 3, 3, 2, 7, 0, 2, 7, 10, 3, 2, 2, 10, 2, 2, 2, 2, 2, 2, 2, 2, 2, 2, 2, 10, 2, 2, 2, 2, 2, 2, 3, 3, 2, 3, 2, 2, 0, 10, 2, 3, 2, 7, 2, 7, 2, 3, 2, 7, 7, 10, 2, 2, 2, 2, 2, 2, 2, 2, 2, 2, 7, 3, 2, 2, 7, 2, 7, 2, 2, 2, 2, 3, 7, 2, 2, 2, 2, 10, 2, 2, 2, 2, 2, 2, 2, 2, 2, 7, 2, 2, 2, 2, 2, 2, 3, 2, 2, 2, 7, 3, 2, 7, 2, 2, 2, 7, 7, 2, 2, 2, 2, 2, 2, 2, 3, 7, 2, 2, 7, 7, 3, 2, 2, 3, 2, 2, 2, 3, 3, 2, 2, 2, 2, 2, 2, 2, 2, 7, 2, 2, 2, 3, 2, 2, 3, 2, 3, 2, 2, 2, 2, 7, 3, 2, 2, 2, 2, 3, 2, 2, 2, 2, 3, 2, 2, 2, 2, 2, 2, 2, 2, 2, 2, 2, 2, 2, 2, 2, 10, 2, 0, 2, 2, 2, 3, 2, 2, 7, 3, 5, 2, 2, 2, 2, 2, 2, 2, 2, 5, 2, 2, 2, 2, 2, 2, 2, 2, 2, 10, 2, 2, 3, 2, 2, 2, 2, 2, 2, 2, 3, 2, 2, 2, 7, 2, 3, 7, 2, 2, 5, 2, 2, 3, 2, 7, 2, 2, 2, 2, 2, 2, 2, 2, 2, 2, 2, 2, 7, 7, 2, 2, 2, 2, 2, 2, 2, 2, 2, 2, 2, 2, 2, 7, 2, 2, 2, 3, 2, 2, 2, 2, 2, 2, 2, 2, 2, 2, 3, 2, 2, 3, 3, 2, 2, 2, 3, 2, 3, 2, 2, 2, 0, 7, 10, 2, 2, 2, 3, 2, 7, 7, 2, 2, 2, 2, 2, 2, 2, 2, 7, 2, 7, 2, 7, 2, 2, 2, 7, 2, 2, 0, 2, 2, 3, 3, 2, 2, 2, 7, 3, 2, 2, 3, 3, 7, 3, 2, 2, 2, 2, 0, 2, 7, 7, 2, 7, 2, 7, 2, 2, 3, 2, 7, 2, 2, 2, 2, 2, 2, 2, 2, 2, 7, 2, 2, 7, 2, 7, 2, 3, 2, 2, 2, 2, 2, 2, 2, 2, 2, 2, 2, 2, 2, 2, 2, 2, 2, 7, 2, 2, 2, 7, 2, 2, 10, 2, 10, 2, 2, 2, 2, 2, 2, 2, 2, 2, 0, 2, 2, 10, 3, 2, 2, 2, 2, 7, 2, 7, 2, 2, 2, 7, 2, 10, 2, 2, 2, 2, 2, 7, 2, 3, 3, 2, 10, 2, 2, 10, 2, 2, 2, 2, 2, 3, 7, 2, 3, 3, 2, 2, 3, 2, 7, 2, 2, 2, 2, 3, 2, 2, 2, 2, 3, 2, 2, 2, 2, 2, 2, 7, 2, 2, 2, 2, 2, 2, 2, 2, 2, 7, 3, 2, 2, 2, 2, 2, 2, 2, 2, 2, 7, 2, 2, 2, 2, 2, 2, 2, 2, 2, 7, 2, 2, 2, 2, 2, 2, 2, 2, 7, 7, 2, 2, 3, 3, 7, 7, 7, 7, 7, 7, 7, 3, 7, 3, 7, 7, 7, 7, 7, 3, 7, 7, 7, 3, 2, 3, 7, 7, 3, 7, 3, 7, 3, 3, 7, 7, 7, 3, 7, 2, 7, 2, 3, 7, 3, 7, 7, 7, 3, 7, 7, 3, 3, 7, 7, 7, 7, 3, 3, 7, 7, 3, 2, 3, 7, 7, 7, 3, 3, 2, 3, 7, 3, 7, 7, 7, 7, 3, 2, 7, 7, 7, 2, 7, 3, 7, 3, 7, 2, 3, 7, 7, 7, 7, 7, 7, 7, 2, 7, 7, 7, 7, 7, 2, 7, 7, 3, 7, 3, 3, 7, 7, 7, 7, 7, 7, 7, 7, 7, 3, 7, 7, 3, 7, 7, 7, 7, 7, 7, 7, 7, 3, 7, 2, 7, 7, 2, 7, 2, 7, 7, 7, 3, 2, 7, 3, 2, 3, 7, 3, 3, 7, 3, 7, 3, 7, 3, 3, 7, 7, 7, 7, 2, 7, 7, 7, 7, 7, 2, 7, 2, 7, 7, 7, 7, 3, 7, 7, 7, 7, 3, 7, 7, 7, 7, 7, 7, 3, 7, 7, 2, 10, 10, 2, 3, 10, 2, 2, 2, 2, 2, 2, 3, 7, 7, 10, 10, 2, 2, 2, 2, 2, 2, 7, 7, 2, 10, 10, 10, 2, 3, 2, 7, 2, 2, 2, 10, 7, 2, 2, 7, 3, 2, 2, 10, 10, 7, 10, 2, 10, 10, 10, 10, 2, 10, 2, 2, 10, 10, 2, 10, 10, 3, 3, 2, 10, 2, 2, 2, 7, 10, 10, 10, 2, 2, 2, 7, 3, 7, 10, 10, 10, 3, 10, 2, 10, 10, 10, 2, 2, 10, 7, 10, 2, 10, 2, 3, 2, 2, 2, 10, 2, 10, 2, 3, 10, 10, 10, 3, 3, 3, 10, 10, 2, 2, 2, 2, 10, 10, 10, 3, 2, 3, 2, 10, 2, 7, 7, 3, 2, 2, 10, 10, 10, 2, 10, 10, 10, 7, 3, 2, 10, 7, 10, 2, 3, 2, 7, 2, 10, 3, 3, 10, 10, 2, 3, 10, 2, 2, 7, 2, 7, 10, 10, 2, 3, 7, 3, 2, 2, 2, 10, 10, 3, 10, 10, 10, 10, 3, 10, 10, 2, 2, 2, 2, 3, 4, 3, 7, 5, 7, 7, 7, 5, 7, 7, 7, 7, 7, 3, 3, 3, 3, 7, 3, 7, 7, 7, 7, 3, 7, 7, 7, 7, 7, 7, 7, 7, 7, 3, 7, 7, 7, 3, 3, 7, 5, 7, 3, 7, 7, 7, 3, 7, 7, 5, 7, 7, 7, 2, 3, 7, 7, 7, 7, 7, 7, 7, 7, 7, 7, 7, 3, 7, 7, 7, 3, 7, 3, 3, 7, 7, 3, 7, 7, 7, 7, 7, 3, 3, 7, 7, 7, 7, 7, 3, 7, 3, 7, 7, 7, 7, 7, 7, 7, 3, 3, 7, 3, 7, 3, 3, 7, 3, 7, 7, 7, 7, 7, 7, 7, 7, 7, 7, 7, 7, 3, 7, 7, 7, 7, 7, 7, 3, 7, 7, 7, 7, 7, 7, 7, 7, 7, 7, 7, 7, 7, 7, 7, 7, 7, 7, 7, 3, 7, 3, 7, 7, 7, 7, 7, 5, 7, 7, 7, 7, 7, 7, 7, 7, 7, 7, 7, 7, 7, 7, 7, 7, 7, 7, 7, 7, 7, 7, 7, 7, 3, 7, 7, 7, 7, 3, 7, 7, 7, 7, 3, 7, 7, 7, 7, 7, 10, 7, 7, 3, 2, 7, 2, 2, 2, 2, 7, 3, 3, 2, 2, 2, 0, 2, 3, 2, 2, 2, 2, 7, 2, 3, 2, 2, 2, 7, 2, 3, 2, 2, 2, 2, 10, 3, 2, 7, 7, 2, 2, 2, 2, 2, 2, 2, 2, 3, 2, 2, 2, 7, 2, 2, 10, 2, 2, 2, 2, 7, 2, 2, 2, 2, 2, 10, 2, 10, 7, 2, 2, 2, 2, 2, 10, 2, 2, 3, 3, 2, 2, 2, 2, 2, 7, 3, 10, 3, 7, 7, 2, 7, 2, 3, 2, 10, 2, 10, 10, 2, 3, 7, 3, 2, 3, 2, 2, 2, 3, 3, 2, 3, 2, 2, 2, 2, 2, 2, 2, 2, 7, 2, 2, 3, 3, 3, 3, 2, 2, 2, 7, 3, 7, 7, 2, 7, 10, 2, 2, 2, 2, 7, 7, 7, 2, 3, 7, 2, 2, 7, 10, 2, 3, 2, 3, 7, 3, 7, 7, 2, 3, 2, 2, 3, 2, 10, 10, 3, 2, 2, 2, 10, 2, 7, 2, 2, 10, 2, 2, 2, 10, 2, 2, 7, 2, 7, 7, 7, 7, 7, 7, 7, 7, 7, 7, 7, 7, 7, 7, 7, 2, 7, 7, 7, 7, 3, 7, 7, 7, 7, 7, 10, 7, 7, 7, 7, 7, 7, 7, 7, 7, 7, 7, 7, 7, 7, 7, 7, 7, 7, 7, 4, 4, 7, 7, 7, 7, 7, 7, 7, 7, 7, 7, 7, 7, 7, 7, 7, 7, 7, 7, 7, 7, 7, 7, 7, 7, 7, 7, 7, 7, 7, 7, 7, 7, 7, 7, 7, 7, 7, 7, 3, 7, 7, 7, 7, 7, 7, 7, 7, 7, 7, 7, 7, 7, 7, 7, 7, 7, 7, 7, 7, 7, 7, 7, 7, 7, 7, 7, 7, 7, 7, 7, 7, 7, 7, 7, 7, 7, 7, 7, 7, 7, 3, 7, 7, 7, 7, 7, 7, 7, 7, 7, 2, 7, 7, 7, 7, 7, 2, 7, 7, 7, 7, 7, 7, 7, 7, 7, 7, 7, 7, 7, 7, 7, 7, 7, 7, 7, 7, 10, 7, 7, 7, 7, 7, 7, 7, 4, 7, 7, 7, 7, 7, 7, 7, 7, 7, 7, 7, 7, 7, 7, 7, 7, 7, 7, 7, 7, 7, 7, 7, 7, 7, 7, 7, 7, 7, 7, 7, 7, 7, 0, 2, 7, 7, 7, 7, 7, 7, 7, 7, 0, 0, 0, 7, 0, 2, 7, 0, 7, 2, 7, 7, 7, 2, 2, 7, 2, 7, 0, 2, 7, 7, 2, 7, 2, 2, 0, 7, 7, 0, 2, 2, 2, 0, 7, 0, 2, 2, 2, 2, 7, 2, 2, 7, 7, 7, 2, 7, 7, 7, 2, 2, 0, 0, 7, 2, 2, 2, 2, 7, 7, 2, 7, 2, 2, 2, 0, 7, 2, 2, 7, 7, 7, 7, 2, 7, 0, 2, 2, 2, 0, 2, 7, 7, 7, 2, 2, 2, 2, 7, 5, 7, 3, 7, 3, 3, 2, 3, 3, 5, 3, 3, 3, 3, 3, 7, 3, 7, 3, 3, 2, 3, 7, 3, 3, 3, 3, 7, 3, 3, 3, 7, 7, 3, 3, 3, 3, 3, 3, 2, 7, 7, 3, 3, 3, 7, 7, 3, 7, 7, 2, 7, 7, 5, 3, 3, 7, 7, 3, 3, 2, 3, 7, 3, 7, 7, 3, 3, 3, 3, 7, 2, 3, 3, 3, 3, 7, 3, 7, 3, 3, 3, 3, 3, 7, 3, 7, 5, 2, 3, 3, 3, 3, 3, 5, 3, 3, 3, 3, 7, 7, 3, 3, 7, 3, 3, 3, 7, 3, 7, 3, 3, 7, 3, 3, 3, 7, 7, 3, 3, 7, 3, 3, 5, 3, 7, 3, 3, 7, 7, 3, 3, 3, 3, 7, 7, 3, 7, 7, 3, 2, 3, 3, 3, 2, 3, 3, 7, 7, 7, 7, 3, 3, 7, 7, 3, 7, 3, 7, 7, 7, 7, 3, 3, 3, 7, 7, 3, 3, 7, 3, 7, 3, 5, 3, 3, 7, 7, 7, 3, 7, 3, 2, 7, 3, 7, 3, 3, 7, 3, 7, 2, 3, 7, 3, 3, 7, 2, 2, 3, 3, 3, 3, 3, 7, 7, 3, 7, 7, 7, 3, 3, 3, 3, 7, 10, 3, 7, 2, 3, 7, 3, 3, 3, 3, 3, 3, 2, 7, 3, 7, 7, 3, 3, 3, 3, 3, 3, 2, 3, 3, 7, 3, 3, 7, 3, 3, 3, 3, 3, 3, 3, 3, 3, 3, 2, 2, 2, 3, 3, 3, 3, 3, 3, 2, 2, 3, 10, 3, 2, 7, 2, 3, 3, 3, 3, 2, 7, 3, 7, 3, 3, 3, 3, 7, 7, 2, 3, 3, 7, 3, 3, 3, 3, 3, 3, 3, 3, 7, 2, 7, 2, 7, 3, 7, 3, 3, 3, 3, 3, 7, 7, 7, 7, 7, 7, 3, 7, 7, 3, 2, 2, 7, 7, 3, 7, 3, 3, 7, 3, 2, 3, 7, 2, 7, 3, 7, 3, 7, 7, 3, 3, 3, 3, 3, 5, 3, 3, 3, 7, 3, 7, 3, 7, 3, 3, 3, 2, 3, 7, 3, 3, 3, 3, 7, 3, 3, 3, 3, 7, 7, 3, 7, 3, 7, 3, 5, 7, 7, 7, 3, 7, 3, 3, 3, 3, 3, 3, 3, 3, 3, 3, 7, 3, 3, 7, 7, 7, 7, 7, 3, 3, 5, 3, 3, 7, 7, 7, 3, 7, 3, 3, 3, 3, 5, 3, 3, 3, 3, 3, 3, 3, 7, 3, 7, 3, 3, 3, 3, 7, 7, 7, 3, 3, 3, 7, 7, 3, 7, 2, 3, 7, 7, 7, 3, 2, 7, 2, 7, 2, 3, 3, 2, 3, 2, 2, 7, 2, 3, 3, 3, 3, 3, 7, 3, 7, 3, 7, 2, 7, 7, 7, 3, 3, 3, 7, 7, 3, 7, 7, 3, 7, 3, 3, 5, 7, 3, 3, 3, 3, 3, 3, 7, 3, 7, 3, 3, 3, 3, 3, 3, 3, 3, 3, 7, 7, 3, 3, 3, 3, 3, 3, 3, 7, 5, 7, 3, 7, 3, 7, 3, 3, 7, 3, 3, 3, 3, 7, 7, 3, 3, 3, 3, 3, 3, 3, 3, 3, 3, 3, 3, 3, 3, 3, 3, 3, 3, 3, 3, 3, 3, 3, 7, 3, 3, 3, 3, 3, 3, 5, 3, 3, 3, 3, 3, 3, 7, 7, 3, 3, 3, 3, 3, 7, 3, 3, 5, 7, 3, 7, 3, 3, 3, 3, 3, 3, 3, 3, 7, 3, 3, 3, 3, 7, 3, 3, 3, 3, 3, 7, 7, 7, 3, 5, 7, 7, 3, 7, 3, 3, 3, 3, 7, 3, 3, 3, 2, 7, 3, 3, 7, 7, 3, 3, 7, 7, 7, 7, 7, 3, 3, 7, 3, 3, 7, 3, 3, 3, 7, 3, 3, 3, 7, 7, 3, 3, 3, 3, 5, 2, 7, 3, 7, 3, 3, 3, 7, 3, 3, 3, 3, 3, 7, 5, 3, 3, 3, 3, 3, 2, 3, 7, 7, 7, 3, 3, 3, 7, 7, 3, 3, 2, 7, 3, 3, 3, 3, 7, 7, 3, 3, 7, 7, 7, 3, 7, 3, 7, 3, 2, 7, 7, 3, 3, 3, 7, 3, 7, 5, 7, 7, 3, 5, 3, 2, 2, 7, 3, 3, 3, 3, 7, 7, 7, 7, 7, 3, 3, 7, 7, 7, 7, 7, 3, 7, 3, 3, 7, 7, 3, 7, 7, 7, 7, 2, 7, 7, 7, 3, 5, 7, 7, 7, 2, 7, 7, 7, 2, 7, 7, 7, 7, 7, 7, 7, 3, 7, 7, 2, 7, 7, 7, 7, 2, 7, 7, 7, 5, 7, 2, 7, 7, 7, 2, 7, 7, 7, 7, 7, 7, 7, 7, 7, 7, 7, 7, 7, 7, 3, 7, 7, 7, 7, 2, 7, 7, 7, 7, 7, 7, 7, 7, 5, 2, 7, 5, 5, 7, 7, 7, 7, 2, 7, 7, 2, 7, 7, 3]\n"
          ],
          "name": "stdout"
        }
      ]
    },
    {
      "cell_type": "code",
      "metadata": {
        "id": "xsAx6D-1k1PF"
      },
      "source": [
        "z=[]\n",
        "for i in range(7843):\n",
        "  z.append(i)\n"
      ],
      "execution_count": 108,
      "outputs": []
    },
    {
      "cell_type": "code",
      "metadata": {
        "id": "xAfWMYUsk1SF"
      },
      "source": [
        "topic=np.column_stack((article_topic,z))"
      ],
      "execution_count": 113,
      "outputs": []
    },
    {
      "cell_type": "code",
      "metadata": {
        "id": "mj9TveXKn9za"
      },
      "source": [
        "topic0=[]\n",
        "topic1=[]\n",
        "topic2=[]\n",
        "topic3=[]\n",
        "topic4=[]\n",
        "topic5=[]\n",
        "topic6=[]\n",
        "topic7=[]\n",
        "topic8=[]\n",
        "topic9=[]\n",
        "topic10=[]\n",
        "for i in range(7843):\n",
        "  if topic[i][0]==0:\n",
        "    topic0.append(topic[i][1])\n",
        "  elif topic[i][0]==1:\n",
        "    topic1.append(topic[i][1])\n",
        "  elif topic[i][0]==2:\n",
        "    topic2.append(topic[i][1])\n",
        "  elif topic[i][0]==3:\n",
        "    topic3.append(topic[i][1])\n",
        "  elif topic[i][0]==4:\n",
        "    topic4.append(topic[i][1])\n",
        "  elif topic[i][0]==5:\n",
        "    topic5.append(topic[i][1])\n",
        "  elif topic[i][0]==6:\n",
        "    topic6.append(topic[i][1])\n",
        "  elif topic[i][0]==7:\n",
        "    topic7.append(topic[i][1])\n",
        "  elif topic[i][0]==8:\n",
        "    topic8.append(topic[i][1])\n",
        "  elif topic[i][0]==9:\n",
        "    topic9.append(topic[i][1])\n",
        "  elif topic[i][0]==10:\n",
        "    topic10.append(topic[i][1])                    "
      ],
      "execution_count": 121,
      "outputs": []
    },
    {
      "cell_type": "code",
      "metadata": {
        "colab": {
          "base_uri": "https://localhost:8080/"
        },
        "id": "48j3t1AXqNbs",
        "outputId": "7bfa3c4d-5c19-42f1-c0d3-377b5bb4b1ad"
      },
      "source": [
        "#empty arrays 1,6,8,9"
      ],
      "execution_count": 129,
      "outputs": [
        {
          "output_type": "execute_result",
          "data": {
            "text/plain": [
              "[]"
            ]
          },
          "metadata": {
            "tags": []
          },
          "execution_count": 129
        }
      ]
    },
    {
      "cell_type": "code",
      "metadata": {
        "id": "2y6Cq27FzvpS"
      },
      "source": [
        "article_id=[]\n",
        "for i in range(len(l)):\n",
        "  for j in range(l[i]):\n",
        "     for p1 in range(3):\n",
        "        article_id.append(random.choice(topic4))\n",
        "     for p2 in range(2):\n",
        "        article_id.append(random.choice(topic7))\n",
        "     article_id.append(random.choice(topic0))\n",
        "     article_id.append(random.choice(topic2))\n",
        "     article_id.append(random.choice(topic3))\n",
        "     article_id.append(random.choice(topic5))\n",
        "     article_id.append(random.choice(topic10))  \n",
        "\n",
        "\n",
        "\n",
        "\n",
        "\n"
      ],
      "execution_count": 169,
      "outputs": []
    },
    {
      "cell_type": "code",
      "metadata": {
        "colab": {
          "base_uri": "https://localhost:8080/"
        },
        "id": "Zb3kd29p1CDZ",
        "outputId": "e27513e3-b422-4144-d0e0-3e620bc42a29"
      },
      "source": [
        "print(article_id)"
      ],
      "execution_count": 173,
      "outputs": [
        {
          "output_type": "stream",
          "text": [
            "[1633, 3981, 4024, 5145, 64, 44, 1425, 7419, 7574, 6233, 3270, 3938, 4024, 4001, 2896, 2103, 1452, 7505, 7529, 1124, 133, 3998, 3414, 4495, 2535, 1837, 7472, 4839, 7138, 6245, 3762, 3950, 3887, 4509, 4359, 832, 1750, 7431, 6365, 6291, 3666, 1735, 1047, 4071, 7790, 532, 4711, 6425, 7764, 1948, 2327, 289, 3831, 4346, 6077, 532, 4609, 3008, 7764, 5019, 3930, 3399, 1906, 4015, 2028, 1342, 5161, 2513, 7831, 6272, 3313, 3350, 4036, 1573, 2583, 44, 5568, 5049, 7188, 6275, 4026, 795, 3282, 7804, 6775, 1117, 5068, 5034, 7429, 1068, 709, 3398, 3423, 2911, 5441, 392, 665, 5388, 7618, 1759, 1973, 4049, 3324, 548, 6281, 922, 1246, 6055, 7102, 6256, 3142, 4048, 1043, 4393, 6126, 6932, 1453, 7145, 7663, 198, 3801, 3384, 3233, 1812, 2666, 6537, 4681, 7119, 7024, 4756, 3284, 3270, 3249, 1269, 4298, 6991, 2374, 6103, 5627, 626, 1173, 2195, 3589, 6795, 3812, 5274, 5128, 7511, 7417, 5291, 3221, 3666, 3956, 516, 7534, 922, 356, 7237, 7109, 1167, 3490, 4027, 1178, 4590, 6872, 1877, 4672, 7363, 7499, 1243, 3353, 3612, 3917, 6845, 7193, 1891, 5703, 6515, 7831, 6282, 3105, 3094, 3549, 4447, 4121, 1687, 5883, 5807, 6332, 2344, 3628, 1406, 3161, 7450, 1481, 7005, 5935, 2684, 6365, 5114, 3104, 3816, 3074, 2607, 417, 759, 4980, 7048, 6374, 5291, 3571, 3734, 3494, 836, 1115, 761, 2177, 3023, 6374, 5250, 3162, 3541, 2050, 641, 4249, 5274, 5782, 4739, 7827, 1859, 3179, 4035, 1072, 403, 6023, 4725, 5200, 7601, 7663, 6200, 3503, 2016, 3962, 4429, 6350, 2315, 2383, 2648, 7499, 1322, 3744, 3975, 1368, 4599, 6890, 1429, 690, 7266, 7663, 6219, 1074, 3838, 3072, 3818, 4276, 1585, 5585, 4872, 7663, 5834, 1397, 3142, 2167, 5738, 6134, 1943, 4595, 2591, 7188, 5302, 3801, 3461, 4004, 2124, 2598, 432, 1140, 7019, 7138, 6521, 3426, 3191, 1580, 115, 6859, 1853, 2699, 6647, 7830, 1304, 3861, 3469, 3562, 620, 4126, 759, 4759, 6094, 6365, 5449, 559, 3254, 3596, 4191, 813, 2103, 2216, 7112, 7391, 318, 3572, 3260, 2131, 4402, 5980, 4837, 4967, 5469, 7678, 6250, 3811, 3839, 3427, 5414, 2601, 922, 158, 5537, 7792, 2004, 3723, 3673, 3473, 6979, 4603, 1022, 1927, 2845, 7015, 1352, 3304, 3324, 3180, 4494, 2424, 6927, 5666, 7052, 7831, 6188, 1969, 3179, 3605, 2105, 4293, 2102, 5109, 7297, 7499, 2168, 3314, 3700, 3429, 4186, 4082, 2063, 1315, 2506, 7678, 6224, 3912, 1942, 3072, 6005, 6904, 1787, 5425, 4722, 7764, 2366, 533, 3833, 3681, 4076, 4499, 1959, 6693, 6363, 7723, 6239, 3473, 3586, 3586, 4232, 4159, 5844, 2989, 2656, 7830, 5847, 3270, 1587, 4013, 6716, 2576, 532, 1653, 7121, 7830, 6557, 3531, 1979, 1850, 4183, 7702, 2048, 1489, 1070, 7360, 1219, 3180, 3966, 3905, 4057, 2633, 5618, 1062, 7682, 6328, 4704, 4008, 3873, 3414, 2236, 7708, 6925, 5065, 5387, 7109, 6204, 1612, 3529, 2127, 1107, 3396, 1784, 5045, 7331, 7591, 5332, 2173, 3139, 3672, 4345, 4137, 5442, 376, 7375, 7831, 5616, 3413, 1584, 1037, 6948, 52, 872, 631, 5355, 7618, 986, 3484, 3172, 3498, 6014, 6735, 2023, 1740, 4695, 7417, 184, 3399, 3431, 3969, 4600, 503, 141, 787, 2893, 7678, 3477, 3647, 3224, 892, 4219, 426, 1130, 4798, 2569, 7831, 6577, 1411, 2052, 2323, 5485, 4127, 922, 6213, 6094, 7024, 6302, 3534, 125, 3116, 6730, 1758, 2103, 3337, 7604, 7827, 25, 2195, 3932, 1177, 1103, 2720, 6977, 5299, 5283, 6480, 625, 3072, 4010, 3436, 5790, 7174, 980, 6640, 6016, 7574, 408, 3884, 889, 365, 7014, 6503, 1945, 5802, 6432, 7792, 5099, 242, 1087, 3450, 3559, 4123, 1877, 5089, 6608, 7792, 2168, 3700, 1041, 3387, 6851, 4516, 87, 2137, 7249, 5627, 4995, 3430, 3772, 3931, 6121, 7796, 1853, 1618, 2595, 7360, 1948, 1078, 4029, 3782, 4275, 6380, 5758, 4215, 6339, 7068, 6140, 3327, 1874, 3805, 2038, 2399, 1022, 5234, 5715, 7618, 6673, 3405, 3837, 3604, 4552, 1100, 759, 1995, 5388, 7723, 1064, 233, 160, 3809, 3984, 4100, 4993, 390, 316, 7727, 1823, 365, 3426, 3677, 7354, 2539, 761, 1746, 7695, 7138, 6244, 4051, 3178, 3529, 5308, 4487, 752, 1236, 6338, 7727, 2344, 3991, 3887, 3579, 135, 6735, 179, 2069, 5301, 5667, 1242, 1970, 3387, 3361, 4421, 4268, 1945, 5212, 7596, 6374, 6659, 1973, 3424, 3643, 6809, 2081, 5844, 77, 6096, 7429, 6263, 3972, 4019, 3755, 6781, 4401, 5729, 6240, 6261, 6328, 5646, 3856, 3884, 3918, 7802, 7453, 2023, 1509, 6408, 6374, 6225, 234, 542, 3564, 4139, 6918, 5254, 5343, 7728, 6480, 5007, 3969, 3173, 3277, 4522, 3050, 1134, 3057, 7611, 7391, 1823, 3525, 3708, 2153, 6350, 3012, 1875, 1303, 5116, 6480, 6167, 1402, 1967, 3291, 6614, 2002, 1886, 5417, 2686, 7391, 6196, 2183, 3568, 69, 7037, 7795, 392, 1365, 7388, 7792, 1454, 3675, 360, 3211, 6049, 4354, 2109, 2968, 6016, 7109, 6184, 3722, 1589, 1204, 2720, 4326, 1943, 579, 7295, 7188, 4995, 3276, 231, 458, 2551, 7205, 1875, 3001, 7506, 5636, 5646, 1258, 3289, 8, 4562, 3271, 1342, 4954, 7705, 7109, 6220, 3370, 2062, 3503, 2552, 2378, 2030, 1730, 5137, 7831, 184, 3568, 3425, 3729, 1010, 4310, 2045, 1770, 5268, 7764, 5449, 885, 3811, 3169, 2884, 4601, 1959, 1220, 7217, 7618, 4895, 3421, 3681, 4000, 7343, 2729, 2025, 7460, 4931, 7102, 1903, 1404, 487, 1978, 6798, 1882, 1134, 1152, 7100, 7417, 1385, 1411, 3278, 3603, 3130, 2676, 2030, 5084, 5561, 7727, 6175, 3954, 3460, 3257, 2639, 7838, 1342, 647, 7403, 5667, 5302, 3503, 650, 3623, 4095, 2112, 5618, 205, 5058, 7391, 6231, 3893, 3538, 3704, 6137, 1560, 1831, 6170, 2542, 7764, 1109, 3737, 3857, 3408, 320, 4246, 752, 1143, 5126, 6328, 6175, 299, 607, 3982, 6135, 7186, 2040, 1104, 7100, 7678, 6270, 2062, 3930, 1043, 380, 6072, 6960, 1119, 5227, 7792, 1291, 2131, 3392, 3080, 7171, 7080, 6960, 4865, 7267, 7429, 838, 4008, 3408, 3724, 7767, 4574, 2023, 582, 7433, 7723, 720, 4036, 3538, 3670, 2494, 7056, 6951, 4922, 6099, 7727, 991, 3799, 697, 355, 503, 4496, 7005, 5588, 7535, 7188, 544, 3776, 3427, 1874, 6118, 7353, 2267, 7270, 4901, 7831, 6197, 800, 714, 3149, 524, 6433, 6958, 4761, 2891, 7015, 1878, 3799, 3149, 3371, 6451, 3798, 2023, 1045, 7020, 6332, 5731, 3751, 1200, 4088, 2927, 7453, 1864, 2022, 7382, 7417, 5114, 3944, 3107, 3732, 6865, 4254, 1342, 385, 5626, 7618, 6315, 3695, 3693, 3090, 7738, 253, 6929, 6192, 2834, 6328, 6193, 3675, 3574, 1626, 7671, 1150, 2029, 186, 5725, 7417, 5731, 3891, 691, 3334, 6330, 4302, 752, 2296, 7679, 7663, 6144, 3196, 3829, 3757, 6009, 4163, 432, 6031, 5127, 7188, 391, 693, 3270, 3988, 2811, 2413, 485, 5886, 5582, 7429, 6244, 707, 619, 3439, 2213, 2800, 1837, 5863, 4630, 7618, 6588, 3515, 957, 1357, 274, 6360, 2025, 5015, 7661, 7360, 6218, 3481, 1359, 3680, 2163, 7760, 7001, 1223, 6306, 7618, 5731, 3446, 3723, 3953, 4305, 2986, 2029, 878, 823, 5627, 3477, 1073, 3274, 3762, 132, 2401, 5442, 4917, 7670, 7792, 196, 883, 3468, 3349, 4288, 6062, 532, 7839, 7419, 7574, 4946, 3546, 1819, 3788, 7325, 6803, 1945, 5419, 7561, 6365, 6618, 361, 3384, 979, 6768, 7366, 432, 1597, 2826, 7102, 838, 593, 1044, 2373, 3824, 1567, 6929, 4957, 1110, 5627, 5429, 1502, 478, 3877, 4239, 5987, 5474, 5740, 7573, 6365, 6699, 791, 3356, 3317, 7782, 4538, 5618, 1467, 7569, 7015, 6239, 6325, 3662, 3263, 636, 3853, 2044, 862, 7248, 7138, 6186, 3790, 1500, 3432, 6478, 6911, 2018, 5660, 4800, 7360, 1525, 288, 1072, 1725, 4590, 6912, 1957, 810, 7734, 7827, 1933, 3820, 3895, 1299, 135, 4353, 2047, 5654, 2547, 7574, 1215, 4010, 1580, 297, 4239, 7746, 2110, 5562, 7179, 5636, 1254, 30, 798, 3073, 2894, 6790, 72, 633, 6017, 7102, 855, 3544, 3641, 3552, 6368, 7450, 2018, 5507, 7264, 7591, 670, 2184, 1397, 592, 3296, 7642, 2040, 1488, 5233, 7138, 838, 3937, 1883, 1506, 2415, 7118, 1864, 4852, 7580, 7024, 5019, 1631, 1978, 3941, 6008, 2532, 1429, 5707, 2512, 5667, 1525, 3684, 1500, 709, 7329, 6853, 922, 2215, 7062, 5667, 6280, 3575, 3649, 3719, 4582, 4376, 2025, 640, 7544, 5627, 6688, 1622, 3363, 1362, 4502, 1103, 394, 1026, 7418, 7102, 5429, 542, 3575, 3977, 2866, 3999, 761, 2319, 7356, 7360, 6873, 1725, 3569, 1579, 7840, 6825, 2047, 5798, 7501, 7188, 6196, 2321, 3392, 3090, 7810, 7424, 5778, 4862, 2932, 7827, 7230, 1919, 3410, 3540, 2095, 4405, 2033, 325, 7346, 7499, 1164, 2359, 3578, 3861, 6738, 1271, 4837, 5538, 2686, 7574, 227, 3205, 1941, 299, 6969, 5917, 2048, 5804, 7058, 7429, 6621, 2059, 3826, 3166, 1511, 137, 211, 1899, 7709, 7727, 4887, 3825, 3693, 1284, 4525, 2532, 752, 4703, 5869, 6328, 627, 3152, 165, 1591, 4506, 1263, 872, 6661, 7650, 6480, 6621, 3938, 3624, 3991, 4282, 6345, 5442, 4871, 7274, 7574, 6314, 3143, 1047, 246, 6681, 7181, 6960, 4770, 2408, 5627, 5018, 3560, 3638, 2185, 2789, 4600, 2040, 174, 2883, 6480, 6699, 3825, 3598, 3272, 486, 1016, 5844, 5854, 5951, 5636, 5007, 3465, 2345, 1633, 2789, 2472, 1943, 150, 2537, 7499, 2996, 458, 1410, 1944, 6706, 860, 1862, 2979, 6068, 7830, 6251, 3339, 1201, 3205, 2122, 6518, 2251, 866, 7553, 7618, 5175, 3701, 1033, 3571, 7118, 2459, 6978, 659, 7331, 7764, 5847, 3729, 511, 3406, 6718, 2958, 6978, 1327, 3319, 7109, 6175, 3767, 3530, 1404, 5855, 4825, 6537, 7301, 7560, 6374, 391, 1199, 3457, 3471, 2727, 7453, 980, 3709, 7629, 7188, 391, 3779, 3239, 790, 7787, 7485, 5729, 4899, 7043, 7529, 428, 1199, 3509, 3274, 6940, 1464, 1959, 1778, 2608, 7360, 5356, 3206, 3320, 4592, 4375, 4354, 922, 3018, 7381, 7015, 1385, 3790, 3076, 3793, 6086, 7640, 2315, 390, 2893, 7068, 5461, 3700, 2185, 3371, 3841, 3400, 1687, 1673, 4905, 6374, 670, 1586, 792, 925, 4339, 1320, 2023, 404, 2863, 7618, 627, 246, 3408, 3690, 6768, 2485, 2109, 5014, 6026, 7109, 5731, 3201, 3633, 3093, 7332, 2432, 2045, 1597, 7476, 6332, 4895, 487, 3174, 4008, 6444, 7636, 6925, 6227, 7523, 7678, 6263, 3930, 364, 3684, 4467, 137, 2103, 1791, 2954, 7417, 2232, 3768, 3987, 3641, 507, 2904, 394, 5294, 7346, 7723, 481, 3099, 357, 3641, 4323, 7223, 5442, 3018, 7283, 7792, 1243, 1086, 3581, 903, 4942, 4376, 1429, 635, 7547, 5667, 5147, 124, 3398, 235, 6060, 6409, 211, 675, 7376, 7574, 428, 3254, 3367, 3307, 6840, 5145, 1227, 2128, 2804, 7024, 1792, 3102, 3650, 3463, 1250, 7755, 2102, 6589, 7558, 7591, 196, 6881, 982, 3132, 990, 6896, 1945, 6644, 7718, 7024, 2996, 3264, 3680, 3270, 3440, 2853, 1891, 809, 2642, 7827, 4833, 4047, 3505, 3617, 2924, 1019, 1877, 3051, 6558, 6374, 7230, 7, 3220, 3202, 4450, 4487, 6927, 4932, 7275, 5636, 5832, 1970, 3306, 3604, 4079, 735, 609, 6564, 2954, 7591, 5487, 3509, 3449, 3369, 494, 7749, 759, 4927, 7147, 6328, 627, 3899, 3673, 3721, 2936, 4315, 1862, 4740, 4772, 7529, 6186, 1200, 3491, 3731, 4245, 4502, 1957, 998, 6445, 7109, 6301, 3809, 3638, 4042, 1511, 2651, 6978, 4770, 7073, 7574, 5461, 2338, 3639, 3960, 7300, 3929, 1569, 4925, 5582, 7618, 1709, 795, 3681, 1976, 6788, 5800, 1837, 7472, 7126, 6480, 5332, 233, 3099, 1873, 2842, 6350, 6943, 5577, 2573, 7727, 528, 2129, 3555, 3157, 7220, 4568, 6958, 616, 4803, 7678, 6318, 3317, 3072, 3667, 6868, 4190, 2371, 6941, 7215, 5627, 377, 3905, 1504, 806, 4603, 4538, 1953, 6308, 2736, 6480, 2996, 3216, 3474, 3287, 2870, 2927, 6943, 2043, 5566, 7574, 6597, 3772, 1502, 3410, 617, 4427, 2033, 4938, 7341, 7723, 5275, 3960, 3890, 1630, 62, 4679, 179, 1683, 3023, 7827, 5515, 2166, 3525, 533, 6115, 2514, 980, 414, 7092, 7678, 6188, 538, 3090, 3558, 4279, 6804, 1853, 1810, 7027, 5636, 6282, 3100, 3488, 3796, 6113, 4181, 6932, 5005, 5509, 7109, 6222, 1072, 7, 4011, 7332, 4210, 1959, 350, 2555, 7391, 1295, 3234, 3866, 1726, 4146, 2406, 4837, 3330, 7276, 7015, 1304, 2192, 3390, 3924, 973, 4221, 211, 6309, 5622, 7417, 180, 1357, 3975, 3226, 2767, 2698, 5758, 974, 7596, 6328, 4755, 3276, 3093, 3220, 2975, 6050, 6915, 373, 7578, 7764, 2366, 3328, 3751, 3886, 6895, 4302, 5442, 279, 7513, 7015, 387, 3994, 3484, 3811, 4296, 7632, 5729, 5732, 5979, 7499, 6275, 793, 3168, 3201, 2770, 48, 1585, 1764, 7441, 7429, 6251, 3920, 4028, 4049, 2125, 1271, 759, 6993, 1641, 7391, 6250, 3376, 3928, 3776, 2397, 7567, 1787, 1796, 7187, 7529, 6189, 1088, 3541, 3363, 4210, 6437, 759, 1816, 7638, 7723, 1454, 2324, 3997, 3982, 4258, 6066, 5274, 439, 7742, 7764, 855, 3596, 3859, 1401, 5185, 4494, 2315, 2419, 2631, 6365, 6694, 3481, 3626, 3725, 2743, 5197, 1542, 1331, 4832, 7827, 6318, 3201, 3346, 1173, 2846, 4571, 1853, 719, 7087, 7830, 986, 125, 3076, 478, 4464, 5800, 44, 350, 7549, 7417, 1295, 3287, 3679, 3820, 6369, 7823, 1891, 223, 7090, 7827, 5834, 2321, 559, 2016, 4421, 4358, 1606, 1570, 7497, 6328, 2232, 3707, 3600, 1635, 6370, 5322, 225, 379, 7571, 7618, 275, 3137, 1622, 3189, 2975, 2521, 175, 3007, 6021, 7663, 1939, 903, 607, 3426, 2890, 1000, 6958, 1452, 6306, 7138, 6597, 291, 121, 1871, 2779, 4217, 6991, 7103, 2836, 7024, 2268, 3179, 2135, 3661, 4593, 3780, 1787, 7684, 5762, 7360, 867, 987, 1203, 3463, 3743, 1532, 2103, 5569, 7659, 5636, 5834, 3268, 3560, 1074, 6612, 5855, 1022, 2288, 2824, 7663, 1229, 3718, 1403, 3676, 553, 6514, 6977, 820, 73, 7792, 6270, 3495, 3353, 3839, 4052, 6713, 6926, 1372, 2558, 7024, 6557, 1588, 3367, 4026, 7208, 7803, 6932, 1777, 6416, 7764, 673, 3293, 3312, 3789, 1905, 7494, 980, 2363, 3058, 7024, 4, 3940, 3293, 3468, 4537, 1650, 1614, 886, 7215, 7727, 1242, 3658, 3739, 1500, 3006, 274, 393, 4821, 7442, 6374, 6275, 3845, 3560, 3208, 4076, 7809, 609, 2152, 7025, 7109, 6140, 3943, 3082, 3734, 2445, 1607, 1569, 4626, 7431, 7429, 1910, 3996, 3687, 3641, 4071, 2700, 1569, 4570, 2627, 7360, 5515, 3089, 3554, 3597, 4449, 4436, 2018, 5138, 7305, 7068, 4704, 359, 288, 895, 6874, 2464, 6943, 1312, 6055, 7529, 6310, 3254, 607, 1049, 4249, 4334, 72, 7197, 7371, 6328, 6316, 33, 3746, 1362, 2527, 6009, 1585, 6629, 3322, 7360, 1441, 3532, 3189, 1580, 3608, 6878, 6927, 4968, 7624, 7727, 5872, 3176, 4024, 1078, 6945, 1463, 1606, 6011, 2462, 7831, 1833, 3548, 1375, 3873, 6737, 4307, 1053, 2165, 7521, 7429, 1229, 3257, 3734, 3846, 509, 1790, 311, 1751, 3095, 6328, 1219, 3977, 3509, 3985, 6162, 952, 1130, 6700, 5715, 7830, 1328, 1969, 3933, 3250, 6471, 6030, 5618, 5086, 7551, 6374, 2161, 3273, 3716, 3441, 13, 6784, 2035, 2146, 7289, 7360, 183, 3147, 1624, 3933, 4160, 1281, 1606, 4847, 5116, 7102, 5832, 3670, 160, 3893, 2607, 2097, 6991, 4924, 3058, 7391, 4833, 3624, 3596, 420, 1516, 6765, 872, 3013, 1079, 7618, 27, 3329, 3425, 3374, 4367, 6791, 1853, 5150, 7031, 7138, 6140, 3781, 3386, 713, 6051, 7582, 175, 741, 7249, 5667, 6193, 3568, 3949, 3897, 4208, 7300, 532, 2325, 2592, 6332, 437, 3977, 3788, 3557, 2679, 7037, 1435, 780, 7105, 5636, 6196, 3323, 1400, 3473, 4189, 4495, 6932, 37, 6202, 6480, 6316, 3435, 3167, 3625, 4572, 762, 1953, 453, 7052, 7831, 227, 3789, 363, 1477, 7232, 6749, 5618, 1377, 2611, 7831, 6229, 297, 3698, 292, 2831, 1599, 549, 5394, 7562, 6328, 323, 3455, 3496, 2108, 1808, 7009, 72, 531, 2466, 7663, 1652, 3799, 1579, 3768, 4254, 1032, 6960, 1426, 4702, 5627, 6734, 1356, 3113, 4033, 6061, 500, 4725, 5256, 7215, 7827, 1823]\n"
          ],
          "name": "stdout"
        }
      ]
    },
    {
      "cell_type": "code",
      "metadata": {
        "colab": {
          "base_uri": "https://localhost:8080/"
        },
        "id": "D7LOBhZE25cE",
        "outputId": "227559f4-e5b4-455c-f933-2c87bf858103"
      },
      "source": [
        "topic5.index(7574)"
      ],
      "execution_count": 177,
      "outputs": [
        {
          "output_type": "execute_result",
          "data": {
            "text/plain": [
              "21"
            ]
          },
          "metadata": {
            "tags": []
          },
          "execution_count": 177
        }
      ]
    },
    {
      "cell_type": "code",
      "metadata": {
        "colab": {
          "base_uri": "https://localhost:8080/"
        },
        "id": "YiKp0UxU26U0",
        "outputId": "99a078b7-7c87-47f9-a62d-77b3466dbf95"
      },
      "source": [
        ""
      ],
      "execution_count": 162,
      "outputs": [
        {
          "output_type": "execute_result",
          "data": {
            "text/plain": [
              "2"
            ]
          },
          "metadata": {
            "tags": []
          },
          "execution_count": 162
        }
      ]
    },
    {
      "cell_type": "markdown",
      "metadata": {
        "id": "sDF_G8Uj9QT0"
      },
      "source": [
        "# FInalized"
      ]
    },
    {
      "cell_type": "code",
      "metadata": {
        "id": "xeogD3yB3mvD"
      },
      "source": [
        "## Clickstream generator lists\n",
        "l=[]## reference list\n",
        "for i in range(10000):\n",
        "  flag = True\n",
        "  while flag:\n",
        "      s = np.random.poisson(1, 1)\n",
        "      if s[0]> 0:\n",
        "        l.append(s[0])\n",
        "        flag=False\n",
        "        \n",
        "      else: flag=True\n",
        "user_id=[]\n",
        "k=1\n",
        "for i in range(len(l)):\n",
        "  for j in range(l[i]*10):\n",
        "    user_id.append(k)\n",
        "  k=k+1\n",
        "rank=[]\n",
        "t=[1,2,3,4,5,6,7,8,9,10]\n",
        "for i in range(len(l)):\n",
        "  for j in range(l[i]):\n",
        "    rank=rank+t  \n",
        "\n",
        "\n",
        "q=[]## click list\n",
        "for i in range(len(l)):\n",
        "  for j in range(l[i]):\n",
        "      r=np.random.poisson(3, 1)\n",
        "      t=np.random.binomial(1,0.5,size=10)\n",
        "      min=np.minimum(r,sum(t))\n",
        "      #print(min)\n",
        "      j=0\n",
        "      a=0\n",
        "      while j < min:\n",
        "        if t[a]==1:\n",
        "          j=j+1\n",
        "          a=a+1\n",
        "        else: a=a+1\n",
        " \n",
        "      t_=t[0:a]\n",
        "      t_=t_.tolist()\n",
        "\n",
        "      for i in range(10-a):\n",
        "          t_=t_ + [0]\n",
        "      q=q+t_\n",
        "click=[]\n",
        "read_time=[]\n",
        "for i in range(len(q)):\n",
        "  if q[i]==0:\n",
        "     click.append('No')\n",
        "  else: click.append('Yes')\n",
        "for i in range(len(q)):\n",
        "  if q[i]==0:\n",
        "     read_time.append('NaN')\n",
        "  else: read_time.append(sample(1))            \n",
        "#session id\n",
        "sessionid=[]\n",
        "\n",
        "for j in l:\n",
        "  for k in range(j):\n",
        "      t=k+1\n",
        "      t_=[t for i in range(10)]\n",
        "      sessionid=sessionid+t_  \n",
        "article_id=[]\n",
        "for i in range(len(l)):\n",
        "  for j in range(l[i]):\n",
        "     for p1 in range(3):\n",
        "        article_id.append(random.choice(topic4))\n",
        "     for p2 in range(2):\n",
        "        article_id.append(random.choice(topic7))\n",
        "     article_id.append(random.choice(topic0))\n",
        "     article_id.append(random.choice(topic2))\n",
        "     article_id.append(random.choice(topic3))\n",
        "     article_id.append(random.choice(topic5))\n",
        "     article_id.append(random.choice(topic10))             \n",
        "      \n"
      ],
      "execution_count": 178,
      "outputs": []
    },
    {
      "cell_type": "code",
      "metadata": {
        "id": "1ornU9Rs9VhH"
      },
      "source": [
        "click_stream = pd.DataFrame(\n",
        "    {'User_ID': user_id,\n",
        "     'Session_ID':sessionid ,\n",
        "     'Article_ID': article_id,\n",
        "     'Article_rank': rank,\n",
        "     'Click': click,\n",
        "     'Time_spent': read_time\n",
        "                          })"
      ],
      "execution_count": 179,
      "outputs": []
    },
    {
      "cell_type": "code",
      "metadata": {
        "colab": {
          "base_uri": "https://localhost:8080/",
          "height": 406
        },
        "id": "iji3AMvJ9p2U",
        "outputId": "07a52aaa-e415-41d0-d4bd-458d55595214"
      },
      "source": [
        "click_stream"
      ],
      "execution_count": 180,
      "outputs": [
        {
          "output_type": "execute_result",
          "data": {
            "text/html": [
              "<div>\n",
              "<style scoped>\n",
              "    .dataframe tbody tr th:only-of-type {\n",
              "        vertical-align: middle;\n",
              "    }\n",
              "\n",
              "    .dataframe tbody tr th {\n",
              "        vertical-align: top;\n",
              "    }\n",
              "\n",
              "    .dataframe thead th {\n",
              "        text-align: right;\n",
              "    }\n",
              "</style>\n",
              "<table border=\"1\" class=\"dataframe\">\n",
              "  <thead>\n",
              "    <tr style=\"text-align: right;\">\n",
              "      <th></th>\n",
              "      <th>User_ID</th>\n",
              "      <th>Session_ID</th>\n",
              "      <th>Article_ID</th>\n",
              "      <th>Article_rank</th>\n",
              "      <th>Click</th>\n",
              "      <th>Time_spent</th>\n",
              "    </tr>\n",
              "  </thead>\n",
              "  <tbody>\n",
              "    <tr>\n",
              "      <th>0</th>\n",
              "      <td>1</td>\n",
              "      <td>1</td>\n",
              "      <td>3481</td>\n",
              "      <td>1</td>\n",
              "      <td>No</td>\n",
              "      <td>NaN</td>\n",
              "    </tr>\n",
              "    <tr>\n",
              "      <th>1</th>\n",
              "      <td>1</td>\n",
              "      <td>1</td>\n",
              "      <td>3802</td>\n",
              "      <td>2</td>\n",
              "      <td>No</td>\n",
              "      <td>NaN</td>\n",
              "    </tr>\n",
              "    <tr>\n",
              "      <th>2</th>\n",
              "      <td>1</td>\n",
              "      <td>1</td>\n",
              "      <td>489</td>\n",
              "      <td>3</td>\n",
              "      <td>Yes</td>\n",
              "      <td>49.2641</td>\n",
              "    </tr>\n",
              "    <tr>\n",
              "      <th>3</th>\n",
              "      <td>1</td>\n",
              "      <td>1</td>\n",
              "      <td>5361</td>\n",
              "      <td>4</td>\n",
              "      <td>Yes</td>\n",
              "      <td>41.4132</td>\n",
              "    </tr>\n",
              "    <tr>\n",
              "      <th>4</th>\n",
              "      <td>1</td>\n",
              "      <td>1</td>\n",
              "      <td>2084</td>\n",
              "      <td>5</td>\n",
              "      <td>No</td>\n",
              "      <td>NaN</td>\n",
              "    </tr>\n",
              "    <tr>\n",
              "      <th>...</th>\n",
              "      <td>...</td>\n",
              "      <td>...</td>\n",
              "      <td>...</td>\n",
              "      <td>...</td>\n",
              "      <td>...</td>\n",
              "      <td>...</td>\n",
              "    </tr>\n",
              "    <tr>\n",
              "      <th>158075</th>\n",
              "      <td>10000</td>\n",
              "      <td>2</td>\n",
              "      <td>2063</td>\n",
              "      <td>6</td>\n",
              "      <td>Yes</td>\n",
              "      <td>204.065</td>\n",
              "    </tr>\n",
              "    <tr>\n",
              "      <th>158076</th>\n",
              "      <td>10000</td>\n",
              "      <td>2</td>\n",
              "      <td>79</td>\n",
              "      <td>7</td>\n",
              "      <td>Yes</td>\n",
              "      <td>435.165</td>\n",
              "    </tr>\n",
              "    <tr>\n",
              "      <th>158077</th>\n",
              "      <td>10000</td>\n",
              "      <td>2</td>\n",
              "      <td>2882</td>\n",
              "      <td>8</td>\n",
              "      <td>No</td>\n",
              "      <td>NaN</td>\n",
              "    </tr>\n",
              "    <tr>\n",
              "      <th>158078</th>\n",
              "      <td>10000</td>\n",
              "      <td>2</td>\n",
              "      <td>6365</td>\n",
              "      <td>9</td>\n",
              "      <td>Yes</td>\n",
              "      <td>415.022</td>\n",
              "    </tr>\n",
              "    <tr>\n",
              "      <th>158079</th>\n",
              "      <td>10000</td>\n",
              "      <td>2</td>\n",
              "      <td>5043</td>\n",
              "      <td>10</td>\n",
              "      <td>No</td>\n",
              "      <td>NaN</td>\n",
              "    </tr>\n",
              "  </tbody>\n",
              "</table>\n",
              "<p>158080 rows × 6 columns</p>\n",
              "</div>"
            ],
            "text/plain": [
              "        User_ID  Session_ID  Article_ID  Article_rank Click Time_spent\n",
              "0             1           1        3481             1    No        NaN\n",
              "1             1           1        3802             2    No        NaN\n",
              "2             1           1         489             3   Yes    49.2641\n",
              "3             1           1        5361             4   Yes    41.4132\n",
              "4             1           1        2084             5    No        NaN\n",
              "...         ...         ...         ...           ...   ...        ...\n",
              "158075    10000           2        2063             6   Yes    204.065\n",
              "158076    10000           2          79             7   Yes    435.165\n",
              "158077    10000           2        2882             8    No        NaN\n",
              "158078    10000           2        6365             9   Yes    415.022\n",
              "158079    10000           2        5043            10    No        NaN\n",
              "\n",
              "[158080 rows x 6 columns]"
            ]
          },
          "metadata": {
            "tags": []
          },
          "execution_count": 180
        }
      ]
    },
    {
      "cell_type": "code",
      "metadata": {
        "id": "up_mzwZb9iCb"
      },
      "source": [
        "click_stream.to_csv('clickstream.csv')"
      ],
      "execution_count": 181,
      "outputs": []
    },
    {
      "cell_type": "code",
      "metadata": {
        "colab": {
          "base_uri": "https://localhost:8080/",
          "height": 16
        },
        "id": "pf47aivi9iJ5",
        "outputId": "754401c5-8401-4264-97cd-150f6dc76471"
      },
      "source": [
        "from google.colab import files\n",
        "files.download(\"clickstream.csv\")"
      ],
      "execution_count": 182,
      "outputs": [
        {
          "output_type": "display_data",
          "data": {
            "application/javascript": [
              "\n",
              "    async function download(id, filename, size) {\n",
              "      if (!google.colab.kernel.accessAllowed) {\n",
              "        return;\n",
              "      }\n",
              "      const div = document.createElement('div');\n",
              "      const label = document.createElement('label');\n",
              "      label.textContent = `Downloading \"${filename}\": `;\n",
              "      div.appendChild(label);\n",
              "      const progress = document.createElement('progress');\n",
              "      progress.max = size;\n",
              "      div.appendChild(progress);\n",
              "      document.body.appendChild(div);\n",
              "\n",
              "      const buffers = [];\n",
              "      let downloaded = 0;\n",
              "\n",
              "      const channel = await google.colab.kernel.comms.open(id);\n",
              "      // Send a message to notify the kernel that we're ready.\n",
              "      channel.send({})\n",
              "\n",
              "      for await (const message of channel.messages) {\n",
              "        // Send a message to notify the kernel that we're ready.\n",
              "        channel.send({})\n",
              "        if (message.buffers) {\n",
              "          for (const buffer of message.buffers) {\n",
              "            buffers.push(buffer);\n",
              "            downloaded += buffer.byteLength;\n",
              "            progress.value = downloaded;\n",
              "          }\n",
              "        }\n",
              "      }\n",
              "      const blob = new Blob(buffers, {type: 'application/binary'});\n",
              "      const a = document.createElement('a');\n",
              "      a.href = window.URL.createObjectURL(blob);\n",
              "      a.download = filename;\n",
              "      div.appendChild(a);\n",
              "      a.click();\n",
              "      div.remove();\n",
              "    }\n",
              "  "
            ],
            "text/plain": [
              "<IPython.core.display.Javascript object>"
            ]
          },
          "metadata": {
            "tags": []
          }
        },
        {
          "output_type": "display_data",
          "data": {
            "application/javascript": [
              "download(\"download_909371f0-985c-4489-a35f-b9d93b87d864\", \"clickstream.csv\", 4959147)"
            ],
            "text/plain": [
              "<IPython.core.display.Javascript object>"
            ]
          },
          "metadata": {
            "tags": []
          }
        }
      ]
    },
    {
      "cell_type": "code",
      "metadata": {
        "colab": {
          "base_uri": "https://localhost:8080/"
        },
        "id": "GU2osWWz9iNf",
        "outputId": "52f89e73-6c42-4688-d226-c1ab05e7fa8d"
      },
      "source": [
        "sum(l)"
      ],
      "execution_count": 185,
      "outputs": [
        {
          "output_type": "execute_result",
          "data": {
            "text/plain": [
              "15808"
            ]
          },
          "metadata": {
            "tags": []
          },
          "execution_count": 185
        }
      ]
    },
    {
      "cell_type": "code",
      "metadata": {
        "id": "vsLHn8FU_ew-"
      },
      "source": [
        ""
      ],
      "execution_count": null,
      "outputs": []
    }
  ]
}