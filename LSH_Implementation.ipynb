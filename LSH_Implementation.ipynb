{
  "nbformat": 4,
  "nbformat_minor": 0,
  "metadata": {
    "colab": {
      "name": "LSH Implementation",
      "provenance": [],
      "collapsed_sections": [],
      "include_colab_link": true
    },
    "kernelspec": {
      "name": "python3",
      "display_name": "Python 3"
    },
    "language_info": {
      "name": "python"
    }
  },
  "cells": [
    {
      "cell_type": "markdown",
      "metadata": {
        "id": "view-in-github",
        "colab_type": "text"
      },
      "source": [
        "<a href=\"https://colab.research.google.com/github/deejay14/Jhakas-NewsWala/blob/main/LSH_Implementation.ipynb\" target=\"_parent\"><img src=\"https://colab.research.google.com/assets/colab-badge.svg\" alt=\"Open In Colab\"/></a>"
      ]
    },
    {
      "cell_type": "code",
      "metadata": {
        "id": "BtOAaVoBtVQs"
      },
      "source": [
        "import numpy as np\n",
        "import pandas as pd\n",
        "import re, nltk, spacy, gensim\n",
        "# Sklearn\n",
        "from sklearn.decomposition import LatentDirichletAllocation, TruncatedSVD\n",
        "from sklearn.feature_extraction.text import CountVectorizer, TfidfVectorizer\n",
        "from sklearn.model_selection import GridSearchCV\n",
        "from pprint import pprint\n",
        "# Plotting tools\n",
        "\n",
        "import matplotlib.pyplot as plt\n",
        "%matplotlib inline"
      ],
      "execution_count": 83,
      "outputs": []
    },
    {
      "cell_type": "code",
      "metadata": {
        "colab": {
          "base_uri": "https://localhost:8080/"
        },
        "id": "wkHmDLtmsIid",
        "outputId": "0cca4059-139e-40ec-9224-c2325f527b80"
      },
      "source": [
        " pip install dateparser"
      ],
      "execution_count": 84,
      "outputs": [
        {
          "output_type": "stream",
          "text": [
            "Requirement already satisfied: dateparser in /usr/local/lib/python3.7/dist-packages (1.0.0)\n",
            "Requirement already satisfied: regex!=2019.02.19 in /usr/local/lib/python3.7/dist-packages (from dateparser) (2019.12.20)\n",
            "Requirement already satisfied: tzlocal in /usr/local/lib/python3.7/dist-packages (from dateparser) (1.5.1)\n",
            "Requirement already satisfied: pytz in /usr/local/lib/python3.7/dist-packages (from dateparser) (2018.9)\n",
            "Requirement already satisfied: python-dateutil in /usr/local/lib/python3.7/dist-packages (from dateparser) (2.8.1)\n",
            "Requirement already satisfied: six>=1.5 in /usr/local/lib/python3.7/dist-packages (from python-dateutil->dateparser) (1.15.0)\n"
          ],
          "name": "stdout"
        }
      ]
    },
    {
      "cell_type": "code",
      "metadata": {
        "id": "2VNdM2nyz9eG"
      },
      "source": [
        "url='https://raw.githubusercontent.com/deejay14/Jhakas-NewsWala/main/final_fixed_scrapped.csv'    #reads final document\n",
        "df = pd.read_csv(url) "
      ],
      "execution_count": 85,
      "outputs": []
    },
    {
      "cell_type": "code",
      "metadata": {
        "colab": {
          "base_uri": "https://localhost:8080/",
          "height": 406
        },
        "id": "RaneoNmY0R0U",
        "outputId": "9e210f53-0eb9-498b-83e3-a40540c65093"
      },
      "source": [
        "df"
      ],
      "execution_count": 86,
      "outputs": [
        {
          "output_type": "execute_result",
          "data": {
            "text/html": [
              "<div>\n",
              "<style scoped>\n",
              "    .dataframe tbody tr th:only-of-type {\n",
              "        vertical-align: middle;\n",
              "    }\n",
              "\n",
              "    .dataframe tbody tr th {\n",
              "        vertical-align: top;\n",
              "    }\n",
              "\n",
              "    .dataframe thead th {\n",
              "        text-align: right;\n",
              "    }\n",
              "</style>\n",
              "<table border=\"1\" class=\"dataframe\">\n",
              "  <thead>\n",
              "    <tr style=\"text-align: right;\">\n",
              "      <th></th>\n",
              "      <th>Unnamed: 0</th>\n",
              "      <th>Title</th>\n",
              "      <th>Article</th>\n",
              "      <th>totalwords</th>\n",
              "    </tr>\n",
              "  </thead>\n",
              "  <tbody>\n",
              "    <tr>\n",
              "      <th>0</th>\n",
              "      <td>0</td>\n",
              "      <td>Rs 400-cr ‘bungling’ by Amar Singh: HC seeks E...</td>\n",
              "      <td>The Allahabad High Court has directed the Enfo...</td>\n",
              "      <td>341</td>\n",
              "    </tr>\n",
              "    <tr>\n",
              "      <th>1</th>\n",
              "      <td>1</td>\n",
              "      <td>J&amp;K HC orders FIR against teacher who fails to...</td>\n",
              "      <td>The J&amp;K High Court on Friday asked a teacher t...</td>\n",
              "      <td>335</td>\n",
              "    </tr>\n",
              "    <tr>\n",
              "      <th>2</th>\n",
              "      <td>2</td>\n",
              "      <td>Crime in Cyberia: an incomplete list of offenders</td>\n",
              "      <td>An unknown Indian hacker has been charged with...</td>\n",
              "      <td>382</td>\n",
              "    </tr>\n",
              "    <tr>\n",
              "      <th>3</th>\n",
              "      <td>3</td>\n",
              "      <td>450 cannabis plants found on govt land in Mundhwa</td>\n",
              "      <td>The interrogation of two marijuana peddlers ab...</td>\n",
              "      <td>372</td>\n",
              "    </tr>\n",
              "    <tr>\n",
              "      <th>4</th>\n",
              "      <td>4</td>\n",
              "      <td>Nagaland: 9 bullet-riddled bodies found,Karbi-...</td>\n",
              "      <td>Nine highly decomposed bodies were found stack...</td>\n",
              "      <td>449</td>\n",
              "    </tr>\n",
              "    <tr>\n",
              "      <th>...</th>\n",
              "      <td>...</td>\n",
              "      <td>...</td>\n",
              "      <td>...</td>\n",
              "      <td>...</td>\n",
              "    </tr>\n",
              "    <tr>\n",
              "      <th>7838</th>\n",
              "      <td>7838</td>\n",
              "      <td>13 dead, one million evacuated in China after ...</td>\n",
              "      <td>At least 18 people were killed due to a landsl...</td>\n",
              "      <td>397</td>\n",
              "    </tr>\n",
              "    <tr>\n",
              "      <th>7839</th>\n",
              "      <td>7839</td>\n",
              "      <td>Book Karnataka, Maharashtra CMs for culpable h...</td>\n",
              "      <td>With the flood situation in the state continui...</td>\n",
              "      <td>500</td>\n",
              "    </tr>\n",
              "    <tr>\n",
              "      <th>7840</th>\n",
              "      <td>7840</td>\n",
              "      <td>Romanian researcher develops disc-shaped flyin...</td>\n",
              "      <td>Razan Sabie, an aerodynamicist who operates fr...</td>\n",
              "      <td>346</td>\n",
              "    </tr>\n",
              "    <tr>\n",
              "      <th>7841</th>\n",
              "      <td>7841</td>\n",
              "      <td>Is asteroid Apophis capable of triggering a ts...</td>\n",
              "      <td>It was around a few months back that Iain McDo...</td>\n",
              "      <td>412</td>\n",
              "    </tr>\n",
              "    <tr>\n",
              "      <th>7842</th>\n",
              "      <td>7842</td>\n",
              "      <td>New 'dengue-like disease' spreading among chil...</td>\n",
              "      <td>The number of children affected by a new disea...</td>\n",
              "      <td>457</td>\n",
              "    </tr>\n",
              "  </tbody>\n",
              "</table>\n",
              "<p>7843 rows × 4 columns</p>\n",
              "</div>"
            ],
            "text/plain": [
              "      Unnamed: 0  ... totalwords\n",
              "0              0  ...        341\n",
              "1              1  ...        335\n",
              "2              2  ...        382\n",
              "3              3  ...        372\n",
              "4              4  ...        449\n",
              "...          ...  ...        ...\n",
              "7838        7838  ...        397\n",
              "7839        7839  ...        500\n",
              "7840        7840  ...        346\n",
              "7841        7841  ...        412\n",
              "7842        7842  ...        457\n",
              "\n",
              "[7843 rows x 4 columns]"
            ]
          },
          "metadata": {
            "tags": []
          },
          "execution_count": 86
        }
      ]
    },
    {
      "cell_type": "code",
      "metadata": {
        "id": "l__za5U867P_",
        "colab": {
          "base_uri": "https://localhost:8080/"
        },
        "outputId": "54f7d50d-82b6-4965-e59e-5ed045bf7461"
      },
      "source": [
        "df['Article']=df['Article'].apply(str)\n",
        "data_list = df['Article'].values.tolist()\n",
        "\n",
        "df['Title']=df['Title'].apply(str)\n",
        "data_titles = df['Title'].values.tolist()\n",
        "\n",
        "data_list[:1]"
      ],
      "execution_count": 87,
      "outputs": [
        {
          "output_type": "execute_result",
          "data": {
            "text/plain": [
              "['The Allahabad High Court has directed the Enforcement Directorate (ED) to file a status report, along with an affidavit, in connection with the investigation carried out in connection with the allegations of financial misappropriation to the tune over Rs 400 crore by former Samajwadi Party leader Amar Singh. The court has fixed October 8 for next hearing.A Division Bench of Chief Justice D Y Chandrachud and Justice Yashwant Varma passed the order on Thursday, while hearing a PIL filed by Ashok Kumar Singh, a resident of Kanpur, through his counsel Ashok Pandey.The petitioner, who was at one point district chief of SP in Kanpur, had pointed out that a three-judge bench had, in its order on August 1, 2013, directed further investigation by the ED in connection with the allegations against Amar Singh. It was alleged that as the head of the UP development council, he had misappropriated funds to the amount of Rs 400 crore. An FIR in this regard was registered in Kanpur on October 15, 2009, at Babu Ka Purwa police station.[related=[psr]“Our prayer was that the ED has neither filed a chargesheet nor any final report in the case. The three-judge bench had ruled, whether it was a final report or a chargesheet, the ED had to take the investigations to a logical conclusion so that the trial can be completed. We had requested the court to take cognizance of the ED report in the matter and direct the CBI to investigate the case further,” said Pandey.Further, the petitioner had made another prayer seeking probe into the reported donation of around Rs 30 crore made by Singh between 2003 and 2007 to the Clinton Foundation, allegedly in violation of the RBI rules.Passing the order, the court said: “At the present stage…the court should be apprised by the ED…of what steps were taken after the judgement of the full bench of this court on August 1, 2013. The ED shall file an affidavit explaining the position and shall also produce a status report for the perusal of this court.”']"
            ]
          },
          "metadata": {
            "tags": []
          },
          "execution_count": 87
        }
      ]
    },
    {
      "cell_type": "markdown",
      "metadata": {
        "id": "b_PGMUEzGyUa"
      },
      "source": [
        "Data Cleaning"
      ]
    },
    {
      "cell_type": "code",
      "metadata": {
        "id": "D3rKuIzS0f_g"
      },
      "source": [
        "import re                                                                       # usual lemmetisation\n",
        "from pprint import pprint\n",
        "import nltk, spacy, gensim\n",
        "from sklearn.feature_extraction.text import CountVectorizer\n",
        "\n",
        "def get_lemmatized_clean_data(df):\n",
        "    # Convert to list\n",
        "    data = df['Article'].values.tolist()\n",
        "\n",
        "    # Remove Emails\n",
        "    data = [re.sub('\\S*@\\S*\\s?', '', sent) for sent in data]\n",
        "\n",
        "    # Remove new line characters\n",
        "    data = [re.sub('\\s+', ' ', sent) for sent in data]\n",
        "\n",
        "    # Remove distracting single quotes\n",
        "    data = [re.sub(\"\\'\", \"\", sent) for sent in data]\n",
        "\n",
        "    pprint(data[:1])\n",
        "\n",
        "    def sent_to_words(sentences):\n",
        "        for sentence in sentences:\n",
        "            yield(gensim.utils.simple_preprocess(str(sentence), deacc=True))  # deacc=True removes punctuations\n",
        "\n",
        "    data_words = list(sent_to_words(data))\n",
        "\n",
        "    print(data_words[:1])\n",
        "    \n",
        "    def lemmatization(texts, allowed_postags=['NOUN', 'ADJ', 'VERB', 'ADV']):\n",
        "        \"\"\"https://spacy.io/api/annotation\"\"\"\n",
        "        texts_out = []\n",
        "        for sent in texts:\n",
        "            doc = nlp(\" \".join(sent)) \n",
        "            texts_out.append(\" \".join([token.lemma_ if token.lemma_ not in ['-PRON-'] else '' for token in doc if token.pos_ in allowed_postags]))\n",
        "        return texts_out\n",
        "\n",
        "    # Initialize spacy 'en' model, keeping only tagger component (for efficiency)\n",
        "    # Run in terminal: python3 -m spacy download en\n",
        "    nlp = spacy.load('en_core_web_sm', disable=['parser', 'ner'])\n",
        "\n",
        "    # Do lemmatization keeping only Noun, Adj, Verb, Adverb\n",
        "    data_lemmatized = lemmatization(data_words, allowed_postags=['NOUN', 'ADJ', 'VERB', 'ADV'])\n",
        "\n",
        "    return data_lemmatized"
      ],
      "execution_count": 88,
      "outputs": []
    },
    {
      "cell_type": "code",
      "metadata": {
        "colab": {
          "base_uri": "https://localhost:8080/"
        },
        "id": "JQOIJu2d51aO",
        "outputId": "7056b9ab-f991-4cd1-9e27-bd606e34d8f6"
      },
      "source": [
        "data_lemmatized = get_lemmatized_clean_data(df)"
      ],
      "execution_count": 89,
      "outputs": [
        {
          "output_type": "stream",
          "text": [
            "['The Allahabad High Court has directed the Enforcement Directorate (ED) to '\n",
            " 'file a status report, along with an affidavit, in connection with the '\n",
            " 'investigation carried out in connection with the allegations of financial '\n",
            " 'misappropriation to the tune over Rs 400 crore by former Samajwadi Party '\n",
            " 'leader Amar Singh. The court has fixed October 8 for next hearing.A Division '\n",
            " 'Bench of Chief Justice D Y Chandrachud and Justice Yashwant Varma passed the '\n",
            " 'order on Thursday, while hearing a PIL filed by Ashok Kumar Singh, a '\n",
            " 'resident of Kanpur, through his counsel Ashok Pandey.The petitioner, who was '\n",
            " 'at one point district chief of SP in Kanpur, had pointed out that a '\n",
            " 'three-judge bench had, in its order on August 1, 2013, directed further '\n",
            " 'investigation by the ED in connection with the allegations against Amar '\n",
            " 'Singh. It was alleged that as the head of the UP development council, he had '\n",
            " 'misappropriated funds to the amount of Rs 400 crore. An FIR in this regard '\n",
            " 'was registered in Kanpur on October 15, 2009, at Babu Ka Purwa police '\n",
            " 'station.[related=[psr]“Our prayer was that the ED has neither filed a '\n",
            " 'chargesheet nor any final report in the case. The three-judge bench had '\n",
            " 'ruled, whether it was a final report or a chargesheet, the ED had to take '\n",
            " 'the investigations to a logical conclusion so that the trial can be '\n",
            " 'completed. We had requested the court to take cognizance of the ED report in '\n",
            " 'the matter and direct the CBI to investigate the case further,” said '\n",
            " 'Pandey.Further, the petitioner had made another prayer seeking probe into '\n",
            " 'the reported donation of around Rs 30 crore made by Singh between 2003 and '\n",
            " '2007 to the Clinton Foundation, allegedly in violation of the RBI '\n",
            " 'rules.Passing the order, the court said: “At the present stage…the court '\n",
            " 'should be apprised by the ED…of what steps were taken after the judgement of '\n",
            " 'the full bench of this court on August 1, 2013. The ED shall file an '\n",
            " 'affidavit explaining the position and shall also produce a status report for '\n",
            " 'the perusal of this court.”']\n",
            "[['the', 'allahabad', 'high', 'court', 'has', 'directed', 'the', 'enforcement', 'directorate', 'ed', 'to', 'file', 'status', 'report', 'along', 'with', 'an', 'affidavit', 'in', 'connection', 'with', 'the', 'investigation', 'carried', 'out', 'in', 'connection', 'with', 'the', 'allegations', 'of', 'financial', 'to', 'the', 'tune', 'over', 'rs', 'crore', 'by', 'former', 'samajwadi', 'party', 'leader', 'amar', 'singh', 'the', 'court', 'has', 'fixed', 'october', 'for', 'next', 'hearing', 'division', 'bench', 'of', 'chief', 'justice', 'chandrachud', 'and', 'justice', 'yashwant', 'varma', 'passed', 'the', 'order', 'on', 'thursday', 'while', 'hearing', 'pil', 'filed', 'by', 'ashok', 'kumar', 'singh', 'resident', 'of', 'kanpur', 'through', 'his', 'counsel', 'ashok', 'pandey', 'the', 'petitioner', 'who', 'was', 'at', 'one', 'point', 'district', 'chief', 'of', 'sp', 'in', 'kanpur', 'had', 'pointed', 'out', 'that', 'three', 'judge', 'bench', 'had', 'in', 'its', 'order', 'on', 'august', 'directed', 'further', 'investigation', 'by', 'the', 'ed', 'in', 'connection', 'with', 'the', 'allegations', 'against', 'amar', 'singh', 'it', 'was', 'alleged', 'that', 'as', 'the', 'head', 'of', 'the', 'up', 'development', 'council', 'he', 'had', 'misappropriated', 'funds', 'to', 'the', 'amount', 'of', 'rs', 'crore', 'an', 'fir', 'in', 'this', 'regard', 'was', 'registered', 'in', 'kanpur', 'on', 'october', 'at', 'babu', 'ka', 'purwa', 'police', 'station', 'related', 'psr', 'our', 'prayer', 'was', 'that', 'the', 'ed', 'has', 'neither', 'filed', 'chargesheet', 'nor', 'any', 'final', 'report', 'in', 'the', 'case', 'the', 'three', 'judge', 'bench', 'had', 'ruled', 'whether', 'it', 'was', 'final', 'report', 'or', 'chargesheet', 'the', 'ed', 'had', 'to', 'take', 'the', 'investigations', 'to', 'logical', 'conclusion', 'so', 'that', 'the', 'trial', 'can', 'be', 'completed', 'we', 'had', 'requested', 'the', 'court', 'to', 'take', 'cognizance', 'of', 'the', 'ed', 'report', 'in', 'the', 'matter', 'and', 'direct', 'the', 'cbi', 'to', 'investigate', 'the', 'case', 'further', 'said', 'pandey', 'further', 'the', 'petitioner', 'had', 'made', 'another', 'prayer', 'seeking', 'probe', 'into', 'the', 'reported', 'donation', 'of', 'around', 'rs', 'crore', 'made', 'by', 'singh', 'between', 'and', 'to', 'the', 'clinton', 'foundation', 'allegedly', 'in', 'violation', 'of', 'the', 'rbi', 'rules', 'passing', 'the', 'order', 'the', 'court', 'said', 'at', 'the', 'present', 'stage', 'the', 'court', 'should', 'be', 'apprised', 'by', 'the', 'ed', 'of', 'what', 'steps', 'were', 'taken', 'after', 'the', 'judgement', 'of', 'the', 'full', 'bench', 'of', 'this', 'court', 'on', 'august', 'the', 'ed', 'shall', 'file', 'an', 'affidavit', 'explaining', 'the', 'position', 'and', 'shall', 'also', 'produce', 'status', 'report', 'for', 'the', 'perusal', 'of', 'this', 'court']]\n"
          ],
          "name": "stdout"
        }
      ]
    },
    {
      "cell_type": "code",
      "metadata": {
        "colab": {
          "base_uri": "https://localhost:8080/",
          "height": 124
        },
        "id": "OWEmsSbr8Jdi",
        "outputId": "641ffa0d-3f41-4a31-8a4f-a79825b500a8"
      },
      "source": [
        "data_lemmatized[20]"
      ],
      "execution_count": 90,
      "outputs": [
        {
          "output_type": "execute_result",
          "data": {
            "application/vnd.google.colaboratory.intrinsic+json": {
              "type": "string"
            },
            "text/plain": [
              "'explain why most respected pm state party would never align bjp idea exchange moderate editor chhibber pdp president also express disappointment say should give chance prove claim come hate government rumour join hand bjp will talk recent statement chief minister go say pdp pakistani party look flag say father doesn come point always praise atal vajpayee change see today go lahore invite take in come say few touching word go resolve issue extend hand friendship work alliance partner contrast national conference kick saifuddin soz when vote then become minister vajpayee government present when happen only defend modi breaking point come when announce go time frame poll expect experience have alliance party centre different when form alliance able manipulate leadership rig srinagar election pdp stand more empowerment self rule other thing resolution problem aversion article think meeting point rakesh sinha view modi find modi very authoritative seem grow much more party perhaps people look assertive authoritative perhaps why stock grow hope pray people say divisive true especially stand hope able prove people wrong act differently allow forget think possibility party come experiment happen way back in join hand people tired corruption young guy salahuddin yasin get together point kind jubilation see appreciate vajpayee spite alliance partner allow manipulate election farooq able poll rig election even now see free become issue country doesn become issue when happen set committee snoopgate when person allege die party place where talk money go recently officer board professional examination give half dozen extension high court intervene when say sell medical college seat happen anywhere else country would catch attention medium drug scam naveed government come power seem opposition say assembly young cm recruit retire bureaucrat high post oppose policy re employment give extension hardly governance electricity very bad sometimes talk talk people street protest electricity water then too get tired criticise government can define self rule self rule basic point endorse working group first lift siege state route muzaffarabad rawalakot become gateway central other issue water resource power project most project take get return minimal do homework come rs crore year negotiate loss give amount can use infrastructure third need joint mechanism kashmir can joint advisory council where representative side can meet least twice year endorse working group where present hardly place where graveyard young people militant security force can sweep away joint advisory council will give people symbol hope fourth point would like elect governor would like cent officer state would like see become model become free zone let currency talk self rule parameter constitution can imagine sort day will when take bus hour can go haj rajesh think make progress government well hard part start vajpayee even parliament attack dialogue process start ceasefire confidence building unfortunately thing change thereafter definitely haven see much progress secretary meet speak issue travel rawalakot speak banking facility move ground prawesh lama next few month modi come power how will thing change valley term policy expectation people even celebrate change valley mainstream politic see untouchable consider bad thing aap victory may consider bad thing now mix response muslim state people remember unfortunate incident communal riot happen representation term see make impact section people think modi will able take certain tough decision when take certain decision could question chhibber rally speak article many view change bjp stance pdp opposition bjp anti stance bjp dilute stance think can look opposition when come power alliance bjp able maximum thing do vajpayee rule get package promote tourism get crore electricity as far alliance concern bjp kapoor assembly poll due next year possibility would ally result out when make alliance proper common minimum programme alliance blue when form government believe pdp could promise people finish task force stop bloodshe could use mobile phone regime tunnel would shut pm when reopen security people tell sahab millitant ayenge angle form government common minimum programme successful point time jamat hand hand loot limit account corruption stick drug scam other scam right now there anti alliance anti government shanker say lot nostalgia vajpayee optimism so alliance possible reach as far vajpayee concern just general perception valley whenever indian pm come people shop put black flag when come happen reciprocate also time pm come would talk say will teach lesson say main main why people respect when militancy peak go same day hindu boy kill when talk people include extremely staunch one say matter will able go question authority rakesh sinha impression feel could face anti corruption movement ve see last year get platform young leader party big leave upa aside should wake take fast corruption old man do should do offence mean can number flop film pressure begin build talk pass ordinance pressure build talk lokpal bill consistent constant muhammad zulqarnain talk armed force special removal very beginning implement sayeed claim militancy low why measure take removal then when become home minister militancy start thousand enforce confine valley poll get majority extend also get come power revoke now number militant go down black law will also go militant number go security force do fake encounter why set defence minister say give month will revoke unfortunately government come now go just try appear face anti corruption movement think too late look guest appearance young guy lose old politician think last leg win live much young guy could do come middle thing say thing think credibility say kejriwal contest same seat would vote can say still watch will see how perform go perform calculate need give time how see high court judgment give modi clean chit riot when riot happen criminality morality modi wasn there gun cm responsibility ravish tiwari feel none above will expose pdp show don support valley separatist decide use will become plebiscite say reformative country scared implement very good doesn result apprehension mean year line still where maneesh chhibber when here last time speak next year go face election government seem opinion should do state thing think should do bad failure government disconnect youth when become think young positive people bad view general unfortunate part people die year casualty mostly civilian majority youth student connection militancy people book innocent must first government use palette gun use animal youth boy get hit eye go doctor will police case name will register only state only government use grenade small population very few government job give retired people people begin hate'"
            ]
          },
          "metadata": {
            "tags": []
          },
          "execution_count": 90
        }
      ]
    },
    {
      "cell_type": "code",
      "metadata": {
        "colab": {
          "base_uri": "https://localhost:8080/"
        },
        "id": "YKyj8tpH8Sv4",
        "outputId": "1edab545-109a-4ae8-babe-6b6829ec3f33"
      },
      "source": [
        "len(data_lemmatized)"
      ],
      "execution_count": 91,
      "outputs": [
        {
          "output_type": "execute_result",
          "data": {
            "text/plain": [
              "7843"
            ]
          },
          "metadata": {
            "tags": []
          },
          "execution_count": 91
        }
      ]
    },
    {
      "cell_type": "markdown",
      "metadata": {
        "id": "oFtsb8reG5kJ"
      },
      "source": [
        "Tokenizer:"
      ]
    },
    {
      "cell_type": "code",
      "metadata": {
        "id": "4lEfDs47wMZ6"
      },
      "source": [
        "def tokenizer(sentences):\n",
        "  def sent_to_words(sentences):\n",
        "    for sentence in sentences:\n",
        "      yield(gensim.utils.simple_preprocess(str(sentence), deacc=True))  # deacc=True removes punctuations\n",
        "  tokens=list(sent_to_words(sentences))\n",
        "  return tokens\n"
      ],
      "execution_count": 92,
      "outputs": []
    },
    {
      "cell_type": "code",
      "metadata": {
        "colab": {
          "base_uri": "https://localhost:8080/"
        },
        "id": "3V5s6UJtwZGD",
        "outputId": "ec44e27f-ab06-4cb6-9b2f-226ac8933e68"
      },
      "source": [
        "check=tokenizer(data_lemmatized)\n",
        "len(check)"
      ],
      "execution_count": 93,
      "outputs": [
        {
          "output_type": "execute_result",
          "data": {
            "text/plain": [
              "7843"
            ]
          },
          "metadata": {
            "tags": []
          },
          "execution_count": 93
        }
      ]
    },
    {
      "cell_type": "code",
      "metadata": {
        "colab": {
          "base_uri": "https://localhost:8080/"
        },
        "id": "SMkhEZM50zkQ",
        "outputId": "27551483-5259-48ed-fbf1-ba2f7927a28c"
      },
      "source": [
        "pip install datasketch"
      ],
      "execution_count": 94,
      "outputs": [
        {
          "output_type": "stream",
          "text": [
            "Requirement already satisfied: datasketch in /usr/local/lib/python3.7/dist-packages (1.5.3)\n",
            "Requirement already satisfied: numpy>=1.11 in /usr/local/lib/python3.7/dist-packages (from datasketch) (1.19.5)\n"
          ],
          "name": "stdout"
        }
      ]
    },
    {
      "cell_type": "markdown",
      "metadata": {
        "id": "ZTzggmT_HIud"
      },
      "source": [
        "Minhash implementation : Creation of Forest (equivalent to training in LDA)"
      ]
    },
    {
      "cell_type": "code",
      "metadata": {
        "id": "d9q15-c9spY4"
      },
      "source": [
        "import time\n",
        "from datasketch import MinHash, MinHashLSHForest\n",
        "\n",
        "permutations = 128\n",
        "\n",
        "#Number of Recommendations to return\n",
        "num_recommendations = 1\n",
        "def get_forest(perms):\n",
        "    start_time = time.time()\n",
        "    \n",
        "    minhash = []\n",
        "    \n",
        "    for tok in check:\n",
        "      m = MinHash(num_perm=perms)\n",
        "      for s in tok:\n",
        "          m.update(s.encode('utf8'))\n",
        "      minhash.append(m)\n",
        "        \n",
        "    forest = MinHashLSHForest(num_perm=perms)\n",
        "    \n",
        "    for i,m in enumerate(minhash):\n",
        "        forest.add(i,m)\n",
        "        \n",
        "    forest.index()\n",
        "    \n",
        "    print('It took %s seconds to build forest.' %(time.time()-start_time))\n",
        "    \n",
        "    return forest"
      ],
      "execution_count": 95,
      "outputs": []
    },
    {
      "cell_type": "markdown",
      "metadata": {
        "id": "cfEMbgEpe3mi"
      },
      "source": [
        "Generating quey in the next two cells:\n"
      ]
    },
    {
      "cell_type": "code",
      "metadata": {
        "id": "zXuecFZYIVAU"
      },
      "source": [
        "def preprocess(text):\n",
        "    text = re.sub(r'[^\\w\\s]','',text)\n",
        "    tokens = text.lower()\n",
        "    tokens = tokens.split()\n",
        "    return tokens\n",
        "\n",
        "texta=preprocess(data_lemmatized[5])\n",
        "\n"
      ],
      "execution_count": 103,
      "outputs": []
    },
    {
      "cell_type": "code",
      "metadata": {
        "colab": {
          "base_uri": "https://localhost:8080/"
        },
        "id": "87bIwYNAJFmg",
        "outputId": "ed7a34a7-b02d-4b51-ec27-5803bce2fc59"
      },
      "source": [
        "print(texta)"
      ],
      "execution_count": 104,
      "outputs": [
        {
          "output_type": "stream",
          "text": [
            "['today', 'election', 'hold', 'opposition', 'boycott', 'shubhajit', 'find', 'country', 'seek', 'retain', 'identity', 'grow', 'islamic', 'influence', 'unfinished', 'business', 'mamoon', 'worried', 'man', 'today', 'year', 'old', 'history', 'professor', 'warn', 'child', 'would', 'snap', 'relation', 'follow', 'extremist', 'ideology', 'spread', 'political', 'force', 'country', 'bangladesh', 'head', 'poll', 'today', 'elect', 'th', 'parliament', 'mamoon', 'many', 'other', 'citizen', 'country', 'election', 'usual', 'issue', 'corruption', 'economy', 'law', 'order', 'election', 'centre', 'very', 'idea', 'bangladesh', 'should', 'secular', 'democracy', 'theocratic', 'state', 'islamic', 'nation', 'protest', 'call', 'opposition', 'bnp', 'align', 'islamist', 'more', 'people', 'kill', 'clash', 'past', 'half', 'month', 'bnp', 'boycott', 'poll', 'call', 'farce', 'ask', 'people', 'stay', 'away', 'statement', 'when', 'call', 'hour', 'begin', 'morning', 'include', 'polling', 'day', 'bnp', 'say', 'one', 'home', 'abroad', 'will', 'recognise', 'election', 'government', 'will', 'appear', 'anew', 'illegal', 'structure', 'more', 'lawmaker', 'already', 'elect', 'unconteste', 'boycott', 'bnp', 'lead', 'alliance', 'other', 'political', 'party', 'say', 'should', 'resign', 'election', 'will', 'rig', 'bnp', 'also', 'accuse', 'government', 'push', 'country', 'civil', 'war', 'when', 'poll', 'date', 'announce', 'protest', 'strike', 'blockade', 'lead', 'loss', 'crore', 'crore', 'rupee', 'day', 'mamoon', 'attack', 'time', 'jail', 'once', 'liberal', 'voice', 'regime', 'say', 'society', 'polarise', 'question', 'ideological', 'warfare', 'lead', 'bnp', 'combine', 'first', 'bnp', 'identity', 'count', 'muslim', 'first', 'oppose', 'bangladesh', 'separation', 'recognise', 'political', 'party', 'commission', 'continue', 'bearing', 'poll', 'strategie', 'election', 'predict', 'mamoon', 'will', 'long', 'term', 'impact', 'crore', 'people', 'bangladesh', 'cent', 'age', 'why', 'worry', 'child', 'such', 'circumstance', 'bnp', 'boycott', 'ensure', 'league', 'return', 'power', 'seat', 'parliament', 'portend', 'worrying', 'signal', 'official', 'reason', 'opposition', 'boycott', 'poll', 'previous', 'time', 'when', 'election', 'preside', 'party', 'caretaker', 'government', 'ballot', 'cast', 'watch', 'regime', 'brute', 'majority', 'parliament', 'carry', 'amendment', 'change', 'caretaker', 'system', 'just', 'month', 'ago', 'dhaka', 'street', 'reverberate', 'completely', 'different', 'protest', 'lead', 'government', 'establish', 'crime', 'tribunal', 'prosecute', 'help', 'participate', 'war', 'crime', 'war', 'convict', 'leader', 'kill', 'person', 'rape', 'year', 'old', 'girl', 'war', 'life', 'term', 'award', 'anger', 'many', 'demand', 'short', 'capital', 'punishment', 'know', 'butcher', 'mirpur', 'thousand', 'hold', 'protest', 'famous', 'landmark', 'shahbag', 'square', 'protest', 'lead', 'mostly', 'bear', 'call', 'square', 'moment', 'order', 'recognise', 'next', 'month', 'court', 'award', 'death', 'hang', 'apart', 'tribunal', 'try', 'convict', 'other', 'top', 'leader', 'recent', 'month', 'now', 'backlash', 'many', 'see', 'election', 'event', 'lead', 'as', 'throwback', 'editor', 'base', 'say', 'witness', 'repeat', 'war', 'sustain', 'secular', 'democratic', 'independent', 'noor', 'actor', 'turn', 'politician', 'say', 'unfinished', 'war', 'legacy', 'reflect', 'today', 'election', 'modern', 'muslim', 'state', 'can', 'secular', 'state', 'non', 'secular', 'state', 'say', 'information', 'belong', 'also', 'see', 'government', 'prosecution', 'war', 'criminal', 'effort', 'cleanse', 'legacy', 'year', 'military', 'rule', 'country', 'ban', 'lift', 'period', 'bnp', 'lead', 'government', 'see', 'close', 'army', 'military', 'rule', 'link', 'bring', 'religious', 'fanatic', 'politic', 'want', 'clear', 'debris', 'military', 'rule', 'fanaticism', 'pledge', 'rectify', 'mistake', 'make', 'military', 'say', 'question', 'criticism', 'direct', 'country', 'ill', 'bnp', 'vice', 'chairman', 'former', 'foreign', 'call', 'theological', 'organisation', 'extremist', 'outfit', 'believe', 'eliminate', 'view', 'instead', 'eliminate', 'should', 'make', 'behave', 'believe', 'drive', 'away', 'will', 'solve', 'problem', 'country', 'want', 'influence', 'come', 'extremism', 'say', 'possible', 'only', 'time', 'will', 'tell', 'religion', 'teach', 'how', 'co', 'exist', 'different', 'view', 'say', 'seek', 'distance', 'party', 'ban', 'add', 'alliance', 'mathematical', 'electoral', 'ideological', 'insist', 'outfit', 'reach', 'exaggerate', 'impact', 'less', 'cent', 'voter', 'crucial', 'constituency', 'filmmaker', 'make', 'documentary', 'call', 'ultimate', 'screen', 'last', 'month', 'say', 'laughable', 'establish', 'bank', 'insurance', 'company', 'give', 'motocycle', 'student', 'establish', 'islamic', 'bank', 'islamic', 'hospital', 'pharmacy', 'insurance', 'company', 'control', 'bus', 'service', 'cent', 'bus', 'city', 'massive', 'empire', 'say', 'worry', 'more', 'vast', 'terror', 'network', 'organise', 'covert', 'terrorist', 'network', 'various', 'name', 'member', 'send', 'late', 'armed', 'organisation', 'should', 'ban', 'politic', 'bnp', 'even', 'make', 'member', 'minister', 'government', 'say', 'fact', 'influence', 'difficult', 'tie', 'regime', 'period', 'terror', 'training', 'camp', 'country', 'mushroom', 'several', 'leader', 'terrorist', 'outfit', 'say', 'live', 'dhaka', 'high', 'profile', 'case', 'time', 'interception', 'truck', 'carry', 'explosive', 'ulfa', 'functionary', 'find', 'involve', 'most', 'leader', 'bar', 'underground', 'only', 'public', 'face', 'abdur', 'speak', 'express', 'fourth', 'floor', 'apartment', 'central', 'right', 'rubbish', 'allegation', 'play', 'role', 'terrorist', 'activity', 'propaganda', 'keep', 'mile', 'distance', 'last', 'go', 'when', 'meet', 'then', 'attorney', 'general', 'soli', 'sorabjee', 'lawyer', 'now', 'take', 'lead', 'open', 'talk', 'ready', 'engage', 'should', 'keep', 'closed', 'mind', 'razzak', 'defence', 'counsel', 'also', 'see', 'wrong', 'become', 'more', 'islamic', 'western', 'concept', 'politics', 'religion', 'mix', 'religion', 'social', 'political', 'strand', 'too', 'look', 'bank', 'school', 'hospital', 'when', 'ask', 'violence', 'street', 'say', 'deny', 'political', 'right', 'can', 'hold', 'meeting', 'most', 'leader', 'underground', 'only', 'visible', 'political', 'work', 'hold', 'meeting', 'police', 'come', 'say', 'conspire', 'state', 'razzak', 'also', 'call', 'hang', 'judicial', 'murder', 'want', 'trial', 'international', 'standard', 'international', 'community', 'oppose', 'trial', 'trial', 'divide', 'nation', 'realise', 'corner', 'paint', 'strident', 'tone', 'brand', 'politic', 'bnp', 'become', 'more', 'guard', 'first', 'reflection', 'silence', 'hang', 'only', 'grouse', 'process', 'individual', 'commit', 'crime', 'humanity', 'process', 'justice', 'should', 'transparent', 'meet', 'international', 'standard', 'necessary', 'will', 'allow', 'expert', 'process', 'law', 'emotion', 'say', 'chowdhury', 'medium', 'report', 'lately', 'talk', 'distance', 'bnp', 'silence', 'leader', 'prosecute', 'election', 'hold', 'instead', 'caretaker', 'government', 'issue', 'bnp', 'lead', 'opposition', 'combine', 'belief', 'can', 'help', 'claw', 'back', 'forget', 'quote', 'report', 'say', 'refer', 'takeover', 'military', 'back', 'caretaker', 'government', 'stay', 'power', 'around', 'year', 'most', 'observer', 'bangladesh', 'note', 'bickering', 'caretaker', 'government', 'also', 'stem', 'personal', 'rivalry', 'country', 'lead', 'lady', 'bnp', 'chief', 'confine', 'house', 'last', 'refuse', 'budge', 'say', 'avoid', 'talk', 'worryingly', 'bangladesh', 'international', 'community', 'question', 'credibility', 'election', 'refuse', 'send', 'observer', 'say', 'condition', 'conducive', 'transparent', 'poll', 'evident', 'today', 'poll', 'last', 'word', 'hint', 'election', 'could', 'hold', 'talk', 'bnp', 'cut', 'tie', 'most', 'believe', 'round', 'election', 'may', 'just', 'month', 'away', 'matter', 'political', 'party', 'say', 'official', 'invokes', 'reaction', 'political', 'spectrum', 'important', 'neighbour', 'work', 'incumbent', 'government', 'smooth', 'bnp', 'lead', 'government', 'primarily', 'suspect', 'terror', 'link', 'ally', 'help', 'able', 'neutralise', 'terror', 'outfit', 'operate', 'bangladesh', 'soil', 'completely', 'rosy', 'picture', 'decision', 'give', 'duty', 'free', 'access', 'textile', 'industry', 'help', 'country', 'become', 'major', 'player', 'global', 'textile', 'inability', 'deliver', 'land', 'boundary', 'agreement', 'water', 'sharing', 'deal', 'see', 'bangladesh', 'major', 'disappointment', 'government', 'now', 'introduce', 'bill', 'parliament', 'keep', 'hope', 'regard', 'ratification', 'land', 'alive', 'say', 'more', 'could', 'do', 'refer', 'water', 'sharing', 'agreement', 'say', 'joint', 'management', 'river', 'can', 'turn', 'water', 'sorrow', 'water', 'give', 'leg', 'government', 'bid', 'pit', 'country', 'bengali', 'identity', 'rise', 'islamism', 'decision', 'hold', 'joint', 'celebration', 'birth', 'anniversary', 'rabindranath', 'tagore', 'close', 'door', 'make', 'clear', 'party', 'come', 'power', 'maintain', 'congenial', 'atmosphere', 'sky', 'limit', 'visit', 'assure', 'indian', 'leadership', 'want', 'look', 'future', 'past']\n"
          ],
          "name": "stdout"
        }
      ]
    },
    {
      "cell_type": "markdown",
      "metadata": {
        "id": "jgtUg7K2HQVJ"
      },
      "source": [
        "**Prediction Process :**"
      ]
    },
    {
      "cell_type": "code",
      "metadata": {
        "id": "qi_k4A5P2m4H"
      },
      "source": [
        "def predict(text, df, perms, num_results, forest):\n",
        "    start_time = time.time()\n",
        "    \n",
        "    tokens = text\n",
        "    m = MinHash(num_perm=perms)\n",
        "    for s in tokens:\n",
        "        m.update(s.encode('utf8'))\n",
        "        \n",
        "    idx_array = np.array(forest.query(m, num_results))\n",
        "    if len(idx_array) == 0:\n",
        "        return None # if your query is empty, return none\n",
        "    \n",
        "    result = df.iloc[idx_array]['Article']\n",
        "    \n",
        "    print('It took %s seconds to query forest.' %(time.time()-start_time))\n",
        "    \n",
        "    return result"
      ],
      "execution_count": 98,
      "outputs": []
    },
    {
      "cell_type": "code",
      "metadata": {
        "colab": {
          "base_uri": "https://localhost:8080/"
        },
        "id": "JMQfTJbg4jO3",
        "outputId": "a2692024-b14f-4f1b-9745-1c4ffdef652f"
      },
      "source": [
        "forest = get_forest(permutations)"
      ],
      "execution_count": 82,
      "outputs": [
        {
          "output_type": "stream",
          "text": [
            "It took 36.946781635284424 seconds to build forest.\n"
          ],
          "name": "stdout"
        }
      ]
    },
    {
      "cell_type": "code",
      "metadata": {
        "colab": {
          "base_uri": "https://localhost:8080/"
        },
        "id": "oTOar0pU4zxe",
        "outputId": "9d037dd3-d476-4de4-a6ac-3371f701f624"
      },
      "source": [
        "num_recommendations = 10\n",
        "result = predict(texta, df, permutations, num_recommendations, forest)\n",
        "print('\\n Top Recommendation(s) is(are) \\n', result)"
      ],
      "execution_count": 105,
      "outputs": [
        {
          "output_type": "stream",
          "text": [
            "It took 0.023380517959594727 seconds to query forest.\n",
            "\n",
            " Top Recommendation(s) is(are) \n",
            " 4224    About this series — \\nAh, 2020: The year when ...\n",
            "5       With todays elections being held under an Opp...\n",
            "6       With todays elections being held under an Opp...\n",
            "1030    Retd Delhi HC Chief Justice and the man behind...\n",
            "1095    In a curious submission,the government on Frid...\n",
            "2322    The Goa Police has sought additional security ...\n",
            "2007    Twenty-seven South Asian workers,including 24 ...\n",
            "4154    Read more from our '2020, the year of...' seri...\n",
            "604     Fair,transparent court martial proceedings wou...\n",
            "4478    By Meredith Jones\\nKim Kardashian West has ann...\n",
            "Name: Article, dtype: object\n"
          ],
          "name": "stdout"
        }
      ]
    },
    {
      "cell_type": "code",
      "metadata": {
        "colab": {
          "base_uri": "https://localhost:8080/"
        },
        "id": "-dwQw_yZ9EFC",
        "outputId": "67b93861-da96-4c29-c118-73b4f407a84b"
      },
      "source": [
        "  print(data_lemmatized[5])"
      ],
      "execution_count": 113,
      "outputs": [
        {
          "output_type": "stream",
          "text": [
            "today election hold opposition boycott shubhajit find country seek retain identity grow islamic influence unfinished business mamoon worried man today year old history professor warn child would snap relation follow extremist ideology spread political force country bangladesh head poll today elect th parliament mamoon many other citizen country election usual issue corruption economy law order election centre very idea bangladesh should secular democracy theocratic state islamic nation protest call opposition bnp align islamist more people kill clash past half month bnp boycott poll call farce ask people stay away statement when call hour begin morning include polling day bnp say one home abroad will recognise election government will appear anew illegal structure more lawmaker already elect unconteste boycott bnp lead alliance other political party say should resign election will rig bnp also accuse government push country civil war when poll date announce protest strike blockade lead loss crore crore rupee day mamoon attack time jail once liberal voice regime say society polarise question ideological warfare lead bnp combine first bnp identity count muslim first oppose bangladesh separation recognise political party commission continue bearing poll strategie election predict mamoon will long term impact crore people bangladesh cent age why worry child such circumstance bnp boycott ensure league return power seat parliament portend worrying signal official reason opposition boycott poll previous time when election preside party caretaker government ballot cast watch regime brute majority parliament carry amendment change caretaker system just month ago dhaka street reverberate completely different protest lead government establish crime tribunal prosecute help participate war crime war convict leader kill person rape year old girl war life term award anger many demand short capital punishment know butcher mirpur thousand hold protest famous landmark shahbag square protest lead mostly bear call square moment order recognise next month court award death hang apart tribunal try convict other top leader recent month now backlash many see election event lead as throwback editor base say witness repeat war sustain secular democratic independent noor actor turn politician say unfinished war legacy reflect today election modern muslim state can secular state non secular state say information belong also see government prosecution war criminal effort cleanse legacy year military rule country ban lift period bnp lead government see close army military rule link bring religious fanatic politic want clear debris military rule fanaticism pledge rectify mistake make military say question criticism direct country ill bnp vice chairman former foreign call theological organisation extremist outfit believe eliminate view instead eliminate should make behave believe drive away will solve problem country want influence come extremism say possible only time will tell religion teach how co exist different view say seek distance party ban add alliance mathematical electoral ideological insist outfit reach exaggerate impact less cent voter crucial constituency filmmaker make documentary call ultimate screen last month say laughable establish bank insurance company give motocycle student establish islamic bank islamic hospital pharmacy insurance company control bus service cent bus city massive empire say worry more vast terror network organise covert terrorist network various name member send late armed organisation should ban politic bnp even make member minister government say fact influence difficult tie regime period terror training camp country mushroom several leader terrorist outfit say live dhaka high profile case time interception truck carry explosive ulfa functionary find involve most leader bar underground only public face abdur speak express fourth floor apartment central right rubbish allegation play role terrorist activity propaganda keep mile distance last go when meet then attorney general soli sorabjee lawyer now take lead open talk ready engage should keep closed mind razzak defence counsel also see wrong become more islamic western concept politics religion mix religion social political strand too look bank school hospital when ask violence street say deny political right can hold meeting most leader underground only visible political work hold meeting police come say conspire state razzak also call hang judicial murder want trial international standard international community oppose trial trial divide nation realise corner paint strident tone brand politic bnp become more guard first reflection silence hang only grouse process individual commit crime humanity process justice should transparent meet international standard necessary will allow expert process law emotion say chowdhury medium report lately talk distance bnp silence leader prosecute election hold instead caretaker government issue bnp lead opposition combine belief can help claw back forget quote report say refer takeover military back caretaker government stay power around year most observer bangladesh note bickering caretaker government also stem personal rivalry country lead lady bnp chief confine house last refuse budge say avoid talk worryingly bangladesh international community question credibility election refuse send observer say condition conducive transparent poll evident today poll last word hint election could hold talk bnp cut tie most believe round election may just month away matter political party say official invokes reaction political spectrum important neighbour work incumbent government smooth bnp lead government primarily suspect terror link ally help able neutralise terror outfit operate bangladesh soil completely rosy picture decision give duty free access textile industry help country become major player global textile inability deliver land boundary agreement water sharing deal see bangladesh major disappointment government now introduce bill parliament keep hope regard ratification land alive say more could do refer water sharing agreement say joint management river can turn water sorrow water give leg government bid pit country bengali identity rise islamism decision hold joint celebration birth anniversary rabindranath tagore close door make clear party come power maintain congenial atmosphere sky limit visit assure indian leadership want look future past\n"
          ],
          "name": "stdout"
        }
      ]
    },
    {
      "cell_type": "code",
      "metadata": {
        "colab": {
          "base_uri": "https://localhost:8080/"
        },
        "id": "e_FW9oRrLvUP",
        "outputId": "28a82673-fb4b-4a98-ef2e-9a0d8e25f5e2"
      },
      "source": [
        "  print(data_list[1030])"
      ],
      "execution_count": 114,
      "outputs": [
        {
          "output_type": "stream",
          "text": [
            "Retd Delhi HC Chief Justice and the man behind a landmark verdict decriminalising homosexuality,Justice  A P Shah feels the Supreme Court setting aside that order is unfortunate. At this Idea Exchange moderated by Senior Editor (Legal Affairs) Maneesh Chhibber,he also talks about his new assignment as Law Commission chief,where he is looking into electoral reforms,live-in relationships and age of juvenilityManeesh Chhibber: Can you explain how you wrote your Section 377 judgment?I wouldnt like to comment on the Supreme Court judgment but that doesnt bar me from speaking about the rights of LGBTs,the Constitutional morality we talked about in the high court case,and the governments position. Let me start with this  some speak of this as a western disease. First of all,it is not western. Temple imagery and essential scriptures show there is some evidence of homosexuality being practised in this country… The British brought in Section 377 and there is the presumption that one of the reasons was (they feared) their army and daughters would be tainted by Oriental vices… What is so startling is that Section 377 travelled back to England. Later it was repealed,in the sense that their judicial committee recommended that for consenting adults it should not be a crime. This is the position in almost all of Europe,US.There are critical nuances of the (Supreme Court) judgment which I would not like to go into,but I would like to tell you about how far it is permissible for the State to legislate on the ground of public morality. What is envisaged by the Constitution is not popular morality. Probably public morality is the reflection of the moral normative values of the majority of the population,but Constitutional morality derives its contents from the values of the Constitution.For instance,untouchability was approved by the majority,but the Constitution prohibited untouchability as a part of social engineering. Sati was at one time approved by the majority,but in todays world,it would be completely inconsistent with the Constitution… In public morality and Constitutional morality,there might be meeting points. For instance,gambling. That would be prohibited by law,and thats also the perception of public morality.I think the real answer to this debate is Constitutional morality. And this is the most important point  it has to be traced to the counter-majoritarian role of the judiciary. A modern democracy is based on two principles  of majority rule and the need to protect fundamental rights. The very purpose of fundamental rights is to withdraw certain subjects from the vicissitudes of political controversy,to place them beyond the reach of majorities,and establish them as legal principles to be applied by the courts. It is the job of the judiciary to balance the principles ensuring that the government on the basis of numbers does not override fundamental rights.I would like to refer to my own notes and preparation. In case of a moral legislation,when it is being reviewed by a Constitutional court,then the rule of majority rules should not count,because if the issue of morality is to be decided by the majority,as represented by the legislature and Parliament,then the fundamental right has no meaning. It is to be decided on the basis of Constitutional values and not majority rule.About homosexuality being a disease… this is no longer treated as a disease or a disorder. There is near unanimous medical,psychiatric opinion that it is just another expression of human sexuality. With this,I come to the last part,that What is the harm to the LGBT (with this law),that ultimately these provisions are not enforced. It is true that in the last 150 years there might have been 200 prosecutions… But even when these provisions are not enforced,they reduce sexual minorities to  what one author (in a US judgment) has referred to  unapprehended felons.Apart from the misery and fear,a few more of the consequences of such laws are to legitimise and encourage blackmail,police and private violence,and discrimination. We could see some evidence that was placed before us,what is called the Lucknow incident. This was a support group to create awareness about AIDS etc,they were arrested,and although they should have been released on bail immediately,they remained in custody for more than two months because of Section 377.Rakesh Sinha: What was the first thought that crossed your mind when the Supreme Court overturned your ruling?That it is unfortunate.Coomi Kapoor: One reason for the conservativeness of the judgments of courts may be the ages of the judges.I was 62,about to retire (at the time he gave the Section 377 judgment).Seema Chishti: Do you think the big mistake in the rush for criminal law amendment in the wake of the December 16 gangrape was to not make it gender neutral? If that was made gender neutral,and you recognised man to man harassment,it would take away the need for 377?There was an urgent need to make certain changes in the existing rape laws,there cannot be two opinions on that. I think it was touched with haste. Not only were there some lacunae but also it should have gone beyond the provisions which they made. Perhaps the government was not prepared to commit to the  other reforms suggested by the Justice Verma committee.Seema Chishti: Given the public mood to clean up things,the Lokpal is being seen as a very important tool. Do you think we are running into a problem? We anyway had a problem about judges appointing themselves,and now we have a Lokpal who sits in judgment over elected persons. Who is going to monitor the monitors?When the idea of appointing a Lokpal was mooted,it was on the lines of the institution of ombudsman  in many countries. Ombudsman is not necessarily an anti-corruption body,its about good governance. In India,administrative committees reports found that this institution was necessary to fight corruption in high places. We have made a sort of an amalgamation of ombudsman and anti-corruption body,with more emphasis on anti-corruption. I have seen the Bills,appeared before the select committee of the present Lokpal Bill,and had seen the Jan Lokpal Bill conceived by Arvind Kejriwal and Prashant Bhushan. The Jan Lokpal Bill,I feel,is creating a monster.The first thing is accountability. The other ombudsman institutions are accountable to Parliament,to the legislature. If you create an institution which is neither accountable to the executive nor the legislature,there will be no system of checks and balances.The Lokpal Bill is not as strong as the Jan Lokpal Bill; thankfully,its a much more balanced. The whole idea of the CBI being placed under the control of the Lokpal is not really a bright idea. You should not make one institution so strong that it can override all other institutions and constitutional systems.Seema Chishti: And the judges appointing themselves?Now,there is a Bill,but it is nothing new. In 1990,such a Bill was introduced by Dinesh Goswami. Unfortunately,the government had to go. There have been two reports of the Law Commission suggesting that there should be a judicial commission. In a 1993 judgment,the Supreme Court read the word consultation to mean concurrence,and this is how the primacy is vested in the Chief Justice of India. It has been very strongly criticised. First,its not transparent,and second,there is no input about the ability of a possible candidate because its only a judges committee,sitting in a closed room deciding about appointments,elevations,more like a club. It has encouraged a lot of sycophancy. Thankfully,the government has brought the Bill.  Prawesh Lama: There have been cases of rape law being misused. Recently,an NGO director committed suicide after being accused of assault. Should there be a mechanism to ensure laws arent misused?It is Indian tendency to give knee-jerk reactions. After the episode of December 2012,there were reactions. We go to extremes and forget rationality. Also,these laws will not work unless we have police reforms and judicial reforms simultaneously. What is the use of a very strict law if police are lacking in integrity or are inefficient?Aneesha Mathur: The Delhi High Court has consistently given judgments saying that there should be a re-look at how police are dealing with these laws. Even in the Section 377 judgment,the Supreme Court said that exactly defining an unnatural act is not possible,and well have to see how the courts deal with it. What can the judiciary do to ensure theres no misuse?The judiciary has its limitations. I know of half a dozen judgments of the Supreme Court on improving the present conditions,but there is no change in the situation. One of the criticisms labelled against PIL jurisdiction is that judiciary has to rely on the good faith of the executive. Have the orders passed on PILs changed the lives of ordinary Indians? Judiciary is no substitute for political activism or for legislative processes.Krishna UPPULURI*: Indias Deputy Consul General in New York Devyani Khobragade has been arrested as per the US laws. Can we use Indian laws to prosecute homosexual diplomats?This would be going beyond the diplomatic limits.Utkarsh Anand: Do you think Justice A K Ganguly should step down?I should not talk on this issue.Utkarsh Anand: A Supreme Court Committee was constituted to inquire into the allegations against him. Should the committee have indicted him while simultaneously saying that we dont have jurisdiction over retired judges?It was a critical situation for the court. When something leaked in the media,the whole institution came under a cloud. What he was saying is absolutely correct because,even as per the Vishakha guidelines,the case would not fall within the powers of the Supreme Court Committee. But if the committee had simply said that it has no jurisdiction,it would have reflected very badly on the institution. I think the committee was right,the three judges were right. I read the order as an assurance to the people that the institution cares for these matters,though they cant take any action.Maneesh Chhibber: One of the biggest problems of the judiciary is that it is a most exclusive club. Any transparency law,they are the last ones to implement it. Dont you think this hurts the institution?I think transparency is the hallmark of any judiciary. All administrative decisions taken by the court should be on the website  how much is spent by the institution,how many cases are disposed of. All this information,and not only about pendency and disposal by the judges but also the entire functioning of the court should be in the public domain.Ankita Mahendru*: What is your view on the legal process followed by the US in the arrest of Devyani Khobragade.What I read in your newspaper is that this is the standard procedure. Where we are really missing the point is about the victim. What about the maid?Amulya Gopalakrishnan: A lot of feminist activists want the rape law to be made gender specific for the victim and gender neutral for the perpetrator. Parliament did not do that. A lot of men who are raped are left out. Is it possible to draft a law like that?The existing provisions can be slightly amended so as to make them gender neutral. The draft is not bad,it can be improved.Vandita Mishra: Over the past few years,there has been a weakening of the political executive and the legislature. Parliament has not functioned as it should have. That has led to the judiciary overreaching in many cases. Do you think there are dangers to this?After the Emergency,the judiciary took up the role of a protector of human rights of the marginalised and the disadvantaged. If you look at the PILs entertained by courts in those times,they were in the nature of social action,social interest litigation,not really a PIL. Slowly,the court expanded its jurisdiction and then we had (PILs on) good governance,corruption-free government or the rule of law,judicial appointments. But what happened after 2001 is that you could file a PIL about anything under the sun. Many of these PILs are not connected with human rights issues and that is the real danger. Some of the PILs entertained were about monkey menace,sealing of shops,traffic management or role of tourists in wildlife sanctuary. Just see to what extent courts have gone into policymaking. One example is the river linking case. Almost all experts said that it is not feasible. In spite of that,the court issued directions. Nothing happened thereafter,that is a different issue. Judicial activism is for issues for which there was earlier a legislative solution. This could be almost touching judicial imperialism or judicial adventurism.  The other problem is the creeping eliticism in the judiciary. I was shocked to see so much concern about the occupants of the Campa Cola building among the media and judiciary. What about the thousands of families who,for some beautification of the city and Commonwealth Games,are asked to move 20 km away from Delhi?Maneesh Chhibber: In its review petition in the Section 377 case,the Centre is saying that while lawmaking is the sole responsibility of Parliament,its the task of the court to judge the constitutional validity of laws. Isnt the executive ceding to the judiciary?The court has to decide when it comes to a human rights issue. But if it is a policy matter,the legislature has precedence. If the Delhi High Court was right in its conclusion that there is violation of Articles 14,15 and 19 and 21  if that is the position  then it is the court which could deal with it,even if there is no amendment in the law. But that does not absolve the government from taking the call and making the amendment. They could have done it when the laws were changed in the wake of the Delhi gangrape case. There might be a lack of political will.Rakesh Sinha: There is an ongoing debate on the age of juvenility. But child rights workers have concerns too.We have taken it up,appointed an experts committee in the Law Commission.Muzamil Jaleel: What is your view on amendments in the UAPA or the Armed Forces Special Powers Act.I have spoken against these laws several times. I feel that certain rights should not be compromised. It is the burden of democratic countries that they have to deal with the problem of terrorism,and they have to fight it with one arm tied down. Prawesh Lama: Shouldnt police officers be punished when they arrest an innocent person and brand him a terrorist?Apart from action against the concerned police officers,we should have laws to give some remedy to the person who has been wronged by the system.Transcribed by Aditi Vatsa and Aneesha Mathur/These are EXIMS students\n"
          ],
          "name": "stdout"
        }
      ]
    },
    {
      "cell_type": "code",
      "metadata": {
        "colab": {
          "base_uri": "https://localhost:8080/"
        },
        "id": "xgc4ZcNDZo9L",
        "outputId": "70c0c67b-54ef-4c8d-b85c-f17ad9ebdde6"
      },
      "source": [
        "  print(data_list[3])"
      ],
      "execution_count": 109,
      "outputs": [
        {
          "output_type": "stream",
          "text": [
            "The interrogation of two marijuana peddlers about the source of the contraband took the police to a two-and-half-acre plot on Mula-Mutha riverbed in Mundhwa where officers discovered 450 cannabis plants that had been thriving there for the past several months. Based on the probe till now, cops believe that the growth of the cannabis could have happened because of the seed dispersal from initial natural growth.\n",
            "On February 13, the anti-narcotics cell of Pune police received a tip-off about two persons from Mundhwa allegedly peddling marijuana on a bike. A trap was laid in Mundhwa and Suraj Atole (19) and Nitin Adagale (22) — residents of Mundhwa and working as labourers on construction site in the nearby area — were arrested.\n",
            "Police initially recovered 1.6 kg marijuana worth Rs 35,000. Cell in-charge Inspector Sunil Tambe said, “Initially, the two were not telling us from where they had been procuring the contraband. But after sustained interrogation, they took us to a spot in the riverbed in Mundhwa. The secluded patch is located behind a lot of major IT companies, under-construction buildings and plush housing societies.”\n",
            "Police said the land is owned by the irrigation department. The police team found 450 cannabis plants weighing over 64 kg and worth Rs 5.6 lakh, which were removed after a panchnama. The plants were growing at random spots and even in the swampy patches.\n",
            "When Newsline visited the spot, Raju Kamble, a shepherd, said: “We have seen some people moving suspiciously in the area. But we never dared to ask as we feared they would be criminals or anti-social elements. We also had a doubt that they would be looking for marijuana, but we never paid attention to what they were up to.”\n",
            "Inspector Tambe added, “Prima facie, this looks like a growth due to seed dispersal from initial natural growth. The two suspects plucked leaves from these plants and sold them in and around upmarket areas like Kondhwa, Mundhwa and Koregaon Park. We are probing whether other people also came to the spot or were looking after the plants.”\n",
            "The investigating team comprised API Vinod Patil, PSI Arun Gaud and constables Ashok Pernekar, Rakesh Gujar, Ramdas Jadhav, Krushna Nighalkar, Rajendra Barshinge, Vasudev Patil and Dnyandev Ghanwat.\n"
          ],
          "name": "stdout"
        }
      ]
    },
    {
      "cell_type": "code",
      "metadata": {
        "colab": {
          "base_uri": "https://localhost:8080/"
        },
        "id": "EqlkokgOZrwE",
        "outputId": "22b51e2b-1385-4786-92fb-41ae168f67dd"
      },
      "source": [
        "  print(data_list[4])"
      ],
      "execution_count": 110,
      "outputs": [
        {
          "output_type": "stream",
          "text": [
            "Nine highly decomposed bodies were found stacked on top of each other in a ditch at Pachaspura,six km from the Dimapur DC office complex,Friday afternoon. The victims had been blindfolded,with their hands tied behind and shot in the head from a close range,Karbi Anglong SP Mugdha Jyoti said. One of the bodies has been identified as a Karbi youth from the adjoining Karbi Anglong district in Assam. With the Nagaland police confirming that the bodies bore bullet marks,the Assam Police now suspect that the killings were related to the on-going clash between Karbi and Rengma communities in the Assam district. Meanwhile,a person belonging to the Karbi community was killed when three miscreants opened fire in Kalagaon village under Bokajan police station in Karbi Anglong district around 7 pm Saturday.We have identified one of the bodies to be that of one Harlangbi Ingti (23) of Rongkimi village under Bokajan police station in Karbi Anglong district. He was a student who also had a broiler farm,and had remained missing since December 28 when he had gone to Dimapur in Nagaland for shopping, Mahanta said on Saturday.Four more persons  all Karbis working as construction labourers in Kohima have been reported missing since December 30 after they had informed their families back in Karbi Anglong that they were heading home for New Year,Mahanta said. With all the nine bodies suspected to be of Karbi tribals from Assam,Mahanta added that they might have been killed in retaliation to the attack on Rengma villages in the Assam district. The Rengma is a Naga community with about 10,000 people in Assam and about 60,000 in Nagaland.Meanwhile,Nagaland Chief Minister Neiphiu Rio announced setting up a 4-member Special Investigating Team (SIT) headed by  DIG Liremo Lotha to probe into the killings. Condemning the crime as heinous and repugnant to all norms of civilized human behavior Rio also appealed to the people to remain calm and maintain peace. The Nagaland government also constituted a 3-member high-powered committee headed by state law secretary KN Chisi to carry out a parallel probe.Karbi Anglong district has been witnessing violence in the Chokihola and Borpathar police station areas for the past one week after heavily armed militants belonging to the Karbi Peoples Liberation Tigers (KPLT) had raided two Rengma villages and gunned down nine persons on December 27. Several villages had also been set afire,forcing over 2,000 Rengma Nagas to flee.Meanwhile,the Naga Peoples Movement for Human Rights (NPMHR),Karbi Human Rights Watch (KHRW) and Indigenous Women Forum of North East India (IWFNEI) have appealed to both Rengma and Karbi communities to refrain from provoking each other and come together to identify the factor which triggered the recent spate of violence in Karbi Anglong.\n"
          ],
          "name": "stdout"
        }
      ]
    },
    {
      "cell_type": "code",
      "metadata": {
        "colab": {
          "base_uri": "https://localhost:8080/"
        },
        "id": "XkPjvvjoZwys",
        "outputId": "e723cfcf-75af-4eb1-8d6a-247afac55716"
      },
      "source": [
        "  print(data_list[24])"
      ],
      "execution_count": 111,
      "outputs": [
        {
          "output_type": "stream",
          "text": [
            "With his party having put CM Virbhadra Singh under the scanner for corruption,former chief minister Prem Kumar Dhumal and his MP son Anurag Thakur may find themselves in fresh trouble with the state vigilance set to name them in FIRs.Sources said the investigating agency has got a go-ahead from the government to invoke the strongest provisions in challans proposed to be filed in twin FIRs relating to Himachal Pradesh Cricket Associations (HPCA) irregularities and change of status from a registered society to a company,and demolition of a residential building close to the cricket ground. Anurag is president of HPCA.There is also a third FIR under investigation pertaining to illegal felling of forest trees to built a five-star hotel - The Pavilion - as part of the cricket stadium project. It was decided that challans would be presented in court immediately and all HPCA functionaries and government officials,apart from political leaders,who were found to be involved should also be named in the challans.Sources said officials also discussed possibilities of naming two IAS officers  additional chief secretary (agriculture) Deepak Sanan and former deputy commissioner Kangra R S Gupta,who had handled the case relating to The Pavilion.Sources said the CM,who heads a committee set up to probe HPCA affairs,has given a weeks time to Vigilance to complete investigations.\n"
          ],
          "name": "stdout"
        }
      ]
    },
    {
      "cell_type": "code",
      "metadata": {
        "id": "2hV48e2GZ1F3"
      },
      "source": [
        ""
      ],
      "execution_count": null,
      "outputs": []
    }
  ]
}