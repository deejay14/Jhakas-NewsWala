{
  "nbformat": 4,
  "nbformat_minor": 0,
  "metadata": {
    "colab": {
      "name": "LSH Implementation",
      "provenance": [],
      "collapsed_sections": [],
      "include_colab_link": true
    },
    "kernelspec": {
      "name": "python3",
      "display_name": "Python 3"
    },
    "language_info": {
      "name": "python"
    }
  },
  "cells": [
    {
      "cell_type": "markdown",
      "metadata": {
        "id": "view-in-github",
        "colab_type": "text"
      },
      "source": [
        "<a href=\"https://colab.research.google.com/github/deejay14/Jhakas-NewsWala/blob/main/LSH_Implementation.ipynb\" target=\"_parent\"><img src=\"https://colab.research.google.com/assets/colab-badge.svg\" alt=\"Open In Colab\"/></a>"
      ]
    },
    {
      "cell_type": "code",
      "metadata": {
        "id": "BtOAaVoBtVQs"
      },
      "source": [
        "import numpy as np\n",
        "import pandas as pd\n",
        "import re, nltk, spacy, gensim\n",
        "# Sklearn\n",
        "from sklearn.decomposition import LatentDirichletAllocation, TruncatedSVD\n",
        "from sklearn.feature_extraction.text import CountVectorizer, TfidfVectorizer\n",
        "from sklearn.model_selection import GridSearchCV\n",
        "from pprint import pprint\n",
        "# Plotting tools\n",
        "import matplotlib.pyplot as plt\n",
        "%matplotlib inline\n",
        "#LSH\n",
        "import re                                                                       # usual lemmetisation\n",
        "from pprint import pprint\n",
        "import nltk, spacy, gensim\n",
        "from sklearn.feature_extraction.text import CountVectorizer"
      ],
      "execution_count": 5,
      "outputs": []
    },
    {
      "cell_type": "code",
      "metadata": {
        "colab": {
          "base_uri": "https://localhost:8080/"
        },
        "id": "wkHmDLtmsIid",
        "outputId": "6a5ae9ab-279c-4020-a1f3-fdf2d87b5200"
      },
      "source": [
        " pip install dateparser"
      ],
      "execution_count": 6,
      "outputs": [
        {
          "output_type": "stream",
          "text": [
            "Collecting dateparser\n",
            "\u001b[?25l  Downloading https://files.pythonhosted.org/packages/78/c4/b5ddc3eeac974d85055d88c1e6b62cc492fc1a93dbe3b66a45a756a7b807/dateparser-1.0.0-py2.py3-none-any.whl (279kB)\n",
            "\r\u001b[K     |█▏                              | 10kB 15.0MB/s eta 0:00:01\r\u001b[K     |██▍                             | 20kB 13.7MB/s eta 0:00:01\r\u001b[K     |███▌                            | 30kB 9.6MB/s eta 0:00:01\r\u001b[K     |████▊                           | 40kB 7.9MB/s eta 0:00:01\r\u001b[K     |█████▉                          | 51kB 4.6MB/s eta 0:00:01\r\u001b[K     |███████                         | 61kB 5.1MB/s eta 0:00:01\r\u001b[K     |████████▏                       | 71kB 5.3MB/s eta 0:00:01\r\u001b[K     |█████████▍                      | 81kB 5.5MB/s eta 0:00:01\r\u001b[K     |██████████▌                     | 92kB 6.0MB/s eta 0:00:01\r\u001b[K     |███████████▊                    | 102kB 5.8MB/s eta 0:00:01\r\u001b[K     |████████████▉                   | 112kB 5.8MB/s eta 0:00:01\r\u001b[K     |██████████████                  | 122kB 5.8MB/s eta 0:00:01\r\u001b[K     |███████████████▏                | 133kB 5.8MB/s eta 0:00:01\r\u001b[K     |████████████████▍               | 143kB 5.8MB/s eta 0:00:01\r\u001b[K     |█████████████████▋              | 153kB 5.8MB/s eta 0:00:01\r\u001b[K     |██████████████████▊             | 163kB 5.8MB/s eta 0:00:01\r\u001b[K     |████████████████████            | 174kB 5.8MB/s eta 0:00:01\r\u001b[K     |█████████████████████           | 184kB 5.8MB/s eta 0:00:01\r\u001b[K     |██████████████████████▎         | 194kB 5.8MB/s eta 0:00:01\r\u001b[K     |███████████████████████▍        | 204kB 5.8MB/s eta 0:00:01\r\u001b[K     |████████████████████████▋       | 215kB 5.8MB/s eta 0:00:01\r\u001b[K     |█████████████████████████▊      | 225kB 5.8MB/s eta 0:00:01\r\u001b[K     |███████████████████████████     | 235kB 5.8MB/s eta 0:00:01\r\u001b[K     |████████████████████████████    | 245kB 5.8MB/s eta 0:00:01\r\u001b[K     |█████████████████████████████▎  | 256kB 5.8MB/s eta 0:00:01\r\u001b[K     |██████████████████████████████▍ | 266kB 5.8MB/s eta 0:00:01\r\u001b[K     |███████████████████████████████▋| 276kB 5.8MB/s eta 0:00:01\r\u001b[K     |████████████████████████████████| 286kB 5.8MB/s \n",
            "\u001b[?25hRequirement already satisfied: pytz in /usr/local/lib/python3.7/dist-packages (from dateparser) (2018.9)\n",
            "Requirement already satisfied: python-dateutil in /usr/local/lib/python3.7/dist-packages (from dateparser) (2.8.1)\n",
            "Requirement already satisfied: tzlocal in /usr/local/lib/python3.7/dist-packages (from dateparser) (1.5.1)\n",
            "Requirement already satisfied: regex!=2019.02.19 in /usr/local/lib/python3.7/dist-packages (from dateparser) (2019.12.20)\n",
            "Requirement already satisfied: six>=1.5 in /usr/local/lib/python3.7/dist-packages (from python-dateutil->dateparser) (1.15.0)\n",
            "Installing collected packages: dateparser\n",
            "Successfully installed dateparser-1.0.0\n"
          ],
          "name": "stdout"
        }
      ]
    },
    {
      "cell_type": "code",
      "metadata": {
        "id": "2VNdM2nyz9eG"
      },
      "source": [
        "url='https://raw.githubusercontent.com/deejay14/Jhakas-NewsWala/main/final_fixed_scrapped.csv'    #reads final document\n",
        "df = pd.read_csv(url) "
      ],
      "execution_count": 7,
      "outputs": []
    },
    {
      "cell_type": "code",
      "metadata": {
        "colab": {
          "base_uri": "https://localhost:8080/",
          "height": 406
        },
        "id": "RaneoNmY0R0U",
        "outputId": "20fcdeea-3168-46f9-bc2e-b7c808204e68"
      },
      "source": [
        "df"
      ],
      "execution_count": 8,
      "outputs": [
        {
          "output_type": "execute_result",
          "data": {
            "text/html": [
              "<div>\n",
              "<style scoped>\n",
              "    .dataframe tbody tr th:only-of-type {\n",
              "        vertical-align: middle;\n",
              "    }\n",
              "\n",
              "    .dataframe tbody tr th {\n",
              "        vertical-align: top;\n",
              "    }\n",
              "\n",
              "    .dataframe thead th {\n",
              "        text-align: right;\n",
              "    }\n",
              "</style>\n",
              "<table border=\"1\" class=\"dataframe\">\n",
              "  <thead>\n",
              "    <tr style=\"text-align: right;\">\n",
              "      <th></th>\n",
              "      <th>Unnamed: 0</th>\n",
              "      <th>Title</th>\n",
              "      <th>Article</th>\n",
              "      <th>totalwords</th>\n",
              "    </tr>\n",
              "  </thead>\n",
              "  <tbody>\n",
              "    <tr>\n",
              "      <th>0</th>\n",
              "      <td>0</td>\n",
              "      <td>Rs 400-cr ‘bungling’ by Amar Singh: HC seeks E...</td>\n",
              "      <td>The Allahabad High Court has directed the Enfo...</td>\n",
              "      <td>341</td>\n",
              "    </tr>\n",
              "    <tr>\n",
              "      <th>1</th>\n",
              "      <td>1</td>\n",
              "      <td>J&amp;K HC orders FIR against teacher who fails to...</td>\n",
              "      <td>The J&amp;K High Court on Friday asked a teacher t...</td>\n",
              "      <td>335</td>\n",
              "    </tr>\n",
              "    <tr>\n",
              "      <th>2</th>\n",
              "      <td>2</td>\n",
              "      <td>Crime in Cyberia: an incomplete list of offenders</td>\n",
              "      <td>An unknown Indian hacker has been charged with...</td>\n",
              "      <td>382</td>\n",
              "    </tr>\n",
              "    <tr>\n",
              "      <th>3</th>\n",
              "      <td>3</td>\n",
              "      <td>450 cannabis plants found on govt land in Mundhwa</td>\n",
              "      <td>The interrogation of two marijuana peddlers ab...</td>\n",
              "      <td>372</td>\n",
              "    </tr>\n",
              "    <tr>\n",
              "      <th>4</th>\n",
              "      <td>4</td>\n",
              "      <td>Nagaland: 9 bullet-riddled bodies found,Karbi-...</td>\n",
              "      <td>Nine highly decomposed bodies were found stack...</td>\n",
              "      <td>449</td>\n",
              "    </tr>\n",
              "    <tr>\n",
              "      <th>...</th>\n",
              "      <td>...</td>\n",
              "      <td>...</td>\n",
              "      <td>...</td>\n",
              "      <td>...</td>\n",
              "    </tr>\n",
              "    <tr>\n",
              "      <th>7838</th>\n",
              "      <td>7838</td>\n",
              "      <td>13 dead, one million evacuated in China after ...</td>\n",
              "      <td>At least 18 people were killed due to a landsl...</td>\n",
              "      <td>397</td>\n",
              "    </tr>\n",
              "    <tr>\n",
              "      <th>7839</th>\n",
              "      <td>7839</td>\n",
              "      <td>Book Karnataka, Maharashtra CMs for culpable h...</td>\n",
              "      <td>With the flood situation in the state continui...</td>\n",
              "      <td>500</td>\n",
              "    </tr>\n",
              "    <tr>\n",
              "      <th>7840</th>\n",
              "      <td>7840</td>\n",
              "      <td>Romanian researcher develops disc-shaped flyin...</td>\n",
              "      <td>Razan Sabie, an aerodynamicist who operates fr...</td>\n",
              "      <td>346</td>\n",
              "    </tr>\n",
              "    <tr>\n",
              "      <th>7841</th>\n",
              "      <td>7841</td>\n",
              "      <td>Is asteroid Apophis capable of triggering a ts...</td>\n",
              "      <td>It was around a few months back that Iain McDo...</td>\n",
              "      <td>412</td>\n",
              "    </tr>\n",
              "    <tr>\n",
              "      <th>7842</th>\n",
              "      <td>7842</td>\n",
              "      <td>New 'dengue-like disease' spreading among chil...</td>\n",
              "      <td>The number of children affected by a new disea...</td>\n",
              "      <td>457</td>\n",
              "    </tr>\n",
              "  </tbody>\n",
              "</table>\n",
              "<p>7843 rows × 4 columns</p>\n",
              "</div>"
            ],
            "text/plain": [
              "      Unnamed: 0  ... totalwords\n",
              "0              0  ...        341\n",
              "1              1  ...        335\n",
              "2              2  ...        382\n",
              "3              3  ...        372\n",
              "4              4  ...        449\n",
              "...          ...  ...        ...\n",
              "7838        7838  ...        397\n",
              "7839        7839  ...        500\n",
              "7840        7840  ...        346\n",
              "7841        7841  ...        412\n",
              "7842        7842  ...        457\n",
              "\n",
              "[7843 rows x 4 columns]"
            ]
          },
          "metadata": {
            "tags": []
          },
          "execution_count": 8
        }
      ]
    },
    {
      "cell_type": "code",
      "metadata": {
        "id": "l__za5U867P_",
        "colab": {
          "base_uri": "https://localhost:8080/"
        },
        "outputId": "b815924e-773a-47ce-860f-d500c82b344c"
      },
      "source": [
        "df['Article']=df['Article'].apply(str)\n",
        "data_list = df['Article'].values.tolist()\n",
        "\n",
        "df['Title']=df['Title'].apply(str)\n",
        "data_titles = df['Title'].values.tolist()\n",
        "\n",
        "data_list[:1]"
      ],
      "execution_count": 9,
      "outputs": [
        {
          "output_type": "execute_result",
          "data": {
            "text/plain": [
              "['The Allahabad High Court has directed the Enforcement Directorate (ED) to file a status report, along with an affidavit, in connection with the investigation carried out in connection with the allegations of financial misappropriation to the tune over Rs 400 crore by former Samajwadi Party leader Amar Singh. The court has fixed October 8 for next hearing.A Division Bench of Chief Justice D Y Chandrachud and Justice Yashwant Varma passed the order on Thursday, while hearing a PIL filed by Ashok Kumar Singh, a resident of Kanpur, through his counsel Ashok Pandey.The petitioner, who was at one point district chief of SP in Kanpur, had pointed out that a three-judge bench had, in its order on August 1, 2013, directed further investigation by the ED in connection with the allegations against Amar Singh. It was alleged that as the head of the UP development council, he had misappropriated funds to the amount of Rs 400 crore. An FIR in this regard was registered in Kanpur on October 15, 2009, at Babu Ka Purwa police station.[related=[psr]“Our prayer was that the ED has neither filed a chargesheet nor any final report in the case. The three-judge bench had ruled, whether it was a final report or a chargesheet, the ED had to take the investigations to a logical conclusion so that the trial can be completed. We had requested the court to take cognizance of the ED report in the matter and direct the CBI to investigate the case further,” said Pandey.Further, the petitioner had made another prayer seeking probe into the reported donation of around Rs 30 crore made by Singh between 2003 and 2007 to the Clinton Foundation, allegedly in violation of the RBI rules.Passing the order, the court said: “At the present stage…the court should be apprised by the ED…of what steps were taken after the judgement of the full bench of this court on August 1, 2013. The ED shall file an affidavit explaining the position and shall also produce a status report for the perusal of this court.”']"
            ]
          },
          "metadata": {
            "tags": []
          },
          "execution_count": 9
        }
      ]
    },
    {
      "cell_type": "markdown",
      "metadata": {
        "id": "b_PGMUEzGyUa"
      },
      "source": [
        "Data Cleaning"
      ]
    },
    {
      "cell_type": "code",
      "metadata": {
        "id": "D3rKuIzS0f_g"
      },
      "source": [
        "\n",
        "\n",
        "def get_lemmatized_clean_data(df):\n",
        "    # Convert to list\n",
        "    data = df['Article'].values.tolist()\n",
        "\n",
        "    # Remove Emails\n",
        "    data = [re.sub('\\S*@\\S*\\s?', '', sent) for sent in data]\n",
        "\n",
        "    # Remove new line characters\n",
        "    data = [re.sub('\\s+', ' ', sent) for sent in data]\n",
        "\n",
        "    # Remove distracting single quotes\n",
        "    data = [re.sub(\"\\'\", \"\", sent) for sent in data]\n",
        "\n",
        "    pprint(data[:1])\n",
        "\n",
        "    def sent_to_words(sentences):\n",
        "        for sentence in sentences:\n",
        "            yield(gensim.utils.simple_preprocess(str(sentence), deacc=True))  # deacc=True removes punctuations\n",
        "\n",
        "    data_words = list(sent_to_words(data))\n",
        "\n",
        "    print(data_words[:1])\n",
        "    \n",
        "    def lemmatization(texts, allowed_postags=['NOUN', 'ADJ', 'VERB', 'ADV']):\n",
        "        \"\"\"https://spacy.io/api/annotation\"\"\"\n",
        "        texts_out = []\n",
        "        for sent in texts:\n",
        "            doc = nlp(\" \".join(sent)) \n",
        "            texts_out.append(\" \".join([token.lemma_ if token.lemma_ not in ['-PRON-'] else '' for token in doc if token.pos_ in allowed_postags]))\n",
        "        return texts_out\n",
        "\n",
        "    # Initialize spacy 'en' model, keeping only tagger component (for efficiency)\n",
        "    # Run in terminal: python3 -m spacy download en\n",
        "    nlp = spacy.load('en_core_web_sm', disable=['parser', 'ner'])\n",
        "\n",
        "    # Do lemmatization keeping only Noun, Adj, Verb, Adverb\n",
        "    data_lemmatized = lemmatization(data_words, allowed_postags=['NOUN', 'ADJ', 'VERB', 'ADV'])\n",
        "\n",
        "    return data_lemmatized"
      ],
      "execution_count": 10,
      "outputs": []
    },
    {
      "cell_type": "code",
      "metadata": {
        "colab": {
          "base_uri": "https://localhost:8080/"
        },
        "id": "JQOIJu2d51aO",
        "outputId": "18d260b0-33b6-4d48-b440-0566a68bb75e"
      },
      "source": [
        "data_lemmatized = get_lemmatized_clean_data(df)"
      ],
      "execution_count": 11,
      "outputs": [
        {
          "output_type": "stream",
          "text": [
            "['The Allahabad High Court has directed the Enforcement Directorate (ED) to '\n",
            " 'file a status report, along with an affidavit, in connection with the '\n",
            " 'investigation carried out in connection with the allegations of financial '\n",
            " 'misappropriation to the tune over Rs 400 crore by former Samajwadi Party '\n",
            " 'leader Amar Singh. The court has fixed October 8 for next hearing.A Division '\n",
            " 'Bench of Chief Justice D Y Chandrachud and Justice Yashwant Varma passed the '\n",
            " 'order on Thursday, while hearing a PIL filed by Ashok Kumar Singh, a '\n",
            " 'resident of Kanpur, through his counsel Ashok Pandey.The petitioner, who was '\n",
            " 'at one point district chief of SP in Kanpur, had pointed out that a '\n",
            " 'three-judge bench had, in its order on August 1, 2013, directed further '\n",
            " 'investigation by the ED in connection with the allegations against Amar '\n",
            " 'Singh. It was alleged that as the head of the UP development council, he had '\n",
            " 'misappropriated funds to the amount of Rs 400 crore. An FIR in this regard '\n",
            " 'was registered in Kanpur on October 15, 2009, at Babu Ka Purwa police '\n",
            " 'station.[related=[psr]“Our prayer was that the ED has neither filed a '\n",
            " 'chargesheet nor any final report in the case. The three-judge bench had '\n",
            " 'ruled, whether it was a final report or a chargesheet, the ED had to take '\n",
            " 'the investigations to a logical conclusion so that the trial can be '\n",
            " 'completed. We had requested the court to take cognizance of the ED report in '\n",
            " 'the matter and direct the CBI to investigate the case further,” said '\n",
            " 'Pandey.Further, the petitioner had made another prayer seeking probe into '\n",
            " 'the reported donation of around Rs 30 crore made by Singh between 2003 and '\n",
            " '2007 to the Clinton Foundation, allegedly in violation of the RBI '\n",
            " 'rules.Passing the order, the court said: “At the present stage…the court '\n",
            " 'should be apprised by the ED…of what steps were taken after the judgement of '\n",
            " 'the full bench of this court on August 1, 2013. The ED shall file an '\n",
            " 'affidavit explaining the position and shall also produce a status report for '\n",
            " 'the perusal of this court.”']\n",
            "[['the', 'allahabad', 'high', 'court', 'has', 'directed', 'the', 'enforcement', 'directorate', 'ed', 'to', 'file', 'status', 'report', 'along', 'with', 'an', 'affidavit', 'in', 'connection', 'with', 'the', 'investigation', 'carried', 'out', 'in', 'connection', 'with', 'the', 'allegations', 'of', 'financial', 'to', 'the', 'tune', 'over', 'rs', 'crore', 'by', 'former', 'samajwadi', 'party', 'leader', 'amar', 'singh', 'the', 'court', 'has', 'fixed', 'october', 'for', 'next', 'hearing', 'division', 'bench', 'of', 'chief', 'justice', 'chandrachud', 'and', 'justice', 'yashwant', 'varma', 'passed', 'the', 'order', 'on', 'thursday', 'while', 'hearing', 'pil', 'filed', 'by', 'ashok', 'kumar', 'singh', 'resident', 'of', 'kanpur', 'through', 'his', 'counsel', 'ashok', 'pandey', 'the', 'petitioner', 'who', 'was', 'at', 'one', 'point', 'district', 'chief', 'of', 'sp', 'in', 'kanpur', 'had', 'pointed', 'out', 'that', 'three', 'judge', 'bench', 'had', 'in', 'its', 'order', 'on', 'august', 'directed', 'further', 'investigation', 'by', 'the', 'ed', 'in', 'connection', 'with', 'the', 'allegations', 'against', 'amar', 'singh', 'it', 'was', 'alleged', 'that', 'as', 'the', 'head', 'of', 'the', 'up', 'development', 'council', 'he', 'had', 'misappropriated', 'funds', 'to', 'the', 'amount', 'of', 'rs', 'crore', 'an', 'fir', 'in', 'this', 'regard', 'was', 'registered', 'in', 'kanpur', 'on', 'october', 'at', 'babu', 'ka', 'purwa', 'police', 'station', 'related', 'psr', 'our', 'prayer', 'was', 'that', 'the', 'ed', 'has', 'neither', 'filed', 'chargesheet', 'nor', 'any', 'final', 'report', 'in', 'the', 'case', 'the', 'three', 'judge', 'bench', 'had', 'ruled', 'whether', 'it', 'was', 'final', 'report', 'or', 'chargesheet', 'the', 'ed', 'had', 'to', 'take', 'the', 'investigations', 'to', 'logical', 'conclusion', 'so', 'that', 'the', 'trial', 'can', 'be', 'completed', 'we', 'had', 'requested', 'the', 'court', 'to', 'take', 'cognizance', 'of', 'the', 'ed', 'report', 'in', 'the', 'matter', 'and', 'direct', 'the', 'cbi', 'to', 'investigate', 'the', 'case', 'further', 'said', 'pandey', 'further', 'the', 'petitioner', 'had', 'made', 'another', 'prayer', 'seeking', 'probe', 'into', 'the', 'reported', 'donation', 'of', 'around', 'rs', 'crore', 'made', 'by', 'singh', 'between', 'and', 'to', 'the', 'clinton', 'foundation', 'allegedly', 'in', 'violation', 'of', 'the', 'rbi', 'rules', 'passing', 'the', 'order', 'the', 'court', 'said', 'at', 'the', 'present', 'stage', 'the', 'court', 'should', 'be', 'apprised', 'by', 'the', 'ed', 'of', 'what', 'steps', 'were', 'taken', 'after', 'the', 'judgement', 'of', 'the', 'full', 'bench', 'of', 'this', 'court', 'on', 'august', 'the', 'ed', 'shall', 'file', 'an', 'affidavit', 'explaining', 'the', 'position', 'and', 'shall', 'also', 'produce', 'status', 'report', 'for', 'the', 'perusal', 'of', 'this', 'court']]\n"
          ],
          "name": "stdout"
        }
      ]
    },
    {
      "cell_type": "code",
      "metadata": {
        "colab": {
          "base_uri": "https://localhost:8080/"
        },
        "id": "YKyj8tpH8Sv4",
        "outputId": "1a133ff4-26be-41b2-8f64-2d7ae4fa8678"
      },
      "source": [
        "len(data_lemmatized)"
      ],
      "execution_count": 12,
      "outputs": [
        {
          "output_type": "execute_result",
          "data": {
            "text/plain": [
              "7843"
            ]
          },
          "metadata": {
            "tags": []
          },
          "execution_count": 12
        }
      ]
    },
    {
      "cell_type": "markdown",
      "metadata": {
        "id": "oFtsb8reG5kJ"
      },
      "source": [
        "Tokenizer:"
      ]
    },
    {
      "cell_type": "code",
      "metadata": {
        "id": "4lEfDs47wMZ6"
      },
      "source": [
        "def tokenizer(sentences):\n",
        "  def sent_to_words(sentences):\n",
        "    for sentence in sentences:\n",
        "      yield(gensim.utils.simple_preprocess(str(sentence), deacc=True))  # deacc=True removes punctuations\n",
        "  tokens=list(sent_to_words(sentences))\n",
        "  return tokens\n"
      ],
      "execution_count": 13,
      "outputs": []
    },
    {
      "cell_type": "code",
      "metadata": {
        "colab": {
          "base_uri": "https://localhost:8080/"
        },
        "id": "3V5s6UJtwZGD",
        "outputId": "9cfbf6ba-ff97-499f-eb10-f15433e6fc55"
      },
      "source": [
        "check=tokenizer(data_lemmatized)\n",
        "len(check)"
      ],
      "execution_count": 14,
      "outputs": [
        {
          "output_type": "execute_result",
          "data": {
            "text/plain": [
              "7843"
            ]
          },
          "metadata": {
            "tags": []
          },
          "execution_count": 14
        }
      ]
    },
    {
      "cell_type": "code",
      "metadata": {
        "colab": {
          "base_uri": "https://localhost:8080/"
        },
        "id": "SMkhEZM50zkQ",
        "outputId": "aba6e46e-d294-4f78-e81a-55bff9657a47"
      },
      "source": [
        "pip install datasketch"
      ],
      "execution_count": 15,
      "outputs": [
        {
          "output_type": "stream",
          "text": [
            "Collecting datasketch\n",
            "\u001b[?25l  Downloading https://files.pythonhosted.org/packages/8d/35/3e39356d97dc67c4bddaddb51693c20a6eb61e535ce5be09d3755ba2b823/datasketch-1.5.3-py2.py3-none-any.whl (67kB)\n",
            "\r\u001b[K     |████▉                           | 10kB 15.7MB/s eta 0:00:01\r\u001b[K     |█████████▊                      | 20kB 12.9MB/s eta 0:00:01\r\u001b[K     |██████████████▋                 | 30kB 9.1MB/s eta 0:00:01\r\u001b[K     |███████████████████▌            | 40kB 7.6MB/s eta 0:00:01\r\u001b[K     |████████████████████████▎       | 51kB 4.6MB/s eta 0:00:01\r\u001b[K     |█████████████████████████████▏  | 61kB 5.0MB/s eta 0:00:01\r\u001b[K     |████████████████████████████████| 71kB 3.0MB/s \n",
            "\u001b[?25hRequirement already satisfied: numpy>=1.11 in /usr/local/lib/python3.7/dist-packages (from datasketch) (1.19.5)\n",
            "Installing collected packages: datasketch\n",
            "Successfully installed datasketch-1.5.3\n"
          ],
          "name": "stdout"
        }
      ]
    },
    {
      "cell_type": "markdown",
      "metadata": {
        "id": "ZTzggmT_HIud"
      },
      "source": [
        "Minhash implementation : Creation of Forest (equivalent to training in LDA)"
      ]
    },
    {
      "cell_type": "code",
      "metadata": {
        "id": "d9q15-c9spY4"
      },
      "source": [
        "import time\n",
        "from datasketch import MinHash, MinHashLSHForest\n",
        "\n",
        "permutations = 128\n",
        "\n",
        "#Number of Recommendations to return\n",
        "num_recommendations = 1\n",
        "def get_forest(perms):\n",
        "    start_time = time.time()\n",
        "    \n",
        "    minhash = []\n",
        "    \n",
        "    for tok in check:\n",
        "      m = MinHash(num_perm=perms)\n",
        "      for s in tok:\n",
        "          m.update(s.encode('utf8'))\n",
        "      minhash.append(m)\n",
        "        \n",
        "    forest = MinHashLSHForest(num_perm=perms)\n",
        "    \n",
        "    for i,m in enumerate(minhash):\n",
        "        forest.add(i,m)\n",
        "        \n",
        "    forest.index()\n",
        "    \n",
        "    print('It took %s seconds to build forest.' %(time.time()-start_time))\n",
        "    \n",
        "    return forest"
      ],
      "execution_count": 16,
      "outputs": []
    },
    {
      "cell_type": "markdown",
      "metadata": {
        "id": "cfEMbgEpe3mi"
      },
      "source": [
        "Generating query in the next two cells\n",
        "\n",
        "\n"
      ]
    },
    {
      "cell_type": "code",
      "metadata": {
        "id": "zXuecFZYIVAU"
      },
      "source": [
        "art_id =5                              # enter article id to be searched here\n",
        "def preprocess(text):\n",
        "    text = re.sub(r'[^\\w\\s]','',text)\n",
        "    tokens = text.lower()\n",
        "    tokens = tokens.split()\n",
        "    return tokens\n",
        "\n",
        "texta=preprocess(data_lemmatized[art_id])\n",
        "\n"
      ],
      "execution_count": 17,
      "outputs": []
    },
    {
      "cell_type": "code",
      "metadata": {
        "colab": {
          "base_uri": "https://localhost:8080/"
        },
        "id": "87bIwYNAJFmg",
        "outputId": "7fe83a16-f93c-4d54-8ead-6fa060f3ad38"
      },
      "source": [
        "print(texta)"
      ],
      "execution_count": 18,
      "outputs": [
        {
          "output_type": "stream",
          "text": [
            "['today', 'election', 'hold', 'opposition', 'boycott', 'shubhajit', 'find', 'country', 'seek', 'retain', 'identity', 'grow', 'islamic', 'influence', 'unfinished', 'business', 'mamoon', 'worried', 'man', 'today', 'year', 'old', 'history', 'professor', 'warn', 'child', 'would', 'snap', 'relation', 'follow', 'extremist', 'ideology', 'spread', 'political', 'force', 'country', 'bangladesh', 'head', 'poll', 'today', 'elect', 'th', 'parliament', 'mamoon', 'many', 'other', 'citizen', 'country', 'election', 'usual', 'issue', 'corruption', 'economy', 'law', 'order', 'election', 'centre', 'very', 'idea', 'bangladesh', 'should', 'secular', 'democracy', 'theocratic', 'state', 'islamic', 'nation', 'protest', 'call', 'opposition', 'bnp', 'align', 'islamist', 'more', 'people', 'kill', 'clash', 'past', 'half', 'month', 'bnp', 'boycott', 'poll', 'call', 'farce', 'ask', 'people', 'stay', 'away', 'statement', 'when', 'call', 'hour', 'begin', 'morning', 'include', 'polling', 'day', 'bnp', 'say', 'one', 'home', 'abroad', 'will', 'recognise', 'election', 'government', 'will', 'appear', 'anew', 'illegal', 'structure', 'more', 'lawmaker', 'already', 'elect', 'unconteste', 'boycott', 'bnp', 'lead', 'alliance', 'other', 'political', 'party', 'say', 'should', 'resign', 'election', 'will', 'rig', 'bnp', 'also', 'accuse', 'government', 'push', 'country', 'civil', 'war', 'when', 'poll', 'date', 'announce', 'protest', 'strike', 'blockade', 'lead', 'loss', 'crore', 'crore', 'rupee', 'day', 'mamoon', 'attack', 'time', 'jail', 'once', 'liberal', 'voice', 'regime', 'say', 'society', 'polarise', 'question', 'ideological', 'warfare', 'lead', 'bnp', 'combine', 'first', 'bnp', 'identity', 'count', 'muslim', 'first', 'oppose', 'bangladesh', 'separation', 'recognise', 'political', 'party', 'commission', 'continue', 'bearing', 'poll', 'strategie', 'election', 'predict', 'mamoon', 'will', 'long', 'term', 'impact', 'crore', 'people', 'bangladesh', 'cent', 'age', 'why', 'worry', 'child', 'such', 'circumstance', 'bnp', 'boycott', 'ensure', 'league', 'return', 'power', 'seat', 'parliament', 'portend', 'worrying', 'signal', 'official', 'reason', 'opposition', 'boycott', 'poll', 'previous', 'time', 'when', 'election', 'preside', 'party', 'caretaker', 'government', 'ballot', 'cast', 'watch', 'regime', 'brute', 'majority', 'parliament', 'carry', 'amendment', 'change', 'caretaker', 'system', 'just', 'month', 'ago', 'dhaka', 'street', 'reverberate', 'completely', 'different', 'protest', 'lead', 'government', 'establish', 'crime', 'tribunal', 'prosecute', 'help', 'participate', 'war', 'crime', 'war', 'convict', 'leader', 'kill', 'person', 'rape', 'year', 'old', 'girl', 'war', 'life', 'term', 'award', 'anger', 'many', 'demand', 'short', 'capital', 'punishment', 'know', 'butcher', 'mirpur', 'thousand', 'hold', 'protest', 'famous', 'landmark', 'shahbag', 'square', 'protest', 'lead', 'mostly', 'bear', 'call', 'square', 'moment', 'order', 'recognise', 'next', 'month', 'court', 'award', 'death', 'hang', 'apart', 'tribunal', 'try', 'convict', 'other', 'top', 'leader', 'recent', 'month', 'now', 'backlash', 'many', 'see', 'election', 'event', 'lead', 'as', 'throwback', 'editor', 'base', 'say', 'witness', 'repeat', 'war', 'sustain', 'secular', 'democratic', 'independent', 'noor', 'actor', 'turn', 'politician', 'say', 'unfinished', 'war', 'legacy', 'reflect', 'today', 'election', 'modern', 'muslim', 'state', 'can', 'secular', 'state', 'non', 'secular', 'state', 'say', 'information', 'belong', 'also', 'see', 'government', 'prosecution', 'war', 'criminal', 'effort', 'cleanse', 'legacy', 'year', 'military', 'rule', 'country', 'ban', 'lift', 'period', 'bnp', 'lead', 'government', 'see', 'close', 'army', 'military', 'rule', 'link', 'bring', 'religious', 'fanatic', 'politic', 'want', 'clear', 'debris', 'military', 'rule', 'fanaticism', 'pledge', 'rectify', 'mistake', 'make', 'military', 'say', 'question', 'criticism', 'direct', 'country', 'ill', 'bnp', 'vice', 'chairman', 'former', 'foreign', 'call', 'theological', 'organisation', 'extremist', 'outfit', 'believe', 'eliminate', 'view', 'instead', 'eliminate', 'should', 'make', 'behave', 'believe', 'drive', 'away', 'will', 'solve', 'problem', 'country', 'want', 'influence', 'come', 'extremism', 'say', 'possible', 'only', 'time', 'will', 'tell', 'religion', 'teach', 'how', 'co', 'exist', 'different', 'view', 'say', 'seek', 'distance', 'party', 'ban', 'add', 'alliance', 'mathematical', 'electoral', 'ideological', 'insist', 'outfit', 'reach', 'exaggerate', 'impact', 'less', 'cent', 'voter', 'crucial', 'constituency', 'filmmaker', 'make', 'documentary', 'call', 'ultimate', 'screen', 'last', 'month', 'say', 'laughable', 'establish', 'bank', 'insurance', 'company', 'give', 'motocycle', 'student', 'establish', 'islamic', 'bank', 'islamic', 'hospital', 'pharmacy', 'insurance', 'company', 'control', 'bus', 'service', 'cent', 'bus', 'city', 'massive', 'empire', 'say', 'worry', 'more', 'vast', 'terror', 'network', 'organise', 'covert', 'terrorist', 'network', 'various', 'name', 'member', 'send', 'late', 'armed', 'organisation', 'should', 'ban', 'politic', 'bnp', 'even', 'make', 'member', 'minister', 'government', 'say', 'fact', 'influence', 'difficult', 'tie', 'regime', 'period', 'terror', 'training', 'camp', 'country', 'mushroom', 'several', 'leader', 'terrorist', 'outfit', 'say', 'live', 'dhaka', 'high', 'profile', 'case', 'time', 'interception', 'truck', 'carry', 'explosive', 'ulfa', 'functionary', 'find', 'involve', 'most', 'leader', 'bar', 'underground', 'only', 'public', 'face', 'abdur', 'speak', 'express', 'fourth', 'floor', 'apartment', 'central', 'right', 'rubbish', 'allegation', 'play', 'role', 'terrorist', 'activity', 'propaganda', 'keep', 'mile', 'distance', 'last', 'go', 'when', 'meet', 'then', 'attorney', 'general', 'soli', 'sorabjee', 'lawyer', 'now', 'take', 'lead', 'open', 'talk', 'ready', 'engage', 'should', 'keep', 'closed', 'mind', 'razzak', 'defence', 'counsel', 'also', 'see', 'wrong', 'become', 'more', 'islamic', 'western', 'concept', 'politics', 'religion', 'mix', 'religion', 'social', 'political', 'strand', 'too', 'look', 'bank', 'school', 'hospital', 'when', 'ask', 'violence', 'street', 'say', 'deny', 'political', 'right', 'can', 'hold', 'meeting', 'most', 'leader', 'underground', 'only', 'visible', 'political', 'work', 'hold', 'meeting', 'police', 'come', 'say', 'conspire', 'state', 'razzak', 'also', 'call', 'hang', 'judicial', 'murder', 'want', 'trial', 'international', 'standard', 'international', 'community', 'oppose', 'trial', 'trial', 'divide', 'nation', 'realise', 'corner', 'paint', 'strident', 'tone', 'brand', 'politic', 'bnp', 'become', 'more', 'guard', 'first', 'reflection', 'silence', 'hang', 'only', 'grouse', 'process', 'individual', 'commit', 'crime', 'humanity', 'process', 'justice', 'should', 'transparent', 'meet', 'international', 'standard', 'necessary', 'will', 'allow', 'expert', 'process', 'law', 'emotion', 'say', 'chowdhury', 'medium', 'report', 'lately', 'talk', 'distance', 'bnp', 'silence', 'leader', 'prosecute', 'election', 'hold', 'instead', 'caretaker', 'government', 'issue', 'bnp', 'lead', 'opposition', 'combine', 'belief', 'can', 'help', 'claw', 'back', 'forget', 'quote', 'report', 'say', 'refer', 'takeover', 'military', 'back', 'caretaker', 'government', 'stay', 'power', 'around', 'year', 'most', 'observer', 'bangladesh', 'note', 'bickering', 'caretaker', 'government', 'also', 'stem', 'personal', 'rivalry', 'country', 'lead', 'lady', 'bnp', 'chief', 'confine', 'house', 'last', 'refuse', 'budge', 'say', 'avoid', 'talk', 'worryingly', 'bangladesh', 'international', 'community', 'question', 'credibility', 'election', 'refuse', 'send', 'observer', 'say', 'condition', 'conducive', 'transparent', 'poll', 'evident', 'today', 'poll', 'last', 'word', 'hint', 'election', 'could', 'hold', 'talk', 'bnp', 'cut', 'tie', 'most', 'believe', 'round', 'election', 'may', 'just', 'month', 'away', 'matter', 'political', 'party', 'say', 'official', 'invokes', 'reaction', 'political', 'spectrum', 'important', 'neighbour', 'work', 'incumbent', 'government', 'smooth', 'bnp', 'lead', 'government', 'primarily', 'suspect', 'terror', 'link', 'ally', 'help', 'able', 'neutralise', 'terror', 'outfit', 'operate', 'bangladesh', 'soil', 'completely', 'rosy', 'picture', 'decision', 'give', 'duty', 'free', 'access', 'textile', 'industry', 'help', 'country', 'become', 'major', 'player', 'global', 'textile', 'inability', 'deliver', 'land', 'boundary', 'agreement', 'water', 'sharing', 'deal', 'see', 'bangladesh', 'major', 'disappointment', 'government', 'now', 'introduce', 'bill', 'parliament', 'keep', 'hope', 'regard', 'ratification', 'land', 'alive', 'say', 'more', 'could', 'do', 'refer', 'water', 'sharing', 'agreement', 'say', 'joint', 'management', 'river', 'can', 'turn', 'water', 'sorrow', 'water', 'give', 'leg', 'government', 'bid', 'pit', 'country', 'bengali', 'identity', 'rise', 'islamism', 'decision', 'hold', 'joint', 'celebration', 'birth', 'anniversary', 'rabindranath', 'tagore', 'close', 'door', 'make', 'clear', 'party', 'come', 'power', 'maintain', 'congenial', 'atmosphere', 'sky', 'limit', 'visit', 'assure', 'indian', 'leadership', 'want', 'look', 'future', 'past']\n"
          ],
          "name": "stdout"
        }
      ]
    },
    {
      "cell_type": "markdown",
      "metadata": {
        "id": "jgtUg7K2HQVJ"
      },
      "source": [
        "**Prediction Process :**"
      ]
    },
    {
      "cell_type": "code",
      "metadata": {
        "id": "qi_k4A5P2m4H"
      },
      "source": [
        "def predict(text, df, perms, num_results, forest):\n",
        "    start_time = time.time()\n",
        "    \n",
        "    tokens = text\n",
        "    m = MinHash(num_perm=perms)\n",
        "    for s in tokens:\n",
        "        m.update(s.encode('utf8'))\n",
        "        \n",
        "    idx_array = np.array(forest.query(m, num_results))\n",
        "    if len(idx_array) == 0:\n",
        "        return None # if your query is empty, return none\n",
        "    \n",
        "    result = df.iloc[idx_array]['Article']\n",
        "    \n",
        "    print('It took %s seconds to query forest.' %(time.time()-start_time))\n",
        "    \n",
        "    return result"
      ],
      "execution_count": 19,
      "outputs": []
    },
    {
      "cell_type": "code",
      "metadata": {
        "colab": {
          "base_uri": "https://localhost:8080/"
        },
        "id": "JMQfTJbg4jO3",
        "outputId": "7bcbc138-385a-453a-dec4-bf67be0eb023"
      },
      "source": [
        "forest = get_forest(permutations)"
      ],
      "execution_count": 20,
      "outputs": [
        {
          "output_type": "stream",
          "text": [
            "It took 35.790191411972046 seconds to build forest.\n"
          ],
          "name": "stdout"
        }
      ]
    },
    {
      "cell_type": "code",
      "metadata": {
        "colab": {
          "base_uri": "https://localhost:8080/"
        },
        "id": "oTOar0pU4zxe",
        "outputId": "5f180402-3b25-4f48-fa82-3741dcb4a786"
      },
      "source": [
        "num_recommendations = 10\n",
        "result = predict(texta, df, permutations, num_recommendations, forest)\n",
        "print('\\n Top Recommendation(s) is(are) \\n', result)\n"
      ],
      "execution_count": 21,
      "outputs": [
        {
          "output_type": "stream",
          "text": [
            "It took 0.026519060134887695 seconds to query forest.\n",
            "\n",
            " Top Recommendation(s) is(are) \n",
            " 4224    About this series — \\nAh, 2020: The year when ...\n",
            "5       With todays elections being held under an Opp...\n",
            "6       With todays elections being held under an Opp...\n",
            "1030    Retd Delhi HC Chief Justice and the man behind...\n",
            "1095    In a curious submission,the government on Frid...\n",
            "2322    The Goa Police has sought additional security ...\n",
            "2007    Twenty-seven South Asian workers,including 24 ...\n",
            "4154    Read more from our '2020, the year of...' seri...\n",
            "604     Fair,transparent court martial proceedings wou...\n",
            "4478    By Meredith Jones\\nKim Kardashian West has ann...\n",
            "Name: Article, dtype: object\n"
          ],
          "name": "stdout"
        }
      ]
    },
    {
      "cell_type": "code",
      "metadata": {
        "id": "2hV48e2GZ1F3"
      },
      "source": [
        "final_recom =list(result.index)"
      ],
      "execution_count": 24,
      "outputs": []
    },
    {
      "cell_type": "code",
      "metadata": {
        "colab": {
          "base_uri": "https://localhost:8080/"
        },
        "id": "0wQaFOI1Trpv",
        "outputId": "e171d6a5-a943-4487-db13-8d4bb9c81235"
      },
      "source": [
        "print(final_recom)"
      ],
      "execution_count": 25,
      "outputs": [
        {
          "output_type": "stream",
          "text": [
            "[4224, 5, 6, 1030, 1095, 2322, 2007, 4154, 604, 4478]\n"
          ],
          "name": "stdout"
        }
      ]
    },
    {
      "cell_type": "code",
      "metadata": {
        "id": "5KMpmvBFVl17"
      },
      "source": [
        ""
      ],
      "execution_count": null,
      "outputs": []
    }
  ]
}