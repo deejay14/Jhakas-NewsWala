{
  "nbformat": 4,
  "nbformat_minor": 0,
  "metadata": {
    "colab": {
      "name": "scrapped_final.ipynb",
      "provenance": []
    },
    "kernelspec": {
      "name": "python3",
      "display_name": "Python 3"
    },
    "language_info": {
      "name": "python"
    }
  },
  "cells": [
    {
      "cell_type": "code",
      "metadata": {
        "id": "eLrYeOFji6as"
      },
      "source": [
        "import numpy as np\n",
        "import pandas as pd\n",
        "import re, nltk, spacy, gensim\n",
        "# Sklearn\n",
        "from sklearn.decomposition import LatentDirichletAllocation, TruncatedSVD\n",
        "from sklearn.feature_extraction.text import CountVectorizer, TfidfVectorizer\n",
        "from sklearn.model_selection import GridSearchCV\n",
        "from pprint import pprint\n",
        "# Plotting tools\n",
        "\n",
        "import matplotlib.pyplot as plt\n",
        "%matplotlib inline"
      ],
      "execution_count": 1,
      "outputs": []
    },
    {
      "cell_type": "code",
      "metadata": {
        "id": "5zBSa29fjA6b"
      },
      "source": [
        "## import csv\n",
        "df1 = pd.read_csv(\"data_1.csv\")\n",
        "df2 = pd.read_csv(\"data_2.csv\")\n",
        "df3 = pd.read_csv(\"data_3.csv\")\n"
      ],
      "execution_count": 21,
      "outputs": []
    },
    {
      "cell_type": "code",
      "metadata": {
        "id": "DZpYkQ9mtwfU"
      },
      "source": [
        "import os, glob\n",
        "import pandas as pd\n",
        "\n",
        "\n",
        "\n",
        "all_files = glob.glob(os.path.join(\"data_*.csv\"))\n",
        "df_from_each_file = (pd.read_csv(f, sep=',') for f in all_files)\n",
        "df_merged   = pd.concat(df_from_each_file, ignore_index=True)\n",
        "df_merged.to_csv( \"merged.csv\")"
      ],
      "execution_count": 22,
      "outputs": []
    },
    {
      "cell_type": "code",
      "metadata": {
        "colab": {
          "base_uri": "https://localhost:8080/",
          "height": 16
        },
        "id": "6QQV5dn5jBBT",
        "outputId": "1ec1aade-877e-4d93-9692-289f0e59cac3"
      },
      "source": [
        "from google.colab import files\n",
        "files.download(\"merged.csv\")"
      ],
      "execution_count": 15,
      "outputs": [
        {
          "output_type": "display_data",
          "data": {
            "application/javascript": [
              "\n",
              "    async function download(id, filename, size) {\n",
              "      if (!google.colab.kernel.accessAllowed) {\n",
              "        return;\n",
              "      }\n",
              "      const div = document.createElement('div');\n",
              "      const label = document.createElement('label');\n",
              "      label.textContent = `Downloading \"${filename}\": `;\n",
              "      div.appendChild(label);\n",
              "      const progress = document.createElement('progress');\n",
              "      progress.max = size;\n",
              "      div.appendChild(progress);\n",
              "      document.body.appendChild(div);\n",
              "\n",
              "      const buffers = [];\n",
              "      let downloaded = 0;\n",
              "\n",
              "      const channel = await google.colab.kernel.comms.open(id);\n",
              "      // Send a message to notify the kernel that we're ready.\n",
              "      channel.send({})\n",
              "\n",
              "      for await (const message of channel.messages) {\n",
              "        // Send a message to notify the kernel that we're ready.\n",
              "        channel.send({})\n",
              "        if (message.buffers) {\n",
              "          for (const buffer of message.buffers) {\n",
              "            buffers.push(buffer);\n",
              "            downloaded += buffer.byteLength;\n",
              "            progress.value = downloaded;\n",
              "          }\n",
              "        }\n",
              "      }\n",
              "      const blob = new Blob(buffers, {type: 'application/binary'});\n",
              "      const a = document.createElement('a');\n",
              "      a.href = window.URL.createObjectURL(blob);\n",
              "      a.download = filename;\n",
              "      div.appendChild(a);\n",
              "      a.click();\n",
              "      div.remove();\n",
              "    }\n",
              "  "
            ],
            "text/plain": [
              "<IPython.core.display.Javascript object>"
            ]
          },
          "metadata": {
            "tags": []
          }
        },
        {
          "output_type": "display_data",
          "data": {
            "application/javascript": [
              "download(\"download_be37b50a-1e27-4d09-9e02-f55770176a0a\", \"merged.csv\", 27766393)"
            ],
            "text/plain": [
              "<IPython.core.display.Javascript object>"
            ]
          },
          "metadata": {
            "tags": []
          }
        }
      ]
    },
    {
      "cell_type": "code",
      "metadata": {
        "colab": {
          "base_uri": "https://localhost:8080/",
          "height": 540
        },
        "id": "kuYTcyowyOGd",
        "outputId": "2288f24c-efe1-495e-943e-e0b339a76ace"
      },
      "source": [
        "df_merged"
      ],
      "execution_count": 23,
      "outputs": [
        {
          "output_type": "execute_result",
          "data": {
            "text/html": [
              "<div>\n",
              "<style scoped>\n",
              "    .dataframe tbody tr th:only-of-type {\n",
              "        vertical-align: middle;\n",
              "    }\n",
              "\n",
              "    .dataframe tbody tr th {\n",
              "        vertical-align: top;\n",
              "    }\n",
              "\n",
              "    .dataframe thead th {\n",
              "        text-align: right;\n",
              "    }\n",
              "</style>\n",
              "<table border=\"1\" class=\"dataframe\">\n",
              "  <thead>\n",
              "    <tr style=\"text-align: right;\">\n",
              "      <th></th>\n",
              "      <th>Index</th>\n",
              "      <th>Title</th>\n",
              "      <th>Article</th>\n",
              "      <th>Unnamed: 3</th>\n",
              "      <th>Unnamed: 4</th>\n",
              "      <th>Unnamed: 5</th>\n",
              "      <th>Unnamed: 6</th>\n",
              "      <th>Unnamed: 7</th>\n",
              "      <th>Unnamed: 8</th>\n",
              "      <th>Unnamed: 9</th>\n",
              "      <th>Unnamed: 10</th>\n",
              "      <th>Unnamed: 11</th>\n",
              "    </tr>\n",
              "  </thead>\n",
              "  <tbody>\n",
              "    <tr>\n",
              "      <th>0</th>\n",
              "      <td>0</td>\n",
              "      <td>Rs 400-cr ‘bungling’ by Amar Singh: HC seeks E...</td>\n",
              "      <td>The Allahabad High Court has directed the Enfo...</td>\n",
              "      <td>NaN</td>\n",
              "      <td>NaN</td>\n",
              "      <td>NaN</td>\n",
              "      <td>NaN</td>\n",
              "      <td>NaN</td>\n",
              "      <td>NaN</td>\n",
              "      <td>NaN</td>\n",
              "      <td>NaN</td>\n",
              "      <td>NaN</td>\n",
              "    </tr>\n",
              "    <tr>\n",
              "      <th>1</th>\n",
              "      <td>1</td>\n",
              "      <td>J&amp;K HC orders FIR against teacher who fails to...</td>\n",
              "      <td>The J&amp;K High Court on Friday asked a teacher t...</td>\n",
              "      <td>NaN</td>\n",
              "      <td>NaN</td>\n",
              "      <td>NaN</td>\n",
              "      <td>NaN</td>\n",
              "      <td>NaN</td>\n",
              "      <td>NaN</td>\n",
              "      <td>NaN</td>\n",
              "      <td>NaN</td>\n",
              "      <td>NaN</td>\n",
              "    </tr>\n",
              "    <tr>\n",
              "      <th>2</th>\n",
              "      <td>2</td>\n",
              "      <td>Aashish Gupta</td>\n",
              "      <td>NaN</td>\n",
              "      <td>NaN</td>\n",
              "      <td>NaN</td>\n",
              "      <td>NaN</td>\n",
              "      <td>NaN</td>\n",
              "      <td>NaN</td>\n",
              "      <td>NaN</td>\n",
              "      <td>NaN</td>\n",
              "      <td>NaN</td>\n",
              "      <td>NaN</td>\n",
              "    </tr>\n",
              "    <tr>\n",
              "      <th>3</th>\n",
              "      <td>3</td>\n",
              "      <td>Payal Hathi</td>\n",
              "      <td>NaN</td>\n",
              "      <td>NaN</td>\n",
              "      <td>NaN</td>\n",
              "      <td>NaN</td>\n",
              "      <td>NaN</td>\n",
              "      <td>NaN</td>\n",
              "      <td>NaN</td>\n",
              "      <td>NaN</td>\n",
              "      <td>NaN</td>\n",
              "      <td>NaN</td>\n",
              "    </tr>\n",
              "    <tr>\n",
              "      <th>4</th>\n",
              "      <td>4</td>\n",
              "      <td>P.S. Pasricha</td>\n",
              "      <td>NaN</td>\n",
              "      <td>NaN</td>\n",
              "      <td>NaN</td>\n",
              "      <td>NaN</td>\n",
              "      <td>NaN</td>\n",
              "      <td>NaN</td>\n",
              "      <td>NaN</td>\n",
              "      <td>NaN</td>\n",
              "      <td>NaN</td>\n",
              "      <td>NaN</td>\n",
              "    </tr>\n",
              "    <tr>\n",
              "      <th>...</th>\n",
              "      <td>...</td>\n",
              "      <td>...</td>\n",
              "      <td>...</td>\n",
              "      <td>...</td>\n",
              "      <td>...</td>\n",
              "      <td>...</td>\n",
              "      <td>...</td>\n",
              "      <td>...</td>\n",
              "      <td>...</td>\n",
              "      <td>...</td>\n",
              "      <td>...</td>\n",
              "      <td>...</td>\n",
              "    </tr>\n",
              "    <tr>\n",
              "      <th>8584</th>\n",
              "      <td>2309</td>\n",
              "      <td>Is asteroid Apophis capable of triggering a ts...</td>\n",
              "      <td>It was around a few months back that Iain McDo...</td>\n",
              "      <td>NaN</td>\n",
              "      <td>NaN</td>\n",
              "      <td>NaN</td>\n",
              "      <td>NaN</td>\n",
              "      <td>NaN</td>\n",
              "      <td>NaN</td>\n",
              "      <td>NaN</td>\n",
              "      <td>NaN</td>\n",
              "      <td>NaN</td>\n",
              "    </tr>\n",
              "    <tr>\n",
              "      <th>8585</th>\n",
              "      <td>2310</td>\n",
              "      <td>New 'dengue-like disease' spreading among chil...</td>\n",
              "      <td>The number of children affected by a new disea...</td>\n",
              "      <td>NaN</td>\n",
              "      <td>NaN</td>\n",
              "      <td>NaN</td>\n",
              "      <td>NaN</td>\n",
              "      <td>NaN</td>\n",
              "      <td>NaN</td>\n",
              "      <td>NaN</td>\n",
              "      <td>NaN</td>\n",
              "      <td>NaN</td>\n",
              "    </tr>\n",
              "    <tr>\n",
              "      <th>8586</th>\n",
              "      <td>2311</td>\n",
              "      <td>GameStop shares surge 1,700% in 2 weeks, Nasda...</td>\n",
              "      <td>As the unusual market surge of Gamestop shares...</td>\n",
              "      <td>NaN</td>\n",
              "      <td>NaN</td>\n",
              "      <td>NaN</td>\n",
              "      <td>NaN</td>\n",
              "      <td>NaN</td>\n",
              "      <td>NaN</td>\n",
              "      <td>NaN</td>\n",
              "      <td>NaN</td>\n",
              "      <td>NaN</td>\n",
              "    </tr>\n",
              "    <tr>\n",
              "      <th>8587</th>\n",
              "      <td>2312</td>\n",
              "      <td>Over 4000 deaths in a single day, US chocks as...</td>\n",
              "      <td>It was during the summer peak of the coronavir...</td>\n",
              "      <td>NaN</td>\n",
              "      <td>NaN</td>\n",
              "      <td>NaN</td>\n",
              "      <td>NaN</td>\n",
              "      <td>NaN</td>\n",
              "      <td>NaN</td>\n",
              "      <td>NaN</td>\n",
              "      <td>NaN</td>\n",
              "      <td>NaN</td>\n",
              "    </tr>\n",
              "    <tr>\n",
              "      <th>8588</th>\n",
              "      <td>2313</td>\n",
              "      <td>Shruti Haasan's old Tweet haunts her after Sal...</td>\n",
              "      <td>Shruti Haasan has been signed as the heroine o...</td>\n",
              "      <td>NaN</td>\n",
              "      <td>NaN</td>\n",
              "      <td>NaN</td>\n",
              "      <td>NaN</td>\n",
              "      <td>NaN</td>\n",
              "      <td>NaN</td>\n",
              "      <td>NaN</td>\n",
              "      <td>NaN</td>\n",
              "      <td>NaN</td>\n",
              "    </tr>\n",
              "  </tbody>\n",
              "</table>\n",
              "<p>8589 rows × 12 columns</p>\n",
              "</div>"
            ],
            "text/plain": [
              "     Index  ... Unnamed: 11\n",
              "0        0  ...         NaN\n",
              "1        1  ...         NaN\n",
              "2        2  ...         NaN\n",
              "3        3  ...         NaN\n",
              "4        4  ...         NaN\n",
              "...    ...  ...         ...\n",
              "8584  2309  ...         NaN\n",
              "8585  2310  ...         NaN\n",
              "8586  2311  ...         NaN\n",
              "8587  2312  ...         NaN\n",
              "8588  2313  ...         NaN\n",
              "\n",
              "[8589 rows x 12 columns]"
            ]
          },
          "metadata": {
            "tags": []
          },
          "execution_count": 23
        }
      ]
    },
    {
      "cell_type": "code",
      "metadata": {
        "id": "mWkrrrCqzOoq"
      },
      "source": [
        "keep_col = ['Title','Article']\n",
        "new_f = df_merged[keep_col]\n",
        "new_f.to_csv(\"newFile.csv\", index=False)"
      ],
      "execution_count": 30,
      "outputs": []
    },
    {
      "cell_type": "code",
      "metadata": {
        "colab": {
          "base_uri": "https://localhost:8080/",
          "height": 406
        },
        "id": "6m7ANCkszhK2",
        "outputId": "ac8a3277-99d1-49e0-e9b9-c1696f85829a"
      },
      "source": [
        "new_f"
      ],
      "execution_count": 31,
      "outputs": [
        {
          "output_type": "execute_result",
          "data": {
            "text/html": [
              "<div>\n",
              "<style scoped>\n",
              "    .dataframe tbody tr th:only-of-type {\n",
              "        vertical-align: middle;\n",
              "    }\n",
              "\n",
              "    .dataframe tbody tr th {\n",
              "        vertical-align: top;\n",
              "    }\n",
              "\n",
              "    .dataframe thead th {\n",
              "        text-align: right;\n",
              "    }\n",
              "</style>\n",
              "<table border=\"1\" class=\"dataframe\">\n",
              "  <thead>\n",
              "    <tr style=\"text-align: right;\">\n",
              "      <th></th>\n",
              "      <th>Title</th>\n",
              "      <th>Article</th>\n",
              "    </tr>\n",
              "  </thead>\n",
              "  <tbody>\n",
              "    <tr>\n",
              "      <th>0</th>\n",
              "      <td>Rs 400-cr ‘bungling’ by Amar Singh: HC seeks E...</td>\n",
              "      <td>The Allahabad High Court has directed the Enfo...</td>\n",
              "    </tr>\n",
              "    <tr>\n",
              "      <th>1</th>\n",
              "      <td>J&amp;K HC orders FIR against teacher who fails to...</td>\n",
              "      <td>The J&amp;K High Court on Friday asked a teacher t...</td>\n",
              "    </tr>\n",
              "    <tr>\n",
              "      <th>2</th>\n",
              "      <td>Aashish Gupta</td>\n",
              "      <td>NaN</td>\n",
              "    </tr>\n",
              "    <tr>\n",
              "      <th>3</th>\n",
              "      <td>Payal Hathi</td>\n",
              "      <td>NaN</td>\n",
              "    </tr>\n",
              "    <tr>\n",
              "      <th>4</th>\n",
              "      <td>P.S. Pasricha</td>\n",
              "      <td>NaN</td>\n",
              "    </tr>\n",
              "    <tr>\n",
              "      <th>...</th>\n",
              "      <td>...</td>\n",
              "      <td>...</td>\n",
              "    </tr>\n",
              "    <tr>\n",
              "      <th>8584</th>\n",
              "      <td>Is asteroid Apophis capable of triggering a ts...</td>\n",
              "      <td>It was around a few months back that Iain McDo...</td>\n",
              "    </tr>\n",
              "    <tr>\n",
              "      <th>8585</th>\n",
              "      <td>New 'dengue-like disease' spreading among chil...</td>\n",
              "      <td>The number of children affected by a new disea...</td>\n",
              "    </tr>\n",
              "    <tr>\n",
              "      <th>8586</th>\n",
              "      <td>GameStop shares surge 1,700% in 2 weeks, Nasda...</td>\n",
              "      <td>As the unusual market surge of Gamestop shares...</td>\n",
              "    </tr>\n",
              "    <tr>\n",
              "      <th>8587</th>\n",
              "      <td>Over 4000 deaths in a single day, US chocks as...</td>\n",
              "      <td>It was during the summer peak of the coronavir...</td>\n",
              "    </tr>\n",
              "    <tr>\n",
              "      <th>8588</th>\n",
              "      <td>Shruti Haasan's old Tweet haunts her after Sal...</td>\n",
              "      <td>Shruti Haasan has been signed as the heroine o...</td>\n",
              "    </tr>\n",
              "  </tbody>\n",
              "</table>\n",
              "<p>8589 rows × 2 columns</p>\n",
              "</div>"
            ],
            "text/plain": [
              "                                                  Title                                            Article\n",
              "0     Rs 400-cr ‘bungling’ by Amar Singh: HC seeks E...  The Allahabad High Court has directed the Enfo...\n",
              "1     J&K HC orders FIR against teacher who fails to...  The J&K High Court on Friday asked a teacher t...\n",
              "2                                         Aashish Gupta                                                NaN\n",
              "3                                           Payal Hathi                                                NaN\n",
              "4                                         P.S. Pasricha                                                NaN\n",
              "...                                                 ...                                                ...\n",
              "8584  Is asteroid Apophis capable of triggering a ts...  It was around a few months back that Iain McDo...\n",
              "8585  New 'dengue-like disease' spreading among chil...  The number of children affected by a new disea...\n",
              "8586  GameStop shares surge 1,700% in 2 weeks, Nasda...  As the unusual market surge of Gamestop shares...\n",
              "8587  Over 4000 deaths in a single day, US chocks as...  It was during the summer peak of the coronavir...\n",
              "8588  Shruti Haasan's old Tweet haunts her after Sal...  Shruti Haasan has been signed as the heroine o...\n",
              "\n",
              "[8589 rows x 2 columns]"
            ]
          },
          "metadata": {
            "tags": []
          },
          "execution_count": 31
        }
      ]
    },
    {
      "cell_type": "code",
      "metadata": {
        "colab": {
          "base_uri": "https://localhost:8080/",
          "height": 16
        },
        "id": "DojW3bn3zp0z",
        "outputId": "3ba26cb7-8b45-4aef-fb96-914e3b4fd72f"
      },
      "source": [
        "from google.colab import files\n",
        "files.download(\"newFile.csv\")"
      ],
      "execution_count": 27,
      "outputs": [
        {
          "output_type": "display_data",
          "data": {
            "application/javascript": [
              "\n",
              "    async function download(id, filename, size) {\n",
              "      if (!google.colab.kernel.accessAllowed) {\n",
              "        return;\n",
              "      }\n",
              "      const div = document.createElement('div');\n",
              "      const label = document.createElement('label');\n",
              "      label.textContent = `Downloading \"${filename}\": `;\n",
              "      div.appendChild(label);\n",
              "      const progress = document.createElement('progress');\n",
              "      progress.max = size;\n",
              "      div.appendChild(progress);\n",
              "      document.body.appendChild(div);\n",
              "\n",
              "      const buffers = [];\n",
              "      let downloaded = 0;\n",
              "\n",
              "      const channel = await google.colab.kernel.comms.open(id);\n",
              "      // Send a message to notify the kernel that we're ready.\n",
              "      channel.send({})\n",
              "\n",
              "      for await (const message of channel.messages) {\n",
              "        // Send a message to notify the kernel that we're ready.\n",
              "        channel.send({})\n",
              "        if (message.buffers) {\n",
              "          for (const buffer of message.buffers) {\n",
              "            buffers.push(buffer);\n",
              "            downloaded += buffer.byteLength;\n",
              "            progress.value = downloaded;\n",
              "          }\n",
              "        }\n",
              "      }\n",
              "      const blob = new Blob(buffers, {type: 'application/binary'});\n",
              "      const a = document.createElement('a');\n",
              "      a.href = window.URL.createObjectURL(blob);\n",
              "      a.download = filename;\n",
              "      div.appendChild(a);\n",
              "      a.click();\n",
              "      div.remove();\n",
              "    }\n",
              "  "
            ],
            "text/plain": [
              "<IPython.core.display.Javascript object>"
            ]
          },
          "metadata": {
            "tags": []
          }
        },
        {
          "output_type": "display_data",
          "data": {
            "application/javascript": [
              "download(\"download_349fa4a7-4acc-4744-8b71-8668b1793793\", \"newFile.csv\", 27603074)"
            ],
            "text/plain": [
              "<IPython.core.display.Javascript object>"
            ]
          },
          "metadata": {
            "tags": []
          }
        }
      ]
    },
    {
      "cell_type": "code",
      "metadata": {
        "id": "T4rgA4Ex1BQN"
      },
      "source": [
        "new_f=new_f.dropna(subset = ['Article'])\n",
        "new_f=new_f.reset_index(drop=True)"
      ],
      "execution_count": 38,
      "outputs": []
    },
    {
      "cell_type": "code",
      "metadata": {
        "colab": {
          "base_uri": "https://localhost:8080/",
          "height": 406
        },
        "id": "mPtQpWPA1BXf",
        "outputId": "6ded16ac-bee8-4bfb-c2fe-8d4e9a1784c2"
      },
      "source": [
        "new_f"
      ],
      "execution_count": 39,
      "outputs": [
        {
          "output_type": "execute_result",
          "data": {
            "text/html": [
              "<div>\n",
              "<style scoped>\n",
              "    .dataframe tbody tr th:only-of-type {\n",
              "        vertical-align: middle;\n",
              "    }\n",
              "\n",
              "    .dataframe tbody tr th {\n",
              "        vertical-align: top;\n",
              "    }\n",
              "\n",
              "    .dataframe thead th {\n",
              "        text-align: right;\n",
              "    }\n",
              "</style>\n",
              "<table border=\"1\" class=\"dataframe\">\n",
              "  <thead>\n",
              "    <tr style=\"text-align: right;\">\n",
              "      <th></th>\n",
              "      <th>Title</th>\n",
              "      <th>Article</th>\n",
              "    </tr>\n",
              "  </thead>\n",
              "  <tbody>\n",
              "    <tr>\n",
              "      <th>0</th>\n",
              "      <td>Rs 400-cr ‘bungling’ by Amar Singh: HC seeks E...</td>\n",
              "      <td>The Allahabad High Court has directed the Enfo...</td>\n",
              "    </tr>\n",
              "    <tr>\n",
              "      <th>1</th>\n",
              "      <td>J&amp;K HC orders FIR against teacher who fails to...</td>\n",
              "      <td>The J&amp;K High Court on Friday asked a teacher t...</td>\n",
              "    </tr>\n",
              "    <tr>\n",
              "      <th>2</th>\n",
              "      <td>Crime in Cyberia: an incomplete list of offenders</td>\n",
              "      <td>An unknown Indian hacker has been charged with...</td>\n",
              "    </tr>\n",
              "    <tr>\n",
              "      <th>3</th>\n",
              "      <td>450 cannabis plants found on govt land in Mundhwa</td>\n",
              "      <td>The interrogation of two marijuana peddlers ab...</td>\n",
              "    </tr>\n",
              "    <tr>\n",
              "      <th>4</th>\n",
              "      <td>Nagaland: 9 bullet-riddled bodies found,Karbi-...</td>\n",
              "      <td>Nine highly decomposed bodies were found stack...</td>\n",
              "    </tr>\n",
              "    <tr>\n",
              "      <th>...</th>\n",
              "      <td>...</td>\n",
              "      <td>...</td>\n",
              "    </tr>\n",
              "    <tr>\n",
              "      <th>8576</th>\n",
              "      <td>Is asteroid Apophis capable of triggering a ts...</td>\n",
              "      <td>It was around a few months back that Iain McDo...</td>\n",
              "    </tr>\n",
              "    <tr>\n",
              "      <th>8577</th>\n",
              "      <td>New 'dengue-like disease' spreading among chil...</td>\n",
              "      <td>The number of children affected by a new disea...</td>\n",
              "    </tr>\n",
              "    <tr>\n",
              "      <th>8578</th>\n",
              "      <td>GameStop shares surge 1,700% in 2 weeks, Nasda...</td>\n",
              "      <td>As the unusual market surge of Gamestop shares...</td>\n",
              "    </tr>\n",
              "    <tr>\n",
              "      <th>8579</th>\n",
              "      <td>Over 4000 deaths in a single day, US chocks as...</td>\n",
              "      <td>It was during the summer peak of the coronavir...</td>\n",
              "    </tr>\n",
              "    <tr>\n",
              "      <th>8580</th>\n",
              "      <td>Shruti Haasan's old Tweet haunts her after Sal...</td>\n",
              "      <td>Shruti Haasan has been signed as the heroine o...</td>\n",
              "    </tr>\n",
              "  </tbody>\n",
              "</table>\n",
              "<p>8581 rows × 2 columns</p>\n",
              "</div>"
            ],
            "text/plain": [
              "                                                  Title                                            Article\n",
              "0     Rs 400-cr ‘bungling’ by Amar Singh: HC seeks E...  The Allahabad High Court has directed the Enfo...\n",
              "1     J&K HC orders FIR against teacher who fails to...  The J&K High Court on Friday asked a teacher t...\n",
              "2     Crime in Cyberia: an incomplete list of offenders  An unknown Indian hacker has been charged with...\n",
              "3     450 cannabis plants found on govt land in Mundhwa  The interrogation of two marijuana peddlers ab...\n",
              "4     Nagaland: 9 bullet-riddled bodies found,Karbi-...  Nine highly decomposed bodies were found stack...\n",
              "...                                                 ...                                                ...\n",
              "8576  Is asteroid Apophis capable of triggering a ts...  It was around a few months back that Iain McDo...\n",
              "8577  New 'dengue-like disease' spreading among chil...  The number of children affected by a new disea...\n",
              "8578  GameStop shares surge 1,700% in 2 weeks, Nasda...  As the unusual market surge of Gamestop shares...\n",
              "8579  Over 4000 deaths in a single day, US chocks as...  It was during the summer peak of the coronavir...\n",
              "8580  Shruti Haasan's old Tweet haunts her after Sal...  Shruti Haasan has been signed as the heroine o...\n",
              "\n",
              "[8581 rows x 2 columns]"
            ]
          },
          "metadata": {
            "tags": []
          },
          "execution_count": 39
        }
      ]
    },
    {
      "cell_type": "code",
      "metadata": {
        "colab": {
          "base_uri": "https://localhost:8080/"
        },
        "id": "Bo7miLAo2-DT",
        "outputId": "aa765786-5964-42df-eeb9-4b21662590f6"
      },
      "source": [
        "count = new_f['Article'].str.split().str.len()\n",
        "count.index = count.index.astype(str) + ' words:'\n",
        "count.sort_index(inplace=True)\n",
        "count"
      ],
      "execution_count": 40,
      "outputs": [
        {
          "output_type": "execute_result",
          "data": {
            "text/plain": [
              "0 words:       341\n",
              "1 words:       335\n",
              "10 words:      814\n",
              "100 words:     184\n",
              "1000 words:    331\n",
              "              ... \n",
              "995 words:     303\n",
              "996 words:     245\n",
              "997 words:     252\n",
              "998 words:     343\n",
              "999 words:     245\n",
              "Name: Article, Length: 8581, dtype: int64"
            ]
          },
          "metadata": {
            "tags": []
          },
          "execution_count": 40
        }
      ]
    },
    {
      "cell_type": "code",
      "metadata": {
        "id": "qG6b2R3M33-5"
      },
      "source": [
        "new_f['totalwords'] = [len(x.split()) for x in new_f['Article'].tolist()]"
      ],
      "execution_count": 42,
      "outputs": []
    },
    {
      "cell_type": "code",
      "metadata": {
        "colab": {
          "base_uri": "https://localhost:8080/",
          "height": 406
        },
        "id": "kbJMnSWu5wn_",
        "outputId": "f79e746e-9adb-451b-96ce-49d5ac4d7eb8"
      },
      "source": [
        "new_f"
      ],
      "execution_count": 45,
      "outputs": [
        {
          "output_type": "execute_result",
          "data": {
            "text/html": [
              "<div>\n",
              "<style scoped>\n",
              "    .dataframe tbody tr th:only-of-type {\n",
              "        vertical-align: middle;\n",
              "    }\n",
              "\n",
              "    .dataframe tbody tr th {\n",
              "        vertical-align: top;\n",
              "    }\n",
              "\n",
              "    .dataframe thead th {\n",
              "        text-align: right;\n",
              "    }\n",
              "</style>\n",
              "<table border=\"1\" class=\"dataframe\">\n",
              "  <thead>\n",
              "    <tr style=\"text-align: right;\">\n",
              "      <th></th>\n",
              "      <th>Title</th>\n",
              "      <th>Article</th>\n",
              "      <th>totalwords</th>\n",
              "    </tr>\n",
              "  </thead>\n",
              "  <tbody>\n",
              "    <tr>\n",
              "      <th>0</th>\n",
              "      <td>Rs 400-cr ‘bungling’ by Amar Singh: HC seeks E...</td>\n",
              "      <td>The Allahabad High Court has directed the Enfo...</td>\n",
              "      <td>341</td>\n",
              "    </tr>\n",
              "    <tr>\n",
              "      <th>1</th>\n",
              "      <td>J&amp;K HC orders FIR against teacher who fails to...</td>\n",
              "      <td>The J&amp;K High Court on Friday asked a teacher t...</td>\n",
              "      <td>335</td>\n",
              "    </tr>\n",
              "    <tr>\n",
              "      <th>2</th>\n",
              "      <td>Crime in Cyberia: an incomplete list of offenders</td>\n",
              "      <td>An unknown Indian hacker has been charged with...</td>\n",
              "      <td>382</td>\n",
              "    </tr>\n",
              "    <tr>\n",
              "      <th>3</th>\n",
              "      <td>450 cannabis plants found on govt land in Mundhwa</td>\n",
              "      <td>The interrogation of two marijuana peddlers ab...</td>\n",
              "      <td>372</td>\n",
              "    </tr>\n",
              "    <tr>\n",
              "      <th>4</th>\n",
              "      <td>Nagaland: 9 bullet-riddled bodies found,Karbi-...</td>\n",
              "      <td>Nine highly decomposed bodies were found stack...</td>\n",
              "      <td>449</td>\n",
              "    </tr>\n",
              "    <tr>\n",
              "      <th>...</th>\n",
              "      <td>...</td>\n",
              "      <td>...</td>\n",
              "      <td>...</td>\n",
              "    </tr>\n",
              "    <tr>\n",
              "      <th>8576</th>\n",
              "      <td>Is asteroid Apophis capable of triggering a ts...</td>\n",
              "      <td>It was around a few months back that Iain McDo...</td>\n",
              "      <td>412</td>\n",
              "    </tr>\n",
              "    <tr>\n",
              "      <th>8577</th>\n",
              "      <td>New 'dengue-like disease' spreading among chil...</td>\n",
              "      <td>The number of children affected by a new disea...</td>\n",
              "      <td>457</td>\n",
              "    </tr>\n",
              "    <tr>\n",
              "      <th>8578</th>\n",
              "      <td>GameStop shares surge 1,700% in 2 weeks, Nasda...</td>\n",
              "      <td>As the unusual market surge of Gamestop shares...</td>\n",
              "      <td>586</td>\n",
              "    </tr>\n",
              "    <tr>\n",
              "      <th>8579</th>\n",
              "      <td>Over 4000 deaths in a single day, US chocks as...</td>\n",
              "      <td>It was during the summer peak of the coronavir...</td>\n",
              "      <td>327</td>\n",
              "    </tr>\n",
              "    <tr>\n",
              "      <th>8580</th>\n",
              "      <td>Shruti Haasan's old Tweet haunts her after Sal...</td>\n",
              "      <td>Shruti Haasan has been signed as the heroine o...</td>\n",
              "      <td>398</td>\n",
              "    </tr>\n",
              "  </tbody>\n",
              "</table>\n",
              "<p>8581 rows × 3 columns</p>\n",
              "</div>"
            ],
            "text/plain": [
              "                                                  Title  ... totalwords\n",
              "0     Rs 400-cr ‘bungling’ by Amar Singh: HC seeks E...  ...        341\n",
              "1     J&K HC orders FIR against teacher who fails to...  ...        335\n",
              "2     Crime in Cyberia: an incomplete list of offenders  ...        382\n",
              "3     450 cannabis plants found on govt land in Mundhwa  ...        372\n",
              "4     Nagaland: 9 bullet-riddled bodies found,Karbi-...  ...        449\n",
              "...                                                 ...  ...        ...\n",
              "8576  Is asteroid Apophis capable of triggering a ts...  ...        412\n",
              "8577  New 'dengue-like disease' spreading among chil...  ...        457\n",
              "8578  GameStop shares surge 1,700% in 2 weeks, Nasda...  ...        586\n",
              "8579  Over 4000 deaths in a single day, US chocks as...  ...        327\n",
              "8580  Shruti Haasan's old Tweet haunts her after Sal...  ...        398\n",
              "\n",
              "[8581 rows x 3 columns]"
            ]
          },
          "metadata": {
            "tags": []
          },
          "execution_count": 45
        }
      ]
    },
    {
      "cell_type": "code",
      "metadata": {
        "colab": {
          "base_uri": "https://localhost:8080/",
          "height": 287
        },
        "id": "Jbz_mgGp4V7s",
        "outputId": "5c641a4e-e88d-4898-ff95-6c9fa1e2a0bc"
      },
      "source": [
        "new_f.describe()"
      ],
      "execution_count": 44,
      "outputs": [
        {
          "output_type": "execute_result",
          "data": {
            "text/html": [
              "<div>\n",
              "<style scoped>\n",
              "    .dataframe tbody tr th:only-of-type {\n",
              "        vertical-align: middle;\n",
              "    }\n",
              "\n",
              "    .dataframe tbody tr th {\n",
              "        vertical-align: top;\n",
              "    }\n",
              "\n",
              "    .dataframe thead th {\n",
              "        text-align: right;\n",
              "    }\n",
              "</style>\n",
              "<table border=\"1\" class=\"dataframe\">\n",
              "  <thead>\n",
              "    <tr style=\"text-align: right;\">\n",
              "      <th></th>\n",
              "      <th>totalwords</th>\n",
              "    </tr>\n",
              "  </thead>\n",
              "  <tbody>\n",
              "    <tr>\n",
              "      <th>count</th>\n",
              "      <td>8581.000000</td>\n",
              "    </tr>\n",
              "    <tr>\n",
              "      <th>mean</th>\n",
              "      <td>510.569048</td>\n",
              "    </tr>\n",
              "    <tr>\n",
              "      <th>std</th>\n",
              "      <td>442.347599</td>\n",
              "    </tr>\n",
              "    <tr>\n",
              "      <th>min</th>\n",
              "      <td>2.000000</td>\n",
              "    </tr>\n",
              "    <tr>\n",
              "      <th>25%</th>\n",
              "      <td>279.000000</td>\n",
              "    </tr>\n",
              "    <tr>\n",
              "      <th>50%</th>\n",
              "      <td>388.000000</td>\n",
              "    </tr>\n",
              "    <tr>\n",
              "      <th>75%</th>\n",
              "      <td>590.000000</td>\n",
              "    </tr>\n",
              "    <tr>\n",
              "      <th>max</th>\n",
              "      <td>5884.000000</td>\n",
              "    </tr>\n",
              "  </tbody>\n",
              "</table>\n",
              "</div>"
            ],
            "text/plain": [
              "        totalwords\n",
              "count  8581.000000\n",
              "mean    510.569048\n",
              "std     442.347599\n",
              "min       2.000000\n",
              "25%     279.000000\n",
              "50%     388.000000\n",
              "75%     590.000000\n",
              "max    5884.000000"
            ]
          },
          "metadata": {
            "tags": []
          },
          "execution_count": 44
        }
      ]
    },
    {
      "cell_type": "code",
      "metadata": {
        "id": "KPwFnhRp5Ymw"
      },
      "source": [
        "new_f.drop(new_f[new_f.totalwords < 100].index, inplace=True)\n",
        "new_f=new_f.reset_index(drop=True)"
      ],
      "execution_count": 49,
      "outputs": []
    },
    {
      "cell_type": "code",
      "metadata": {
        "colab": {
          "base_uri": "https://localhost:8080/",
          "height": 406
        },
        "id": "wRE3nkqC6Iex",
        "outputId": "c9de1800-9c92-42bc-fda5-c04468c92a56"
      },
      "source": [
        "new_f"
      ],
      "execution_count": 50,
      "outputs": [
        {
          "output_type": "execute_result",
          "data": {
            "text/html": [
              "<div>\n",
              "<style scoped>\n",
              "    .dataframe tbody tr th:only-of-type {\n",
              "        vertical-align: middle;\n",
              "    }\n",
              "\n",
              "    .dataframe tbody tr th {\n",
              "        vertical-align: top;\n",
              "    }\n",
              "\n",
              "    .dataframe thead th {\n",
              "        text-align: right;\n",
              "    }\n",
              "</style>\n",
              "<table border=\"1\" class=\"dataframe\">\n",
              "  <thead>\n",
              "    <tr style=\"text-align: right;\">\n",
              "      <th></th>\n",
              "      <th>Title</th>\n",
              "      <th>Article</th>\n",
              "      <th>totalwords</th>\n",
              "    </tr>\n",
              "  </thead>\n",
              "  <tbody>\n",
              "    <tr>\n",
              "      <th>0</th>\n",
              "      <td>Rs 400-cr ‘bungling’ by Amar Singh: HC seeks E...</td>\n",
              "      <td>The Allahabad High Court has directed the Enfo...</td>\n",
              "      <td>341</td>\n",
              "    </tr>\n",
              "    <tr>\n",
              "      <th>1</th>\n",
              "      <td>J&amp;K HC orders FIR against teacher who fails to...</td>\n",
              "      <td>The J&amp;K High Court on Friday asked a teacher t...</td>\n",
              "      <td>335</td>\n",
              "    </tr>\n",
              "    <tr>\n",
              "      <th>2</th>\n",
              "      <td>Crime in Cyberia: an incomplete list of offenders</td>\n",
              "      <td>An unknown Indian hacker has been charged with...</td>\n",
              "      <td>382</td>\n",
              "    </tr>\n",
              "    <tr>\n",
              "      <th>3</th>\n",
              "      <td>450 cannabis plants found on govt land in Mundhwa</td>\n",
              "      <td>The interrogation of two marijuana peddlers ab...</td>\n",
              "      <td>372</td>\n",
              "    </tr>\n",
              "    <tr>\n",
              "      <th>4</th>\n",
              "      <td>Nagaland: 9 bullet-riddled bodies found,Karbi-...</td>\n",
              "      <td>Nine highly decomposed bodies were found stack...</td>\n",
              "      <td>449</td>\n",
              "    </tr>\n",
              "    <tr>\n",
              "      <th>...</th>\n",
              "      <td>...</td>\n",
              "      <td>...</td>\n",
              "      <td>...</td>\n",
              "    </tr>\n",
              "    <tr>\n",
              "      <th>8417</th>\n",
              "      <td>Is asteroid Apophis capable of triggering a ts...</td>\n",
              "      <td>It was around a few months back that Iain McDo...</td>\n",
              "      <td>412</td>\n",
              "    </tr>\n",
              "    <tr>\n",
              "      <th>8418</th>\n",
              "      <td>New 'dengue-like disease' spreading among chil...</td>\n",
              "      <td>The number of children affected by a new disea...</td>\n",
              "      <td>457</td>\n",
              "    </tr>\n",
              "    <tr>\n",
              "      <th>8419</th>\n",
              "      <td>GameStop shares surge 1,700% in 2 weeks, Nasda...</td>\n",
              "      <td>As the unusual market surge of Gamestop shares...</td>\n",
              "      <td>586</td>\n",
              "    </tr>\n",
              "    <tr>\n",
              "      <th>8420</th>\n",
              "      <td>Over 4000 deaths in a single day, US chocks as...</td>\n",
              "      <td>It was during the summer peak of the coronavir...</td>\n",
              "      <td>327</td>\n",
              "    </tr>\n",
              "    <tr>\n",
              "      <th>8421</th>\n",
              "      <td>Shruti Haasan's old Tweet haunts her after Sal...</td>\n",
              "      <td>Shruti Haasan has been signed as the heroine o...</td>\n",
              "      <td>398</td>\n",
              "    </tr>\n",
              "  </tbody>\n",
              "</table>\n",
              "<p>8422 rows × 3 columns</p>\n",
              "</div>"
            ],
            "text/plain": [
              "                                                  Title  ... totalwords\n",
              "0     Rs 400-cr ‘bungling’ by Amar Singh: HC seeks E...  ...        341\n",
              "1     J&K HC orders FIR against teacher who fails to...  ...        335\n",
              "2     Crime in Cyberia: an incomplete list of offenders  ...        382\n",
              "3     450 cannabis plants found on govt land in Mundhwa  ...        372\n",
              "4     Nagaland: 9 bullet-riddled bodies found,Karbi-...  ...        449\n",
              "...                                                 ...  ...        ...\n",
              "8417  Is asteroid Apophis capable of triggering a ts...  ...        412\n",
              "8418  New 'dengue-like disease' spreading among chil...  ...        457\n",
              "8419  GameStop shares surge 1,700% in 2 weeks, Nasda...  ...        586\n",
              "8420  Over 4000 deaths in a single day, US chocks as...  ...        327\n",
              "8421  Shruti Haasan's old Tweet haunts her after Sal...  ...        398\n",
              "\n",
              "[8422 rows x 3 columns]"
            ]
          },
          "metadata": {
            "tags": []
          },
          "execution_count": 50
        }
      ]
    },
    {
      "cell_type": "code",
      "metadata": {
        "colab": {
          "base_uri": "https://localhost:8080/",
          "height": 287
        },
        "id": "0MEBONCb544U",
        "outputId": "ad0ed8b1-1229-4ff0-a534-323f98b7c9bc"
      },
      "source": [
        "new_f.describe()"
      ],
      "execution_count": 51,
      "outputs": [
        {
          "output_type": "execute_result",
          "data": {
            "text/html": [
              "<div>\n",
              "<style scoped>\n",
              "    .dataframe tbody tr th:only-of-type {\n",
              "        vertical-align: middle;\n",
              "    }\n",
              "\n",
              "    .dataframe tbody tr th {\n",
              "        vertical-align: top;\n",
              "    }\n",
              "\n",
              "    .dataframe thead th {\n",
              "        text-align: right;\n",
              "    }\n",
              "</style>\n",
              "<table border=\"1\" class=\"dataframe\">\n",
              "  <thead>\n",
              "    <tr style=\"text-align: right;\">\n",
              "      <th></th>\n",
              "      <th>totalwords</th>\n",
              "    </tr>\n",
              "  </thead>\n",
              "  <tbody>\n",
              "    <tr>\n",
              "      <th>count</th>\n",
              "      <td>8422.000000</td>\n",
              "    </tr>\n",
              "    <tr>\n",
              "      <th>mean</th>\n",
              "      <td>518.962123</td>\n",
              "    </tr>\n",
              "    <tr>\n",
              "      <th>std</th>\n",
              "      <td>442.209540</td>\n",
              "    </tr>\n",
              "    <tr>\n",
              "      <th>min</th>\n",
              "      <td>100.000000</td>\n",
              "    </tr>\n",
              "    <tr>\n",
              "      <th>25%</th>\n",
              "      <td>286.000000</td>\n",
              "    </tr>\n",
              "    <tr>\n",
              "      <th>50%</th>\n",
              "      <td>392.000000</td>\n",
              "    </tr>\n",
              "    <tr>\n",
              "      <th>75%</th>\n",
              "      <td>596.000000</td>\n",
              "    </tr>\n",
              "    <tr>\n",
              "      <th>max</th>\n",
              "      <td>5884.000000</td>\n",
              "    </tr>\n",
              "  </tbody>\n",
              "</table>\n",
              "</div>"
            ],
            "text/plain": [
              "        totalwords\n",
              "count  8422.000000\n",
              "mean    518.962123\n",
              "std     442.209540\n",
              "min     100.000000\n",
              "25%     286.000000\n",
              "50%     392.000000\n",
              "75%     596.000000\n",
              "max    5884.000000"
            ]
          },
          "metadata": {
            "tags": []
          },
          "execution_count": 51
        }
      ]
    },
    {
      "cell_type": "code",
      "metadata": {
        "id": "VgkLZxbw638E"
      },
      "source": [
        "new_f.to_csv(\"scrapped_final.csv\", index=False)"
      ],
      "execution_count": 53,
      "outputs": []
    },
    {
      "cell_type": "code",
      "metadata": {
        "colab": {
          "base_uri": "https://localhost:8080/",
          "height": 16
        },
        "id": "ZffjM-bxjBIQ",
        "outputId": "52979176-6edc-4acc-da38-cc82f93cce72"
      },
      "source": [
        "from google.colab import files\n",
        "files.download(\"scrapped_final.csv\")"
      ],
      "execution_count": 54,
      "outputs": [
        {
          "output_type": "display_data",
          "data": {
            "application/javascript": [
              "\n",
              "    async function download(id, filename, size) {\n",
              "      if (!google.colab.kernel.accessAllowed) {\n",
              "        return;\n",
              "      }\n",
              "      const div = document.createElement('div');\n",
              "      const label = document.createElement('label');\n",
              "      label.textContent = `Downloading \"${filename}\": `;\n",
              "      div.appendChild(label);\n",
              "      const progress = document.createElement('progress');\n",
              "      progress.max = size;\n",
              "      div.appendChild(progress);\n",
              "      document.body.appendChild(div);\n",
              "\n",
              "      const buffers = [];\n",
              "      let downloaded = 0;\n",
              "\n",
              "      const channel = await google.colab.kernel.comms.open(id);\n",
              "      // Send a message to notify the kernel that we're ready.\n",
              "      channel.send({})\n",
              "\n",
              "      for await (const message of channel.messages) {\n",
              "        // Send a message to notify the kernel that we're ready.\n",
              "        channel.send({})\n",
              "        if (message.buffers) {\n",
              "          for (const buffer of message.buffers) {\n",
              "            buffers.push(buffer);\n",
              "            downloaded += buffer.byteLength;\n",
              "            progress.value = downloaded;\n",
              "          }\n",
              "        }\n",
              "      }\n",
              "      const blob = new Blob(buffers, {type: 'application/binary'});\n",
              "      const a = document.createElement('a');\n",
              "      a.href = window.URL.createObjectURL(blob);\n",
              "      a.download = filename;\n",
              "      div.appendChild(a);\n",
              "      a.click();\n",
              "      div.remove();\n",
              "    }\n",
              "  "
            ],
            "text/plain": [
              "<IPython.core.display.Javascript object>"
            ]
          },
          "metadata": {
            "tags": []
          }
        },
        {
          "output_type": "display_data",
          "data": {
            "application/javascript": [
              "download(\"download_5ddc30ef-12d1-4d1e-811d-4b50f2ad1e22\", \"scrapped_final.csv\", 27560601)"
            ],
            "text/plain": [
              "<IPython.core.display.Javascript object>"
            ]
          },
          "metadata": {
            "tags": []
          }
        }
      ]
    },
    {
      "cell_type": "code",
      "metadata": {
        "id": "E00x2dBnjBNS"
      },
      "source": [
        ""
      ],
      "execution_count": null,
      "outputs": []
    },
    {
      "cell_type": "code",
      "metadata": {
        "id": "kYqwSPa9jBSX"
      },
      "source": [
        ""
      ],
      "execution_count": null,
      "outputs": []
    }
  ]
}